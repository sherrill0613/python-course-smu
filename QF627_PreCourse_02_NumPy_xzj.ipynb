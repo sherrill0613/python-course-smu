{
 "cells": [
  {
   "cell_type": "markdown",
   "metadata": {},
   "source": [
    "# QF627 Pre-Course Workshop | Introduction to Programming\n",
    "\n",
    "## Lesson 2 | An Introduction to `NumPy` | view"
   ]
  },
  {
   "cell_type": "markdown",
   "metadata": {},
   "source": [
    "> In the previous lesson, you have learned about `methods and functions` that are available in built-in Python, along with variables and data types.\n",
    "\n",
    "> First, let us begin with some basic built-in Python that you need to fully understand before we proceed."
   ]
  },
  {
   "cell_type": "markdown",
   "metadata": {},
   "source": [
    "> Here's a quick reminder regarding the useful hotkeys for scripting on Jupyter Notebook :)"
   ]
  },
  {
   "cell_type": "markdown",
   "metadata": {},
   "source": [
    "- `a` inserts a cell above \n",
    "- `b` inserts a cell below\n",
    "- `dd` (double d) deletes a cell \n",
    "- `esc` jumps out of the cell\n",
    "- `return/enter` gets into the cell\n",
    "- `m` makes your cell markdown\n",
    "- `y` makes your cell codeL\n",
    "- `shift + control + -` splits the cell\n",
    "- `shift + m` merges the cells\n",
    "- `shift + l` adds line numbers into the cell"
   ]
  },
  {
   "cell_type": "markdown",
   "metadata": {},
   "source": [
    "> Now you will start learning about how to use `packages`.\n",
    "\n",
    "> As Python is open-source language, using the humongous ecosystem of packages will help you work more efficiently.\n",
    "\n",
    "> A `package is a collection of Python modules and scripts` giving you new data types, functions, and methods.\n"
   ]
  },
  {
   "cell_type": "markdown",
   "metadata": {},
   "source": [
    "### How to `install` a ***package***?\n",
    "\n",
    "> To use a package, you need to download it first.\n",
    "\n",
    "> Let's use the command `pip3 install target_package` so that you can install packages of your interest.\n",
    "\n",
    "> For downloading a package, you need to do this just once, yet you should import in your workspace whenever you wish to use it.\n",
    "\n",
    "> The command below will load the NumPy package into Python for your use."
   ]
  },
  {
   "cell_type": "code",
   "execution_count": 1,
   "metadata": {},
   "outputs": [
    {
     "name": "stdout",
     "output_type": "stream",
     "text": [
      "Looking in indexes: https://pypi.tuna.tsinghua.edu.cn/simple\n",
      "Requirement already satisfied: numpy in d:\\360downloads\\anaconda-2021.08\\lib\\site-packages (1.20.1)\n"
     ]
    }
   ],
   "source": [
    "!pip install numpy"
   ]
  },
  {
   "cell_type": "code",
   "execution_count": 2,
   "metadata": {},
   "outputs": [],
   "source": [
    "import numpy as np"
   ]
  },
  {
   "cell_type": "markdown",
   "metadata": {},
   "source": [
    "***Wait, why do we use alias here (i.e., as `np`)? ?*** \n",
    "\n",
    "> As you will see below, \n",
    "\n",
    "- To access the array() function, you need to use np.array() to indicate that the function is from the NumPy package.\n",
    "\n",
    "> Yes, the reason why we have used np as alias is to minimize our typing task."
   ]
  },
  {
   "cell_type": "markdown",
   "metadata": {},
   "source": [
    "### The Basics"
   ]
  },
  {
   "cell_type": "markdown",
   "metadata": {},
   "source": [
    "> Using `NumPy`, you can create a new data type called `array`.\n",
    "\n",
    "> Why use data type `array`?\n",
    "\n",
    "**`array` is useful for financial analysis because...**\n",
    "\n",
    "- array `stores` data more efficiently\n",
    "\n",
    "- array `performs` faster than built-in Python lists in terms of computations (access in reading and writing items faster as the package is optimized for numerical analyses)\n",
    "\n",
    "- array `shows` better performance with relatively larger datasets\n",
    "\n",
    "- array, most importantly, **`enables` you to utilize `array-related functions`**--you can perform statistical modelling and visualization easier, which is critical for financial analysis.\n",
    "\n",
    "\n",
    "\n"
   ]
  },
  {
   "cell_type": "markdown",
   "metadata": {},
   "source": [
    "> **A good way to understand about the usefulness of NumPy is to compare array with list (yes, that list that you learned in the previous lesson).**"
   ]
  },
  {
   "cell_type": "markdown",
   "metadata": {},
   "source": [
    "#### Differences 1. Arrays can contain only a single data type (unlike lists)."
   ]
  },
  {
   "cell_type": "code",
   "execution_count": 3,
   "metadata": {},
   "outputs": [
    {
     "name": "stdout",
     "output_type": "stream",
     "text": [
      "['Year', 2021, True]\n"
     ]
    }
   ],
   "source": [
    "our_list = [\"Year\", 2021, True]\n",
    "print(our_list)"
   ]
  },
  {
   "cell_type": "code",
   "execution_count": 4,
   "metadata": {},
   "outputs": [
    {
     "data": {
      "text/plain": [
       "list"
      ]
     },
     "execution_count": 4,
     "metadata": {},
     "output_type": "execute_result"
    }
   ],
   "source": [
    "type(our_list)"
   ]
  },
  {
   "cell_type": "markdown",
   "metadata": {},
   "source": [
    "> As you will see below, arrays in NumPy will convert the elements in the list to the most compatible data types."
   ]
  },
  {
   "cell_type": "code",
   "execution_count": 5,
   "metadata": {},
   "outputs": [
    {
     "name": "stdout",
     "output_type": "stream",
     "text": [
      "['Year' '2021' 'True']\n"
     ]
    }
   ],
   "source": [
    "our_array = np.array([\"Year\", 2021, True])\n",
    "print(our_array)"
   ]
  },
  {
   "cell_type": "code",
   "execution_count": 6,
   "metadata": {},
   "outputs": [
    {
     "data": {
      "text/plain": [
       "numpy.ndarray"
      ]
     },
     "execution_count": 6,
     "metadata": {},
     "output_type": "execute_result"
    }
   ],
   "source": [
    "type(our_array) # n-dimensional array"
   ]
  },
  {
   "cell_type": "code",
   "execution_count": 7,
   "metadata": {},
   "outputs": [],
   "source": [
    "# Here are lists.\n",
    "earnings_list = [10.09, 10.28, 2.21, 6.19, 8.24]\n",
    "prices_list = [99.98, 87.68, 154.23, 162.12, 121.11]"
   ]
  },
  {
   "cell_type": "markdown",
   "metadata": {},
   "source": [
    "> How would you make objects `earnings` and `prices` arrays?"
   ]
  },
  {
   "cell_type": "code",
   "execution_count": 8,
   "metadata": {},
   "outputs": [],
   "source": [
    "earnings_array = np.array(earnings_list)\n",
    "prices_array = np.array(prices_list)"
   ]
  },
  {
   "cell_type": "code",
   "execution_count": 9,
   "metadata": {},
   "outputs": [
    {
     "name": "stdout",
     "output_type": "stream",
     "text": [
      "[10.09 10.28  2.21  6.19  8.24]\n",
      "[10.09, 10.28, 2.21, 6.19, 8.24]\n"
     ]
    }
   ],
   "source": [
    "print(earnings_array);print(earnings_list)"
   ]
  },
  {
   "cell_type": "markdown",
   "metadata": {},
   "source": [
    "#### Differences 2. Arrays have different ways of operations (than lists)."
   ]
  },
  {
   "cell_type": "markdown",
   "metadata": {},
   "source": [
    "> Let's see how lists behave first."
   ]
  },
  {
   "cell_type": "code",
   "execution_count": 10,
   "metadata": {},
   "outputs": [
    {
     "name": "stdout",
     "output_type": "stream",
     "text": [
      "[99.98, 87.68, 154.23, 162.12, 121.11, 10.09, 10.28, 2.21, 6.19, 8.24]\n"
     ]
    }
   ],
   "source": [
    "pe_ratio_list = prices_list + earnings_list\n",
    "print(pe_ratio_list)"
   ]
  },
  {
   "cell_type": "code",
   "execution_count": 11,
   "metadata": {},
   "outputs": [],
   "source": [
    "output = []"
   ]
  },
  {
   "cell_type": "code",
   "execution_count": 12,
   "metadata": {},
   "outputs": [],
   "source": [
    "for first, second in zip(prices_list, earnings_list):\n",
    "    output.append(first + second)"
   ]
  },
  {
   "cell_type": "code",
   "execution_count": 13,
   "metadata": {},
   "outputs": [
    {
     "data": {
      "text/plain": [
       "[110.07000000000001, 97.96000000000001, 156.44, 168.31, 129.35]"
      ]
     },
     "execution_count": 13,
     "metadata": {},
     "output_type": "execute_result"
    }
   ],
   "source": [
    "output"
   ]
  },
  {
   "cell_type": "markdown",
   "metadata": {},
   "source": [
    "> The two objects were merely concatenated. It's just extended. That's not what we want..."
   ]
  },
  {
   "cell_type": "code",
   "execution_count": 14,
   "metadata": {},
   "outputs": [
    {
     "name": "stdout",
     "output_type": "stream",
     "text": [
      "[110.07  97.96 156.44 168.31 129.35]\n"
     ]
    }
   ],
   "source": [
    "pe_ratio_array = prices_array + earnings_array\n",
    "print(pe_ratio_array)"
   ]
  },
  {
   "cell_type": "code",
   "execution_count": 15,
   "metadata": {},
   "outputs": [
    {
     "data": {
      "text/plain": [
       "array([ True,  True,  True,  True,  True])"
      ]
     },
     "execution_count": 15,
     "metadata": {},
     "output_type": "execute_result"
    }
   ],
   "source": [
    "prices_array != earnings_array"
   ]
  },
  {
   "cell_type": "markdown",
   "metadata": {},
   "source": [
    "> ***Arrays allow for efficient numerical manipulation of its elements.***\n",
    "\n",
    "> Let's calculate `the dollar amount an investor can expect to invest in a company to receive one dollar of that company’s earnings`--yes, the `price to earnings ratio`--using two arrays, earnings_array and prices_array above."
   ]
  },
  {
   "cell_type": "code",
   "execution_count": 16,
   "metadata": {},
   "outputs": [
    {
     "name": "stdout",
     "output_type": "stream",
     "text": [
      "[ 9.90882061  8.52918288 69.78733032 26.19063005 14.69781553]\n"
     ]
    }
   ],
   "source": [
    "pe_ratio_array = prices_array / earnings_array\n",
    "\n",
    "print(pe_ratio_array)"
   ]
  },
  {
   "cell_type": "markdown",
   "metadata": {},
   "source": [
    "> You could see here that arrays perform `element-wise mathematical operations`."
   ]
  },
  {
   "cell_type": "markdown",
   "metadata": {},
   "source": [
    "#### Indexing, Subsetting, Filtering, & Slicing: Similarities between `array` and `list`\n",
    "\n",
    "> We have seen differences between arrays and lists.\n",
    "\n",
    "> Here are also similarities."
   ]
  },
  {
   "cell_type": "code",
   "execution_count": 17,
   "metadata": {},
   "outputs": [
    {
     "name": "stdout",
     "output_type": "stream",
     "text": [
      "[10.28  2.21]\n"
     ]
    }
   ],
   "source": [
    "subset_earnings_array = earnings_array[1:3]\n",
    "print(subset_earnings_array)"
   ]
  },
  {
   "cell_type": "code",
   "execution_count": 18,
   "metadata": {},
   "outputs": [
    {
     "name": "stdout",
     "output_type": "stream",
     "text": [
      "[2.21 6.19 8.24]\n"
     ]
    }
   ],
   "source": [
    "another_subset_earnings_array = earnings_array[-3: ]\n",
    "print(another_subset_earnings_array)"
   ]
  },
  {
   "cell_type": "code",
   "execution_count": 19,
   "metadata": {},
   "outputs": [
    {
     "name": "stdout",
     "output_type": "stream",
     "text": [
      "[10.09  2.21  8.24]\n"
     ]
    }
   ],
   "source": [
    "every_other_element_earnings_array = earnings_array[0:5:2]\n",
    "print(every_other_element_earnings_array)"
   ]
  },
  {
   "cell_type": "markdown",
   "metadata": {},
   "source": [
    "> Please address the error message above."
   ]
  },
  {
   "cell_type": "markdown",
   "metadata": {},
   "source": [
    "### Arrays in NumPy can be `multi`dimensional."
   ]
  },
  {
   "cell_type": "markdown",
   "metadata": {},
   "source": [
    "![](ndim.png)\n",
    "#### How to add image (CLICK HERE TWICE)"
   ]
  },
  {
   "cell_type": "markdown",
   "metadata": {},
   "source": [
    "> A common form of financial data comes with a rectangular form of data that contains rows and columns. \n",
    "\n",
    "> Such data can be represented with two-dimensional arrays."
   ]
  },
  {
   "cell_type": "markdown",
   "metadata": {},
   "source": [
    "> To create a two-dimensional array using NumPy, you can use the same function array()."
   ]
  },
  {
   "cell_type": "markdown",
   "metadata": {},
   "source": [
    "> Instead of providing a single list as your input, let's pass in a list of two lists as your input.\n",
    "\n",
    "> Here, let's pass earnings and prices to create a two-dimensional array."
   ]
  },
  {
   "cell_type": "code",
   "execution_count": 20,
   "metadata": {},
   "outputs": [
    {
     "name": "stdout",
     "output_type": "stream",
     "text": [
      "[[10.09, 10.28, 2.21, 6.19, 8.24], [99.98, 87.68, 154.23, 162.12, 121.11]]\n"
     ]
    }
   ],
   "source": [
    "nested_list = [[10.09, 10.28, 2.21, 6.19, 8.24],[99.98, 87.68, 154.23, 162.12, 121.11]]\n",
    "print(nested_list)"
   ]
  },
  {
   "cell_type": "code",
   "execution_count": 21,
   "metadata": {},
   "outputs": [
    {
     "name": "stdout",
     "output_type": "stream",
     "text": [
      "[[ 10.09  10.28   2.21   6.19   8.24]\n",
      " [ 99.98  87.68 154.23 162.12 121.11]]\n"
     ]
    }
   ],
   "source": [
    "pe_array = np.array([[10.09, 10.28, 2.21, 6.19, 8.24],[99.98, 87.68, 154.23, 162.12, 121.11]])\n",
    "print(pe_array)\n",
    "\n",
    "# Recall that there were two lists of earnings_list and prices_list\n"
   ]
  },
  {
   "cell_type": "code",
   "execution_count": 22,
   "metadata": {},
   "outputs": [
    {
     "name": "stdout",
     "output_type": "stream",
     "text": [
      "[[ 10.09  10.28   2.21   6.19   8.24]\n",
      " [ 99.98  87.68 154.23 162.12 121.11]]\n"
     ]
    }
   ],
   "source": [
    "pe_array_twins = np.array([earnings_list, prices_list])\n",
    "print(pe_array_twins)"
   ]
  },
  {
   "cell_type": "code",
   "execution_count": 23,
   "metadata": {
    "scrolled": true
   },
   "outputs": [
    {
     "data": {
      "text/plain": [
       "array([[ True,  True,  True,  True,  True],\n",
       "       [ True,  True,  True,  True,  True]])"
      ]
     },
     "execution_count": 23,
     "metadata": {},
     "output_type": "execute_result"
    }
   ],
   "source": [
    "pe_array == pe_array_twins"
   ]
  },
  {
   "cell_type": "markdown",
   "metadata": {},
   "source": [
    "> You might want to use `boolean` arrays as well. \n",
    "\n",
    "> As you will see below, Boolean arrays are quite useful for subsetting--stay tuned :)"
   ]
  },
  {
   "cell_type": "markdown",
   "metadata": {},
   "source": [
    "#### Methods in Array"
   ]
  },
  {
   "cell_type": "markdown",
   "metadata": {},
   "source": [
    "> Like list, array also has many useful methods."
   ]
  },
  {
   "cell_type": "code",
   "execution_count": 24,
   "metadata": {},
   "outputs": [
    {
     "data": {
      "text/plain": [
       "['T',\n",
       " '__abs__',\n",
       " '__add__',\n",
       " '__and__',\n",
       " '__array__',\n",
       " '__array_finalize__',\n",
       " '__array_function__',\n",
       " '__array_interface__',\n",
       " '__array_prepare__',\n",
       " '__array_priority__',\n",
       " '__array_struct__',\n",
       " '__array_ufunc__',\n",
       " '__array_wrap__',\n",
       " '__bool__',\n",
       " '__class__',\n",
       " '__complex__',\n",
       " '__contains__',\n",
       " '__copy__',\n",
       " '__deepcopy__',\n",
       " '__delattr__',\n",
       " '__delitem__',\n",
       " '__dir__',\n",
       " '__divmod__',\n",
       " '__doc__',\n",
       " '__eq__',\n",
       " '__float__',\n",
       " '__floordiv__',\n",
       " '__format__',\n",
       " '__ge__',\n",
       " '__getattribute__',\n",
       " '__getitem__',\n",
       " '__gt__',\n",
       " '__hash__',\n",
       " '__iadd__',\n",
       " '__iand__',\n",
       " '__ifloordiv__',\n",
       " '__ilshift__',\n",
       " '__imatmul__',\n",
       " '__imod__',\n",
       " '__imul__',\n",
       " '__index__',\n",
       " '__init__',\n",
       " '__init_subclass__',\n",
       " '__int__',\n",
       " '__invert__',\n",
       " '__ior__',\n",
       " '__ipow__',\n",
       " '__irshift__',\n",
       " '__isub__',\n",
       " '__iter__',\n",
       " '__itruediv__',\n",
       " '__ixor__',\n",
       " '__le__',\n",
       " '__len__',\n",
       " '__lshift__',\n",
       " '__lt__',\n",
       " '__matmul__',\n",
       " '__mod__',\n",
       " '__mul__',\n",
       " '__ne__',\n",
       " '__neg__',\n",
       " '__new__',\n",
       " '__or__',\n",
       " '__pos__',\n",
       " '__pow__',\n",
       " '__radd__',\n",
       " '__rand__',\n",
       " '__rdivmod__',\n",
       " '__reduce__',\n",
       " '__reduce_ex__',\n",
       " '__repr__',\n",
       " '__rfloordiv__',\n",
       " '__rlshift__',\n",
       " '__rmatmul__',\n",
       " '__rmod__',\n",
       " '__rmul__',\n",
       " '__ror__',\n",
       " '__rpow__',\n",
       " '__rrshift__',\n",
       " '__rshift__',\n",
       " '__rsub__',\n",
       " '__rtruediv__',\n",
       " '__rxor__',\n",
       " '__setattr__',\n",
       " '__setitem__',\n",
       " '__setstate__',\n",
       " '__sizeof__',\n",
       " '__str__',\n",
       " '__sub__',\n",
       " '__subclasshook__',\n",
       " '__truediv__',\n",
       " '__xor__',\n",
       " 'all',\n",
       " 'any',\n",
       " 'argmax',\n",
       " 'argmin',\n",
       " 'argpartition',\n",
       " 'argsort',\n",
       " 'astype',\n",
       " 'base',\n",
       " 'byteswap',\n",
       " 'choose',\n",
       " 'clip',\n",
       " 'compress',\n",
       " 'conj',\n",
       " 'conjugate',\n",
       " 'copy',\n",
       " 'ctypes',\n",
       " 'cumprod',\n",
       " 'cumsum',\n",
       " 'data',\n",
       " 'diagonal',\n",
       " 'dot',\n",
       " 'dtype',\n",
       " 'dump',\n",
       " 'dumps',\n",
       " 'fill',\n",
       " 'flags',\n",
       " 'flat',\n",
       " 'flatten',\n",
       " 'getfield',\n",
       " 'imag',\n",
       " 'item',\n",
       " 'itemset',\n",
       " 'itemsize',\n",
       " 'max',\n",
       " 'mean',\n",
       " 'min',\n",
       " 'nbytes',\n",
       " 'ndim',\n",
       " 'newbyteorder',\n",
       " 'nonzero',\n",
       " 'partition',\n",
       " 'prod',\n",
       " 'ptp',\n",
       " 'put',\n",
       " 'ravel',\n",
       " 'real',\n",
       " 'repeat',\n",
       " 'reshape',\n",
       " 'resize',\n",
       " 'round',\n",
       " 'searchsorted',\n",
       " 'setfield',\n",
       " 'setflags',\n",
       " 'shape',\n",
       " 'size',\n",
       " 'sort',\n",
       " 'squeeze',\n",
       " 'std',\n",
       " 'strides',\n",
       " 'sum',\n",
       " 'swapaxes',\n",
       " 'take',\n",
       " 'tobytes',\n",
       " 'tofile',\n",
       " 'tolist',\n",
       " 'tostring',\n",
       " 'trace',\n",
       " 'transpose',\n",
       " 'var',\n",
       " 'view']"
      ]
     },
     "execution_count": 24,
     "metadata": {},
     "output_type": "execute_result"
    }
   ],
   "source": [
    "dir(pe_array_twins)"
   ]
  },
  {
   "cell_type": "code",
   "execution_count": 25,
   "metadata": {},
   "outputs": [
    {
     "name": "stdout",
     "output_type": "stream",
     "text": [
      "Help on tuple object:\n",
      "\n",
      "class tuple(object)\n",
      " |  tuple(iterable=(), /)\n",
      " |  \n",
      " |  Built-in immutable sequence.\n",
      " |  \n",
      " |  If no argument is given, the constructor returns an empty tuple.\n",
      " |  If iterable is specified the tuple is initialized from iterable's items.\n",
      " |  \n",
      " |  If the argument is a tuple, the return value is the same object.\n",
      " |  \n",
      " |  Built-in subclasses:\n",
      " |      asyncgen_hooks\n",
      " |      UnraisableHookArgs\n",
      " |  \n",
      " |  Methods defined here:\n",
      " |  \n",
      " |  __add__(self, value, /)\n",
      " |      Return self+value.\n",
      " |  \n",
      " |  __contains__(self, key, /)\n",
      " |      Return key in self.\n",
      " |  \n",
      " |  __eq__(self, value, /)\n",
      " |      Return self==value.\n",
      " |  \n",
      " |  __ge__(self, value, /)\n",
      " |      Return self>=value.\n",
      " |  \n",
      " |  __getattribute__(self, name, /)\n",
      " |      Return getattr(self, name).\n",
      " |  \n",
      " |  __getitem__(self, key, /)\n",
      " |      Return self[key].\n",
      " |  \n",
      " |  __getnewargs__(self, /)\n",
      " |  \n",
      " |  __gt__(self, value, /)\n",
      " |      Return self>value.\n",
      " |  \n",
      " |  __hash__(self, /)\n",
      " |      Return hash(self).\n",
      " |  \n",
      " |  __iter__(self, /)\n",
      " |      Implement iter(self).\n",
      " |  \n",
      " |  __le__(self, value, /)\n",
      " |      Return self<=value.\n",
      " |  \n",
      " |  __len__(self, /)\n",
      " |      Return len(self).\n",
      " |  \n",
      " |  __lt__(self, value, /)\n",
      " |      Return self<value.\n",
      " |  \n",
      " |  __mul__(self, value, /)\n",
      " |      Return self*value.\n",
      " |  \n",
      " |  __ne__(self, value, /)\n",
      " |      Return self!=value.\n",
      " |  \n",
      " |  __repr__(self, /)\n",
      " |      Return repr(self).\n",
      " |  \n",
      " |  __rmul__(self, value, /)\n",
      " |      Return value*self.\n",
      " |  \n",
      " |  count(self, value, /)\n",
      " |      Return number of occurrences of value.\n",
      " |  \n",
      " |  index(self, value, start=0, stop=9223372036854775807, /)\n",
      " |      Return first index of value.\n",
      " |      \n",
      " |      Raises ValueError if the value is not present.\n",
      " |  \n",
      " |  ----------------------------------------------------------------------\n",
      " |  Static methods defined here:\n",
      " |  \n",
      " |  __new__(*args, **kwargs) from builtins.type\n",
      " |      Create and return a new object.  See help(type) for accurate signature.\n",
      "\n"
     ]
    }
   ],
   "source": [
    "help(pe_array_twins.shape)"
   ]
  },
  {
   "cell_type": "markdown",
   "metadata": {},
   "source": [
    "##### array.shape"
   ]
  },
  {
   "cell_type": "code",
   "execution_count": 26,
   "metadata": {},
   "outputs": [
    {
     "data": {
      "text/plain": [
       "(2, 5)"
      ]
     },
     "execution_count": 26,
     "metadata": {},
     "output_type": "execute_result"
    }
   ],
   "source": [
    "np.shape(pe_array)"
   ]
  },
  {
   "cell_type": "markdown",
   "metadata": {},
   "source": [
    "##### array.size"
   ]
  },
  {
   "cell_type": "code",
   "execution_count": 27,
   "metadata": {},
   "outputs": [
    {
     "data": {
      "text/plain": [
       "10"
      ]
     },
     "execution_count": 27,
     "metadata": {},
     "output_type": "execute_result"
    }
   ],
   "source": [
    "np.size(pe_array) # 2 * 5"
   ]
  },
  {
   "cell_type": "markdown",
   "metadata": {},
   "source": [
    "##### array.transpose"
   ]
  },
  {
   "cell_type": "code",
   "execution_count": 28,
   "metadata": {},
   "outputs": [
    {
     "name": "stdout",
     "output_type": "stream",
     "text": [
      "[[ 10.09  10.28   2.21   6.19   8.24]\n",
      " [ 99.98  87.68 154.23 162.12 121.11]]\n"
     ]
    }
   ],
   "source": [
    "print(pe_array)"
   ]
  },
  {
   "cell_type": "code",
   "execution_count": 29,
   "metadata": {},
   "outputs": [
    {
     "name": "stdout",
     "output_type": "stream",
     "text": [
      "[[ 10.09  99.98]\n",
      " [ 10.28  87.68]\n",
      " [  2.21 154.23]\n",
      " [  6.19 162.12]\n",
      " [  8.24 121.11]]\n"
     ]
    }
   ],
   "source": [
    "transposed_pe_array = np.transpose(pe_array)\n",
    "print(transposed_pe_array)"
   ]
  },
  {
   "cell_type": "markdown",
   "metadata": {},
   "source": [
    "### Subsetting"
   ]
  },
  {
   "cell_type": "markdown",
   "metadata": {},
   "source": [
    "> Remember how to subset nested lists? Subsetting two-dimensional arrays is similar to subsetting nested lists. \n",
    "\n",
    "> In a 2D array, the indexing/slicing should be specific to the dimension of the array: **`array[row, column]`**"
   ]
  },
  {
   "cell_type": "markdown",
   "metadata": {},
   "source": [
    "##### How would you subset `earnings` from the `transposed pe_array`? "
   ]
  },
  {
   "cell_type": "code",
   "execution_count": 30,
   "metadata": {},
   "outputs": [
    {
     "name": "stdout",
     "output_type": "stream",
     "text": [
      "[10.09 10.28  2.21  6.19  8.24]\n"
     ]
    }
   ],
   "source": [
    "earnings = transposed_pe_array[ : , 0]\n",
    "print(earnings)"
   ]
  },
  {
   "cell_type": "markdown",
   "metadata": {},
   "source": [
    "##### How would you subset `prices` from the `transposed pe_array`? "
   ]
  },
  {
   "cell_type": "code",
   "execution_count": 31,
   "metadata": {},
   "outputs": [
    {
     "name": "stdout",
     "output_type": "stream",
     "text": [
      "[ 99.98  87.68 154.23 162.12 121.11]\n"
     ]
    }
   ],
   "source": [
    "prices = transposed_pe_array[ : , -1]\n",
    "print(prices)"
   ]
  },
  {
   "cell_type": "code",
   "execution_count": 32,
   "metadata": {},
   "outputs": [
    {
     "data": {
      "text/plain": [
       "array([ True,  True,  True,  True,  True])"
      ]
     },
     "execution_count": 32,
     "metadata": {},
     "output_type": "execute_result"
    }
   ],
   "source": [
    "transposed_pe_array[ : , 1] == pe_array[ 1 , : ]"
   ]
  },
  {
   "cell_type": "code",
   "execution_count": 33,
   "metadata": {},
   "outputs": [
    {
     "name": "stdout",
     "output_type": "stream",
     "text": [
      "[[ 10.09  99.98]\n",
      " [ 10.28  87.68]\n",
      " [  2.21 154.23]\n",
      " [  6.19 162.12]\n",
      " [  8.24 121.11]]\n"
     ]
    }
   ],
   "source": [
    "print(transposed_pe_array)"
   ]
  },
  {
   "cell_type": "markdown",
   "metadata": {},
   "source": [
    "##### How would you subset the `earnings and prices for third and forth companies` from the `transposed pe_array`?"
   ]
  },
  {
   "cell_type": "code",
   "execution_count": 34,
   "metadata": {},
   "outputs": [
    {
     "name": "stdout",
     "output_type": "stream",
     "text": [
      "[[  2.21 154.23]\n",
      " [  6.19 162.12]]\n"
     ]
    }
   ],
   "source": [
    "pe_34 = transposed_pe_array[2:4, : ]\n",
    "print(pe_34)"
   ]
  },
  {
   "cell_type": "code",
   "execution_count": 35,
   "metadata": {},
   "outputs": [
    {
     "data": {
      "text/plain": [
       "array([[ True, False],\n",
       "       [False,  True]])"
      ]
     },
     "execution_count": 35,
     "metadata": {},
     "output_type": "execute_result"
    }
   ],
   "source": [
    "transposed_pe_array[2:4, : ] == pe_array[ : , 2:4 ]"
   ]
  },
  {
   "cell_type": "code",
   "execution_count": 36,
   "metadata": {},
   "outputs": [
    {
     "name": "stdout",
     "output_type": "stream",
     "text": [
      "[[ 10.09  10.28   2.21   6.19   8.24]\n",
      " [ 99.98  87.68 154.23 162.12 121.11]]\n",
      "[[ 10.09  99.98]\n",
      " [ 10.28  87.68]\n",
      " [  2.21 154.23]\n",
      " [  6.19 162.12]\n",
      " [  8.24 121.11]]\n"
     ]
    }
   ],
   "source": [
    "print(pe_array); print(transposed_pe_array)"
   ]
  },
  {
   "cell_type": "markdown",
   "metadata": {},
   "source": [
    "> ***Review & Expansion of Your Vocabulary: Below are some useful basics for array.***"
   ]
  },
  {
   "cell_type": "code",
   "execution_count": 37,
   "metadata": {},
   "outputs": [
    {
     "data": {
      "text/plain": [
       "True"
      ]
     },
     "execution_count": 37,
     "metadata": {},
     "output_type": "execute_result"
    }
   ],
   "source": [
    "# Get Dimension\n",
    "transposed_pe_array.ndim == 2"
   ]
  },
  {
   "cell_type": "code",
   "execution_count": 38,
   "metadata": {},
   "outputs": [
    {
     "data": {
      "text/plain": [
       "(5, 2)"
      ]
     },
     "execution_count": 38,
     "metadata": {},
     "output_type": "execute_result"
    }
   ],
   "source": [
    "# Get Shape\n",
    "transposed_pe_array.shape"
   ]
  },
  {
   "cell_type": "code",
   "execution_count": 39,
   "metadata": {},
   "outputs": [
    {
     "data": {
      "text/plain": [
       "dtype('float64')"
      ]
     },
     "execution_count": 39,
     "metadata": {},
     "output_type": "execute_result"
    }
   ],
   "source": [
    "# Get Type 19:41???\n",
    "transposed_pe_array.dtype"
   ]
  },
  {
   "cell_type": "code",
   "execution_count": 40,
   "metadata": {},
   "outputs": [
    {
     "data": {
      "text/plain": [
       "8"
      ]
     },
     "execution_count": 40,
     "metadata": {},
     "output_type": "execute_result"
    }
   ],
   "source": [
    "# Get Size\n",
    "transposed_pe_array.itemsize"
   ]
  },
  {
   "cell_type": "code",
   "execution_count": 41,
   "metadata": {},
   "outputs": [
    {
     "data": {
      "text/plain": [
       "80"
      ]
     },
     "execution_count": 41,
     "metadata": {},
     "output_type": "execute_result"
    }
   ],
   "source": [
    "# Get total size , 查字节\n",
    "transposed_pe_array.nbytes"
   ]
  },
  {
   "cell_type": "code",
   "execution_count": 42,
   "metadata": {},
   "outputs": [
    {
     "data": {
      "text/plain": [
       "10"
      ]
     },
     "execution_count": 42,
     "metadata": {},
     "output_type": "execute_result"
    }
   ],
   "source": [
    "# Get number of elements\n",
    "transposed_pe_array.size"
   ]
  },
  {
   "cell_type": "code",
   "execution_count": 43,
   "metadata": {},
   "outputs": [
    {
     "data": {
      "text/plain": [
       "10.09"
      ]
     },
     "execution_count": 43,
     "metadata": {},
     "output_type": "execute_result"
    }
   ],
   "source": [
    "# Get a specific element [row, column]\n",
    "transposed_pe_array[0, 0]"
   ]
  },
  {
   "cell_type": "code",
   "execution_count": 44,
   "metadata": {},
   "outputs": [
    {
     "data": {
      "text/plain": [
       "array([  8.24, 121.11])"
      ]
     },
     "execution_count": 44,
     "metadata": {},
     "output_type": "execute_result"
    }
   ],
   "source": [
    "# Get a specific row \n",
    "transposed_pe_array[-1, : ]"
   ]
  },
  {
   "cell_type": "code",
   "execution_count": 45,
   "metadata": {},
   "outputs": [
    {
     "data": {
      "text/plain": [
       "array([ 99.98,  87.68, 154.23, 162.12, 121.11])"
      ]
     },
     "execution_count": 45,
     "metadata": {},
     "output_type": "execute_result"
    }
   ],
   "source": [
    "# Get a specific column\n",
    "transposed_pe_array[ : , 1]"
   ]
  },
  {
   "cell_type": "code",
   "execution_count": 46,
   "metadata": {},
   "outputs": [
    {
     "data": {
      "text/plain": [
       "array([ 99.98, 154.23])"
      ]
     },
     "execution_count": 46,
     "metadata": {},
     "output_type": "execute_result"
    }
   ],
   "source": [
    "# Getting a little more fancy [startindex:endindex:stepsize]\n",
    "transposed_pe_array[0:4:2, 1 ]"
   ]
  },
  {
   "cell_type": "code",
   "execution_count": 47,
   "metadata": {},
   "outputs": [
    {
     "data": {
      "text/plain": [
       "array([[ 10.09,  99.98],\n",
       "       [ 10.28,  87.68],\n",
       "       [  2.21, 154.23],\n",
       "       [  6.19, 162.12],\n",
       "       [  8.24, 121.11]])"
      ]
     },
     "execution_count": 47,
     "metadata": {},
     "output_type": "execute_result"
    }
   ],
   "source": [
    "transposed_pe_array"
   ]
  },
  {
   "cell_type": "markdown",
   "metadata": {},
   "source": [
    "#### `WARNING`: Please be careful when `copying arrays`!"
   ]
  },
  {
   "cell_type": "code",
   "execution_count": 48,
   "metadata": {},
   "outputs": [
    {
     "name": "stdout",
     "output_type": "stream",
     "text": [
      "[400 200 300]\n"
     ]
    }
   ],
   "source": [
    "l = np.array([100, 200, 300])\n",
    "m = l\n",
    "m[0] = 400\n",
    "print(m)"
   ]
  },
  {
   "cell_type": "code",
   "execution_count": 49,
   "metadata": {},
   "outputs": [
    {
     "name": "stdout",
     "output_type": "stream",
     "text": [
      "[400 200 300]\n"
     ]
    }
   ],
   "source": [
    "print(l) # L居然也会跟着变！"
   ]
  },
  {
   "cell_type": "code",
   "execution_count": 50,
   "metadata": {},
   "outputs": [
    {
     "name": "stdout",
     "output_type": "stream",
     "text": [
      "[500 800 700]\n",
      "[500 600 700]\n"
     ]
    }
   ],
   "source": [
    "n = np.array([500, 600, 700])\n",
    "o = n.copy() # .copy is so important!\n",
    "o[1] = 800\n",
    "print(o)\n",
    "print(n)"
   ]
  },
  {
   "cell_type": "markdown",
   "metadata": {},
   "source": [
    "### Mathematics with NumPy"
   ]
  },
  {
   "cell_type": "markdown",
   "metadata": {},
   "source": [
    "> **`We all love mathematics`. For a lot more**, [check this out](https://docs.scipy.org/doc/numpy/reference/routines.math.html)."
   ]
  },
  {
   "cell_type": "markdown",
   "metadata": {},
   "source": [
    "- For example, `linear algebra`, look at [here](https://docs.scipy.org/doc/numpy/reference/routines.linalg.html)."
   ]
  },
  {
   "cell_type": "markdown",
   "metadata": {},
   "source": [
    "#### Statistics\n",
    "\n",
    "> Not only can you perform element-wise calculations on NumPy arrays, you can also calculate summary statistics such as range, mean, and standard deviation of arrays using functions from NumPy."
   ]
  },
  {
   "cell_type": "markdown",
   "metadata": {},
   "source": [
    "##### Calculating the range (minimum and maximum values)"
   ]
  },
  {
   "cell_type": "code",
   "execution_count": 51,
   "metadata": {},
   "outputs": [
    {
     "name": "stdout",
     "output_type": "stream",
     "text": [
      "[[ 10.09  10.28   2.21   6.19   8.24]\n",
      " [ 99.98  87.68 154.23 162.12 121.11]]\n"
     ]
    }
   ],
   "source": [
    "print(pe_array)"
   ]
  },
  {
   "cell_type": "code",
   "execution_count": 52,
   "metadata": {},
   "outputs": [
    {
     "data": {
      "text/plain": [
       "2.21"
      ]
     },
     "execution_count": 52,
     "metadata": {},
     "output_type": "execute_result"
    }
   ],
   "source": [
    "np.min(pe_array)"
   ]
  },
  {
   "cell_type": "code",
   "execution_count": 53,
   "metadata": {},
   "outputs": [
    {
     "data": {
      "text/plain": [
       "162.12"
      ]
     },
     "execution_count": 53,
     "metadata": {},
     "output_type": "execute_result"
    }
   ],
   "source": [
    "np.max(pe_array)"
   ]
  },
  {
   "cell_type": "code",
   "execution_count": 54,
   "metadata": {},
   "outputs": [
    {
     "data": {
      "text/plain": [
       "array([ 99.98,  87.68, 154.23, 162.12, 121.11])"
      ]
     },
     "execution_count": 54,
     "metadata": {},
     "output_type": "execute_result"
    }
   ],
   "source": [
    "np.max(pe_array, axis = 0)"
   ]
  },
  {
   "cell_type": "code",
   "execution_count": 55,
   "metadata": {},
   "outputs": [
    {
     "data": {
      "text/plain": [
       "662.13"
      ]
     },
     "execution_count": 55,
     "metadata": {},
     "output_type": "execute_result"
    }
   ],
   "source": [
    "np.sum(pe_array)"
   ]
  },
  {
   "cell_type": "code",
   "execution_count": 56,
   "metadata": {},
   "outputs": [
    {
     "data": {
      "text/plain": [
       "array([ 37.01, 625.12])"
      ]
     },
     "execution_count": 56,
     "metadata": {},
     "output_type": "execute_result"
    }
   ],
   "source": [
    "np.sum(pe_array, axis = 1)"
   ]
  },
  {
   "cell_type": "markdown",
   "metadata": {},
   "source": [
    "##### Calculating the mean (`mean`) and standard deviation (`std`)"
   ]
  },
  {
   "cell_type": "code",
   "execution_count": 57,
   "metadata": {},
   "outputs": [
    {
     "name": "stdout",
     "output_type": "stream",
     "text": [
      "7.401999999999999\n"
     ]
    }
   ],
   "source": [
    "earnings_mean = np.mean(earnings_array)\n",
    "print(earnings_mean)"
   ]
  },
  {
   "cell_type": "code",
   "execution_count": 58,
   "metadata": {},
   "outputs": [
    {
     "name": "stdout",
     "output_type": "stream",
     "text": [
      "[[ 10.09  10.28   2.21   6.19   8.24]\n",
      " [ 99.98  87.68 154.23 162.12 121.11]]\n"
     ]
    }
   ],
   "source": [
    "print(pe_array)"
   ]
  },
  {
   "cell_type": "code",
   "execution_count": 59,
   "metadata": {},
   "outputs": [
    {
     "data": {
      "text/plain": [
       "True"
      ]
     },
     "execution_count": 59,
     "metadata": {},
     "output_type": "execute_result"
    }
   ],
   "source": [
    "earnings_mean_twins = np.mean(pe_array[0,:])\n",
    "earnings_mean_twins == earnings_mean"
   ]
  },
  {
   "cell_type": "code",
   "execution_count": 60,
   "metadata": {},
   "outputs": [
    {
     "name": "stdout",
     "output_type": "stream",
     "text": [
      "29.210269837849836\n"
     ]
    }
   ],
   "source": [
    "prices_std = np.std(prices_array)\n",
    "print(prices_std)"
   ]
  },
  {
   "cell_type": "code",
   "execution_count": 61,
   "metadata": {},
   "outputs": [
    {
     "data": {
      "text/plain": [
       "True"
      ]
     },
     "execution_count": 61,
     "metadata": {},
     "output_type": "execute_result"
    }
   ],
   "source": [
    "prices_std_twins = np.std(pe_array[1,:])\n",
    "prices_std_twins == prices_std"
   ]
  },
  {
   "cell_type": "markdown",
   "metadata": {},
   "source": [
    "##### Generating a sequence of numbers\n",
    "\n",
    "> Often you may want to create an array of a range of numbers (e.g., 1 to 500) without having to type in every single number. \n",
    "\n",
    "> The NumPy function `arange()` is an efficient way to create numeric arrays of a range of numbers--using arange() can be much faster than typing each individual element.\n",
    "\n",
    "> The arguments for `arange()` include the `start`, `stop`, and `step interval` as follows: `np.arange(start, stop, step)`\n"
   ]
  },
  {
   "cell_type": "code",
   "execution_count": 3,
   "metadata": {},
   "outputs": [
    {
     "name": "stdout",
     "output_type": "stream",
     "text": [
      "[   1    2    3    4    5    6    7    8    9   10   11   12   13   14\n",
      "   15   16   17   18   19   20   21   22   23   24   25   26   27   28\n",
      "   29   30   31   32   33   34   35   36   37   38   39   40   41   42\n",
      "   43   44   45   46   47   48   49   50   51   52   53   54   55   56\n",
      "   57   58   59   60   61   62   63   64   65   66   67   68   69   70\n",
      "   71   72   73   74   75   76   77   78   79   80   81   82   83   84\n",
      "   85   86   87   88   89   90   91   92   93   94   95   96   97   98\n",
      "   99  100  101  102  103  104  105  106  107  108  109  110  111  112\n",
      "  113  114  115  116  117  118  119  120  121  122  123  124  125  126\n",
      "  127  128  129  130  131  132  133  134  135  136  137  138  139  140\n",
      "  141  142  143  144  145  146  147  148  149  150  151  152  153  154\n",
      "  155  156  157  158  159  160  161  162  163  164  165  166  167  168\n",
      "  169  170  171  172  173  174  175  176  177  178  179  180  181  182\n",
      "  183  184  185  186  187  188  189  190  191  192  193  194  195  196\n",
      "  197  198  199  200  201  202  203  204  205  206  207  208  209  210\n",
      "  211  212  213  214  215  216  217  218  219  220  221  222  223  224\n",
      "  225  226  227  228  229  230  231  232  233  234  235  236  237  238\n",
      "  239  240  241  242  243  244  245  246  247  248  249  250  251  252\n",
      "  253  254  255  256  257  258  259  260  261  262  263  264  265  266\n",
      "  267  268  269  270  271  272  273  274  275  276  277  278  279  280\n",
      "  281  282  283  284  285  286  287  288  289  290  291  292  293  294\n",
      "  295  296  297  298  299  300  301  302  303  304  305  306  307  308\n",
      "  309  310  311  312  313  314  315  316  317  318  319  320  321  322\n",
      "  323  324  325  326  327  328  329  330  331  332  333  334  335  336\n",
      "  337  338  339  340  341  342  343  344  345  346  347  348  349  350\n",
      "  351  352  353  354  355  356  357  358  359  360  361  362  363  364\n",
      "  365  366  367  368  369  370  371  372  373  374  375  376  377  378\n",
      "  379  380  381  382  383  384  385  386  387  388  389  390  391  392\n",
      "  393  394  395  396  397  398  399  400  401  402  403  404  405  406\n",
      "  407  408  409  410  411  412  413  414  415  416  417  418  419  420\n",
      "  421  422  423  424  425  426  427  428  429  430  431  432  433  434\n",
      "  435  436  437  438  439  440  441  442  443  444  445  446  447  448\n",
      "  449  450  451  452  453  454  455  456  457  458  459  460  461  462\n",
      "  463  464  465  466  467  468  469  470  471  472  473  474  475  476\n",
      "  477  478  479  480  481  482  483  484  485  486  487  488  489  490\n",
      "  491  492  493  494  495  496  497  498  499  500  501  502  503  504\n",
      "  505  506  507  508  509  510  511  512  513  514  515  516  517  518\n",
      "  519  520  521  522  523  524  525  526  527  528  529  530  531  532\n",
      "  533  534  535  536  537  538  539  540  541  542  543  544  545  546\n",
      "  547  548  549  550  551  552  553  554  555  556  557  558  559  560\n",
      "  561  562  563  564  565  566  567  568  569  570  571  572  573  574\n",
      "  575  576  577  578  579  580  581  582  583  584  585  586  587  588\n",
      "  589  590  591  592  593  594  595  596  597  598  599  600  601  602\n",
      "  603  604  605  606  607  608  609  610  611  612  613  614  615  616\n",
      "  617  618  619  620  621  622  623  624  625  626  627  628  629  630\n",
      "  631  632  633  634  635  636  637  638  639  640  641  642  643  644\n",
      "  645  646  647  648  649  650  651  652  653  654  655  656  657  658\n",
      "  659  660  661  662  663  664  665  666  667  668  669  670  671  672\n",
      "  673  674  675  676  677  678  679  680  681  682  683  684  685  686\n",
      "  687  688  689  690  691  692  693  694  695  696  697  698  699  700\n",
      "  701  702  703  704  705  706  707  708  709  710  711  712  713  714\n",
      "  715  716  717  718  719  720  721  722  723  724  725  726  727  728\n",
      "  729  730  731  732  733  734  735  736  737  738  739  740  741  742\n",
      "  743  744  745  746  747  748  749  750  751  752  753  754  755  756\n",
      "  757  758  759  760  761  762  763  764  765  766  767  768  769  770\n",
      "  771  772  773  774  775  776  777  778  779  780  781  782  783  784\n",
      "  785  786  787  788  789  790  791  792  793  794  795  796  797  798\n",
      "  799  800  801  802  803  804  805  806  807  808  809  810  811  812\n",
      "  813  814  815  816  817  818  819  820  821  822  823  824  825  826\n",
      "  827  828  829  830  831  832  833  834  835  836  837  838  839  840\n",
      "  841  842  843  844  845  846  847  848  849  850  851  852  853  854\n",
      "  855  856  857  858  859  860  861  862  863  864  865  866  867  868\n",
      "  869  870  871  872  873  874  875  876  877  878  879  880  881  882\n",
      "  883  884  885  886  887  888  889  890  891  892  893  894  895  896\n",
      "  897  898  899  900  901  902  903  904  905  906  907  908  909  910\n",
      "  911  912  913  914  915  916  917  918  919  920  921  922  923  924\n",
      "  925  926  927  928  929  930  931  932  933  934  935  936  937  938\n",
      "  939  940  941  942  943  944  945  946  947  948  949  950  951  952\n",
      "  953  954  955  956  957  958  959  960  961  962  963  964  965  966\n",
      "  967  968  969  970  971  972  973  974  975  976  977  978  979  980\n",
      "  981  982  983  984  985  986  987  988  989  990  991  992  993  994\n",
      "  995  996  997  998  999 1000]\n"
     ]
    }
   ],
   "source": [
    "ticker_ids = np.arange(1, 1001, 1)\n",
    "print(ticker_ids)"
   ]
  },
  {
   "cell_type": "markdown",
   "metadata": {},
   "source": [
    "> How would you create `odd numbers only`?"
   ]
  },
  {
   "cell_type": "code",
   "execution_count": 63,
   "metadata": {},
   "outputs": [
    {
     "name": "stdout",
     "output_type": "stream",
     "text": [
      "[  1   3   5   7   9  11  13  15  17  19  21  23  25  27  29  31  33  35\n",
      "  37  39  41  43  45  47  49  51  53  55  57  59  61  63  65  67  69  71\n",
      "  73  75  77  79  81  83  85  87  89  91  93  95  97  99 101 103 105 107\n",
      " 109 111 113 115 117 119 121 123 125 127 129 131 133 135 137 139 141 143\n",
      " 145 147 149 151 153 155 157 159 161 163 165 167 169 171 173 175 177 179\n",
      " 181 183 185 187 189 191 193 195 197 199 201 203 205 207 209 211 213 215\n",
      " 217 219 221 223 225 227 229 231 233 235 237 239 241 243 245 247 249 251\n",
      " 253 255 257 259 261 263 265 267 269 271 273 275 277 279 281 283 285 287\n",
      " 289 291 293 295 297 299 301 303 305 307 309 311 313 315 317 319 321 323\n",
      " 325 327 329 331 333 335 337 339 341 343 345 347 349 351 353 355 357 359\n",
      " 361 363 365 367 369 371 373 375 377 379 381 383 385 387 389 391 393 395\n",
      " 397 399 401 403 405 407 409 411 413 415 417 419 421 423 425 427 429 431\n",
      " 433 435 437 439 441 443 445 447 449 451 453 455 457 459 461 463 465 467\n",
      " 469 471 473 475 477 479 481 483 485 487 489 491 493 495 497 499 501 503\n",
      " 505 507 509 511 513 515 517 519 521 523 525 527 529 531 533 535 537 539\n",
      " 541 543 545 547 549 551 553 555 557 559 561 563 565 567 569 571 573 575\n",
      " 577 579 581 583 585 587 589 591 593 595 597 599 601 603 605 607 609 611\n",
      " 613 615 617 619 621 623 625 627 629 631 633 635 637 639 641 643 645 647\n",
      " 649 651 653 655 657 659 661 663 665 667 669 671 673 675 677 679 681 683\n",
      " 685 687 689 691 693 695 697 699 701 703 705 707 709 711 713 715 717 719\n",
      " 721 723 725 727 729 731 733 735 737 739 741 743 745 747 749 751 753 755\n",
      " 757 759 761 763 765 767 769 771 773 775 777 779 781 783 785 787 789 791\n",
      " 793 795 797 799 801 803 805 807 809 811 813 815 817 819 821 823 825 827\n",
      " 829 831 833 835 837 839 841 843 845 847 849 851 853 855 857 859 861 863\n",
      " 865 867 869 871 873 875 877 879 881 883 885 887 889 891 893 895 897 899\n",
      " 901 903 905 907 909 911 913 915 917 919 921 923 925 927 929 931 933 935\n",
      " 937 939 941 943 945 947 949 951 953 955 957 959 961 963 965 967 969 971\n",
      " 973 975 977 979 981 983 985 987 989 991 993 995 997 999]\n"
     ]
    }
   ],
   "source": [
    "ticker_ids_odd = np.arange(1, 1001, 2)\n",
    "print(ticker_ids_odd)"
   ]
  },
  {
   "cell_type": "markdown",
   "metadata": {},
   "source": [
    "> How would you create **`even`** numbers only then? "
   ]
  },
  {
   "cell_type": "code",
   "execution_count": 64,
   "metadata": {},
   "outputs": [
    {
     "name": "stdout",
     "output_type": "stream",
     "text": [
      "[   2    4    6    8   10   12   14   16   18   20   22   24   26   28\n",
      "   30   32   34   36   38   40   42   44   46   48   50   52   54   56\n",
      "   58   60   62   64   66   68   70   72   74   76   78   80   82   84\n",
      "   86   88   90   92   94   96   98  100  102  104  106  108  110  112\n",
      "  114  116  118  120  122  124  126  128  130  132  134  136  138  140\n",
      "  142  144  146  148  150  152  154  156  158  160  162  164  166  168\n",
      "  170  172  174  176  178  180  182  184  186  188  190  192  194  196\n",
      "  198  200  202  204  206  208  210  212  214  216  218  220  222  224\n",
      "  226  228  230  232  234  236  238  240  242  244  246  248  250  252\n",
      "  254  256  258  260  262  264  266  268  270  272  274  276  278  280\n",
      "  282  284  286  288  290  292  294  296  298  300  302  304  306  308\n",
      "  310  312  314  316  318  320  322  324  326  328  330  332  334  336\n",
      "  338  340  342  344  346  348  350  352  354  356  358  360  362  364\n",
      "  366  368  370  372  374  376  378  380  382  384  386  388  390  392\n",
      "  394  396  398  400  402  404  406  408  410  412  414  416  418  420\n",
      "  422  424  426  428  430  432  434  436  438  440  442  444  446  448\n",
      "  450  452  454  456  458  460  462  464  466  468  470  472  474  476\n",
      "  478  480  482  484  486  488  490  492  494  496  498  500  502  504\n",
      "  506  508  510  512  514  516  518  520  522  524  526  528  530  532\n",
      "  534  536  538  540  542  544  546  548  550  552  554  556  558  560\n",
      "  562  564  566  568  570  572  574  576  578  580  582  584  586  588\n",
      "  590  592  594  596  598  600  602  604  606  608  610  612  614  616\n",
      "  618  620  622  624  626  628  630  632  634  636  638  640  642  644\n",
      "  646  648  650  652  654  656  658  660  662  664  666  668  670  672\n",
      "  674  676  678  680  682  684  686  688  690  692  694  696  698  700\n",
      "  702  704  706  708  710  712  714  716  718  720  722  724  726  728\n",
      "  730  732  734  736  738  740  742  744  746  748  750  752  754  756\n",
      "  758  760  762  764  766  768  770  772  774  776  778  780  782  784\n",
      "  786  788  790  792  794  796  798  800  802  804  806  808  810  812\n",
      "  814  816  818  820  822  824  826  828  830  832  834  836  838  840\n",
      "  842  844  846  848  850  852  854  856  858  860  862  864  866  868\n",
      "  870  872  874  876  878  880  882  884  886  888  890  892  894  896\n",
      "  898  900  902  904  906  908  910  912  914  916  918  920  922  924\n",
      "  926  928  930  932  934  936  938  940  942  944  946  948  950  952\n",
      "  954  956  958  960  962  964  966  968  970  972  974  976  978  980\n",
      "  982  984  986  988  990  992  994  996  998 1000]\n"
     ]
    }
   ],
   "source": [
    "ticker_ids_even = ticker_ids_odd + 1\n",
    "print(ticker_ids_even)"
   ]
  },
  {
   "cell_type": "markdown",
   "metadata": {},
   "source": [
    "#### Boolean arrays can be a very powerful way to subset arrays. \n",
    "\n",
    "> As a case in point, let's try to identify the earnings that are greater than average from a list of earnings.\n",
    "\n",
    "> To do so, let's find the mean value of earnings first."
   ]
  },
  {
   "cell_type": "code",
   "execution_count": 65,
   "metadata": {},
   "outputs": [],
   "source": [
    "mean_earnings = np.mean(earnings_array)"
   ]
  },
  {
   "cell_type": "markdown",
   "metadata": {},
   "source": [
    "##### How would you index earnings that are lesser than average\n",
    "\n",
    "> Hint: You might want to create a boolean array first."
   ]
  },
  {
   "cell_type": "code",
   "execution_count": 66,
   "metadata": {},
   "outputs": [
    {
     "name": "stdout",
     "output_type": "stream",
     "text": [
      "[False False  True  True False]\n"
     ]
    }
   ],
   "source": [
    "boolean_array = (earnings_array < mean_earnings)\n",
    "print(boolean_array)"
   ]
  },
  {
   "cell_type": "code",
   "execution_count": 67,
   "metadata": {},
   "outputs": [
    {
     "data": {
      "text/plain": [
       "array([ True,  True])"
      ]
     },
     "execution_count": 67,
     "metadata": {},
     "output_type": "execute_result"
    }
   ],
   "source": [
    "earnings[boolean_array] == earnings[earnings_array < mean_earnings]"
   ]
  },
  {
   "cell_type": "code",
   "execution_count": 68,
   "metadata": {},
   "outputs": [
    {
     "name": "stdout",
     "output_type": "stream",
     "text": [
      "[2.21 6.19]\n"
     ]
    }
   ],
   "source": [
    "earings_below_mean = earnings[boolean_array] # 厉害！\n",
    "print(earings_below_mean)"
   ]
  },
  {
   "cell_type": "markdown",
   "metadata": {},
   "source": [
    "> Boolean array can be used for strings as well. \n",
    "\n",
    "> Let's create the names of companies with their associated industry first. \n",
    "\n",
    "> Here, your want to find all companies that are categorized as `Investment Services` industry."
   ]
  },
  {
   "cell_type": "code",
   "execution_count": 69,
   "metadata": {},
   "outputs": [],
   "source": [
    "array_for_companies = np.array([\"Facebook\", \"Amazon\", \"Netflix\", \"Google\",\n",
    "                               \"Citigroup\", \"Goldman Sachs\", \"Tesla\", \"Microsoft\"])"
   ]
  },
  {
   "cell_type": "code",
   "execution_count": 70,
   "metadata": {},
   "outputs": [],
   "source": [
    "array_for_industries = np.array([\"Tech\", \"Tech\", \"Tech\", \"Tech\",\n",
    "                               \"Investment Services\", \"Investment Services\", \"Data\", \"Tech\"])"
   ]
  },
  {
   "cell_type": "code",
   "execution_count": 71,
   "metadata": {},
   "outputs": [
    {
     "name": "stdout",
     "output_type": "stream",
     "text": [
      "[['Facebook' 'Amazon' 'Netflix' 'Google' 'Citigroup' 'Goldman Sachs'\n",
      "  'Tesla' 'Microsoft']\n",
      " ['Tech' 'Tech' 'Tech' 'Tech' 'Investment Services' 'Investment Services'\n",
      "  'Data' 'Tech']]\n"
     ]
    }
   ],
   "source": [
    "array_for_companies_industries = np.array([array_for_companies,\n",
    "                                           array_for_industries])\n",
    "print(array_for_companies_industries)"
   ]
  },
  {
   "cell_type": "markdown",
   "metadata": {},
   "source": [
    "##### How would you subset Investment Services industry and print companies in Investment Servecies?"
   ]
  },
  {
   "cell_type": "code",
   "execution_count": 72,
   "metadata": {},
   "outputs": [
    {
     "name": "stdout",
     "output_type": "stream",
     "text": [
      "[False False False False  True  True False False]\n"
     ]
    }
   ],
   "source": [
    "bools_array = (array_for_industries == \"Investment Services\")\n",
    "print(bools_array)"
   ]
  },
  {
   "cell_type": "code",
   "execution_count": 73,
   "metadata": {},
   "outputs": [
    {
     "name": "stdout",
     "output_type": "stream",
     "text": [
      "['Citigroup' 'Goldman Sachs']\n"
     ]
    }
   ],
   "source": [
    "investment_services = array_for_companies[bools_array]\n",
    "print(investment_services)"
   ]
  },
  {
   "cell_type": "markdown",
   "metadata": {},
   "source": [
    "### Installation of 'numpy-financial'"
   ]
  },
  {
   "cell_type": "code",
   "execution_count": 74,
   "metadata": {},
   "outputs": [
    {
     "name": "stdout",
     "output_type": "stream",
     "text": [
      "Looking in indexes: https://pypi.tuna.tsinghua.edu.cn/simple\n",
      "Requirement already satisfied: numpy-financial in d:\\360downloads\\anaconda-2021.08\\lib\\site-packages (1.0.0)\n",
      "Requirement already satisfied: numpy>=1.15 in d:\\360downloads\\anaconda-2021.08\\lib\\site-packages (from numpy-financial) (1.20.1)\n"
     ]
    }
   ],
   "source": [
    "!pip install numpy-financial"
   ]
  },
  {
   "cell_type": "code",
   "execution_count": 13,
   "metadata": {},
   "outputs": [],
   "source": [
    "import numpy_financial as npf"
   ]
  },
  {
   "cell_type": "code",
   "execution_count": 76,
   "metadata": {},
   "outputs": [
    {
     "data": {
      "text/plain": [
       "['D:\\\\360Downloads\\\\anaconda-2021.08\\\\lib\\\\site-packages\\\\numpy_financial']"
      ]
     },
     "execution_count": 76,
     "metadata": {},
     "output_type": "execute_result"
    }
   ],
   "source": [
    "npf.__path__"
   ]
  },
  {
   "cell_type": "code",
   "execution_count": 77,
   "metadata": {},
   "outputs": [],
   "source": [
    "import sys"
   ]
  },
  {
   "cell_type": "code",
   "execution_count": 78,
   "metadata": {
    "scrolled": true
   },
   "outputs": [
    {
     "data": {
      "text/plain": [
       "['C:\\\\Users\\\\13209\\\\Desktop\\\\QF627',\n",
       " 'D:\\\\360Downloads\\\\anaconda-2021.08\\\\python38.zip',\n",
       " 'D:\\\\360Downloads\\\\anaconda-2021.08\\\\DLLs',\n",
       " 'D:\\\\360Downloads\\\\anaconda-2021.08\\\\lib',\n",
       " 'D:\\\\360Downloads\\\\anaconda-2021.08',\n",
       " '',\n",
       " 'D:\\\\360Downloads\\\\anaconda-2021.08\\\\lib\\\\site-packages',\n",
       " 'D:\\\\360Downloads\\\\anaconda-2021.08\\\\lib\\\\site-packages\\\\locket-0.2.1-py3.8.egg',\n",
       " 'D:\\\\360Downloads\\\\anaconda-2021.08\\\\lib\\\\site-packages\\\\win32',\n",
       " 'D:\\\\360Downloads\\\\anaconda-2021.08\\\\lib\\\\site-packages\\\\win32\\\\lib',\n",
       " 'D:\\\\360Downloads\\\\anaconda-2021.08\\\\lib\\\\site-packages\\\\Pythonwin',\n",
       " 'D:\\\\360Downloads\\\\anaconda-2021.08\\\\lib\\\\site-packages\\\\IPython\\\\extensions',\n",
       " 'C:\\\\Users\\\\13209\\\\.ipython']"
      ]
     },
     "execution_count": 78,
     "metadata": {},
     "output_type": "execute_result"
    }
   ],
   "source": [
    "sys.path"
   ]
  },
  {
   "cell_type": "markdown",
   "metadata": {},
   "source": [
    "> For your information, there is `numpy_financial` package that contains a collection of elementary financial functions. \n",
    "\n",
    "> It will make your life easier when working with financial values.\n",
    "\n",
    "> For example, the function .pv(rate, nper, pmt, fv) allows you to calculate the present value of an investment with some parameters:\n",
    "\n",
    "- `rate` The rate of return of the investment\n",
    "- `nper` The lifespan of the investment\n",
    "- `pmt` The (fixed) payment at the beginning or end of each period\n",
    "- `fv` The future value of the investment\n",
    "\n",
    "> You can use this formula in many ways (e.g., you can calculate the present value of future investments in today's dollars)."
   ]
  },
  {
   "cell_type": "markdown",
   "metadata": {},
   "source": [
    "> Before you run the code above, you should have installed the package `numpy-financial`."
   ]
  },
  {
   "cell_type": "code",
   "execution_count": 79,
   "metadata": {},
   "outputs": [],
   "source": [
    "your_investment = npf.pv(rate = 0.07, nper = 10, pmt = 0, fv = 30000) # present value"
   ]
  },
  {
   "cell_type": "markdown",
   "metadata": {},
   "source": [
    "> Here, the present value returned is negative, so we multiply the result by -1"
   ]
  },
  {
   "cell_type": "code",
   "execution_count": 80,
   "metadata": {},
   "outputs": [
    {
     "name": "stdout",
     "output_type": "stream",
     "text": [
      "Your investment is worth 15250.48 in today's dollars.\n"
     ]
    }
   ],
   "source": [
    "print(\"Your investment is worth \" + str(round(-your_investment,2)) + \" in today's dollars.\")"
   ]
  },
  {
   "cell_type": "code",
   "execution_count": 81,
   "metadata": {},
   "outputs": [
    {
     "name": "stdout",
     "output_type": "stream",
     "text": [
      "Your sisiter's investment is worth 2333.33 in today's dollars.\n"
     ]
    }
   ],
   "source": [
    "your_sister_investment = npf.pv(rate = 0.06, nper = 40, pmt = 0, fv = 24000)\n",
    "print(\"Your sisiter's investment is worth \" + str(round(-your_sister_investment,2)) + \" in today's dollars.\")"
   ]
  },
  {
   "cell_type": "markdown",
   "metadata": {},
   "source": [
    "> Similarly, you can also calculate the future value of an investment the following parameters:\n",
    "\n",
    "- `rate` The rate of return of the investment\n",
    "- `nper` The lifespan of the investment\n",
    "- `pmt` The (fixed) payment at the beginning or end of each period (which is 0 in our example)\n",
    "- `pv` The present value of the investment\n",
    "\n",
    "> Here, you can use the function .fv(rate, nper, pmt, pv).\n",
    "\n",
    "> Note that you should `input a negative value into the pv parameter` if it represents `a negative cash flow (cash going out)`. \n",
    "\n",
    "> That is, if you were to compute the future value of an investment, requiring an up-front cash payment, you would need to `input a negative value to the pv parameter` in the function .fv()."
   ]
  },
  {
   "cell_type": "markdown",
   "metadata": {},
   "source": [
    "# Estimate Your Investment's Future Value"
   ]
  },
  {
   "cell_type": "code",
   "execution_count": 82,
   "metadata": {},
   "outputs": [
    {
     "name": "stdout",
     "output_type": "stream",
     "text": [
      "Your investment will return a total of $46447 in 15 years.\n"
     ]
    }
   ],
   "source": [
    "your_investment_fv = npf.fv(rate = 0.045, nper = 15, pmt = 0, pv = -24000)\n",
    "print(\"Your investment will return a total of $\" + str(round(your_investment_fv)) + \" in 15 years.\")"
   ]
  },
  {
   "cell_type": "markdown",
   "metadata": {},
   "source": [
    "# Estimate the Future Value of Your Friend's Investment"
   ]
  },
  {
   "cell_type": "code",
   "execution_count": 7,
   "metadata": {},
   "outputs": [
    {
     "name": "stdout",
     "output_type": "stream",
     "text": [
      "Your friend's investment will return a total of $781728 in 27 years.\n"
     ]
    }
   ],
   "source": [
    "your_friend_investment_fv = npf.fv(rate = 0.06, nper = 27, pmt = -10000, pv = -30000)\n",
    "print(\"Your friend's investment will return a total of $\" + str(round(your_friend_investment_fv)) + \" in 27 years.\")"
   ]
  },
  {
   "cell_type": "code",
   "execution_count": 9,
   "metadata": {},
   "outputs": [
    {
     "ename": "TypeError",
     "evalue": "pmt() missing 3 required positional arguments: 'rate', 'nper', and 'pv'",
     "output_type": "error",
     "traceback": [
      "\u001b[1;31m---------------------------------------------------------------------------\u001b[0m",
      "\u001b[1;31mTypeError\u001b[0m                                 Traceback (most recent call last)",
      "\u001b[1;32m<ipython-input-9-c8ae8b53dde4>\u001b[0m in \u001b[0;36m<module>\u001b[1;34m\u001b[0m\n\u001b[0;32m      1\u001b[0m \u001b[0myearly\u001b[0m \u001b[1;33m=\u001b[0m \u001b[1;36m0\u001b[0m\u001b[1;33m\u001b[0m\u001b[1;33m\u001b[0m\u001b[0m\n\u001b[1;32m----> 2\u001b[1;33m \u001b[0mhelp\u001b[0m\u001b[1;33m(\u001b[0m\u001b[0mnpf\u001b[0m\u001b[1;33m.\u001b[0m\u001b[0mpmt\u001b[0m\u001b[1;33m(\u001b[0m\u001b[1;33m)\u001b[0m\u001b[1;33m)\u001b[0m\u001b[1;33m\u001b[0m\u001b[1;33m\u001b[0m\u001b[0m\n\u001b[0m",
      "\u001b[1;31mTypeError\u001b[0m: pmt() missing 3 required positional arguments: 'rate', 'nper', and 'pv'"
     ]
    }
   ],
   "source": [
    "yearly = 0\n",
    "help(npf.pmt())"
   ]
  },
  {
   "cell_type": "code",
   "execution_count": 40,
   "metadata": {},
   "outputs": [
    {
     "name": "stdout",
     "output_type": "stream",
     "text": [
      "14680181.57167265\n",
      "-375986.30184150883\n"
     ]
    }
   ],
   "source": [
    "money_of_endwork = npf.pv(rate = 0.08, nper = 50, pmt = -1200000, fv = 0)\n",
    "print(money_of_endwork)\n",
    "yearly_saving = npf.pmt(rate = 0.08, nper = 18, pv = -150000, fv = money_of_endwork)\n",
    "print(yearly_saving)"
   ]
  },
  {
   "cell_type": "markdown",
   "metadata": {},
   "source": [
    "##### Now let's adjust future values of your investment for inflation with the following steps:\n",
    "\n",
    "**1. forecast the future value of an investment given a rate of return**\n",
    "\n",
    "**2. discount the future value of the investment by a projected inflation rate**\n",
    "\n",
    "> Here, we will `utilize both functions .fv() and .pv()` to estimate the projected value of a given investment in today's dollars, adjusted for inflation."
   ]
  },
  {
   "cell_type": "markdown",
   "metadata": {},
   "source": [
    "> ***Scenario***: `Investment returning 7% per year for 25 years`"
   ]
  },
  {
   "cell_type": "code",
   "execution_count": 84,
   "metadata": {},
   "outputs": [
    {
     "name": "stdout",
     "output_type": "stream",
     "text": [
      "Your father's investment will return a total of $108549 in 25 years.\n"
     ]
    }
   ],
   "source": [
    "your_father_investment_fv = npf.fv(rate = 0.07, nper = 25, pmt = 0, pv = -20000)\n",
    "print(\"Your father's investment will return a total of $\" + str(round(your_father_investment_fv)) + \" in 25 years.\")"
   ]
  },
  {
   "cell_type": "markdown",
   "metadata": {},
   "source": [
    "> ***Scenario***: `Inflation rate of 2.5% per year for 25 years`"
   ]
  },
  {
   "cell_type": "code",
   "execution_count": 85,
   "metadata": {},
   "outputs": [
    {
     "name": "stdout",
     "output_type": "stream",
     "text": [
      "After adjusting for inflation, your father's investment is worth $58550 in today's dollars.\n"
     ]
    }
   ],
   "source": [
    "discounted_your_father_investment = npf.pv(rate = 0.025, nper = 25, pmt = 0, fv = your_father_investment_fv)\n",
    "print(\"After adjusting for inflation, your father's investment is worth $\" + str(round(-discounted_your_father_investment)) + \" in today's dollars.\")"
   ]
  },
  {
   "cell_type": "markdown",
   "metadata": {},
   "source": [
    "> `Thank you for working with the script :)`"
   ]
  },
  {
   "cell_type": "code",
   "execution_count": 86,
   "metadata": {},
   "outputs": [],
   "source": [
    "exit()"
   ]
  }
 ],
 "metadata": {
  "kernelspec": {
   "display_name": "Python 3",
   "language": "python",
   "name": "python3"
  },
  "language_info": {
   "codemirror_mode": {
    "name": "ipython",
    "version": 3
   },
   "file_extension": ".py",
   "mimetype": "text/x-python",
   "name": "python",
   "nbconvert_exporter": "python",
   "pygments_lexer": "ipython3",
   "version": "3.8.8"
  }
 },
 "nbformat": 4,
 "nbformat_minor": 4
}
