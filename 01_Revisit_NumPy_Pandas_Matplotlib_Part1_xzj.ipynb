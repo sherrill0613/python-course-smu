{
 "cells": [
  {
   "cell_type": "markdown",
   "metadata": {},
   "source": [
    "# QF 627 Programming and Computational Finance\n",
    "## Lesson 01 | Revisit NumPy, Pandas, & Matplotlib (feat. `bokeh` & `seaborn`) | `xzj`view"
   ]
  },
  {
   "cell_type": "markdown",
   "metadata": {},
   "source": [
    "> Now that you are sufficinetly familiar with the basics of data cleaning and analysis in pandas, we're going to take it up a notch. \n",
    "\n",
    "> Previously, the datasets were in relatively clean and straightforward formats. \n",
    "\n",
    "> However, in many cases, the data you analyze can be extremely messy and difficult to manage.\n",
    "\n",
    "> That's why we're going to practice with a more unweildy. \n",
    "\n",
    "> You'll notice that it's quite a big file – about 1.7 million rows! \n",
    "\n",
    "> These are reports from accidents in New Jersey between 2008 and 2013 from the New Jersey Department of Transportation. \n",
    "\n",
    "> The data was scraped from [PDFs of crash reports](http://www.state.nj.us/transportation/refdata/accident/) filled out by clerk."
   ]
  },
  {
   "cell_type": "markdown",
   "metadata": {},
   "source": [
    "### Import pandas and let's load in our new and very messy data"
   ]
  },
  {
   "cell_type": "code",
   "execution_count": 1,
   "metadata": {},
   "outputs": [],
   "source": [
    "import pandas as pd"
   ]
  },
  {
   "cell_type": "code",
   "execution_count": 2,
   "metadata": {},
   "outputs": [
    {
     "name": "stderr",
     "output_type": "stream",
     "text": [
      "D:\\Downloads\\Anaconda\\lib\\site-packages\\IPython\\core\\interactiveshell.py:3165: DtypeWarning: Columns (6) have mixed types.Specify dtype option on import or set low_memory=False.\n",
      "  has_raised = await self.run_ast_nodes(code_ast.body, cell_name,\n"
     ]
    }
   ],
   "source": [
    "insurance = pd.read_csv(\"accidents.csv\") # encoding = \"ISO-8859-1\""
   ]
  },
  {
   "cell_type": "markdown",
   "metadata": {},
   "source": [
    "> You may notice that you get this warning."
   ]
  },
  {
   "cell_type": "markdown",
   "metadata": {},
   "source": [
    "`\"DtypeWarning: Columns (6) have mixed types. Specify dtype option on import or set low_memory=False. interactivity=interactivity, compiler=compiler, result=result)\"`"
   ]
  },
  {
   "cell_type": "markdown",
   "metadata": {},
   "source": [
    "> This dtype error happens when when a column has both strings and integer values. \n",
    "\n",
    "> You can ignore this for now because we'll fix it soon. Open up the first few rows of our dataframe."
   ]
  },
  {
   "cell_type": "code",
   "execution_count": 3,
   "metadata": {},
   "outputs": [
    {
     "data": {
      "text/html": [
       "<div>\n",
       "<style scoped>\n",
       "    .dataframe tbody tr th:only-of-type {\n",
       "        vertical-align: middle;\n",
       "    }\n",
       "\n",
       "    .dataframe tbody tr th {\n",
       "        vertical-align: top;\n",
       "    }\n",
       "\n",
       "    .dataframe thead th {\n",
       "        text-align: right;\n",
       "    }\n",
       "</style>\n",
       "<table border=\"1\" class=\"dataframe\">\n",
       "  <thead>\n",
       "    <tr style=\"text-align: right;\">\n",
       "      <th></th>\n",
       "      <th>case code</th>\n",
       "      <th>County Name</th>\n",
       "      <th>Municipality Name</th>\n",
       "      <th>Crash Date</th>\n",
       "      <th>Crash Day Of Week</th>\n",
       "      <th>Crash Time</th>\n",
       "      <th>Police Dept Code</th>\n",
       "      <th>Police Department</th>\n",
       "      <th>Police Station</th>\n",
       "      <th>Total Killed</th>\n",
       "      <th>...</th>\n",
       "      <th>Is Ramp</th>\n",
       "      <th>Ramp To/From Route Name</th>\n",
       "      <th>Ramp To/From Route Direction</th>\n",
       "      <th>Posted Speed</th>\n",
       "      <th>Posted Speed Cross Street</th>\n",
       "      <th>Latitude</th>\n",
       "      <th>Longitude</th>\n",
       "      <th>Cell Phone In Use Flag</th>\n",
       "      <th>Other Property Damage</th>\n",
       "      <th>Reporting Badge No.</th>\n",
       "    </tr>\n",
       "  </thead>\n",
       "  <tbody>\n",
       "    <tr>\n",
       "      <th>0</th>\n",
       "      <td>2008010108-026816</td>\n",
       "      <td>ATLANTIC</td>\n",
       "      <td>ABSECON CITY</td>\n",
       "      <td>3/4/08</td>\n",
       "      <td>TU</td>\n",
       "      <td>1539</td>\n",
       "      <td>1</td>\n",
       "      <td>ATLANTIC CITY</td>\n",
       "      <td>AIU</td>\n",
       "      <td>0</td>\n",
       "      <td>...</td>\n",
       "      <td></td>\n",
       "      <td></td>\n",
       "      <td></td>\n",
       "      <td>50</td>\n",
       "      <td></td>\n",
       "      <td>39.41158</td>\n",
       "      <td>74.49162</td>\n",
       "      <td>N</td>\n",
       "      <td>NONE                                          ...</td>\n",
       "      <td>384</td>\n",
       "    </tr>\n",
       "    <tr>\n",
       "      <th>1</th>\n",
       "      <td>2008010108-163190</td>\n",
       "      <td>ATLANTIC</td>\n",
       "      <td>ABSECON CITY</td>\n",
       "      <td>12/19/08</td>\n",
       "      <td>F</td>\n",
       "      <td>1114</td>\n",
       "      <td>1</td>\n",
       "      <td>ATLANTIC CITY</td>\n",
       "      <td>TRAFFIC</td>\n",
       "      <td>0</td>\n",
       "      <td>...</td>\n",
       "      <td></td>\n",
       "      <td></td>\n",
       "      <td></td>\n",
       "      <td>50</td>\n",
       "      <td></td>\n",
       "      <td>39.39231</td>\n",
       "      <td>74.48952</td>\n",
       "      <td>N</td>\n",
       "      <td>NONE                                          ...</td>\n",
       "      <td>739</td>\n",
       "    </tr>\n",
       "    <tr>\n",
       "      <th>2</th>\n",
       "      <td>2008010108-24779</td>\n",
       "      <td>ATLANTIC</td>\n",
       "      <td>ABSECON CITY</td>\n",
       "      <td>11/25/08</td>\n",
       "      <td>TU</td>\n",
       "      <td>345</td>\n",
       "      <td>99</td>\n",
       "      <td>NJ TRANSIT P.D.</td>\n",
       "      <td>ATLANTIC CITY</td>\n",
       "      <td>0</td>\n",
       "      <td>...</td>\n",
       "      <td></td>\n",
       "      <td></td>\n",
       "      <td></td>\n",
       "      <td>10</td>\n",
       "      <td>25</td>\n",
       "      <td></td>\n",
       "      <td></td>\n",
       "      <td>N</td>\n",
       "      <td>?                                             ...</td>\n",
       "      <td>53</td>\n",
       "    </tr>\n",
       "    <tr>\n",
       "      <th>3</th>\n",
       "      <td>2008010108-3901</td>\n",
       "      <td>ATLANTIC</td>\n",
       "      <td>ABSECON CITY</td>\n",
       "      <td>3/31/08</td>\n",
       "      <td>M</td>\n",
       "      <td>105</td>\n",
       "      <td>1</td>\n",
       "      <td>EAST WINDSOR</td>\n",
       "      <td>TRAFFIC UNIT</td>\n",
       "      <td>0</td>\n",
       "      <td>...</td>\n",
       "      <td></td>\n",
       "      <td></td>\n",
       "      <td></td>\n",
       "      <td>0</td>\n",
       "      <td></td>\n",
       "      <td></td>\n",
       "      <td></td>\n",
       "      <td>N</td>\n",
       "      <td>NONE                                          ...</td>\n",
       "      <td>551</td>\n",
       "    </tr>\n",
       "    <tr>\n",
       "      <th>4</th>\n",
       "      <td>2008010108-5016</td>\n",
       "      <td>ATLANTIC</td>\n",
       "      <td>ABSECON CITY</td>\n",
       "      <td>1/25/08</td>\n",
       "      <td>F</td>\n",
       "      <td>942</td>\n",
       "      <td>1</td>\n",
       "      <td>EGG HARBOR TWP</td>\n",
       "      <td>HQ</td>\n",
       "      <td>0</td>\n",
       "      <td>...</td>\n",
       "      <td></td>\n",
       "      <td></td>\n",
       "      <td></td>\n",
       "      <td>50</td>\n",
       "      <td>40</td>\n",
       "      <td>39.43036</td>\n",
       "      <td>74.52469</td>\n",
       "      <td>N</td>\n",
       "      <td>NONE                                          ...</td>\n",
       "      <td>1571</td>\n",
       "    </tr>\n",
       "  </tbody>\n",
       "</table>\n",
       "<p>5 rows × 47 columns</p>\n",
       "</div>"
      ],
      "text/plain": [
       "                         case code   County Name         Municipality Name  \\\n",
       "0  2008010108-026816                ATLANTIC      ABSECON CITY               \n",
       "1  2008010108-163190                ATLANTIC      ABSECON CITY               \n",
       "2  2008010108-24779                 ATLANTIC      ABSECON CITY               \n",
       "3  2008010108-3901                  ATLANTIC      ABSECON CITY               \n",
       "4  2008010108-5016                  ATLANTIC      ABSECON CITY               \n",
       "\n",
       "   Crash Date  Crash Day Of Week  Crash Time  Police Dept Code  \\\n",
       "0      3/4/08                 TU        1539                 1   \n",
       "1    12/19/08                 F         1114                 1   \n",
       "2    11/25/08                 TU         345                99   \n",
       "3     3/31/08                 M          105                 1   \n",
       "4     1/25/08                 F          942                 1   \n",
       "\n",
       "           Police Department   Police Station   Total Killed  ...   Is Ramp  \\\n",
       "0  ATLANTIC CITY              AIU                          0  ...             \n",
       "1  ATLANTIC CITY              TRAFFIC                      0  ...             \n",
       "2  NJ TRANSIT P.D.            ATLANTIC CITY                0  ...             \n",
       "3  EAST WINDSOR               TRAFFIC UNIT                 0  ...             \n",
       "4  EGG HARBOR TWP             HQ                           0  ...             \n",
       "\n",
       "     Ramp To/From Route Name   Ramp To/From Route Direction  Posted Speed  \\\n",
       "0                                                                      50   \n",
       "1                                                                      50   \n",
       "2                                                                      10   \n",
       "3                                                                       0   \n",
       "4                                                                      50   \n",
       "\n",
       "   Posted Speed Cross Street  Latitude  Longitude  Cell Phone In Use Flag  \\\n",
       "0                             39.41158   74.49162                       N   \n",
       "1                             39.39231   74.48952                       N   \n",
       "2                         25                                            N   \n",
       "3                                                                       N   \n",
       "4                         40  39.43036   74.52469                       N   \n",
       "\n",
       "                               Other Property Damage  Reporting Badge No.  \n",
       "0  NONE                                          ...                  384  \n",
       "1  NONE                                          ...                  739  \n",
       "2  ?                                             ...                   53  \n",
       "3  NONE                                          ...                  551  \n",
       "4  NONE                                          ...                 1571  \n",
       "\n",
       "[5 rows x 47 columns]"
      ]
     },
     "execution_count": 3,
     "metadata": {},
     "output_type": "execute_result"
    }
   ],
   "source": [
    "insurance.head()"
   ]
  },
  {
   "cell_type": "markdown",
   "metadata": {},
   "source": [
    "> Let's found out what we're working with, and get the column headers for all of the columns."
   ]
  },
  {
   "cell_type": "code",
   "execution_count": 4,
   "metadata": {},
   "outputs": [
    {
     "data": {
      "text/plain": [
       "Index(['case code', ' County Name', ' Municipality Name', ' Crash Date',\n",
       "       ' Crash Day Of Week', ' Crash Time', ' Police Dept Code',\n",
       "       ' Police Department', ' Police Station', ' Total Killed',\n",
       "       ' Total Injured', ' Pedestrians Killed', ' Pedestrians Injured',\n",
       "       ' Severity', ' Intersection', ' Alcohol Involved', ' HazMat Involved',\n",
       "       ' Crash Type Code', ' Total Vehicles Involved', ' Crash Location',\n",
       "       ' Location Direction', ' Route', ' Route Suffix',\n",
       "       ' SRI (Std Rte Identifier)', ' MilePost  ', ' Road System',\n",
       "       ' Road Character', ' Road Surface Type', ' Surface Condition',\n",
       "       ' Light Condition', ' Environmental Condition', ' Road Divided By',\n",
       "       ' Temporary Traffic Control Zone', ' Distance To Cross Street',\n",
       "       ' Unit Of Measurement', ' Directn From Cross Street',\n",
       "       ' Cross Street Name', ' Is Ramp', ' Ramp To/From Route Name',\n",
       "       ' Ramp To/From Route Direction', ' Posted Speed',\n",
       "       ' Posted Speed Cross Street', ' Latitude', ' Longitude',\n",
       "       ' Cell Phone In Use Flag', ' Other Property Damage',\n",
       "       ' Reporting Badge No.'],\n",
       "      dtype='object')"
      ]
     },
     "execution_count": 4,
     "metadata": {},
     "output_type": "execute_result"
    }
   ],
   "source": [
    "insurance.columns"
   ]
  },
  {
   "cell_type": "markdown",
   "metadata": {},
   "source": [
    "> Bummer. There's our first problem. Notice that there's a leading space in every column header. We should take it out."
   ]
  },
  {
   "cell_type": "code",
   "execution_count": 3,
   "metadata": {},
   "outputs": [],
   "source": [
    "insurance.rename(columns = lambda x: x.strip(), inplace = True)"
   ]
  },
  {
   "cell_type": "markdown",
   "metadata": {},
   "source": [
    "> Remember where we renamed the columns in our dataframe previously? \n",
    "\n",
    "> This time, we're using the same rename function to do take out all of the leading spaces using `strip()`. \n",
    "\n",
    "> Pythonistas will notice that we're using the `lambda python` to apply `strip()` to every single column header."
   ]
  },
  {
   "cell_type": "code",
   "execution_count": 4,
   "metadata": {},
   "outputs": [
    {
     "data": {
      "text/plain": [
       "Index(['case code', 'County Name', 'Municipality Name', 'Crash Date',\n",
       "       'Crash Day Of Week', 'Crash Time', 'Police Dept Code',\n",
       "       'Police Department', 'Police Station', 'Total Killed', 'Total Injured',\n",
       "       'Pedestrians Killed', 'Pedestrians Injured', 'Severity', 'Intersection',\n",
       "       'Alcohol Involved', 'HazMat Involved', 'Crash Type Code',\n",
       "       'Total Vehicles Involved', 'Crash Location', 'Location Direction',\n",
       "       'Route', 'Route Suffix', 'SRI (Std Rte Identifier)', 'MilePost',\n",
       "       'Road System', 'Road Character', 'Road Surface Type',\n",
       "       'Surface Condition', 'Light Condition', 'Environmental Condition',\n",
       "       'Road Divided By', 'Temporary Traffic Control Zone',\n",
       "       'Distance To Cross Street', 'Unit Of Measurement',\n",
       "       'Directn From Cross Street', 'Cross Street Name', 'Is Ramp',\n",
       "       'Ramp To/From Route Name', 'Ramp To/From Route Direction',\n",
       "       'Posted Speed', 'Posted Speed Cross Street', 'Latitude', 'Longitude',\n",
       "       'Cell Phone In Use Flag', 'Other Property Damage',\n",
       "       'Reporting Badge No.'],\n",
       "      dtype='object')"
      ]
     },
     "execution_count": 4,
     "metadata": {},
     "output_type": "execute_result"
    }
   ],
   "source": [
    "insurance.columns"
   ]
  },
  {
   "cell_type": "markdown",
   "metadata": {},
   "source": [
    "> Good job :)\n",
    "\n",
    "> Let's describe() the dataframe."
   ]
  },
  {
   "cell_type": "code",
   "execution_count": 5,
   "metadata": {},
   "outputs": [
    {
     "data": {
      "text/html": [
       "<div>\n",
       "<style scoped>\n",
       "    .dataframe tbody tr th:only-of-type {\n",
       "        vertical-align: middle;\n",
       "    }\n",
       "\n",
       "    .dataframe tbody tr th {\n",
       "        vertical-align: top;\n",
       "    }\n",
       "\n",
       "    .dataframe thead th {\n",
       "        text-align: right;\n",
       "    }\n",
       "</style>\n",
       "<table border=\"1\" class=\"dataframe\">\n",
       "  <thead>\n",
       "    <tr style=\"text-align: right;\">\n",
       "      <th></th>\n",
       "      <th>Total Killed</th>\n",
       "      <th>Total Injured</th>\n",
       "      <th>Pedestrians Killed</th>\n",
       "      <th>Pedestrians Injured</th>\n",
       "      <th>Total Vehicles Involved</th>\n",
       "      <th>Road System</th>\n",
       "      <th>Posted Speed</th>\n",
       "    </tr>\n",
       "  </thead>\n",
       "  <tbody>\n",
       "    <tr>\n",
       "      <th>count</th>\n",
       "      <td>1.048575e+06</td>\n",
       "      <td>1.048575e+06</td>\n",
       "      <td>1.048575e+06</td>\n",
       "      <td>1.048575e+06</td>\n",
       "      <td>1.048575e+06</td>\n",
       "      <td>1.048575e+06</td>\n",
       "      <td>1.048575e+06</td>\n",
       "    </tr>\n",
       "    <tr>\n",
       "      <th>mean</th>\n",
       "      <td>1.965525e-03</td>\n",
       "      <td>3.119510e-01</td>\n",
       "      <td>4.854207e-04</td>\n",
       "      <td>1.735117e-02</td>\n",
       "      <td>1.875997e+00</td>\n",
       "      <td>5.199488e+00</td>\n",
       "      <td>3.120711e+01</td>\n",
       "    </tr>\n",
       "    <tr>\n",
       "      <th>std</th>\n",
       "      <td>4.694568e-02</td>\n",
       "      <td>7.015340e-01</td>\n",
       "      <td>2.211335e-02</td>\n",
       "      <td>1.344480e-01</td>\n",
       "      <td>5.416507e-01</td>\n",
       "      <td>2.491480e+00</td>\n",
       "      <td>1.790289e+01</td>\n",
       "    </tr>\n",
       "    <tr>\n",
       "      <th>min</th>\n",
       "      <td>0.000000e+00</td>\n",
       "      <td>0.000000e+00</td>\n",
       "      <td>0.000000e+00</td>\n",
       "      <td>0.000000e+00</td>\n",
       "      <td>0.000000e+00</td>\n",
       "      <td>0.000000e+00</td>\n",
       "      <td>0.000000e+00</td>\n",
       "    </tr>\n",
       "    <tr>\n",
       "      <th>25%</th>\n",
       "      <td>0.000000e+00</td>\n",
       "      <td>0.000000e+00</td>\n",
       "      <td>0.000000e+00</td>\n",
       "      <td>0.000000e+00</td>\n",
       "      <td>2.000000e+00</td>\n",
       "      <td>2.000000e+00</td>\n",
       "      <td>2.500000e+01</td>\n",
       "    </tr>\n",
       "    <tr>\n",
       "      <th>50%</th>\n",
       "      <td>0.000000e+00</td>\n",
       "      <td>0.000000e+00</td>\n",
       "      <td>0.000000e+00</td>\n",
       "      <td>0.000000e+00</td>\n",
       "      <td>2.000000e+00</td>\n",
       "      <td>5.000000e+00</td>\n",
       "      <td>2.500000e+01</td>\n",
       "    </tr>\n",
       "    <tr>\n",
       "      <th>75%</th>\n",
       "      <td>0.000000e+00</td>\n",
       "      <td>0.000000e+00</td>\n",
       "      <td>0.000000e+00</td>\n",
       "      <td>0.000000e+00</td>\n",
       "      <td>2.000000e+00</td>\n",
       "      <td>7.000000e+00</td>\n",
       "      <td>4.500000e+01</td>\n",
       "    </tr>\n",
       "    <tr>\n",
       "      <th>max</th>\n",
       "      <td>5.000000e+00</td>\n",
       "      <td>4.200000e+01</td>\n",
       "      <td>2.000000e+00</td>\n",
       "      <td>1.000000e+01</td>\n",
       "      <td>2.000000e+01</td>\n",
       "      <td>1.000000e+01</td>\n",
       "      <td>9.900000e+01</td>\n",
       "    </tr>\n",
       "  </tbody>\n",
       "</table>\n",
       "</div>"
      ],
      "text/plain": [
       "       Total Killed  Total Injured  Pedestrians Killed  Pedestrians Injured  \\\n",
       "count  1.048575e+06   1.048575e+06        1.048575e+06         1.048575e+06   \n",
       "mean   1.965525e-03   3.119510e-01        4.854207e-04         1.735117e-02   \n",
       "std    4.694568e-02   7.015340e-01        2.211335e-02         1.344480e-01   \n",
       "min    0.000000e+00   0.000000e+00        0.000000e+00         0.000000e+00   \n",
       "25%    0.000000e+00   0.000000e+00        0.000000e+00         0.000000e+00   \n",
       "50%    0.000000e+00   0.000000e+00        0.000000e+00         0.000000e+00   \n",
       "75%    0.000000e+00   0.000000e+00        0.000000e+00         0.000000e+00   \n",
       "max    5.000000e+00   4.200000e+01        2.000000e+00         1.000000e+01   \n",
       "\n",
       "       Total Vehicles Involved   Road System  Posted Speed  \n",
       "count             1.048575e+06  1.048575e+06  1.048575e+06  \n",
       "mean              1.875997e+00  5.199488e+00  3.120711e+01  \n",
       "std               5.416507e-01  2.491480e+00  1.790289e+01  \n",
       "min               0.000000e+00  0.000000e+00  0.000000e+00  \n",
       "25%               2.000000e+00  2.000000e+00  2.500000e+01  \n",
       "50%               2.000000e+00  5.000000e+00  2.500000e+01  \n",
       "75%               2.000000e+00  7.000000e+00  4.500000e+01  \n",
       "max               2.000000e+01  1.000000e+01  9.900000e+01  "
      ]
     },
     "execution_count": 5,
     "metadata": {},
     "output_type": "execute_result"
    }
   ],
   "source": [
    "insurance.describe()"
   ]
  },
  {
   "cell_type": "markdown",
   "metadata": {},
   "source": [
    "> But let's see if we could describe() a column. Let's use the describe() function for the `County Name` column header."
   ]
  },
  {
   "cell_type": "code",
   "execution_count": 6,
   "metadata": {},
   "outputs": [
    {
     "data": {
      "text/plain": [
       "count          1048575\n",
       "unique              21\n",
       "top       MIDDLESEX   \n",
       "freq            115760\n",
       "Name: County Name, dtype: object"
      ]
     },
     "execution_count": 6,
     "metadata": {},
     "output_type": "execute_result"
    }
   ],
   "source": [
    "insurance[\"County Name\"].describe()"
   ]
  },
  {
   "cell_type": "markdown",
   "metadata": {},
   "source": [
    "> So there are 21 unique values in the `County Name` column (for the 21 counties in New Jersey). \n",
    "\n",
    "> We can see that the top county with the most rows is Middlesex County with 176,402 crashes. \n",
    "\n",
    "> What are the names of the counties in New Jersey? Let's find out by using the unique() function on our `County Name` column."
   ]
  },
  {
   "cell_type": "code",
   "execution_count": 7,
   "metadata": {},
   "outputs": [
    {
     "data": {
      "text/plain": [
       "array(['ATLANTIC    ', 'BERGEN      ', 'BURLINGTON  ', 'CAMDEN      ',\n",
       "       'CAPE MAY    ', 'CUMBERLAND  ', 'ESSEX       ', 'GLOUCESTER  ',\n",
       "       'HUDSON      ', 'HUNTERDON   ', 'MERCER      ', 'MIDDLESEX   ',\n",
       "       'MONMOUTH    ', 'MORRIS      ', 'OCEAN       ', 'PASSAIC     ',\n",
       "       'SALEM       ', 'SOMERSET    ', 'SUSSEX      ', 'UNION       ',\n",
       "       'WARREN      '], dtype=object)"
      ]
     },
     "execution_count": 7,
     "metadata": {},
     "output_type": "execute_result"
    }
   ],
   "source": [
    "insurance[\"County Name\"].unique()"
   ]
  },
  {
   "cell_type": "markdown",
   "metadata": {},
   "source": [
    "> Looks like we're going to need to strip out the spaces out of the these county values. \n",
    "\n",
    "> This time we'll use the `map()` function which will strip the white space out of every string found in the column."
   ]
  },
  {
   "cell_type": "code",
   "execution_count": 8,
   "metadata": {
    "scrolled": false
   },
   "outputs": [],
   "source": [
    "insurance[\"County Name\"] = insurance[\"County Name\"].map(str.strip)"
   ]
  },
  {
   "cell_type": "code",
   "execution_count": 9,
   "metadata": {},
   "outputs": [
    {
     "data": {
      "text/plain": [
       "array(['ATLANTIC', 'BERGEN', 'BURLINGTON', 'CAMDEN', 'CAPE MAY',\n",
       "       'CUMBERLAND', 'ESSEX', 'GLOUCESTER', 'HUDSON', 'HUNTERDON',\n",
       "       'MERCER', 'MIDDLESEX', 'MONMOUTH', 'MORRIS', 'OCEAN', 'PASSAIC',\n",
       "       'SALEM', 'SOMERSET', 'SUSSEX', 'UNION', 'WARREN'], dtype=object)"
      ]
     },
     "execution_count": 9,
     "metadata": {},
     "output_type": "execute_result"
    }
   ],
   "source": [
    "insurance[\"County Name\"].unique()"
   ]
  },
  {
   "cell_type": "markdown",
   "metadata": {},
   "source": [
    "> Good :) Speaking of strings, let's fix that dtype error we got at the beginning of the exercise. \n",
    "\n",
    "> Type in dtypes at the end of our dataframe."
   ]
  },
  {
   "cell_type": "code",
   "execution_count": 10,
   "metadata": {},
   "outputs": [
    {
     "data": {
      "text/plain": [
       "case code                         object\n",
       "County Name                       object\n",
       "Municipality Name                 object\n",
       "Crash Date                        object\n",
       "Crash Day Of Week                 object\n",
       "Crash Time                        object\n",
       "Police Dept Code                  object\n",
       "Police Department                 object\n",
       "Police Station                    object\n",
       "Total Killed                       int64\n",
       "Total Injured                      int64\n",
       "Pedestrians Killed                 int64\n",
       "Pedestrians Injured                int64\n",
       "Severity                          object\n",
       "Intersection                      object\n",
       "Alcohol Involved                  object\n",
       "HazMat Involved                   object\n",
       "Crash Type Code                   object\n",
       "Total Vehicles Involved            int64\n",
       "Crash Location                    object\n",
       "Location Direction                object\n",
       "Route                             object\n",
       "Route Suffix                      object\n",
       "SRI (Std Rte Identifier)          object\n",
       "MilePost                          object\n",
       "Road System                        int64\n",
       "Road Character                    object\n",
       "Road Surface Type                 object\n",
       "Surface Condition                 object\n",
       "Light Condition                   object\n",
       "Environmental Condition           object\n",
       "Road Divided By                   object\n",
       "Temporary Traffic Control Zone    object\n",
       "Distance To Cross Street          object\n",
       "Unit Of Measurement               object\n",
       "Directn From Cross Street         object\n",
       "Cross Street Name                 object\n",
       "Is Ramp                           object\n",
       "Ramp To/From Route Name           object\n",
       "Ramp To/From Route Direction      object\n",
       "Posted Speed                       int64\n",
       "Posted Speed Cross Street         object\n",
       "Latitude                          object\n",
       "Longitude                         object\n",
       "Cell Phone In Use Flag            object\n",
       "Other Property Damage             object\n",
       "Reporting Badge No.               object\n",
       "dtype: object"
      ]
     },
     "execution_count": 10,
     "metadata": {},
     "output_type": "execute_result"
    }
   ],
   "source": [
    "insurance.dtypes"
   ]
  },
  {
   "cell_type": "markdown",
   "metadata": {},
   "source": [
    "> This shows us the type of data type object (or dtypes) the values of every column are. Objects refer to strings. `Int64` are integers. `Float64` are floats.\n",
    "\n",
    "> The `warning at the beginning` said it was column 6 that had mixed dtypes. If you look at your column list and count to the sixth column (Remember to count from zero!), you'll see that it's the `Police Dept Code` column. Let's look at every unique value in that column."
   ]
  },
  {
   "cell_type": "code",
   "execution_count": 13,
   "metadata": {},
   "outputs": [
    {
     "data": {
      "text/plain": [
       "array(['1', '99', '  ', '2', '3', '4', 1, 99, 2, 3, 4], dtype=object)"
      ]
     },
     "execution_count": 13,
     "metadata": {},
     "output_type": "execute_result"
    }
   ],
   "source": [
    "insurance[\"Police Dept Code\"].unique()"
   ]
  },
  {
   "cell_type": "markdown",
   "metadata": {},
   "source": [
    "> And there it is! As you can see, there are strings and integers mixed together in the same column."
   ]
  },
  {
   "cell_type": "code",
   "execution_count": 14,
   "metadata": {},
   "outputs": [],
   "source": [
    "insurance[\"Police Dept Code\"] = insurance[\"Police Dept Code\"].astype(str)"
   ]
  },
  {
   "cell_type": "markdown",
   "metadata": {},
   "source": [
    "> Same for column 17 or the `Crash Type Code` column. \n",
    "\n",
    "> Let's fix that by changing every value in both columns to a string using the `astype()` function."
   ]
  },
  {
   "cell_type": "markdown",
   "metadata": {},
   "source": [
    "> We're changing it to a string because we don't need to do math with these numbers since they are codes so it's more beneficial to use them as objects. \n",
    "\n",
    "> If you wanted to change something to an integer or a float, you'll need to use astype(int) and astype(float) respectively."
   ]
  },
  {
   "cell_type": "code",
   "execution_count": 15,
   "metadata": {},
   "outputs": [
    {
     "data": {
      "text/plain": [
       "array(['1', '99', '  ', '2', '3', '4'], dtype=object)"
      ]
     },
     "execution_count": 15,
     "metadata": {},
     "output_type": "execute_result"
    }
   ],
   "source": [
    "insurance[\"Police Dept Code\"].unique()"
   ]
  },
  {
   "cell_type": "markdown",
   "metadata": {},
   "source": [
    "> That took care of that :)\n",
    "\n",
    "> Let's make our dataframe a little bit more manageable by weeding out some unnecessary columns. \n",
    "\n",
    "> Let's also create a new dataframe called `crash_info`."
   ]
  },
  {
   "cell_type": "code",
   "execution_count": 16,
   "metadata": {},
   "outputs": [],
   "source": [
    "crash_info = insurance[[\"County Name\", \"Municipality Name\", \"Crash Date\",\n",
    "               \"Crash Day Of Week\", \"Crash Time\", \"Total Killed\",\n",
    "               \"Total Injured\", \"Pedestrians Killed\", \"Pedestrians Injured\",\n",
    "               \"Total Vehicles Involved\", \"Alcohol Involved\", \"Cell Phone In Use Flag\"]]"
   ]
  },
  {
   "cell_type": "code",
   "execution_count": 17,
   "metadata": {},
   "outputs": [
    {
     "data": {
      "text/html": [
       "<div>\n",
       "<style scoped>\n",
       "    .dataframe tbody tr th:only-of-type {\n",
       "        vertical-align: middle;\n",
       "    }\n",
       "\n",
       "    .dataframe tbody tr th {\n",
       "        vertical-align: top;\n",
       "    }\n",
       "\n",
       "    .dataframe thead th {\n",
       "        text-align: right;\n",
       "    }\n",
       "</style>\n",
       "<table border=\"1\" class=\"dataframe\">\n",
       "  <thead>\n",
       "    <tr style=\"text-align: right;\">\n",
       "      <th></th>\n",
       "      <th>County Name</th>\n",
       "      <th>Municipality Name</th>\n",
       "      <th>Crash Date</th>\n",
       "      <th>Crash Day Of Week</th>\n",
       "      <th>Crash Time</th>\n",
       "      <th>Total Killed</th>\n",
       "      <th>Total Injured</th>\n",
       "      <th>Pedestrians Killed</th>\n",
       "      <th>Pedestrians Injured</th>\n",
       "      <th>Total Vehicles Involved</th>\n",
       "      <th>Alcohol Involved</th>\n",
       "      <th>Cell Phone In Use Flag</th>\n",
       "    </tr>\n",
       "  </thead>\n",
       "  <tbody>\n",
       "    <tr>\n",
       "      <th>0</th>\n",
       "      <td>ATLANTIC</td>\n",
       "      <td>ABSECON CITY</td>\n",
       "      <td>3/4/08</td>\n",
       "      <td>TU</td>\n",
       "      <td>1539</td>\n",
       "      <td>0</td>\n",
       "      <td>0</td>\n",
       "      <td>0</td>\n",
       "      <td>0</td>\n",
       "      <td>2</td>\n",
       "      <td>N</td>\n",
       "      <td>N</td>\n",
       "    </tr>\n",
       "    <tr>\n",
       "      <th>1</th>\n",
       "      <td>ATLANTIC</td>\n",
       "      <td>ABSECON CITY</td>\n",
       "      <td>12/19/08</td>\n",
       "      <td>F</td>\n",
       "      <td>1114</td>\n",
       "      <td>0</td>\n",
       "      <td>0</td>\n",
       "      <td>0</td>\n",
       "      <td>0</td>\n",
       "      <td>2</td>\n",
       "      <td>N</td>\n",
       "      <td>N</td>\n",
       "    </tr>\n",
       "    <tr>\n",
       "      <th>2</th>\n",
       "      <td>ATLANTIC</td>\n",
       "      <td>ABSECON CITY</td>\n",
       "      <td>11/25/08</td>\n",
       "      <td>TU</td>\n",
       "      <td>345</td>\n",
       "      <td>0</td>\n",
       "      <td>0</td>\n",
       "      <td>0</td>\n",
       "      <td>0</td>\n",
       "      <td>2</td>\n",
       "      <td>N</td>\n",
       "      <td>N</td>\n",
       "    </tr>\n",
       "    <tr>\n",
       "      <th>3</th>\n",
       "      <td>ATLANTIC</td>\n",
       "      <td>ABSECON CITY</td>\n",
       "      <td>3/31/08</td>\n",
       "      <td>M</td>\n",
       "      <td>105</td>\n",
       "      <td>0</td>\n",
       "      <td>0</td>\n",
       "      <td>0</td>\n",
       "      <td>0</td>\n",
       "      <td>2</td>\n",
       "      <td>N</td>\n",
       "      <td>N</td>\n",
       "    </tr>\n",
       "    <tr>\n",
       "      <th>4</th>\n",
       "      <td>ATLANTIC</td>\n",
       "      <td>ABSECON CITY</td>\n",
       "      <td>1/25/08</td>\n",
       "      <td>F</td>\n",
       "      <td>942</td>\n",
       "      <td>0</td>\n",
       "      <td>1</td>\n",
       "      <td>0</td>\n",
       "      <td>0</td>\n",
       "      <td>2</td>\n",
       "      <td>N</td>\n",
       "      <td>N</td>\n",
       "    </tr>\n",
       "    <tr>\n",
       "      <th>...</th>\n",
       "      <td>...</td>\n",
       "      <td>...</td>\n",
       "      <td>...</td>\n",
       "      <td>...</td>\n",
       "      <td>...</td>\n",
       "      <td>...</td>\n",
       "      <td>...</td>\n",
       "      <td>...</td>\n",
       "      <td>...</td>\n",
       "      <td>...</td>\n",
       "      <td>...</td>\n",
       "      <td>...</td>\n",
       "    </tr>\n",
       "    <tr>\n",
       "      <th>1048570</th>\n",
       "      <td>MIDDLESEX</td>\n",
       "      <td>WOODBRIDGE TWP</td>\n",
       "      <td>7/21/11</td>\n",
       "      <td>TH</td>\n",
       "      <td>1611</td>\n",
       "      <td>0</td>\n",
       "      <td>0</td>\n",
       "      <td>0</td>\n",
       "      <td>0</td>\n",
       "      <td>1</td>\n",
       "      <td>N</td>\n",
       "      <td>N</td>\n",
       "    </tr>\n",
       "    <tr>\n",
       "      <th>1048571</th>\n",
       "      <td>MIDDLESEX</td>\n",
       "      <td>WOODBRIDGE TWP</td>\n",
       "      <td>7/21/11</td>\n",
       "      <td>TH</td>\n",
       "      <td>1723</td>\n",
       "      <td>0</td>\n",
       "      <td>0</td>\n",
       "      <td>0</td>\n",
       "      <td>0</td>\n",
       "      <td>2</td>\n",
       "      <td>N</td>\n",
       "      <td>N</td>\n",
       "    </tr>\n",
       "    <tr>\n",
       "      <th>1048572</th>\n",
       "      <td>MIDDLESEX</td>\n",
       "      <td>WOODBRIDGE TWP</td>\n",
       "      <td>7/21/11</td>\n",
       "      <td>TH</td>\n",
       "      <td>1821</td>\n",
       "      <td>0</td>\n",
       "      <td>0</td>\n",
       "      <td>0</td>\n",
       "      <td>0</td>\n",
       "      <td>2</td>\n",
       "      <td>N</td>\n",
       "      <td>N</td>\n",
       "    </tr>\n",
       "    <tr>\n",
       "      <th>1048573</th>\n",
       "      <td>MIDDLESEX</td>\n",
       "      <td>WOODBRIDGE TWP</td>\n",
       "      <td>7/22/11</td>\n",
       "      <td>F</td>\n",
       "      <td>733</td>\n",
       "      <td>0</td>\n",
       "      <td>0</td>\n",
       "      <td>0</td>\n",
       "      <td>0</td>\n",
       "      <td>2</td>\n",
       "      <td>N</td>\n",
       "      <td>N</td>\n",
       "    </tr>\n",
       "    <tr>\n",
       "      <th>1048574</th>\n",
       "      <td>MIDDLESEX</td>\n",
       "      <td>WOODBRIDGE TWP</td>\n",
       "      <td>7/22/11</td>\n",
       "      <td>F</td>\n",
       "      <td>1024</td>\n",
       "      <td>0</td>\n",
       "      <td>0</td>\n",
       "      <td>0</td>\n",
       "      <td>0</td>\n",
       "      <td>2</td>\n",
       "      <td>N</td>\n",
       "      <td>N</td>\n",
       "    </tr>\n",
       "  </tbody>\n",
       "</table>\n",
       "<p>1048575 rows × 12 columns</p>\n",
       "</div>"
      ],
      "text/plain": [
       "        County Name         Municipality Name Crash Date Crash Day Of Week  \\\n",
       "0          ATLANTIC  ABSECON CITY                 3/4/08                TU   \n",
       "1          ATLANTIC  ABSECON CITY               12/19/08                F    \n",
       "2          ATLANTIC  ABSECON CITY               11/25/08                TU   \n",
       "3          ATLANTIC  ABSECON CITY                3/31/08                M    \n",
       "4          ATLANTIC  ABSECON CITY                1/25/08                F    \n",
       "...             ...                       ...        ...               ...   \n",
       "1048570   MIDDLESEX  WOODBRIDGE TWP              7/21/11                TH   \n",
       "1048571   MIDDLESEX  WOODBRIDGE TWP              7/21/11                TH   \n",
       "1048572   MIDDLESEX  WOODBRIDGE TWP              7/21/11                TH   \n",
       "1048573   MIDDLESEX  WOODBRIDGE TWP              7/22/11                F    \n",
       "1048574   MIDDLESEX  WOODBRIDGE TWP              7/22/11                F    \n",
       "\n",
       "        Crash Time  Total Killed  Total Injured  Pedestrians Killed  \\\n",
       "0             1539             0              0                   0   \n",
       "1             1114             0              0                   0   \n",
       "2              345             0              0                   0   \n",
       "3              105             0              0                   0   \n",
       "4              942             0              1                   0   \n",
       "...            ...           ...            ...                 ...   \n",
       "1048570       1611             0              0                   0   \n",
       "1048571       1723             0              0                   0   \n",
       "1048572       1821             0              0                   0   \n",
       "1048573        733             0              0                   0   \n",
       "1048574       1024             0              0                   0   \n",
       "\n",
       "         Pedestrians Injured  Total Vehicles Involved Alcohol Involved  \\\n",
       "0                          0                        2                N   \n",
       "1                          0                        2                N   \n",
       "2                          0                        2                N   \n",
       "3                          0                        2                N   \n",
       "4                          0                        2                N   \n",
       "...                      ...                      ...              ...   \n",
       "1048570                    0                        1                N   \n",
       "1048571                    0                        2                N   \n",
       "1048572                    0                        2                N   \n",
       "1048573                    0                        2                N   \n",
       "1048574                    0                        2                N   \n",
       "\n",
       "        Cell Phone In Use Flag  \n",
       "0                            N  \n",
       "1                            N  \n",
       "2                            N  \n",
       "3                            N  \n",
       "4                            N  \n",
       "...                        ...  \n",
       "1048570                      N  \n",
       "1048571                      N  \n",
       "1048572                      N  \n",
       "1048573                      N  \n",
       "1048574                      N  \n",
       "\n",
       "[1048575 rows x 12 columns]"
      ]
     },
     "execution_count": 17,
     "metadata": {},
     "output_type": "execute_result"
    }
   ],
   "source": [
    "crash_info"
   ]
  },
  {
   "cell_type": "markdown",
   "metadata": {},
   "source": [
    "### How many car accidents had alcohol involved?"
   ]
  },
  {
   "cell_type": "markdown",
   "metadata": {},
   "source": [
    "Let's find out the unique values that come up in the column `Alcohol Involved`."
   ]
  },
  {
   "cell_type": "code",
   "execution_count": 18,
   "metadata": {},
   "outputs": [
    {
     "data": {
      "text/plain": [
       "array(['N', 'Y'], dtype=object)"
      ]
     },
     "execution_count": 18,
     "metadata": {},
     "output_type": "execute_result"
    }
   ],
   "source": [
    "crash_info[\"Alcohol Involved\"].unique()"
   ]
  },
  {
   "cell_type": "markdown",
   "metadata": {},
   "source": [
    "> We have only two unique values in the column: `N` for `no` and `Y` for `yes`.\n",
    "\n",
    "> Let's find out how many incidents had Ns and how many had Ys. \n",
    "\n",
    "> We're going to use the function value_counts() on the column 'Alcohol Involved'. \n",
    "\n",
    "> We're also going to put the list in a new dataframe called `alcohol` so that it will look nicer in our notebook."
   ]
  },
  {
   "cell_type": "code",
   "execution_count": 19,
   "metadata": {},
   "outputs": [
    {
     "data": {
      "text/html": [
       "<div>\n",
       "<style scoped>\n",
       "    .dataframe tbody tr th:only-of-type {\n",
       "        vertical-align: middle;\n",
       "    }\n",
       "\n",
       "    .dataframe tbody tr th {\n",
       "        vertical-align: top;\n",
       "    }\n",
       "\n",
       "    .dataframe thead th {\n",
       "        text-align: right;\n",
       "    }\n",
       "</style>\n",
       "<table border=\"1\" class=\"dataframe\">\n",
       "  <thead>\n",
       "    <tr style=\"text-align: right;\">\n",
       "      <th></th>\n",
       "      <th>Alcohol Involved</th>\n",
       "    </tr>\n",
       "  </thead>\n",
       "  <tbody>\n",
       "    <tr>\n",
       "      <th>N</th>\n",
       "      <td>1017766</td>\n",
       "    </tr>\n",
       "    <tr>\n",
       "      <th>Y</th>\n",
       "      <td>30809</td>\n",
       "    </tr>\n",
       "  </tbody>\n",
       "</table>\n",
       "</div>"
      ],
      "text/plain": [
       "   Alcohol Involved\n",
       "N           1017766\n",
       "Y             30809"
      ]
     },
     "execution_count": 19,
     "metadata": {},
     "output_type": "execute_result"
    }
   ],
   "source": [
    "ALCOHOL = pd.DataFrame(insurance[\"Alcohol Involved\"].value_counts())\n",
    "ALCOHOL"
   ]
  },
  {
   "cell_type": "markdown",
   "metadata": {},
   "source": [
    "> A lot more Ns than Ys. But just what percentage are the Ys compared to the Ns? \n",
    "\n",
    "> First, let's get the total number of crashes in our data frame."
   ]
  },
  {
   "cell_type": "code",
   "execution_count": 20,
   "metadata": {},
   "outputs": [],
   "source": [
    "total_counts_of_crash = crash_info[\"Alcohol Involved\"].count()"
   ]
  },
  {
   "cell_type": "code",
   "execution_count": 21,
   "metadata": {},
   "outputs": [
    {
     "data": {
      "text/plain": [
       "1048575"
      ]
     },
     "execution_count": 21,
     "metadata": {},
     "output_type": "execute_result"
    }
   ],
   "source": [
    "total_counts_of_crash"
   ]
  },
  {
   "cell_type": "markdown",
   "metadata": {},
   "source": [
    "> `Be careful`. \n",
    "\n",
    "> The `count()` function doesn't count `NAs` or `null` values. \n",
    "\n",
    "> Always make sure to check for those using the `isnull()` function, followed by `sum()`"
   ]
  },
  {
   "cell_type": "code",
   "execution_count": 22,
   "metadata": {},
   "outputs": [
    {
     "data": {
      "text/plain": [
       "True"
      ]
     },
     "execution_count": 22,
     "metadata": {},
     "output_type": "execute_result"
    }
   ],
   "source": [
    "crash_info[\"Alcohol Involved\"].isnull().sum() == 0"
   ]
  },
  {
   "cell_type": "markdown",
   "metadata": {},
   "source": [
    "> Let's create a new column named `Percent` and divide every value of the `Alcohol Involved` column by the total crashes from the `crash_count` we created above and then multiply by 100."
   ]
  },
  {
   "cell_type": "code",
   "execution_count": 23,
   "metadata": {},
   "outputs": [
    {
     "data": {
      "text/html": [
       "<div>\n",
       "<style scoped>\n",
       "    .dataframe tbody tr th:only-of-type {\n",
       "        vertical-align: middle;\n",
       "    }\n",
       "\n",
       "    .dataframe tbody tr th {\n",
       "        vertical-align: top;\n",
       "    }\n",
       "\n",
       "    .dataframe thead th {\n",
       "        text-align: right;\n",
       "    }\n",
       "</style>\n",
       "<table border=\"1\" class=\"dataframe\">\n",
       "  <thead>\n",
       "    <tr style=\"text-align: right;\">\n",
       "      <th></th>\n",
       "      <th>Alcohol Involved</th>\n",
       "      <th>Percent</th>\n",
       "    </tr>\n",
       "  </thead>\n",
       "  <tbody>\n",
       "    <tr>\n",
       "      <th>N</th>\n",
       "      <td>1017766</td>\n",
       "      <td>97.061822</td>\n",
       "    </tr>\n",
       "    <tr>\n",
       "      <th>Y</th>\n",
       "      <td>30809</td>\n",
       "      <td>2.938178</td>\n",
       "    </tr>\n",
       "  </tbody>\n",
       "</table>\n",
       "</div>"
      ],
      "text/plain": [
       "   Alcohol Involved    Percent\n",
       "N           1017766  97.061822\n",
       "Y             30809   2.938178"
      ]
     },
     "execution_count": 23,
     "metadata": {},
     "output_type": "execute_result"
    }
   ],
   "source": [
    "ALCOHOL[\"Percent\"] = (ALCOHOL[\"Alcohol Involved\"]) / total_counts_of_crash * 100\n",
    "ALCOHOL"
   ]
  },
  {
   "cell_type": "markdown",
   "metadata": {},
   "source": [
    "> Mystery solved. Only 2.9 percent."
   ]
  },
  {
   "cell_type": "markdown",
   "metadata": {},
   "source": [
    "### How many total people were killed in every county?"
   ]
  },
  {
   "cell_type": "markdown",
   "metadata": {},
   "source": [
    "> Let's first use the `value_counts()` function to find out how many accidents were reported in each county."
   ]
  },
  {
   "cell_type": "code",
   "execution_count": 24,
   "metadata": {},
   "outputs": [
    {
     "data": {
      "text/html": [
       "<div>\n",
       "<style scoped>\n",
       "    .dataframe tbody tr th:only-of-type {\n",
       "        vertical-align: middle;\n",
       "    }\n",
       "\n",
       "    .dataframe tbody tr th {\n",
       "        vertical-align: top;\n",
       "    }\n",
       "\n",
       "    .dataframe thead th {\n",
       "        text-align: right;\n",
       "    }\n",
       "</style>\n",
       "<table border=\"1\" class=\"dataframe\">\n",
       "  <thead>\n",
       "    <tr style=\"text-align: right;\">\n",
       "      <th></th>\n",
       "      <th>County Name</th>\n",
       "      <th>Municipality Name</th>\n",
       "      <th>Crash Date</th>\n",
       "      <th>Crash Day Of Week</th>\n",
       "      <th>Crash Time</th>\n",
       "      <th>Total Killed</th>\n",
       "      <th>Total Injured</th>\n",
       "      <th>Pedestrians Killed</th>\n",
       "      <th>Pedestrians Injured</th>\n",
       "      <th>Total Vehicles Involved</th>\n",
       "      <th>Alcohol Involved</th>\n",
       "      <th>Cell Phone In Use Flag</th>\n",
       "    </tr>\n",
       "  </thead>\n",
       "  <tbody>\n",
       "    <tr>\n",
       "      <th>0</th>\n",
       "      <td>ATLANTIC</td>\n",
       "      <td>ABSECON CITY</td>\n",
       "      <td>3/4/08</td>\n",
       "      <td>TU</td>\n",
       "      <td>1539</td>\n",
       "      <td>0</td>\n",
       "      <td>0</td>\n",
       "      <td>0</td>\n",
       "      <td>0</td>\n",
       "      <td>2</td>\n",
       "      <td>N</td>\n",
       "      <td>N</td>\n",
       "    </tr>\n",
       "    <tr>\n",
       "      <th>1</th>\n",
       "      <td>ATLANTIC</td>\n",
       "      <td>ABSECON CITY</td>\n",
       "      <td>12/19/08</td>\n",
       "      <td>F</td>\n",
       "      <td>1114</td>\n",
       "      <td>0</td>\n",
       "      <td>0</td>\n",
       "      <td>0</td>\n",
       "      <td>0</td>\n",
       "      <td>2</td>\n",
       "      <td>N</td>\n",
       "      <td>N</td>\n",
       "    </tr>\n",
       "    <tr>\n",
       "      <th>2</th>\n",
       "      <td>ATLANTIC</td>\n",
       "      <td>ABSECON CITY</td>\n",
       "      <td>11/25/08</td>\n",
       "      <td>TU</td>\n",
       "      <td>345</td>\n",
       "      <td>0</td>\n",
       "      <td>0</td>\n",
       "      <td>0</td>\n",
       "      <td>0</td>\n",
       "      <td>2</td>\n",
       "      <td>N</td>\n",
       "      <td>N</td>\n",
       "    </tr>\n",
       "    <tr>\n",
       "      <th>3</th>\n",
       "      <td>ATLANTIC</td>\n",
       "      <td>ABSECON CITY</td>\n",
       "      <td>3/31/08</td>\n",
       "      <td>M</td>\n",
       "      <td>105</td>\n",
       "      <td>0</td>\n",
       "      <td>0</td>\n",
       "      <td>0</td>\n",
       "      <td>0</td>\n",
       "      <td>2</td>\n",
       "      <td>N</td>\n",
       "      <td>N</td>\n",
       "    </tr>\n",
       "    <tr>\n",
       "      <th>4</th>\n",
       "      <td>ATLANTIC</td>\n",
       "      <td>ABSECON CITY</td>\n",
       "      <td>1/25/08</td>\n",
       "      <td>F</td>\n",
       "      <td>942</td>\n",
       "      <td>0</td>\n",
       "      <td>1</td>\n",
       "      <td>0</td>\n",
       "      <td>0</td>\n",
       "      <td>2</td>\n",
       "      <td>N</td>\n",
       "      <td>N</td>\n",
       "    </tr>\n",
       "  </tbody>\n",
       "</table>\n",
       "</div>"
      ],
      "text/plain": [
       "  County Name         Municipality Name Crash Date Crash Day Of Week  \\\n",
       "0    ATLANTIC  ABSECON CITY                 3/4/08                TU   \n",
       "1    ATLANTIC  ABSECON CITY               12/19/08                F    \n",
       "2    ATLANTIC  ABSECON CITY               11/25/08                TU   \n",
       "3    ATLANTIC  ABSECON CITY                3/31/08                M    \n",
       "4    ATLANTIC  ABSECON CITY                1/25/08                F    \n",
       "\n",
       "  Crash Time  Total Killed  Total Injured  Pedestrians Killed  \\\n",
       "0       1539             0              0                   0   \n",
       "1       1114             0              0                   0   \n",
       "2        345             0              0                   0   \n",
       "3        105             0              0                   0   \n",
       "4        942             0              1                   0   \n",
       "\n",
       "   Pedestrians Injured  Total Vehicles Involved Alcohol Involved  \\\n",
       "0                    0                        2                N   \n",
       "1                    0                        2                N   \n",
       "2                    0                        2                N   \n",
       "3                    0                        2                N   \n",
       "4                    0                        2                N   \n",
       "\n",
       "  Cell Phone In Use Flag  \n",
       "0                      N  \n",
       "1                      N  \n",
       "2                      N  \n",
       "3                      N  \n",
       "4                      N  "
      ]
     },
     "execution_count": 24,
     "metadata": {},
     "output_type": "execute_result"
    }
   ],
   "source": [
    "crash_info.head()"
   ]
  },
  {
   "cell_type": "code",
   "execution_count": 25,
   "metadata": {},
   "outputs": [
    {
     "data": {
      "text/plain": [
       "MIDDLESEX     115760\n",
       "ESSEX         112580\n",
       "BERGEN        112521\n",
       "HUDSON         78693\n",
       "CAMDEN         64739\n",
       "MONMOUTH       64637\n",
       "UNION          59556\n",
       "PASSAIC        56494\n",
       "MERCER         55008\n",
       "OCEAN          53104\n",
       "MORRIS         49096\n",
       "BURLINGTON     45010\n",
       "SOMERSET       36621\n",
       "ATLANTIC       35130\n",
       "GLOUCESTER     31940\n",
       "CUMBERLAND     18876\n",
       "HUNTERDON      16441\n",
       "CAPE MAY       13198\n",
       "SUSSEX         12587\n",
       "WARREN         11123\n",
       "SALEM           5461\n",
       "Name: County Name, dtype: int64"
      ]
     },
     "execution_count": 25,
     "metadata": {},
     "output_type": "execute_result"
    }
   ],
   "source": [
    "crash_info[\"County Name\"].value_counts()"
   ]
  },
  {
   "cell_type": "markdown",
   "metadata": {},
   "source": [
    "> So let's split up every incident that happened in every county by using the `groupby()`"
   ]
  },
  {
   "cell_type": "code",
   "execution_count": 26,
   "metadata": {},
   "outputs": [
    {
     "data": {
      "text/plain": [
       "<pandas.core.groupby.generic.DataFrameGroupBy object at 0x000001AE92137280>"
      ]
     },
     "execution_count": 26,
     "metadata": {},
     "output_type": "execute_result"
    }
   ],
   "source": [
    "crash_info.groupby(\"County Name\")"
   ]
  },
  {
   "cell_type": "markdown",
   "metadata": {},
   "source": [
    "> That looks like it did nothing, but it actually DID split up the counties into their own seperate groups. \n",
    "\n",
    "> We just need to know perform an action. \n",
    "\n",
    "> If you notice, there are columns like `Total Killed`, `Total Injured`, `Pedestrians Killed`, etc. that have numbers or integers that can be summed up. \n",
    "\n",
    "> Basically, we're going to add them all up by using the `sum()` function and make it into a new dataframe called `county_crash`."
   ]
  },
  {
   "cell_type": "code",
   "execution_count": 27,
   "metadata": {},
   "outputs": [
    {
     "data": {
      "text/html": [
       "<div>\n",
       "<style scoped>\n",
       "    .dataframe tbody tr th:only-of-type {\n",
       "        vertical-align: middle;\n",
       "    }\n",
       "\n",
       "    .dataframe tbody tr th {\n",
       "        vertical-align: top;\n",
       "    }\n",
       "\n",
       "    .dataframe thead th {\n",
       "        text-align: right;\n",
       "    }\n",
       "</style>\n",
       "<table border=\"1\" class=\"dataframe\">\n",
       "  <thead>\n",
       "    <tr style=\"text-align: right;\">\n",
       "      <th></th>\n",
       "      <th>Total Killed</th>\n",
       "      <th>Total Injured</th>\n",
       "      <th>Pedestrians Killed</th>\n",
       "      <th>Pedestrians Injured</th>\n",
       "      <th>Total Vehicles Involved</th>\n",
       "    </tr>\n",
       "    <tr>\n",
       "      <th>County Name</th>\n",
       "      <th></th>\n",
       "      <th></th>\n",
       "      <th></th>\n",
       "      <th></th>\n",
       "      <th></th>\n",
       "    </tr>\n",
       "  </thead>\n",
       "  <tbody>\n",
       "    <tr>\n",
       "      <th>ATLANTIC</th>\n",
       "      <td>117</td>\n",
       "      <td>13518</td>\n",
       "      <td>23</td>\n",
       "      <td>728</td>\n",
       "      <td>64147</td>\n",
       "    </tr>\n",
       "    <tr>\n",
       "      <th>BERGEN</th>\n",
       "      <td>101</td>\n",
       "      <td>31706</td>\n",
       "      <td>42</td>\n",
       "      <td>2136</td>\n",
       "      <td>215278</td>\n",
       "    </tr>\n",
       "    <tr>\n",
       "      <th>BURLINGTON</th>\n",
       "      <td>161</td>\n",
       "      <td>15285</td>\n",
       "      <td>28</td>\n",
       "      <td>398</td>\n",
       "      <td>81956</td>\n",
       "    </tr>\n",
       "    <tr>\n",
       "      <th>CAMDEN</th>\n",
       "      <td>173</td>\n",
       "      <td>24909</td>\n",
       "      <td>45</td>\n",
       "      <td>1102</td>\n",
       "      <td>122872</td>\n",
       "    </tr>\n",
       "    <tr>\n",
       "      <th>CAPE MAY</th>\n",
       "      <td>32</td>\n",
       "      <td>4206</td>\n",
       "      <td>1</td>\n",
       "      <td>172</td>\n",
       "      <td>23761</td>\n",
       "    </tr>\n",
       "    <tr>\n",
       "      <th>CUMBERLAND</th>\n",
       "      <td>99</td>\n",
       "      <td>7296</td>\n",
       "      <td>9</td>\n",
       "      <td>226</td>\n",
       "      <td>33571</td>\n",
       "    </tr>\n",
       "    <tr>\n",
       "      <th>ESSEX</th>\n",
       "      <td>170</td>\n",
       "      <td>39627</td>\n",
       "      <td>63</td>\n",
       "      <td>3511</td>\n",
       "      <td>216820</td>\n",
       "    </tr>\n",
       "    <tr>\n",
       "      <th>GLOUCESTER</th>\n",
       "      <td>102</td>\n",
       "      <td>11442</td>\n",
       "      <td>17</td>\n",
       "      <td>342</td>\n",
       "      <td>57627</td>\n",
       "    </tr>\n",
       "    <tr>\n",
       "      <th>HUDSON</th>\n",
       "      <td>87</td>\n",
       "      <td>19842</td>\n",
       "      <td>32</td>\n",
       "      <td>2675</td>\n",
       "      <td>154819</td>\n",
       "    </tr>\n",
       "    <tr>\n",
       "      <th>HUNTERDON</th>\n",
       "      <td>40</td>\n",
       "      <td>3997</td>\n",
       "      <td>9</td>\n",
       "      <td>59</td>\n",
       "      <td>27295</td>\n",
       "    </tr>\n",
       "    <tr>\n",
       "      <th>MERCER</th>\n",
       "      <td>85</td>\n",
       "      <td>15190</td>\n",
       "      <td>24</td>\n",
       "      <td>642</td>\n",
       "      <td>103554</td>\n",
       "    </tr>\n",
       "    <tr>\n",
       "      <th>MIDDLESEX</th>\n",
       "      <td>182</td>\n",
       "      <td>34548</td>\n",
       "      <td>53</td>\n",
       "      <td>1347</td>\n",
       "      <td>220625</td>\n",
       "    </tr>\n",
       "    <tr>\n",
       "      <th>MONMOUTH</th>\n",
       "      <td>131</td>\n",
       "      <td>18713</td>\n",
       "      <td>31</td>\n",
       "      <td>663</td>\n",
       "      <td>119327</td>\n",
       "    </tr>\n",
       "    <tr>\n",
       "      <th>MORRIS</th>\n",
       "      <td>72</td>\n",
       "      <td>12705</td>\n",
       "      <td>18</td>\n",
       "      <td>419</td>\n",
       "      <td>89798</td>\n",
       "    </tr>\n",
       "    <tr>\n",
       "      <th>OCEAN</th>\n",
       "      <td>160</td>\n",
       "      <td>17508</td>\n",
       "      <td>34</td>\n",
       "      <td>610</td>\n",
       "      <td>98809</td>\n",
       "    </tr>\n",
       "    <tr>\n",
       "      <th>PASSAIC</th>\n",
       "      <td>75</td>\n",
       "      <td>18293</td>\n",
       "      <td>23</td>\n",
       "      <td>1373</td>\n",
       "      <td>107298</td>\n",
       "    </tr>\n",
       "    <tr>\n",
       "      <th>SALEM</th>\n",
       "      <td>40</td>\n",
       "      <td>1973</td>\n",
       "      <td>1</td>\n",
       "      <td>42</td>\n",
       "      <td>8924</td>\n",
       "    </tr>\n",
       "    <tr>\n",
       "      <th>SOMERSET</th>\n",
       "      <td>60</td>\n",
       "      <td>9643</td>\n",
       "      <td>9</td>\n",
       "      <td>323</td>\n",
       "      <td>66864</td>\n",
       "    </tr>\n",
       "    <tr>\n",
       "      <th>SUSSEX</th>\n",
       "      <td>35</td>\n",
       "      <td>3679</td>\n",
       "      <td>1</td>\n",
       "      <td>79</td>\n",
       "      <td>20406</td>\n",
       "    </tr>\n",
       "    <tr>\n",
       "      <th>UNION</th>\n",
       "      <td>110</td>\n",
       "      <td>19700</td>\n",
       "      <td>42</td>\n",
       "      <td>1264</td>\n",
       "      <td>114766</td>\n",
       "    </tr>\n",
       "    <tr>\n",
       "      <th>WARREN</th>\n",
       "      <td>29</td>\n",
       "      <td>3324</td>\n",
       "      <td>4</td>\n",
       "      <td>83</td>\n",
       "      <td>18607</td>\n",
       "    </tr>\n",
       "  </tbody>\n",
       "</table>\n",
       "</div>"
      ],
      "text/plain": [
       "             Total Killed  Total Injured  Pedestrians Killed  \\\n",
       "County Name                                                    \n",
       "ATLANTIC              117          13518                  23   \n",
       "BERGEN                101          31706                  42   \n",
       "BURLINGTON            161          15285                  28   \n",
       "CAMDEN                173          24909                  45   \n",
       "CAPE MAY               32           4206                   1   \n",
       "CUMBERLAND             99           7296                   9   \n",
       "ESSEX                 170          39627                  63   \n",
       "GLOUCESTER            102          11442                  17   \n",
       "HUDSON                 87          19842                  32   \n",
       "HUNTERDON              40           3997                   9   \n",
       "MERCER                 85          15190                  24   \n",
       "MIDDLESEX             182          34548                  53   \n",
       "MONMOUTH              131          18713                  31   \n",
       "MORRIS                 72          12705                  18   \n",
       "OCEAN                 160          17508                  34   \n",
       "PASSAIC                75          18293                  23   \n",
       "SALEM                  40           1973                   1   \n",
       "SOMERSET               60           9643                   9   \n",
       "SUSSEX                 35           3679                   1   \n",
       "UNION                 110          19700                  42   \n",
       "WARREN                 29           3324                   4   \n",
       "\n",
       "             Pedestrians Injured  Total Vehicles Involved  \n",
       "County Name                                                \n",
       "ATLANTIC                     728                    64147  \n",
       "BERGEN                      2136                   215278  \n",
       "BURLINGTON                   398                    81956  \n",
       "CAMDEN                      1102                   122872  \n",
       "CAPE MAY                     172                    23761  \n",
       "CUMBERLAND                   226                    33571  \n",
       "ESSEX                       3511                   216820  \n",
       "GLOUCESTER                   342                    57627  \n",
       "HUDSON                      2675                   154819  \n",
       "HUNTERDON                     59                    27295  \n",
       "MERCER                       642                   103554  \n",
       "MIDDLESEX                   1347                   220625  \n",
       "MONMOUTH                     663                   119327  \n",
       "MORRIS                       419                    89798  \n",
       "OCEAN                        610                    98809  \n",
       "PASSAIC                     1373                   107298  \n",
       "SALEM                         42                     8924  \n",
       "SOMERSET                     323                    66864  \n",
       "SUSSEX                        79                    20406  \n",
       "UNION                       1264                   114766  \n",
       "WARREN                        83                    18607  "
      ]
     },
     "execution_count": 27,
     "metadata": {},
     "output_type": "execute_result"
    }
   ],
   "source": [
    "county_crash = crash_info.groupby(\"County Name\").sum()\n",
    "county_crash"
   ]
  },
  {
   "cell_type": "markdown",
   "metadata": {},
   "source": [
    "> Well, that's grim. \n",
    "\n",
    "> Let's just take out the `Total Killed` column using `iloc` which asks what data we should slice by putting an integer based on its position. \n",
    "\n",
    "> The first value represents the rows and is separated by comma from the second value which represents the columns. \n",
    "\n",
    "> Therefore, if we want all of the rows, we put a colon. We then seperate using a comma. Then, because `Total Killed` is the first column, we can slice it by putting in a zero. \n",
    "\n",
    "> We will also sort it by using `sort_values` and adding the option `ascending=False` because we want the values to descend. \n",
    "\n",
    "> Let's make it into a new dataframe called county_death."
   ]
  },
  {
   "cell_type": "code",
   "execution_count": 28,
   "metadata": {},
   "outputs": [
    {
     "data": {
      "text/plain": [
       "County Name\n",
       "MIDDLESEX     182\n",
       "CAMDEN        173\n",
       "ESSEX         170\n",
       "BURLINGTON    161\n",
       "OCEAN         160\n",
       "MONMOUTH      131\n",
       "ATLANTIC      117\n",
       "UNION         110\n",
       "GLOUCESTER    102\n",
       "BERGEN        101\n",
       "CUMBERLAND     99\n",
       "HUDSON         87\n",
       "MERCER         85\n",
       "PASSAIC        75\n",
       "MORRIS         72\n",
       "SOMERSET       60\n",
       "HUNTERDON      40\n",
       "SALEM          40\n",
       "SUSSEX         35\n",
       "CAPE MAY       32\n",
       "WARREN         29\n",
       "Name: Total Killed, dtype: int64"
      ]
     },
     "execution_count": 28,
     "metadata": {},
     "output_type": "execute_result"
    }
   ],
   "source": [
    "county_death = crash_info.groupby(\"County Name\").sum().iloc[:,0].sort_values(ascending = False)\n",
    "county_death"
   ]
  },
  {
   "cell_type": "markdown",
   "metadata": {},
   "source": [
    "> What would be the `type` of `county_death`?"
   ]
  },
  {
   "cell_type": "code",
   "execution_count": 29,
   "metadata": {},
   "outputs": [
    {
     "data": {
      "text/plain": [
       "pandas.core.series.Series"
      ]
     },
     "execution_count": 29,
     "metadata": {},
     "output_type": "execute_result"
    }
   ],
   "source": [
    "type(county_death)"
   ]
  },
  {
   "cell_type": "markdown",
   "metadata": {},
   "source": [
    "# Let's make `county_death` into a dataframe."
   ]
  },
  {
   "cell_type": "code",
   "execution_count": 30,
   "metadata": {},
   "outputs": [
    {
     "data": {
      "text/html": [
       "<div>\n",
       "<style scoped>\n",
       "    .dataframe tbody tr th:only-of-type {\n",
       "        vertical-align: middle;\n",
       "    }\n",
       "\n",
       "    .dataframe tbody tr th {\n",
       "        vertical-align: top;\n",
       "    }\n",
       "\n",
       "    .dataframe thead th {\n",
       "        text-align: right;\n",
       "    }\n",
       "</style>\n",
       "<table border=\"1\" class=\"dataframe\">\n",
       "  <thead>\n",
       "    <tr style=\"text-align: right;\">\n",
       "      <th></th>\n",
       "      <th>Total Killed</th>\n",
       "    </tr>\n",
       "    <tr>\n",
       "      <th>County Name</th>\n",
       "      <th></th>\n",
       "    </tr>\n",
       "  </thead>\n",
       "  <tbody>\n",
       "    <tr>\n",
       "      <th>MIDDLESEX</th>\n",
       "      <td>182</td>\n",
       "    </tr>\n",
       "    <tr>\n",
       "      <th>CAMDEN</th>\n",
       "      <td>173</td>\n",
       "    </tr>\n",
       "    <tr>\n",
       "      <th>ESSEX</th>\n",
       "      <td>170</td>\n",
       "    </tr>\n",
       "    <tr>\n",
       "      <th>BURLINGTON</th>\n",
       "      <td>161</td>\n",
       "    </tr>\n",
       "    <tr>\n",
       "      <th>OCEAN</th>\n",
       "      <td>160</td>\n",
       "    </tr>\n",
       "    <tr>\n",
       "      <th>MONMOUTH</th>\n",
       "      <td>131</td>\n",
       "    </tr>\n",
       "    <tr>\n",
       "      <th>ATLANTIC</th>\n",
       "      <td>117</td>\n",
       "    </tr>\n",
       "    <tr>\n",
       "      <th>UNION</th>\n",
       "      <td>110</td>\n",
       "    </tr>\n",
       "    <tr>\n",
       "      <th>GLOUCESTER</th>\n",
       "      <td>102</td>\n",
       "    </tr>\n",
       "    <tr>\n",
       "      <th>BERGEN</th>\n",
       "      <td>101</td>\n",
       "    </tr>\n",
       "    <tr>\n",
       "      <th>CUMBERLAND</th>\n",
       "      <td>99</td>\n",
       "    </tr>\n",
       "    <tr>\n",
       "      <th>HUDSON</th>\n",
       "      <td>87</td>\n",
       "    </tr>\n",
       "    <tr>\n",
       "      <th>MERCER</th>\n",
       "      <td>85</td>\n",
       "    </tr>\n",
       "    <tr>\n",
       "      <th>PASSAIC</th>\n",
       "      <td>75</td>\n",
       "    </tr>\n",
       "    <tr>\n",
       "      <th>MORRIS</th>\n",
       "      <td>72</td>\n",
       "    </tr>\n",
       "    <tr>\n",
       "      <th>SOMERSET</th>\n",
       "      <td>60</td>\n",
       "    </tr>\n",
       "    <tr>\n",
       "      <th>HUNTERDON</th>\n",
       "      <td>40</td>\n",
       "    </tr>\n",
       "    <tr>\n",
       "      <th>SALEM</th>\n",
       "      <td>40</td>\n",
       "    </tr>\n",
       "    <tr>\n",
       "      <th>SUSSEX</th>\n",
       "      <td>35</td>\n",
       "    </tr>\n",
       "    <tr>\n",
       "      <th>CAPE MAY</th>\n",
       "      <td>32</td>\n",
       "    </tr>\n",
       "    <tr>\n",
       "      <th>WARREN</th>\n",
       "      <td>29</td>\n",
       "    </tr>\n",
       "  </tbody>\n",
       "</table>\n",
       "</div>"
      ],
      "text/plain": [
       "             Total Killed\n",
       "County Name              \n",
       "MIDDLESEX             182\n",
       "CAMDEN                173\n",
       "ESSEX                 170\n",
       "BURLINGTON            161\n",
       "OCEAN                 160\n",
       "MONMOUTH              131\n",
       "ATLANTIC              117\n",
       "UNION                 110\n",
       "GLOUCESTER            102\n",
       "BERGEN                101\n",
       "CUMBERLAND             99\n",
       "HUDSON                 87\n",
       "MERCER                 85\n",
       "PASSAIC                75\n",
       "MORRIS                 72\n",
       "SOMERSET               60\n",
       "HUNTERDON              40\n",
       "SALEM                  40\n",
       "SUSSEX                 35\n",
       "CAPE MAY               32\n",
       "WARREN                 29"
      ]
     },
     "execution_count": 30,
     "metadata": {},
     "output_type": "execute_result"
    }
   ],
   "source": [
    "pd.DataFrame(county_death)"
   ]
  },
  {
   "cell_type": "markdown",
   "metadata": {},
   "source": [
    "### What about dates?"
   ]
  },
  {
   "cell_type": "code",
   "execution_count": 31,
   "metadata": {
    "scrolled": false
   },
   "outputs": [
    {
     "data": {
      "text/plain": [
       "County Name                object\n",
       "Municipality Name          object\n",
       "Crash Date                 object\n",
       "Crash Day Of Week          object\n",
       "Crash Time                 object\n",
       "Total Killed                int64\n",
       "Total Injured               int64\n",
       "Pedestrians Killed          int64\n",
       "Pedestrians Injured         int64\n",
       "Total Vehicles Involved     int64\n",
       "Alcohol Involved           object\n",
       "Cell Phone In Use Flag     object\n",
       "dtype: object"
      ]
     },
     "execution_count": 31,
     "metadata": {},
     "output_type": "execute_result"
    }
   ],
   "source": [
    "crash_info.dtypes"
   ]
  },
  {
   "cell_type": "code",
   "execution_count": 32,
   "metadata": {},
   "outputs": [
    {
     "data": {
      "text/html": [
       "<div>\n",
       "<style scoped>\n",
       "    .dataframe tbody tr th:only-of-type {\n",
       "        vertical-align: middle;\n",
       "    }\n",
       "\n",
       "    .dataframe tbody tr th {\n",
       "        vertical-align: top;\n",
       "    }\n",
       "\n",
       "    .dataframe thead th {\n",
       "        text-align: right;\n",
       "    }\n",
       "</style>\n",
       "<table border=\"1\" class=\"dataframe\">\n",
       "  <thead>\n",
       "    <tr style=\"text-align: right;\">\n",
       "      <th></th>\n",
       "      <th>County Name</th>\n",
       "      <th>Municipality Name</th>\n",
       "      <th>Crash Date</th>\n",
       "      <th>Crash Day Of Week</th>\n",
       "      <th>Crash Time</th>\n",
       "      <th>Total Killed</th>\n",
       "      <th>Total Injured</th>\n",
       "      <th>Pedestrians Killed</th>\n",
       "      <th>Pedestrians Injured</th>\n",
       "      <th>Total Vehicles Involved</th>\n",
       "      <th>Alcohol Involved</th>\n",
       "      <th>Cell Phone In Use Flag</th>\n",
       "    </tr>\n",
       "  </thead>\n",
       "  <tbody>\n",
       "    <tr>\n",
       "      <th>282356</th>\n",
       "      <td>UNION</td>\n",
       "      <td>ELIZABETH CITY</td>\n",
       "      <td>10/18/08</td>\n",
       "      <td>SA</td>\n",
       "      <td>608</td>\n",
       "      <td>0</td>\n",
       "      <td>0</td>\n",
       "      <td>0</td>\n",
       "      <td>0</td>\n",
       "      <td>2</td>\n",
       "      <td>N</td>\n",
       "      <td>N</td>\n",
       "    </tr>\n",
       "    <tr>\n",
       "      <th>144993</th>\n",
       "      <td>MERCER</td>\n",
       "      <td>EWING TWP</td>\n",
       "      <td>8/31/08</td>\n",
       "      <td>S</td>\n",
       "      <td>1422</td>\n",
       "      <td>0</td>\n",
       "      <td>0</td>\n",
       "      <td>0</td>\n",
       "      <td>0</td>\n",
       "      <td>2</td>\n",
       "      <td>N</td>\n",
       "      <td>N</td>\n",
       "    </tr>\n",
       "    <tr>\n",
       "      <th>128774</th>\n",
       "      <td>HUDSON</td>\n",
       "      <td>JERSEY CITY</td>\n",
       "      <td>12/31/08</td>\n",
       "      <td>W</td>\n",
       "      <td>1128</td>\n",
       "      <td>0</td>\n",
       "      <td>1</td>\n",
       "      <td>0</td>\n",
       "      <td>1</td>\n",
       "      <td>1</td>\n",
       "      <td>N</td>\n",
       "      <td>N</td>\n",
       "    </tr>\n",
       "    <tr>\n",
       "      <th>1020142</th>\n",
       "      <td>MERCER</td>\n",
       "      <td>TRENTON CITY</td>\n",
       "      <td>5/5/11</td>\n",
       "      <td>TH</td>\n",
       "      <td>1222</td>\n",
       "      <td>0</td>\n",
       "      <td>0</td>\n",
       "      <td>0</td>\n",
       "      <td>0</td>\n",
       "      <td>2</td>\n",
       "      <td>N</td>\n",
       "      <td>N</td>\n",
       "    </tr>\n",
       "  </tbody>\n",
       "</table>\n",
       "</div>"
      ],
      "text/plain": [
       "        County Name         Municipality Name Crash Date Crash Day Of Week  \\\n",
       "282356        UNION  ELIZABETH CITY             10/18/08                SA   \n",
       "144993       MERCER  EWING TWP                   8/31/08                S    \n",
       "128774       HUDSON  JERSEY CITY                12/31/08                W    \n",
       "1020142      MERCER  TRENTON CITY                 5/5/11                TH   \n",
       "\n",
       "        Crash Time  Total Killed  Total Injured  Pedestrians Killed  \\\n",
       "282356         608             0              0                   0   \n",
       "144993        1422             0              0                   0   \n",
       "128774        1128             0              1                   0   \n",
       "1020142       1222             0              0                   0   \n",
       "\n",
       "         Pedestrians Injured  Total Vehicles Involved Alcohol Involved  \\\n",
       "282356                     0                        2                N   \n",
       "144993                     0                        2                N   \n",
       "128774                     1                        1                N   \n",
       "1020142                    0                        2                N   \n",
       "\n",
       "        Cell Phone In Use Flag  \n",
       "282356                       N  \n",
       "144993                       N  \n",
       "128774                       N  \n",
       "1020142                      N  "
      ]
     },
     "execution_count": 32,
     "metadata": {},
     "output_type": "execute_result"
    }
   ],
   "source": [
    "crash_info.sample(4)"
   ]
  },
  {
   "cell_type": "markdown",
   "metadata": {},
   "source": [
    "> You may have noticed that the dates on the `Crash Date` are strings and not Python date objects. \n",
    "\n",
    "> This will be inconvenient because if you sort them you'll get '01/01/2008, 01/01/2009, 01/01/2010' etc. \n",
    "\n",
    "> We want them to sort by date correctly, and in order to do that, we need to turn them into the Python date format.\n",
    "\n",
    "> ***We will need to `import datetime` first.*** "
   ]
  },
  {
   "cell_type": "code",
   "execution_count": 33,
   "metadata": {},
   "outputs": [],
   "source": [
    "from datetime import datetime "
   ]
  },
  {
   "cell_type": "markdown",
   "metadata": {},
   "source": [
    "> Then we will use `apply()` along with the `lambda` function to turn every string in that column into the format \"%m/%d/%Y\"."
   ]
  },
  {
   "cell_type": "code",
   "execution_count": 34,
   "metadata": {},
   "outputs": [
    {
     "name": "stderr",
     "output_type": "stream",
     "text": [
      "<ipython-input-34-211e59c3d91c>:1: SettingWithCopyWarning: \n",
      "A value is trying to be set on a copy of a slice from a DataFrame.\n",
      "Try using .loc[row_indexer,col_indexer] = value instead\n",
      "\n",
      "See the caveats in the documentation: https://pandas.pydata.org/pandas-docs/stable/user_guide/indexing.html#returning-a-view-versus-a-copy\n",
      "  crash_info[\"Crash Date\"] = crash_info[\"Crash Date\"].apply(lambda x: datetime.strptime(x, \"%m/%d/%y\").date())\n"
     ]
    }
   ],
   "source": [
    "crash_info[\"Crash Date\"] = crash_info[\"Crash Date\"].apply(lambda x: datetime.strptime(x, \"%m/%d/%y\").date())"
   ]
  },
  {
   "cell_type": "markdown",
   "metadata": {},
   "source": [
    "> Now we're ready to `groupby()` the `Crash Date` column every date in our dataframe and count how many accidents happened every day. \n",
    "\n",
    "> And then we will slice the first column which is how many crashes happened each day using iloc. (Colon for all rows, comma, then 0 for the first column)"
   ]
  },
  {
   "cell_type": "code",
   "execution_count": 35,
   "metadata": {},
   "outputs": [
    {
     "data": {
      "text/plain": [
       "0          2008-03-04\n",
       "1          2008-12-19\n",
       "2          2008-11-25\n",
       "3          2008-03-31\n",
       "4          2008-01-25\n",
       "              ...    \n",
       "1048570    2011-07-21\n",
       "1048571    2011-07-21\n",
       "1048572    2011-07-21\n",
       "1048573    2011-07-22\n",
       "1048574    2011-07-22\n",
       "Name: Crash Date, Length: 1048575, dtype: object"
      ]
     },
     "execution_count": 35,
     "metadata": {},
     "output_type": "execute_result"
    }
   ],
   "source": [
    "crash_info[\"Crash Date\"]"
   ]
  },
  {
   "cell_type": "code",
   "execution_count": 36,
   "metadata": {},
   "outputs": [
    {
     "data": {
      "text/plain": [
       "Crash Date\n",
       "2008-01-01    575\n",
       "2008-01-02    716\n",
       "2008-01-03    830\n",
       "2008-01-04    906\n",
       "2008-01-05    674\n",
       "             ... \n",
       "2011-12-27    589\n",
       "2011-12-28    369\n",
       "2011-12-29    429\n",
       "2011-12-30    483\n",
       "2011-12-31    335\n",
       "Name: County Name, Length: 1461, dtype: int64"
      ]
     },
     "execution_count": 36,
     "metadata": {},
     "output_type": "execute_result"
    }
   ],
   "source": [
    "crash_date = crash_info.groupby(\"Crash Date\").count().iloc[:,0]\n",
    "crash_date"
   ]
  },
  {
   "cell_type": "markdown",
   "metadata": {},
   "source": [
    "> Now let's sort."
   ]
  },
  {
   "cell_type": "code",
   "execution_count": 37,
   "metadata": {},
   "outputs": [
    {
     "data": {
      "text/plain": [
       "Crash Date\n",
       "2008-02-12    3050\n",
       "2010-01-28    2180\n",
       "2010-12-26    2017\n",
       "2008-12-19    1995\n",
       "2008-02-22    1893\n",
       "              ... \n",
       "2011-09-11     264\n",
       "2011-02-27     260\n",
       "2011-03-13     241\n",
       "2011-12-25     207\n",
       "2011-08-28     195\n",
       "Name: County Name, Length: 1461, dtype: int64"
      ]
     },
     "execution_count": 37,
     "metadata": {},
     "output_type": "execute_result"
    }
   ],
   "source": [
    "crash_date.sort_values(ascending = False)"
   ]
  },
  {
   "cell_type": "markdown",
   "metadata": {},
   "source": [
    "Looks like on [February 12, 2008 was a busy day for New Jersey](https://www.weather.gov/media/phi/StormReports/February12-132008.pdf) with 3,050 accidents reported to happen that day."
   ]
  },
  {
   "cell_type": "markdown",
   "metadata": {},
   "source": [
    "> Let's now save the following dataframes into csv."
   ]
  },
  {
   "cell_type": "code",
   "execution_count": 38,
   "metadata": {},
   "outputs": [],
   "source": [
    "crash_date.to_csv(\"line_chart.csv\")\n",
    "county_death.to_csv(\"bar_plot.csv\")\n",
    "county_crash.to_csv(\"scatter_with_regression_line.csv\")"
   ]
  },
  {
   "cell_type": "code",
   "execution_count": 39,
   "metadata": {},
   "outputs": [],
   "source": [
    "bar = pd.read_csv(\"bar_plot.csv\")\n",
    "scatter_reg = pd.read_csv(\"scatter_with_regression_line.csv\")\n",
    "line = pd.read_csv(\"line_chart.csv\")"
   ]
  },
  {
   "cell_type": "markdown",
   "metadata": {},
   "source": [
    "> Another great feature of using python analysis in the Jupyter notebook is the ability to visualize the data using the [Bokeh visualization library](http://bokeh.pydata.org/en/latest/). \n",
    "\n",
    "> We won't go into great detail on the step-by-step process of creating beautiful graphics in your notebook, but you can see what's possible below. \n",
    "\n",
    "> You can read more documentation on Bokeh [here](http://bokeh.pydata.org/en/latest/docs/user_guide.html#userguide)"
   ]
  },
  {
   "cell_type": "code",
   "execution_count": 40,
   "metadata": {},
   "outputs": [
    {
     "name": "stdout",
     "output_type": "stream",
     "text": [
      "Looking in indexes: https://pypi.tuna.tsinghua.edu.cn/simple\n",
      "Requirement already satisfied: bokeh in d:\\360downloads\\anaconda-2021.08\\lib\\site-packages (2.3.2)\n",
      "Requirement already satisfied: PyYAML>=3.10 in d:\\360downloads\\anaconda-2021.08\\lib\\site-packages (from bokeh) (5.4.1)\n",
      "Requirement already satisfied: numpy>=1.11.3 in d:\\360downloads\\anaconda-2021.08\\lib\\site-packages (from bokeh) (1.20.1)\n",
      "Requirement already satisfied: pillow>=7.1.0 in d:\\360downloads\\anaconda-2021.08\\lib\\site-packages (from bokeh) (8.2.0)\n",
      "Requirement already satisfied: tornado>=5.1 in d:\\360downloads\\anaconda-2021.08\\lib\\site-packages (from bokeh) (6.1)\n",
      "Requirement already satisfied: packaging>=16.8 in d:\\360downloads\\anaconda-2021.08\\lib\\site-packages (from bokeh) (20.9)\n",
      "Requirement already satisfied: Jinja2>=2.9 in d:\\360downloads\\anaconda-2021.08\\lib\\site-packages (from bokeh) (2.11.3)\n",
      "Requirement already satisfied: typing-extensions>=3.7.4 in d:\\360downloads\\anaconda-2021.08\\lib\\site-packages (from bokeh) (3.7.4.3)\n",
      "Requirement already satisfied: python-dateutil>=2.1 in d:\\360downloads\\anaconda-2021.08\\lib\\site-packages (from bokeh) (2.8.1)\n",
      "Requirement already satisfied: MarkupSafe>=0.23 in d:\\360downloads\\anaconda-2021.08\\lib\\site-packages (from Jinja2>=2.9->bokeh) (1.1.1)\n",
      "Requirement already satisfied: pyparsing>=2.0.2 in d:\\360downloads\\anaconda-2021.08\\lib\\site-packages (from packaging>=16.8->bokeh) (2.4.7)\n",
      "Requirement already satisfied: six>=1.5 in d:\\360downloads\\anaconda-2021.08\\lib\\site-packages (from python-dateutil>=2.1->bokeh) (1.15.0)\n",
      "Note: you may need to restart the kernel to use updated packages.\n"
     ]
    }
   ],
   "source": [
    "%pip install bokeh"
   ]
  },
  {
   "cell_type": "code",
   "execution_count": 41,
   "metadata": {},
   "outputs": [],
   "source": [
    "# bokeh for interactivity\n",
    "# seaborn for performing statistical modelling information\n",
    "\n",
    "from bokeh.plotting import output_file, output_notebook, show, figure\n",
    "from bokeh.models import HoverTool"
   ]
  },
  {
   "cell_type": "markdown",
   "metadata": {},
   "source": [
    "#### Let's upload the datasets we'll use which we created above."
   ]
  },
  {
   "cell_type": "code",
   "execution_count": 42,
   "metadata": {
    "scrolled": true
   },
   "outputs": [
    {
     "data": {
      "text/html": [
       "<div>\n",
       "<style scoped>\n",
       "    .dataframe tbody tr th:only-of-type {\n",
       "        vertical-align: middle;\n",
       "    }\n",
       "\n",
       "    .dataframe tbody tr th {\n",
       "        vertical-align: top;\n",
       "    }\n",
       "\n",
       "    .dataframe thead th {\n",
       "        text-align: right;\n",
       "    }\n",
       "</style>\n",
       "<table border=\"1\" class=\"dataframe\">\n",
       "  <thead>\n",
       "    <tr style=\"text-align: right;\">\n",
       "      <th></th>\n",
       "      <th>County Name</th>\n",
       "      <th>Total Killed</th>\n",
       "    </tr>\n",
       "  </thead>\n",
       "  <tbody>\n",
       "    <tr>\n",
       "      <th>0</th>\n",
       "      <td>MIDDLESEX</td>\n",
       "      <td>182</td>\n",
       "    </tr>\n",
       "    <tr>\n",
       "      <th>1</th>\n",
       "      <td>CAMDEN</td>\n",
       "      <td>173</td>\n",
       "    </tr>\n",
       "    <tr>\n",
       "      <th>2</th>\n",
       "      <td>ESSEX</td>\n",
       "      <td>170</td>\n",
       "    </tr>\n",
       "    <tr>\n",
       "      <th>3</th>\n",
       "      <td>BURLINGTON</td>\n",
       "      <td>161</td>\n",
       "    </tr>\n",
       "    <tr>\n",
       "      <th>4</th>\n",
       "      <td>OCEAN</td>\n",
       "      <td>160</td>\n",
       "    </tr>\n",
       "    <tr>\n",
       "      <th>5</th>\n",
       "      <td>MONMOUTH</td>\n",
       "      <td>131</td>\n",
       "    </tr>\n",
       "    <tr>\n",
       "      <th>6</th>\n",
       "      <td>ATLANTIC</td>\n",
       "      <td>117</td>\n",
       "    </tr>\n",
       "    <tr>\n",
       "      <th>7</th>\n",
       "      <td>UNION</td>\n",
       "      <td>110</td>\n",
       "    </tr>\n",
       "    <tr>\n",
       "      <th>8</th>\n",
       "      <td>GLOUCESTER</td>\n",
       "      <td>102</td>\n",
       "    </tr>\n",
       "    <tr>\n",
       "      <th>9</th>\n",
       "      <td>BERGEN</td>\n",
       "      <td>101</td>\n",
       "    </tr>\n",
       "    <tr>\n",
       "      <th>10</th>\n",
       "      <td>CUMBERLAND</td>\n",
       "      <td>99</td>\n",
       "    </tr>\n",
       "    <tr>\n",
       "      <th>11</th>\n",
       "      <td>HUDSON</td>\n",
       "      <td>87</td>\n",
       "    </tr>\n",
       "    <tr>\n",
       "      <th>12</th>\n",
       "      <td>MERCER</td>\n",
       "      <td>85</td>\n",
       "    </tr>\n",
       "    <tr>\n",
       "      <th>13</th>\n",
       "      <td>PASSAIC</td>\n",
       "      <td>75</td>\n",
       "    </tr>\n",
       "    <tr>\n",
       "      <th>14</th>\n",
       "      <td>MORRIS</td>\n",
       "      <td>72</td>\n",
       "    </tr>\n",
       "    <tr>\n",
       "      <th>15</th>\n",
       "      <td>SOMERSET</td>\n",
       "      <td>60</td>\n",
       "    </tr>\n",
       "    <tr>\n",
       "      <th>16</th>\n",
       "      <td>HUNTERDON</td>\n",
       "      <td>40</td>\n",
       "    </tr>\n",
       "    <tr>\n",
       "      <th>17</th>\n",
       "      <td>SALEM</td>\n",
       "      <td>40</td>\n",
       "    </tr>\n",
       "    <tr>\n",
       "      <th>18</th>\n",
       "      <td>SUSSEX</td>\n",
       "      <td>35</td>\n",
       "    </tr>\n",
       "    <tr>\n",
       "      <th>19</th>\n",
       "      <td>CAPE MAY</td>\n",
       "      <td>32</td>\n",
       "    </tr>\n",
       "    <tr>\n",
       "      <th>20</th>\n",
       "      <td>WARREN</td>\n",
       "      <td>29</td>\n",
       "    </tr>\n",
       "  </tbody>\n",
       "</table>\n",
       "</div>"
      ],
      "text/plain": [
       "   County Name  Total Killed\n",
       "0    MIDDLESEX           182\n",
       "1       CAMDEN           173\n",
       "2        ESSEX           170\n",
       "3   BURLINGTON           161\n",
       "4        OCEAN           160\n",
       "5     MONMOUTH           131\n",
       "6     ATLANTIC           117\n",
       "7        UNION           110\n",
       "8   GLOUCESTER           102\n",
       "9       BERGEN           101\n",
       "10  CUMBERLAND            99\n",
       "11      HUDSON            87\n",
       "12      MERCER            85\n",
       "13     PASSAIC            75\n",
       "14      MORRIS            72\n",
       "15    SOMERSET            60\n",
       "16   HUNTERDON            40\n",
       "17       SALEM            40\n",
       "18      SUSSEX            35\n",
       "19    CAPE MAY            32\n",
       "20      WARREN            29"
      ]
     },
     "execution_count": 42,
     "metadata": {},
     "output_type": "execute_result"
    }
   ],
   "source": [
    "bar"
   ]
  },
  {
   "cell_type": "markdown",
   "metadata": {},
   "source": [
    "### `Bar plot`"
   ]
  },
  {
   "cell_type": "markdown",
   "metadata": {},
   "source": [
    "> Let's have a look at `Total Killed` in **each county**"
   ]
  },
  {
   "cell_type": "code",
   "execution_count": 43,
   "metadata": {},
   "outputs": [
    {
     "data": {
      "text/html": [
       "\n",
       "    <div class=\"bk-root\">\n",
       "        <a href=\"https://bokeh.org\" target=\"_blank\" class=\"bk-logo bk-logo-small bk-logo-notebook\"></a>\n",
       "        <span id=\"1002\">Loading BokehJS ...</span>\n",
       "    </div>"
      ]
     },
     "metadata": {},
     "output_type": "display_data"
    },
    {
     "data": {
      "application/javascript": [
       "\n",
       "(function(root) {\n",
       "  function now() {\n",
       "    return new Date();\n",
       "  }\n",
       "\n",
       "  var force = true;\n",
       "\n",
       "  if (typeof root._bokeh_onload_callbacks === \"undefined\" || force === true) {\n",
       "    root._bokeh_onload_callbacks = [];\n",
       "    root._bokeh_is_loading = undefined;\n",
       "  }\n",
       "\n",
       "  var JS_MIME_TYPE = 'application/javascript';\n",
       "  var HTML_MIME_TYPE = 'text/html';\n",
       "  var EXEC_MIME_TYPE = 'application/vnd.bokehjs_exec.v0+json';\n",
       "  var CLASS_NAME = 'output_bokeh rendered_html';\n",
       "\n",
       "  /**\n",
       "   * Render data to the DOM node\n",
       "   */\n",
       "  function render(props, node) {\n",
       "    var script = document.createElement(\"script\");\n",
       "    node.appendChild(script);\n",
       "  }\n",
       "\n",
       "  /**\n",
       "   * Handle when an output is cleared or removed\n",
       "   */\n",
       "  function handleClearOutput(event, handle) {\n",
       "    var cell = handle.cell;\n",
       "\n",
       "    var id = cell.output_area._bokeh_element_id;\n",
       "    var server_id = cell.output_area._bokeh_server_id;\n",
       "    // Clean up Bokeh references\n",
       "    if (id != null && id in Bokeh.index) {\n",
       "      Bokeh.index[id].model.document.clear();\n",
       "      delete Bokeh.index[id];\n",
       "    }\n",
       "\n",
       "    if (server_id !== undefined) {\n",
       "      // Clean up Bokeh references\n",
       "      var cmd = \"from bokeh.io.state import curstate; print(curstate().uuid_to_server['\" + server_id + \"'].get_sessions()[0].document.roots[0]._id)\";\n",
       "      cell.notebook.kernel.execute(cmd, {\n",
       "        iopub: {\n",
       "          output: function(msg) {\n",
       "            var id = msg.content.text.trim();\n",
       "            if (id in Bokeh.index) {\n",
       "              Bokeh.index[id].model.document.clear();\n",
       "              delete Bokeh.index[id];\n",
       "            }\n",
       "          }\n",
       "        }\n",
       "      });\n",
       "      // Destroy server and session\n",
       "      var cmd = \"import bokeh.io.notebook as ion; ion.destroy_server('\" + server_id + \"')\";\n",
       "      cell.notebook.kernel.execute(cmd);\n",
       "    }\n",
       "  }\n",
       "\n",
       "  /**\n",
       "   * Handle when a new output is added\n",
       "   */\n",
       "  function handleAddOutput(event, handle) {\n",
       "    var output_area = handle.output_area;\n",
       "    var output = handle.output;\n",
       "\n",
       "    // limit handleAddOutput to display_data with EXEC_MIME_TYPE content only\n",
       "    if ((output.output_type != \"display_data\") || (!Object.prototype.hasOwnProperty.call(output.data, EXEC_MIME_TYPE))) {\n",
       "      return\n",
       "    }\n",
       "\n",
       "    var toinsert = output_area.element.find(\".\" + CLASS_NAME.split(' ')[0]);\n",
       "\n",
       "    if (output.metadata[EXEC_MIME_TYPE][\"id\"] !== undefined) {\n",
       "      toinsert[toinsert.length - 1].firstChild.textContent = output.data[JS_MIME_TYPE];\n",
       "      // store reference to embed id on output_area\n",
       "      output_area._bokeh_element_id = output.metadata[EXEC_MIME_TYPE][\"id\"];\n",
       "    }\n",
       "    if (output.metadata[EXEC_MIME_TYPE][\"server_id\"] !== undefined) {\n",
       "      var bk_div = document.createElement(\"div\");\n",
       "      bk_div.innerHTML = output.data[HTML_MIME_TYPE];\n",
       "      var script_attrs = bk_div.children[0].attributes;\n",
       "      for (var i = 0; i < script_attrs.length; i++) {\n",
       "        toinsert[toinsert.length - 1].firstChild.setAttribute(script_attrs[i].name, script_attrs[i].value);\n",
       "        toinsert[toinsert.length - 1].firstChild.textContent = bk_div.children[0].textContent\n",
       "      }\n",
       "      // store reference to server id on output_area\n",
       "      output_area._bokeh_server_id = output.metadata[EXEC_MIME_TYPE][\"server_id\"];\n",
       "    }\n",
       "  }\n",
       "\n",
       "  function register_renderer(events, OutputArea) {\n",
       "\n",
       "    function append_mime(data, metadata, element) {\n",
       "      // create a DOM node to render to\n",
       "      var toinsert = this.create_output_subarea(\n",
       "        metadata,\n",
       "        CLASS_NAME,\n",
       "        EXEC_MIME_TYPE\n",
       "      );\n",
       "      this.keyboard_manager.register_events(toinsert);\n",
       "      // Render to node\n",
       "      var props = {data: data, metadata: metadata[EXEC_MIME_TYPE]};\n",
       "      render(props, toinsert[toinsert.length - 1]);\n",
       "      element.append(toinsert);\n",
       "      return toinsert\n",
       "    }\n",
       "\n",
       "    /* Handle when an output is cleared or removed */\n",
       "    events.on('clear_output.CodeCell', handleClearOutput);\n",
       "    events.on('delete.Cell', handleClearOutput);\n",
       "\n",
       "    /* Handle when a new output is added */\n",
       "    events.on('output_added.OutputArea', handleAddOutput);\n",
       "\n",
       "    /**\n",
       "     * Register the mime type and append_mime function with output_area\n",
       "     */\n",
       "    OutputArea.prototype.register_mime_type(EXEC_MIME_TYPE, append_mime, {\n",
       "      /* Is output safe? */\n",
       "      safe: true,\n",
       "      /* Index of renderer in `output_area.display_order` */\n",
       "      index: 0\n",
       "    });\n",
       "  }\n",
       "\n",
       "  // register the mime type if in Jupyter Notebook environment and previously unregistered\n",
       "  if (root.Jupyter !== undefined) {\n",
       "    var events = require('base/js/events');\n",
       "    var OutputArea = require('notebook/js/outputarea').OutputArea;\n",
       "\n",
       "    if (OutputArea.prototype.mime_types().indexOf(EXEC_MIME_TYPE) == -1) {\n",
       "      register_renderer(events, OutputArea);\n",
       "    }\n",
       "  }\n",
       "\n",
       "  \n",
       "  if (typeof (root._bokeh_timeout) === \"undefined\" || force === true) {\n",
       "    root._bokeh_timeout = Date.now() + 5000;\n",
       "    root._bokeh_failed_load = false;\n",
       "  }\n",
       "\n",
       "  var NB_LOAD_WARNING = {'data': {'text/html':\n",
       "     \"<div style='background-color: #fdd'>\\n\"+\n",
       "     \"<p>\\n\"+\n",
       "     \"BokehJS does not appear to have successfully loaded. If loading BokehJS from CDN, this \\n\"+\n",
       "     \"may be due to a slow or bad network connection. Possible fixes:\\n\"+\n",
       "     \"</p>\\n\"+\n",
       "     \"<ul>\\n\"+\n",
       "     \"<li>re-rerun `output_notebook()` to attempt to load from CDN again, or</li>\\n\"+\n",
       "     \"<li>use INLINE resources instead, as so:</li>\\n\"+\n",
       "     \"</ul>\\n\"+\n",
       "     \"<code>\\n\"+\n",
       "     \"from bokeh.resources import INLINE\\n\"+\n",
       "     \"output_notebook(resources=INLINE)\\n\"+\n",
       "     \"</code>\\n\"+\n",
       "     \"</div>\"}};\n",
       "\n",
       "  function display_loaded() {\n",
       "    var el = document.getElementById(\"1002\");\n",
       "    if (el != null) {\n",
       "      el.textContent = \"BokehJS is loading...\";\n",
       "    }\n",
       "    if (root.Bokeh !== undefined) {\n",
       "      if (el != null) {\n",
       "        el.textContent = \"BokehJS \" + root.Bokeh.version + \" successfully loaded.\";\n",
       "      }\n",
       "    } else if (Date.now() < root._bokeh_timeout) {\n",
       "      setTimeout(display_loaded, 100)\n",
       "    }\n",
       "  }\n",
       "\n",
       "\n",
       "  function run_callbacks() {\n",
       "    try {\n",
       "      root._bokeh_onload_callbacks.forEach(function(callback) {\n",
       "        if (callback != null)\n",
       "          callback();\n",
       "      });\n",
       "    } finally {\n",
       "      delete root._bokeh_onload_callbacks\n",
       "    }\n",
       "    console.debug(\"Bokeh: all callbacks have finished\");\n",
       "  }\n",
       "\n",
       "  function load_libs(css_urls, js_urls, callback) {\n",
       "    if (css_urls == null) css_urls = [];\n",
       "    if (js_urls == null) js_urls = [];\n",
       "\n",
       "    root._bokeh_onload_callbacks.push(callback);\n",
       "    if (root._bokeh_is_loading > 0) {\n",
       "      console.debug(\"Bokeh: BokehJS is being loaded, scheduling callback at\", now());\n",
       "      return null;\n",
       "    }\n",
       "    if (js_urls == null || js_urls.length === 0) {\n",
       "      run_callbacks();\n",
       "      return null;\n",
       "    }\n",
       "    console.debug(\"Bokeh: BokehJS not loaded, scheduling load and callback at\", now());\n",
       "    root._bokeh_is_loading = css_urls.length + js_urls.length;\n",
       "\n",
       "    function on_load() {\n",
       "      root._bokeh_is_loading--;\n",
       "      if (root._bokeh_is_loading === 0) {\n",
       "        console.debug(\"Bokeh: all BokehJS libraries/stylesheets loaded\");\n",
       "        run_callbacks()\n",
       "      }\n",
       "    }\n",
       "\n",
       "    function on_error(url) {\n",
       "      console.error(\"failed to load \" + url);\n",
       "    }\n",
       "\n",
       "    for (let i = 0; i < css_urls.length; i++) {\n",
       "      const url = css_urls[i];\n",
       "      const element = document.createElement(\"link\");\n",
       "      element.onload = on_load;\n",
       "      element.onerror = on_error.bind(null, url);\n",
       "      element.rel = \"stylesheet\";\n",
       "      element.type = \"text/css\";\n",
       "      element.href = url;\n",
       "      console.debug(\"Bokeh: injecting link tag for BokehJS stylesheet: \", url);\n",
       "      document.body.appendChild(element);\n",
       "    }\n",
       "\n",
       "    const hashes = {\"https://cdn.bokeh.org/bokeh/release/bokeh-2.3.2.min.js\": \"XypntL49z55iwGVUW4qsEu83zKL3XEcz0MjuGOQ9SlaaQ68X/g+k1FcioZi7oQAc\", \"https://cdn.bokeh.org/bokeh/release/bokeh-tables-2.3.2.min.js\": \"bEsM86IHGDTLCS0Zod8a8WM6Y4+lafAL/eSiyQcuPzinmWNgNO2/olUF0Z2Dkn5i\", \"https://cdn.bokeh.org/bokeh/release/bokeh-widgets-2.3.2.min.js\": \"TX0gSQTdXTTeScqxj6PVQxTiRW8DOoGVwinyi1D3kxv7wuxQ02XkOxv0xwiypcAH\"};\n",
       "\n",
       "    for (let i = 0; i < js_urls.length; i++) {\n",
       "      const url = js_urls[i];\n",
       "      const element = document.createElement('script');\n",
       "      element.onload = on_load;\n",
       "      element.onerror = on_error.bind(null, url);\n",
       "      element.async = false;\n",
       "      element.src = url;\n",
       "      if (url in hashes) {\n",
       "        element.crossOrigin = \"anonymous\";\n",
       "        element.integrity = \"sha384-\" + hashes[url];\n",
       "      }\n",
       "      console.debug(\"Bokeh: injecting script tag for BokehJS library: \", url);\n",
       "      document.head.appendChild(element);\n",
       "    }\n",
       "  };\n",
       "\n",
       "  function inject_raw_css(css) {\n",
       "    const element = document.createElement(\"style\");\n",
       "    element.appendChild(document.createTextNode(css));\n",
       "    document.body.appendChild(element);\n",
       "  }\n",
       "\n",
       "  \n",
       "  var js_urls = [\"https://cdn.bokeh.org/bokeh/release/bokeh-2.3.2.min.js\", \"https://cdn.bokeh.org/bokeh/release/bokeh-widgets-2.3.2.min.js\", \"https://cdn.bokeh.org/bokeh/release/bokeh-tables-2.3.2.min.js\"];\n",
       "  var css_urls = [];\n",
       "  \n",
       "\n",
       "  var inline_js = [\n",
       "    function(Bokeh) {\n",
       "      Bokeh.set_log_level(\"info\");\n",
       "    },\n",
       "    function(Bokeh) {\n",
       "    \n",
       "    \n",
       "    }\n",
       "  ];\n",
       "\n",
       "  function run_inline_js() {\n",
       "    \n",
       "    if (root.Bokeh !== undefined || force === true) {\n",
       "      \n",
       "    for (var i = 0; i < inline_js.length; i++) {\n",
       "      inline_js[i].call(root, root.Bokeh);\n",
       "    }\n",
       "    if (force === true) {\n",
       "        display_loaded();\n",
       "      }} else if (Date.now() < root._bokeh_timeout) {\n",
       "      setTimeout(run_inline_js, 100);\n",
       "    } else if (!root._bokeh_failed_load) {\n",
       "      console.log(\"Bokeh: BokehJS failed to load within specified timeout.\");\n",
       "      root._bokeh_failed_load = true;\n",
       "    } else if (force !== true) {\n",
       "      var cell = $(document.getElementById(\"1002\")).parents('.cell').data().cell;\n",
       "      cell.output_area.append_execute_result(NB_LOAD_WARNING)\n",
       "    }\n",
       "\n",
       "  }\n",
       "\n",
       "  if (root._bokeh_is_loading === 0) {\n",
       "    console.debug(\"Bokeh: BokehJS loaded, going straight to plotting\");\n",
       "    run_inline_js();\n",
       "  } else {\n",
       "    load_libs(css_urls, js_urls, function() {\n",
       "      console.debug(\"Bokeh: BokehJS plotting callback run at\", now());\n",
       "      run_inline_js();\n",
       "    });\n",
       "  }\n",
       "}(window));"
      ],
      "application/vnd.bokehjs_load.v0+json": "\n(function(root) {\n  function now() {\n    return new Date();\n  }\n\n  var force = true;\n\n  if (typeof root._bokeh_onload_callbacks === \"undefined\" || force === true) {\n    root._bokeh_onload_callbacks = [];\n    root._bokeh_is_loading = undefined;\n  }\n\n  \n\n  \n  if (typeof (root._bokeh_timeout) === \"undefined\" || force === true) {\n    root._bokeh_timeout = Date.now() + 5000;\n    root._bokeh_failed_load = false;\n  }\n\n  var NB_LOAD_WARNING = {'data': {'text/html':\n     \"<div style='background-color: #fdd'>\\n\"+\n     \"<p>\\n\"+\n     \"BokehJS does not appear to have successfully loaded. If loading BokehJS from CDN, this \\n\"+\n     \"may be due to a slow or bad network connection. Possible fixes:\\n\"+\n     \"</p>\\n\"+\n     \"<ul>\\n\"+\n     \"<li>re-rerun `output_notebook()` to attempt to load from CDN again, or</li>\\n\"+\n     \"<li>use INLINE resources instead, as so:</li>\\n\"+\n     \"</ul>\\n\"+\n     \"<code>\\n\"+\n     \"from bokeh.resources import INLINE\\n\"+\n     \"output_notebook(resources=INLINE)\\n\"+\n     \"</code>\\n\"+\n     \"</div>\"}};\n\n  function display_loaded() {\n    var el = document.getElementById(\"1002\");\n    if (el != null) {\n      el.textContent = \"BokehJS is loading...\";\n    }\n    if (root.Bokeh !== undefined) {\n      if (el != null) {\n        el.textContent = \"BokehJS \" + root.Bokeh.version + \" successfully loaded.\";\n      }\n    } else if (Date.now() < root._bokeh_timeout) {\n      setTimeout(display_loaded, 100)\n    }\n  }\n\n\n  function run_callbacks() {\n    try {\n      root._bokeh_onload_callbacks.forEach(function(callback) {\n        if (callback != null)\n          callback();\n      });\n    } finally {\n      delete root._bokeh_onload_callbacks\n    }\n    console.debug(\"Bokeh: all callbacks have finished\");\n  }\n\n  function load_libs(css_urls, js_urls, callback) {\n    if (css_urls == null) css_urls = [];\n    if (js_urls == null) js_urls = [];\n\n    root._bokeh_onload_callbacks.push(callback);\n    if (root._bokeh_is_loading > 0) {\n      console.debug(\"Bokeh: BokehJS is being loaded, scheduling callback at\", now());\n      return null;\n    }\n    if (js_urls == null || js_urls.length === 0) {\n      run_callbacks();\n      return null;\n    }\n    console.debug(\"Bokeh: BokehJS not loaded, scheduling load and callback at\", now());\n    root._bokeh_is_loading = css_urls.length + js_urls.length;\n\n    function on_load() {\n      root._bokeh_is_loading--;\n      if (root._bokeh_is_loading === 0) {\n        console.debug(\"Bokeh: all BokehJS libraries/stylesheets loaded\");\n        run_callbacks()\n      }\n    }\n\n    function on_error(url) {\n      console.error(\"failed to load \" + url);\n    }\n\n    for (let i = 0; i < css_urls.length; i++) {\n      const url = css_urls[i];\n      const element = document.createElement(\"link\");\n      element.onload = on_load;\n      element.onerror = on_error.bind(null, url);\n      element.rel = \"stylesheet\";\n      element.type = \"text/css\";\n      element.href = url;\n      console.debug(\"Bokeh: injecting link tag for BokehJS stylesheet: \", url);\n      document.body.appendChild(element);\n    }\n\n    const hashes = {\"https://cdn.bokeh.org/bokeh/release/bokeh-2.3.2.min.js\": \"XypntL49z55iwGVUW4qsEu83zKL3XEcz0MjuGOQ9SlaaQ68X/g+k1FcioZi7oQAc\", \"https://cdn.bokeh.org/bokeh/release/bokeh-tables-2.3.2.min.js\": \"bEsM86IHGDTLCS0Zod8a8WM6Y4+lafAL/eSiyQcuPzinmWNgNO2/olUF0Z2Dkn5i\", \"https://cdn.bokeh.org/bokeh/release/bokeh-widgets-2.3.2.min.js\": \"TX0gSQTdXTTeScqxj6PVQxTiRW8DOoGVwinyi1D3kxv7wuxQ02XkOxv0xwiypcAH\"};\n\n    for (let i = 0; i < js_urls.length; i++) {\n      const url = js_urls[i];\n      const element = document.createElement('script');\n      element.onload = on_load;\n      element.onerror = on_error.bind(null, url);\n      element.async = false;\n      element.src = url;\n      if (url in hashes) {\n        element.crossOrigin = \"anonymous\";\n        element.integrity = \"sha384-\" + hashes[url];\n      }\n      console.debug(\"Bokeh: injecting script tag for BokehJS library: \", url);\n      document.head.appendChild(element);\n    }\n  };\n\n  function inject_raw_css(css) {\n    const element = document.createElement(\"style\");\n    element.appendChild(document.createTextNode(css));\n    document.body.appendChild(element);\n  }\n\n  \n  var js_urls = [\"https://cdn.bokeh.org/bokeh/release/bokeh-2.3.2.min.js\", \"https://cdn.bokeh.org/bokeh/release/bokeh-widgets-2.3.2.min.js\", \"https://cdn.bokeh.org/bokeh/release/bokeh-tables-2.3.2.min.js\"];\n  var css_urls = [];\n  \n\n  var inline_js = [\n    function(Bokeh) {\n      Bokeh.set_log_level(\"info\");\n    },\n    function(Bokeh) {\n    \n    \n    }\n  ];\n\n  function run_inline_js() {\n    \n    if (root.Bokeh !== undefined || force === true) {\n      \n    for (var i = 0; i < inline_js.length; i++) {\n      inline_js[i].call(root, root.Bokeh);\n    }\n    if (force === true) {\n        display_loaded();\n      }} else if (Date.now() < root._bokeh_timeout) {\n      setTimeout(run_inline_js, 100);\n    } else if (!root._bokeh_failed_load) {\n      console.log(\"Bokeh: BokehJS failed to load within specified timeout.\");\n      root._bokeh_failed_load = true;\n    } else if (force !== true) {\n      var cell = $(document.getElementById(\"1002\")).parents('.cell').data().cell;\n      cell.output_area.append_execute_result(NB_LOAD_WARNING)\n    }\n\n  }\n\n  if (root._bokeh_is_loading === 0) {\n    console.debug(\"Bokeh: BokehJS loaded, going straight to plotting\");\n    run_inline_js();\n  } else {\n    load_libs(css_urls, js_urls, function() {\n      console.debug(\"Bokeh: BokehJS plotting callback run at\", now());\n      run_inline_js();\n    });\n  }\n}(window));"
     },
     "metadata": {},
     "output_type": "display_data"
    },
    {
     "data": {
      "text/html": [
       "\n",
       "\n",
       "\n",
       "\n",
       "\n",
       "\n",
       "  <div class=\"bk-root\" id=\"0146308e-0acb-40a0-84b0-fe4a81b8036a\" data-root-id=\"1003\"></div>\n"
      ]
     },
     "metadata": {},
     "output_type": "display_data"
    },
    {
     "data": {
      "application/javascript": [
       "(function(root) {\n",
       "  function embed_document(root) {\n",
       "    \n",
       "  var docs_json = {\"a6bacbff-ea95-4883-aae0-fbf25cef206c\":{\"defs\":[],\"roots\":{\"references\":[{\"attributes\":{\"below\":[{\"id\":\"1014\"}],\"center\":[{\"id\":\"1016\"},{\"id\":\"1020\"}],\"height\":400,\"left\":[{\"id\":\"1017\"}],\"renderers\":[{\"id\":\"1026\"}],\"title\":{\"id\":\"1004\"},\"toolbar\":{\"id\":\"1021\"},\"toolbar_location\":null,\"width\":500,\"x_range\":{\"id\":\"1006\"},\"x_scale\":{\"id\":\"1010\"},\"y_range\":{\"id\":\"1008\"},\"y_scale\":{\"id\":\"1012\"}},\"id\":\"1003\",\"subtype\":\"Figure\",\"type\":\"Plot\"},{\"attributes\":{\"fill_color\":{\"value\":\"#1f77b4\"},\"line_color\":{\"value\":\"#1f77b4\"},\"top\":{\"field\":\"Total Killed\"},\"width\":{\"value\":0.75},\"x\":{\"field\":\"County Name\"}},\"id\":\"1024\",\"type\":\"VBar\"},{\"attributes\":{},\"id\":\"1029\",\"type\":\"BasicTickFormatter\"},{\"attributes\":{\"start\":0},\"id\":\"1008\",\"type\":\"DataRange1d\"},{\"attributes\":{},\"id\":\"1015\",\"type\":\"CategoricalTicker\"},{\"attributes\":{},\"id\":\"1030\",\"type\":\"AllLabels\"},{\"attributes\":{\"formatter\":{\"id\":\"1032\"},\"major_label_orientation\":\"vertical\",\"major_label_policy\":{\"id\":\"1033\"},\"ticker\":{\"id\":\"1015\"}},\"id\":\"1014\",\"type\":\"CategoricalAxis\"},{\"attributes\":{\"data\":{\"County Name\":[\"MIDDLESEX\",\"CAMDEN\",\"ESSEX\",\"BURLINGTON\",\"OCEAN\",\"MONMOUTH\",\"ATLANTIC\",\"UNION\",\"GLOUCESTER\",\"BERGEN\",\"CUMBERLAND\",\"HUDSON\",\"MERCER\",\"PASSAIC\",\"MORRIS\",\"SOMERSET\",\"HUNTERDON\",\"SALEM\",\"SUSSEX\",\"CAPE MAY\",\"WARREN\"],\"Total Killed\":[182,173,170,161,160,131,117,110,102,101,99,87,85,75,72,60,40,40,35,32,29],\"index\":[0,1,2,3,4,5,6,7,8,9,10,11,12,13,14,15,16,17,18,19,20]},\"selected\":{\"id\":\"1036\"},\"selection_policy\":{\"id\":\"1035\"}},\"id\":\"1022\",\"type\":\"ColumnDataSource\"},{\"attributes\":{\"source\":{\"id\":\"1022\"}},\"id\":\"1027\",\"type\":\"CDSView\"},{\"attributes\":{\"factors\":[\"MIDDLESEX\",\"CAMDEN\",\"ESSEX\",\"BURLINGTON\",\"OCEAN\",\"MONMOUTH\",\"ATLANTIC\",\"UNION\",\"GLOUCESTER\",\"BERGEN\",\"CUMBERLAND\",\"HUDSON\",\"MERCER\",\"PASSAIC\",\"MORRIS\",\"SOMERSET\",\"HUNTERDON\",\"SALEM\",\"SUSSEX\",\"CAPE MAY\",\"WARREN\"]},\"id\":\"1006\",\"type\":\"FactorRange\"},{\"attributes\":{},\"id\":\"1032\",\"type\":\"CategoricalTickFormatter\"},{\"attributes\":{\"axis\":{\"id\":\"1014\"},\"grid_line_color\":null,\"ticker\":null},\"id\":\"1016\",\"type\":\"Grid\"},{\"attributes\":{\"formatter\":{\"id\":\"1029\"},\"major_label_policy\":{\"id\":\"1030\"},\"ticker\":{\"id\":\"1018\"}},\"id\":\"1017\",\"type\":\"LinearAxis\"},{\"attributes\":{},\"id\":\"1033\",\"type\":\"AllLabels\"},{\"attributes\":{\"active_multi\":null},\"id\":\"1021\",\"type\":\"Toolbar\"},{\"attributes\":{},\"id\":\"1018\",\"type\":\"BasicTicker\"},{\"attributes\":{\"text\":\"Total Death by County\"},\"id\":\"1004\",\"type\":\"Title\"},{\"attributes\":{\"axis\":{\"id\":\"1017\"},\"dimension\":1,\"ticker\":null},\"id\":\"1020\",\"type\":\"Grid\"},{\"attributes\":{},\"id\":\"1010\",\"type\":\"CategoricalScale\"},{\"attributes\":{\"fill_alpha\":{\"value\":0.1},\"fill_color\":{\"value\":\"#1f77b4\"},\"line_alpha\":{\"value\":0.1},\"line_color\":{\"value\":\"#1f77b4\"},\"top\":{\"field\":\"Total Killed\"},\"width\":{\"value\":0.75},\"x\":{\"field\":\"County Name\"}},\"id\":\"1025\",\"type\":\"VBar\"},{\"attributes\":{},\"id\":\"1035\",\"type\":\"UnionRenderers\"},{\"attributes\":{},\"id\":\"1036\",\"type\":\"Selection\"},{\"attributes\":{},\"id\":\"1012\",\"type\":\"LinearScale\"},{\"attributes\":{\"data_source\":{\"id\":\"1022\"},\"glyph\":{\"id\":\"1024\"},\"hover_glyph\":null,\"muted_glyph\":null,\"nonselection_glyph\":{\"id\":\"1025\"},\"view\":{\"id\":\"1027\"}},\"id\":\"1026\",\"type\":\"GlyphRenderer\"}],\"root_ids\":[\"1003\"]},\"title\":\"Bokeh Application\",\"version\":\"2.3.2\"}};\n",
       "  var render_items = [{\"docid\":\"a6bacbff-ea95-4883-aae0-fbf25cef206c\",\"root_ids\":[\"1003\"],\"roots\":{\"1003\":\"0146308e-0acb-40a0-84b0-fe4a81b8036a\"}}];\n",
       "  root.Bokeh.embed.embed_items_notebook(docs_json, render_items);\n",
       "\n",
       "  }\n",
       "  if (root.Bokeh !== undefined) {\n",
       "    embed_document(root);\n",
       "  } else {\n",
       "    var attempts = 0;\n",
       "    var timer = setInterval(function(root) {\n",
       "      if (root.Bokeh !== undefined) {\n",
       "        clearInterval(timer);\n",
       "        embed_document(root);\n",
       "      } else {\n",
       "        attempts++;\n",
       "        if (attempts > 100) {\n",
       "          clearInterval(timer);\n",
       "          console.log(\"Bokeh: ERROR: Unable to run BokehJS code because BokehJS library is missing\");\n",
       "        }\n",
       "      }\n",
       "    }, 10, root)\n",
       "  }\n",
       "})(window);"
      ],
      "application/vnd.bokehjs_exec.v0+json": ""
     },
     "metadata": {
      "application/vnd.bokehjs_exec.v0+json": {
       "id": "1003"
      }
     },
     "output_type": "display_data"
    }
   ],
   "source": [
    "output_notebook()\n",
    "\n",
    "County = bar[\"County Name\"]\n",
    "\n",
    "barplot = figure(title = \"Total Death by County\",\n",
    "                 plot_width = 500,\n",
    "                 plot_height = 400,\n",
    "                 tools = \"\",\n",
    "                 toolbar_location = None,\n",
    "                 x_range = County)\n",
    "\n",
    "barplot.vbar(top = \"Total Killed\",\n",
    "             x = \"County Name\",\n",
    "             width = 0.75,\n",
    "             source = bar) # input you DF here\n",
    "\n",
    "barplot.xgrid.grid_line_color = None\n",
    "barplot.xaxis.major_label_orientation = \"vertical\"\n",
    "barplot.y_range.start = 0\n",
    "\n",
    "output_file(\"Your_First_Bokeh_Barplot.html\")\n",
    "\n",
    "show(barplot)"
   ]
  },
  {
   "cell_type": "markdown",
   "metadata": {},
   "source": [
    "### `Scatter plot`"
   ]
  },
  {
   "cell_type": "markdown",
   "metadata": {},
   "source": [
    "> Let's take a look at the relationships between `Total Killed` and `Pedestrians Killed in each county`."
   ]
  },
  {
   "cell_type": "code",
   "execution_count": 44,
   "metadata": {},
   "outputs": [
    {
     "data": {
      "text/html": [
       "<div>\n",
       "<style scoped>\n",
       "    .dataframe tbody tr th:only-of-type {\n",
       "        vertical-align: middle;\n",
       "    }\n",
       "\n",
       "    .dataframe tbody tr th {\n",
       "        vertical-align: top;\n",
       "    }\n",
       "\n",
       "    .dataframe thead th {\n",
       "        text-align: right;\n",
       "    }\n",
       "</style>\n",
       "<table border=\"1\" class=\"dataframe\">\n",
       "  <thead>\n",
       "    <tr style=\"text-align: right;\">\n",
       "      <th></th>\n",
       "      <th>County Name</th>\n",
       "      <th>Total Killed</th>\n",
       "      <th>Total Injured</th>\n",
       "      <th>Pedestrians Killed</th>\n",
       "      <th>Pedestrians Injured</th>\n",
       "      <th>Total Vehicles Involved</th>\n",
       "    </tr>\n",
       "  </thead>\n",
       "  <tbody>\n",
       "    <tr>\n",
       "      <th>0</th>\n",
       "      <td>ATLANTIC</td>\n",
       "      <td>117</td>\n",
       "      <td>13518</td>\n",
       "      <td>23</td>\n",
       "      <td>728</td>\n",
       "      <td>64147</td>\n",
       "    </tr>\n",
       "    <tr>\n",
       "      <th>1</th>\n",
       "      <td>BERGEN</td>\n",
       "      <td>101</td>\n",
       "      <td>31706</td>\n",
       "      <td>42</td>\n",
       "      <td>2136</td>\n",
       "      <td>215278</td>\n",
       "    </tr>\n",
       "    <tr>\n",
       "      <th>2</th>\n",
       "      <td>BURLINGTON</td>\n",
       "      <td>161</td>\n",
       "      <td>15285</td>\n",
       "      <td>28</td>\n",
       "      <td>398</td>\n",
       "      <td>81956</td>\n",
       "    </tr>\n",
       "    <tr>\n",
       "      <th>3</th>\n",
       "      <td>CAMDEN</td>\n",
       "      <td>173</td>\n",
       "      <td>24909</td>\n",
       "      <td>45</td>\n",
       "      <td>1102</td>\n",
       "      <td>122872</td>\n",
       "    </tr>\n",
       "    <tr>\n",
       "      <th>4</th>\n",
       "      <td>CAPE MAY</td>\n",
       "      <td>32</td>\n",
       "      <td>4206</td>\n",
       "      <td>1</td>\n",
       "      <td>172</td>\n",
       "      <td>23761</td>\n",
       "    </tr>\n",
       "    <tr>\n",
       "      <th>5</th>\n",
       "      <td>CUMBERLAND</td>\n",
       "      <td>99</td>\n",
       "      <td>7296</td>\n",
       "      <td>9</td>\n",
       "      <td>226</td>\n",
       "      <td>33571</td>\n",
       "    </tr>\n",
       "    <tr>\n",
       "      <th>6</th>\n",
       "      <td>ESSEX</td>\n",
       "      <td>170</td>\n",
       "      <td>39627</td>\n",
       "      <td>63</td>\n",
       "      <td>3511</td>\n",
       "      <td>216820</td>\n",
       "    </tr>\n",
       "    <tr>\n",
       "      <th>7</th>\n",
       "      <td>GLOUCESTER</td>\n",
       "      <td>102</td>\n",
       "      <td>11442</td>\n",
       "      <td>17</td>\n",
       "      <td>342</td>\n",
       "      <td>57627</td>\n",
       "    </tr>\n",
       "    <tr>\n",
       "      <th>8</th>\n",
       "      <td>HUDSON</td>\n",
       "      <td>87</td>\n",
       "      <td>19842</td>\n",
       "      <td>32</td>\n",
       "      <td>2675</td>\n",
       "      <td>154819</td>\n",
       "    </tr>\n",
       "    <tr>\n",
       "      <th>9</th>\n",
       "      <td>HUNTERDON</td>\n",
       "      <td>40</td>\n",
       "      <td>3997</td>\n",
       "      <td>9</td>\n",
       "      <td>59</td>\n",
       "      <td>27295</td>\n",
       "    </tr>\n",
       "    <tr>\n",
       "      <th>10</th>\n",
       "      <td>MERCER</td>\n",
       "      <td>85</td>\n",
       "      <td>15190</td>\n",
       "      <td>24</td>\n",
       "      <td>642</td>\n",
       "      <td>103554</td>\n",
       "    </tr>\n",
       "    <tr>\n",
       "      <th>11</th>\n",
       "      <td>MIDDLESEX</td>\n",
       "      <td>182</td>\n",
       "      <td>34548</td>\n",
       "      <td>53</td>\n",
       "      <td>1347</td>\n",
       "      <td>220625</td>\n",
       "    </tr>\n",
       "    <tr>\n",
       "      <th>12</th>\n",
       "      <td>MONMOUTH</td>\n",
       "      <td>131</td>\n",
       "      <td>18713</td>\n",
       "      <td>31</td>\n",
       "      <td>663</td>\n",
       "      <td>119327</td>\n",
       "    </tr>\n",
       "    <tr>\n",
       "      <th>13</th>\n",
       "      <td>MORRIS</td>\n",
       "      <td>72</td>\n",
       "      <td>12705</td>\n",
       "      <td>18</td>\n",
       "      <td>419</td>\n",
       "      <td>89798</td>\n",
       "    </tr>\n",
       "    <tr>\n",
       "      <th>14</th>\n",
       "      <td>OCEAN</td>\n",
       "      <td>160</td>\n",
       "      <td>17508</td>\n",
       "      <td>34</td>\n",
       "      <td>610</td>\n",
       "      <td>98809</td>\n",
       "    </tr>\n",
       "    <tr>\n",
       "      <th>15</th>\n",
       "      <td>PASSAIC</td>\n",
       "      <td>75</td>\n",
       "      <td>18293</td>\n",
       "      <td>23</td>\n",
       "      <td>1373</td>\n",
       "      <td>107298</td>\n",
       "    </tr>\n",
       "    <tr>\n",
       "      <th>16</th>\n",
       "      <td>SALEM</td>\n",
       "      <td>40</td>\n",
       "      <td>1973</td>\n",
       "      <td>1</td>\n",
       "      <td>42</td>\n",
       "      <td>8924</td>\n",
       "    </tr>\n",
       "    <tr>\n",
       "      <th>17</th>\n",
       "      <td>SOMERSET</td>\n",
       "      <td>60</td>\n",
       "      <td>9643</td>\n",
       "      <td>9</td>\n",
       "      <td>323</td>\n",
       "      <td>66864</td>\n",
       "    </tr>\n",
       "    <tr>\n",
       "      <th>18</th>\n",
       "      <td>SUSSEX</td>\n",
       "      <td>35</td>\n",
       "      <td>3679</td>\n",
       "      <td>1</td>\n",
       "      <td>79</td>\n",
       "      <td>20406</td>\n",
       "    </tr>\n",
       "    <tr>\n",
       "      <th>19</th>\n",
       "      <td>UNION</td>\n",
       "      <td>110</td>\n",
       "      <td>19700</td>\n",
       "      <td>42</td>\n",
       "      <td>1264</td>\n",
       "      <td>114766</td>\n",
       "    </tr>\n",
       "    <tr>\n",
       "      <th>20</th>\n",
       "      <td>WARREN</td>\n",
       "      <td>29</td>\n",
       "      <td>3324</td>\n",
       "      <td>4</td>\n",
       "      <td>83</td>\n",
       "      <td>18607</td>\n",
       "    </tr>\n",
       "  </tbody>\n",
       "</table>\n",
       "</div>"
      ],
      "text/plain": [
       "   County Name  Total Killed  Total Injured  Pedestrians Killed  \\\n",
       "0     ATLANTIC           117          13518                  23   \n",
       "1       BERGEN           101          31706                  42   \n",
       "2   BURLINGTON           161          15285                  28   \n",
       "3       CAMDEN           173          24909                  45   \n",
       "4     CAPE MAY            32           4206                   1   \n",
       "5   CUMBERLAND            99           7296                   9   \n",
       "6        ESSEX           170          39627                  63   \n",
       "7   GLOUCESTER           102          11442                  17   \n",
       "8       HUDSON            87          19842                  32   \n",
       "9    HUNTERDON            40           3997                   9   \n",
       "10      MERCER            85          15190                  24   \n",
       "11   MIDDLESEX           182          34548                  53   \n",
       "12    MONMOUTH           131          18713                  31   \n",
       "13      MORRIS            72          12705                  18   \n",
       "14       OCEAN           160          17508                  34   \n",
       "15     PASSAIC            75          18293                  23   \n",
       "16       SALEM            40           1973                   1   \n",
       "17    SOMERSET            60           9643                   9   \n",
       "18      SUSSEX            35           3679                   1   \n",
       "19       UNION           110          19700                  42   \n",
       "20      WARREN            29           3324                   4   \n",
       "\n",
       "    Pedestrians Injured  Total Vehicles Involved  \n",
       "0                   728                    64147  \n",
       "1                  2136                   215278  \n",
       "2                   398                    81956  \n",
       "3                  1102                   122872  \n",
       "4                   172                    23761  \n",
       "5                   226                    33571  \n",
       "6                  3511                   216820  \n",
       "7                   342                    57627  \n",
       "8                  2675                   154819  \n",
       "9                    59                    27295  \n",
       "10                  642                   103554  \n",
       "11                 1347                   220625  \n",
       "12                  663                   119327  \n",
       "13                  419                    89798  \n",
       "14                  610                    98809  \n",
       "15                 1373                   107298  \n",
       "16                   42                     8924  \n",
       "17                  323                    66864  \n",
       "18                   79                    20406  \n",
       "19                 1264                   114766  \n",
       "20                   83                    18607  "
      ]
     },
     "execution_count": 44,
     "metadata": {},
     "output_type": "execute_result"
    }
   ],
   "source": [
    "scatter_reg"
   ]
  },
  {
   "cell_type": "markdown",
   "metadata": {},
   "source": [
    "> You might want to create a regression line :)\n",
    "\n",
    "> As you will learn more down the line in the course, you can use library `seaborn`.  \n",
    "\n",
    "> `seaborn` is a Python data visualization library based on `matplotlib`. \n",
    "\n",
    "> It provides a high-level interface for drawing attractive and informative statistical graphics."
   ]
  },
  {
   "cell_type": "code",
   "execution_count": 45,
   "metadata": {
    "scrolled": false
   },
   "outputs": [
    {
     "data": {
      "text/html": [
       "\n",
       "\n",
       "\n",
       "\n",
       "\n",
       "\n",
       "  <div class=\"bk-root\" id=\"2f5a7b2f-bf41-48d6-9572-5869e51ff52e\" data-root-id=\"1164\"></div>\n"
      ]
     },
     "metadata": {},
     "output_type": "display_data"
    },
    {
     "data": {
      "application/javascript": [
       "(function(root) {\n",
       "  function embed_document(root) {\n",
       "    \n",
       "  var docs_json = {\"a6cf1cb3-6fb6-4622-8c84-5fab102c3418\":{\"defs\":[],\"roots\":{\"references\":[{\"attributes\":{\"below\":[{\"id\":\"1175\"}],\"center\":[{\"id\":\"1178\"},{\"id\":\"1182\"}],\"left\":[{\"id\":\"1179\"}],\"renderers\":[{\"id\":\"1201\"}],\"title\":{\"id\":\"1165\"},\"toolbar\":{\"id\":\"1190\"},\"x_range\":{\"id\":\"1167\"},\"x_scale\":{\"id\":\"1171\"},\"y_range\":{\"id\":\"1169\"},\"y_scale\":{\"id\":\"1173\"}},\"id\":\"1164\",\"subtype\":\"Figure\",\"type\":\"Plot\"},{\"attributes\":{},\"id\":\"1220\",\"type\":\"Selection\"},{\"attributes\":{},\"id\":\"1184\",\"type\":\"WheelZoomTool\"},{\"attributes\":{},\"id\":\"1183\",\"type\":\"PanTool\"},{\"attributes\":{},\"id\":\"1188\",\"type\":\"HelpTool\"},{\"attributes\":{\"axis\":{\"id\":\"1179\"},\"dimension\":1,\"ticker\":null},\"id\":\"1182\",\"type\":\"Grid\"},{\"attributes\":{},\"id\":\"1180\",\"type\":\"BasicTicker\"},{\"attributes\":{\"active_multi\":null,\"tools\":[{\"id\":\"1183\"},{\"id\":\"1184\"},{\"id\":\"1185\"},{\"id\":\"1186\"},{\"id\":\"1187\"},{\"id\":\"1188\"}]},\"id\":\"1190\",\"type\":\"Toolbar\"},{\"attributes\":{\"source\":{\"id\":\"1197\"}},\"id\":\"1202\",\"type\":\"CDSView\"},{\"attributes\":{\"overlay\":{\"id\":\"1189\"}},\"id\":\"1185\",\"type\":\"BoxZoomTool\"},{\"attributes\":{\"data_source\":{\"id\":\"1197\"},\"glyph\":{\"id\":\"1199\"},\"hover_glyph\":null,\"muted_glyph\":null,\"nonselection_glyph\":{\"id\":\"1200\"},\"view\":{\"id\":\"1202\"}},\"id\":\"1201\",\"type\":\"GlyphRenderer\"},{\"attributes\":{\"axis\":{\"id\":\"1175\"},\"ticker\":null},\"id\":\"1178\",\"type\":\"Grid\"},{\"attributes\":{\"bottom_units\":\"screen\",\"fill_alpha\":0.5,\"fill_color\":\"lightgrey\",\"left_units\":\"screen\",\"level\":\"overlay\",\"line_alpha\":1.0,\"line_color\":\"black\",\"line_dash\":[4,4],\"line_width\":2,\"right_units\":\"screen\",\"syncable\":false,\"top_units\":\"screen\"},\"id\":\"1189\",\"type\":\"BoxAnnotation\"},{\"attributes\":{\"fill_color\":{\"value\":\"#1f77b4\"},\"line_color\":{\"value\":\"#1f77b4\"},\"x\":{\"field\":\"Total Killed\"},\"y\":{\"field\":\"Pedestrians Killed\"}},\"id\":\"1199\",\"type\":\"Circle\"},{\"attributes\":{},\"id\":\"1213\",\"type\":\"BasicTickFormatter\"},{\"attributes\":{},\"id\":\"1173\",\"type\":\"LinearScale\"},{\"attributes\":{},\"id\":\"1187\",\"type\":\"ResetTool\"},{\"attributes\":{},\"id\":\"1214\",\"type\":\"AllLabels\"},{\"attributes\":{},\"id\":\"1216\",\"type\":\"BasicTickFormatter\"},{\"attributes\":{},\"id\":\"1171\",\"type\":\"LinearScale\"},{\"attributes\":{},\"id\":\"1217\",\"type\":\"AllLabels\"},{\"attributes\":{\"data\":{\"County Name\":[\"ATLANTIC\",\"BERGEN\",\"BURLINGTON\",\"CAMDEN\",\"CAPE MAY\",\"CUMBERLAND\",\"ESSEX\",\"GLOUCESTER\",\"HUDSON\",\"HUNTERDON\",\"MERCER\",\"MIDDLESEX\",\"MONMOUTH\",\"MORRIS\",\"OCEAN\",\"PASSAIC\",\"SALEM\",\"SOMERSET\",\"SUSSEX\",\"UNION\",\"WARREN\"],\"Pedestrians Injured\":[728,2136,398,1102,172,226,3511,342,2675,59,642,1347,663,419,610,1373,42,323,79,1264,83],\"Pedestrians Killed\":[23,42,28,45,1,9,63,17,32,9,24,53,31,18,34,23,1,9,1,42,4],\"Total Injured\":[13518,31706,15285,24909,4206,7296,39627,11442,19842,3997,15190,34548,18713,12705,17508,18293,1973,9643,3679,19700,3324],\"Total Killed\":[117,101,161,173,32,99,170,102,87,40,85,182,131,72,160,75,40,60,35,110,29],\"Total Vehicles Involved\":[64147,215278,81956,122872,23761,33571,216820,57627,154819,27295,103554,220625,119327,89798,98809,107298,8924,66864,20406,114766,18607],\"index\":[0,1,2,3,4,5,6,7,8,9,10,11,12,13,14,15,16,17,18,19,20]},\"selected\":{\"id\":\"1220\"},\"selection_policy\":{\"id\":\"1219\"}},\"id\":\"1197\",\"type\":\"ColumnDataSource\"},{\"attributes\":{},\"id\":\"1169\",\"type\":\"DataRange1d\"},{\"attributes\":{\"axis_label\":\"Total Death\",\"formatter\":{\"id\":\"1216\"},\"major_label_policy\":{\"id\":\"1217\"},\"ticker\":{\"id\":\"1176\"}},\"id\":\"1175\",\"type\":\"LinearAxis\"},{\"attributes\":{},\"id\":\"1167\",\"type\":\"DataRange1d\"},{\"attributes\":{},\"id\":\"1176\",\"type\":\"BasicTicker\"},{\"attributes\":{},\"id\":\"1186\",\"type\":\"SaveTool\"},{\"attributes\":{\"text\":\"Relationships between Total Death and Pedestrians Killed in Each County\"},\"id\":\"1165\",\"type\":\"Title\"},{\"attributes\":{\"fill_alpha\":{\"value\":0.1},\"fill_color\":{\"value\":\"#1f77b4\"},\"line_alpha\":{\"value\":0.1},\"line_color\":{\"value\":\"#1f77b4\"},\"x\":{\"field\":\"Total Killed\"},\"y\":{\"field\":\"Pedestrians Killed\"}},\"id\":\"1200\",\"type\":\"Circle\"},{\"attributes\":{\"axis_label\":\"Pedestrians Killed\",\"formatter\":{\"id\":\"1213\"},\"major_label_policy\":{\"id\":\"1214\"},\"ticker\":{\"id\":\"1180\"}},\"id\":\"1179\",\"type\":\"LinearAxis\"},{\"attributes\":{},\"id\":\"1219\",\"type\":\"UnionRenderers\"}],\"root_ids\":[\"1164\"]},\"title\":\"Bokeh Application\",\"version\":\"2.3.2\"}};\n",
       "  var render_items = [{\"docid\":\"a6cf1cb3-6fb6-4622-8c84-5fab102c3418\",\"root_ids\":[\"1164\"],\"roots\":{\"1164\":\"2f5a7b2f-bf41-48d6-9572-5869e51ff52e\"}}];\n",
       "  root.Bokeh.embed.embed_items_notebook(docs_json, render_items);\n",
       "\n",
       "  }\n",
       "  if (root.Bokeh !== undefined) {\n",
       "    embed_document(root);\n",
       "  } else {\n",
       "    var attempts = 0;\n",
       "    var timer = setInterval(function(root) {\n",
       "      if (root.Bokeh !== undefined) {\n",
       "        clearInterval(timer);\n",
       "        embed_document(root);\n",
       "      } else {\n",
       "        attempts++;\n",
       "        if (attempts > 100) {\n",
       "          clearInterval(timer);\n",
       "          console.log(\"Bokeh: ERROR: Unable to run BokehJS code because BokehJS library is missing\");\n",
       "        }\n",
       "      }\n",
       "    }, 10, root)\n",
       "  }\n",
       "})(window);"
      ],
      "application/vnd.bokehjs_exec.v0+json": ""
     },
     "metadata": {
      "application/vnd.bokehjs_exec.v0+json": {
       "id": "1164"
      }
     },
     "output_type": "display_data"
    }
   ],
   "source": [
    "scatter = figure (title = \"Relationships between Total Death and Pedestrians Killed in Each County\",\n",
    "                 x_axis_label = \"Total Death\",\n",
    "                 y_axis_label = \"Pedestrians Killed\")\n",
    "\n",
    "scatter.circle(\"Total Killed\",\n",
    "               \"Pedestrians Killed\",\n",
    "               source = scatter_reg) # INPUT your DF here\n",
    "\n",
    "output_file(\"Your_First_Bokeh_Scatter.html\")\n",
    "\n",
    "show(scatter)\n"
   ]
  },
  {
   "cell_type": "code",
   "execution_count": 46,
   "metadata": {},
   "outputs": [
    {
     "name": "stdout",
     "output_type": "stream",
     "text": [
      "Looking in indexes: https://pypi.tuna.tsinghua.edu.cn/simpleNote: you may need to restart the kernel to use updated packages.\n",
      "Requirement already satisfied: seaborn in d:\\360downloads\\anaconda-2021.08\\lib\\site-packages (0.11.1)\n",
      "Requirement already satisfied: scipy>=1.0 in d:\\360downloads\\anaconda-2021.08\\lib\\site-packages (from seaborn) (1.6.2)\n",
      "Requirement already satisfied: matplotlib>=2.2 in d:\\360downloads\\anaconda-2021.08\\lib\\site-packages (from seaborn) (3.3.4)\n",
      "Requirement already satisfied: pandas>=0.23 in d:\\360downloads\\anaconda-2021.08\\lib\\site-packages (from seaborn) (1.2.4)\n",
      "Requirement already satisfied: numpy>=1.15 in d:\\360downloads\\anaconda-2021.08\\lib\\site-packages (from seaborn) (1.20.1)\n",
      "Requirement already satisfied: kiwisolver>=1.0.1 in d:\\360downloads\\anaconda-2021.08\\lib\\site-packages (from matplotlib>=2.2->seaborn) (1.3.1)\n",
      "Requirement already satisfied: pillow>=6.2.0 in d:\\360downloads\\anaconda-2021.08\\lib\\site-packages (from matplotlib>=2.2->seaborn) (8.2.0)\n",
      "Requirement already satisfied: pyparsing!=2.0.4,!=2.1.2,!=2.1.6,>=2.0.3 in d:\\360downloads\\anaconda-2021.08\\lib\\site-packages (from matplotlib>=2.2->seaborn) (2.4.7)\n",
      "Requirement already satisfied: cycler>=0.10 in d:\\360downloads\\anaconda-2021.08\\lib\\site-packages (from matplotlib>=2.2->seaborn) (0.10.0)\n",
      "Requirement already satisfied: python-dateutil>=2.1 in d:\\360downloads\\anaconda-2021.08\\lib\\site-packages (from matplotlib>=2.2->seaborn) (2.8.1)\n",
      "Requirement already satisfied: six in d:\\360downloads\\anaconda-2021.08\\lib\\site-packages (from cycler>=0.10->matplotlib>=2.2->seaborn) (1.15.0)\n",
      "Requirement already satisfied: pytz>=2017.3 in d:\\360downloads\\anaconda-2021.08\\lib\\site-packages (from pandas>=0.23->seaborn) (2021.1)\n",
      "\n"
     ]
    }
   ],
   "source": [
    "%pip install seaborn"
   ]
  },
  {
   "cell_type": "code",
   "execution_count": 47,
   "metadata": {},
   "outputs": [],
   "source": [
    "import seaborn as sns"
   ]
  },
  {
   "cell_type": "code",
   "execution_count": 48,
   "metadata": {
    "scrolled": false
   },
   "outputs": [
    {
     "data": {
      "text/plain": [
       "<seaborn.axisgrid.FacetGrid at 0x1ae8cfc9100>"
      ]
     },
     "execution_count": 48,
     "metadata": {},
     "output_type": "execute_result"
    },
    {
     "data": {
      "image/png": "[encoded data removed]",
      "text/plain": [
       "<Figure size 360x360 with 1 Axes>"
      ]
     },
     "metadata": {
      "needs_background": "light"
     },
     "output_type": "display_data"
    }
   ],
   "source": [
    "sns.lmplot(y = \"Pedestrians Killed\",\n",
    "           x =\"Total Killed\",\n",
    "           data = scatter_reg)"
   ]
  },
  {
   "cell_type": "code",
   "execution_count": 105,
   "metadata": {},
   "outputs": [
    {
     "data": {
      "text/plain": [
       "<seaborn.axisgrid.JointGrid at 0x1aec0ef4370>"
      ]
     },
     "execution_count": 105,
     "metadata": {},
     "output_type": "execute_result"
    },
    {
     "data": {
      "image/png": "[encoded data removed]",
      "text/plain": [
       "<Figure size 432x432 with 3 Axes>"
      ]
     },
     "metadata": {
      "needs_background": "light"
     },
     "output_type": "display_data"
    }
   ],
   "source": [
    "#### jointplot() gives you distribution of your X and Y variables\n",
    "\n",
    "import matplotlib.pyplot as plt\n",
    "\n",
    "sns.jointplot(y = \"Pedestrians Killed\", x = \"Total Killed\", data = scatter_reg,\n",
    "              kind = \"reg\",\n",
    "              joint_kws = {\"color\": \"green\"}\n",
    "              )"
   ]
  },
  {
   "cell_type": "markdown",
   "metadata": {},
   "source": [
    "### `Line Chart`"
   ]
  },
  {
   "cell_type": "markdown",
   "metadata": {},
   "source": [
    "> Let's see the number of New Jersey car crashes over time (2008-2013)"
   ]
  },
  {
   "cell_type": "code",
   "execution_count": 50,
   "metadata": {
    "scrolled": true
   },
   "outputs": [],
   "source": [
    "line[\"Crash Date\"] = pd.to_datetime(line[\"Crash Date\"]).sort_values(ascending = True)"
   ]
  },
  {
   "cell_type": "code",
   "execution_count": 51,
   "metadata": {},
   "outputs": [
    {
     "data": {
      "text/html": [
       "<div>\n",
       "<style scoped>\n",
       "    .dataframe tbody tr th:only-of-type {\n",
       "        vertical-align: middle;\n",
       "    }\n",
       "\n",
       "    .dataframe tbody tr th {\n",
       "        vertical-align: top;\n",
       "    }\n",
       "\n",
       "    .dataframe thead th {\n",
       "        text-align: right;\n",
       "    }\n",
       "</style>\n",
       "<table border=\"1\" class=\"dataframe\">\n",
       "  <thead>\n",
       "    <tr style=\"text-align: right;\">\n",
       "      <th></th>\n",
       "      <th>Crash Date</th>\n",
       "      <th>County Name</th>\n",
       "    </tr>\n",
       "  </thead>\n",
       "  <tbody>\n",
       "    <tr>\n",
       "      <th>0</th>\n",
       "      <td>2008-01-01</td>\n",
       "      <td>575</td>\n",
       "    </tr>\n",
       "    <tr>\n",
       "      <th>1</th>\n",
       "      <td>2008-01-02</td>\n",
       "      <td>716</td>\n",
       "    </tr>\n",
       "    <tr>\n",
       "      <th>2</th>\n",
       "      <td>2008-01-03</td>\n",
       "      <td>830</td>\n",
       "    </tr>\n",
       "    <tr>\n",
       "      <th>3</th>\n",
       "      <td>2008-01-04</td>\n",
       "      <td>906</td>\n",
       "    </tr>\n",
       "    <tr>\n",
       "      <th>4</th>\n",
       "      <td>2008-01-05</td>\n",
       "      <td>674</td>\n",
       "    </tr>\n",
       "    <tr>\n",
       "      <th>...</th>\n",
       "      <td>...</td>\n",
       "      <td>...</td>\n",
       "    </tr>\n",
       "    <tr>\n",
       "      <th>1456</th>\n",
       "      <td>2011-12-27</td>\n",
       "      <td>589</td>\n",
       "    </tr>\n",
       "    <tr>\n",
       "      <th>1457</th>\n",
       "      <td>2011-12-28</td>\n",
       "      <td>369</td>\n",
       "    </tr>\n",
       "    <tr>\n",
       "      <th>1458</th>\n",
       "      <td>2011-12-29</td>\n",
       "      <td>429</td>\n",
       "    </tr>\n",
       "    <tr>\n",
       "      <th>1459</th>\n",
       "      <td>2011-12-30</td>\n",
       "      <td>483</td>\n",
       "    </tr>\n",
       "    <tr>\n",
       "      <th>1460</th>\n",
       "      <td>2011-12-31</td>\n",
       "      <td>335</td>\n",
       "    </tr>\n",
       "  </tbody>\n",
       "</table>\n",
       "<p>1461 rows × 2 columns</p>\n",
       "</div>"
      ],
      "text/plain": [
       "     Crash Date  County Name\n",
       "0    2008-01-01          575\n",
       "1    2008-01-02          716\n",
       "2    2008-01-03          830\n",
       "3    2008-01-04          906\n",
       "4    2008-01-05          674\n",
       "...         ...          ...\n",
       "1456 2011-12-27          589\n",
       "1457 2011-12-28          369\n",
       "1458 2011-12-29          429\n",
       "1459 2011-12-30          483\n",
       "1460 2011-12-31          335\n",
       "\n",
       "[1461 rows x 2 columns]"
      ]
     },
     "execution_count": 51,
     "metadata": {},
     "output_type": "execute_result"
    }
   ],
   "source": [
    "line"
   ]
  },
  {
   "cell_type": "code",
   "execution_count": 52,
   "metadata": {},
   "outputs": [
    {
     "data": {
      "text/html": [
       "\n",
       "\n",
       "\n",
       "\n",
       "\n",
       "\n",
       "  <div class=\"bk-root\" id=\"b88d26e1-9684-49c5-a03c-8182d855729f\" data-root-id=\"1383\"></div>\n"
      ]
     },
     "metadata": {},
     "output_type": "display_data"
    },
    {
     "data": {
      "application/javascript": [
       "(function(root) {\n",
       "  function embed_document(root) {\n",
       "    \n",
       "  var docs_json = {\"be944c56-60a9-436f-9f6a-7a43668ae5f2\":{\"defs\":[],\"roots\":{\"references\":[{\"attributes\":{\"below\":[{\"id\":\"1394\"}],\"center\":[{\"id\":\"1397\"},{\"id\":\"1401\"}],\"height\":400,\"left\":[{\"id\":\"1398\"}],\"renderers\":[{\"id\":\"1419\"}],\"title\":{\"id\":\"1384\"},\"toolbar\":{\"id\":\"1409\"},\"width\":500,\"x_range\":{\"id\":\"1386\"},\"x_scale\":{\"id\":\"1390\"},\"y_range\":{\"id\":\"1388\"},\"y_scale\":{\"id\":\"1392\"}},\"id\":\"1383\",\"subtype\":\"Figure\",\"type\":\"Plot\"},{\"attributes\":{\"data_source\":{\"id\":\"1416\"},\"glyph\":{\"id\":\"1417\"},\"hover_glyph\":null,\"muted_glyph\":null,\"nonselection_glyph\":{\"id\":\"1418\"},\"view\":{\"id\":\"1420\"}},\"id\":\"1419\",\"type\":\"GlyphRenderer\"},{\"attributes\":{\"text\":\"N. of NJ Car Accidents over time\"},\"id\":\"1384\",\"type\":\"Title\"},{\"attributes\":{},\"id\":\"1441\",\"type\":\"BasicTickFormatter\"},{\"attributes\":{},\"id\":\"1399\",\"type\":\"BasicTicker\"},{\"attributes\":{},\"id\":\"1386\",\"type\":\"DataRange1d\"},{\"attributes\":{},\"id\":\"1442\",\"type\":\"AllLabels\"},{\"attributes\":{},\"id\":\"1388\",\"type\":\"DataRange1d\"},{\"attributes\":{\"mantissas\":[1,2,5],\"max_interval\":500.0,\"num_minor_ticks\":0},\"id\":\"1450\",\"type\":\"AdaptiveTicker\"},{\"attributes\":{},\"id\":\"1392\",\"type\":\"LinearScale\"},{\"attributes\":{\"base\":60,\"mantissas\":[1,2,5,10,15,20,30],\"max_interval\":1800000.0,\"min_interval\":1000.0,\"num_minor_ticks\":0},\"id\":\"1451\",\"type\":\"AdaptiveTicker\"},{\"attributes\":{},\"id\":\"1390\",\"type\":\"LinearScale\"},{\"attributes\":{},\"id\":\"1444\",\"type\":\"DatetimeTickFormatter\"},{\"attributes\":{\"axis_label\":\"Crash Date\",\"formatter\":{\"id\":\"1444\"},\"major_label_orientation\":\"vertical\",\"major_label_policy\":{\"id\":\"1445\"},\"ticker\":{\"id\":\"1395\"}},\"id\":\"1394\",\"type\":\"DatetimeAxis\"},{\"attributes\":{\"days\":[1,2,3,4,5,6,7,8,9,10,11,12,13,14,15,16,17,18,19,20,21,22,23,24,25,26,27,28,29,30,31]},\"id\":\"1453\",\"type\":\"DaysTicker\"},{\"attributes\":{},\"id\":\"1445\",\"type\":\"AllLabels\"},{\"attributes\":{\"num_minor_ticks\":5,\"tickers\":[{\"id\":\"1450\"},{\"id\":\"1451\"},{\"id\":\"1452\"},{\"id\":\"1453\"},{\"id\":\"1454\"},{\"id\":\"1455\"},{\"id\":\"1456\"},{\"id\":\"1457\"},{\"id\":\"1458\"},{\"id\":\"1459\"},{\"id\":\"1460\"},{\"id\":\"1461\"}]},\"id\":\"1395\",\"type\":\"DatetimeTicker\"},{\"attributes\":{\"base\":24,\"mantissas\":[1,2,4,6,8,12],\"max_interval\":43200000.0,\"min_interval\":3600000.0,\"num_minor_ticks\":0},\"id\":\"1452\",\"type\":\"AdaptiveTicker\"},{\"attributes\":{\"axis\":{\"id\":\"1394\"},\"ticker\":null},\"id\":\"1397\",\"type\":\"Grid\"},{\"attributes\":{\"months\":[0,1,2,3,4,5,6,7,8,9,10,11]},\"id\":\"1457\",\"type\":\"MonthsTicker\"},{\"attributes\":{\"axis\":{\"id\":\"1398\"},\"dimension\":1,\"ticker\":null},\"id\":\"1401\",\"type\":\"Grid\"},{\"attributes\":{\"months\":[0,2,4,6,8,10]},\"id\":\"1458\",\"type\":\"MonthsTicker\"},{\"attributes\":{\"days\":[1,4,7,10,13,16,19,22,25,28]},\"id\":\"1454\",\"type\":\"DaysTicker\"},{\"attributes\":{\"axis_label\":\"N. of Car Accidents\",\"formatter\":{\"id\":\"1441\"},\"major_label_policy\":{\"id\":\"1442\"},\"ticker\":{\"id\":\"1399\"}},\"id\":\"1398\",\"type\":\"LinearAxis\"},{\"attributes\":{\"active_multi\":null,\"tools\":[{\"id\":\"1402\"},{\"id\":\"1403\"},{\"id\":\"1404\"},{\"id\":\"1405\"},{\"id\":\"1406\"},{\"id\":\"1407\"}]},\"id\":\"1409\",\"type\":\"Toolbar\"},{\"attributes\":{\"days\":[1,15]},\"id\":\"1456\",\"type\":\"DaysTicker\"},{\"attributes\":{},\"id\":\"1407\",\"type\":\"HelpTool\"},{\"attributes\":{\"months\":[0,6]},\"id\":\"1460\",\"type\":\"MonthsTicker\"},{\"attributes\":{},\"id\":\"1403\",\"type\":\"WheelZoomTool\"},{\"attributes\":{\"days\":[1,8,15,22]},\"id\":\"1455\",\"type\":\"DaysTicker\"},{\"attributes\":{},\"id\":\"1402\",\"type\":\"PanTool\"},{\"attributes\":{},\"id\":\"1461\",\"type\":\"YearsTicker\"},{\"attributes\":{\"overlay\":{\"id\":\"1408\"}},\"id\":\"1404\",\"type\":\"BoxZoomTool\"},{\"attributes\":{},\"id\":\"1405\",\"type\":\"SaveTool\"},{\"attributes\":{},\"id\":\"1447\",\"type\":\"UnionRenderers\"},{\"attributes\":{\"months\":[0,4,8]},\"id\":\"1459\",\"type\":\"MonthsTicker\"},{\"attributes\":{},\"id\":\"1406\",\"type\":\"ResetTool\"},{\"attributes\":{},\"id\":\"1448\",\"type\":\"Selection\"},{\"attributes\":{\"data\":{\"x\":{\"__ndarray__\":\"AABAXCpzcUIAAADCfHNxQgAAwCfPc3FCAACAjSF0cUIAAEDzc3RxQgAAAFnGdHFCAADAvhh1cUIAAIAka3VxQgAAQIq9dXFCAAAA8A92cUIAAMBVYnZxQgAAgLu0dnFCAABAIQd3cUIAAACHWXdxQgAAwOyrd3FCAACAUv53cUIAAEC4UHhxQgAAAB6jeHFCAADAg/V4cUIAAIDpR3lxQgAAQE+aeXFCAAAAtex5cUIAAMAaP3pxQgAAgICRenFCAABA5uN6cUIAAABMNntxQgAAwLGIe3FCAACAF9t7cUIAAEB9LXxxQgAAAON/fHFCAADASNJ8cUIAAICuJH1xQgAAQBR3fXFCAAAAesl9cUIAAMDfG35xQgAAgEVufnFCAABAq8B+cUIAAAARE39xQgAAwHZlf3FCAACA3Ld/cUIAAEBCCoBxQgAAAKhcgHFCAADADa+AcUIAAIBzAYFxQgAAQNlTgXFCAAAAP6aBcUIAAMCk+IFxQgAAgApLgnFCAABAcJ2CcUIAAADW74JxQgAAwDtCg3FCAACAoZSDcUIAAEAH54NxQgAAAG05hHFCAADA0ouEcUIAAIA43oRxQgAAQJ4whXFCAAAABIOFcUIAAMBp1YVxQgAAgM8nhnFCAABANXqGcUIAAACbzIZxQgAAwAAfh3FCAACAZnGHcUIAAEDMw4dxQgAAADIWiHFCAADAl2iIcUIAAID9uohxQgAAQGMNiXFCAAAAyV+JcUIAAMAusolxQgAAgJQEinFCAABA+laKcUIAAABgqYpxQgAAwMX7inFCAACAK06LcUIAAECRoItxQgAAAPfyi3FCAADAXEWMcUIAAIDCl4xxQgAAQCjqjHFCAAAAjjyNcUIAAMDzjo1xQgAAgFnhjXFCAABAvzOOcUIAAAAlho5xQgAAwIrYjnFCAACA8CqPcUIAAEBWfY9xQgAAALzPj3FCAADAISKQcUIAAICHdJBxQgAAQO3GkHFCAAAAUxmRcUIAAMC4a5FxQgAAgB6+kXFCAABAhBCScUIAAADqYpJxQgAAwE+1knFCAACAtQeTcUIAAEAbWpNxQgAAAIGsk3FCAADA5v6TcUIAAIBMUZRxQgAAQLKjlHFCAAAAGPaUcUIAAMB9SJVxQgAAgOOalXFCAABASe2VcUIAAACvP5ZxQgAAwBSSlnFCAACAeuSWcUIAAEDgNpdxQgAAAEaJl3FCAADAq9uXcUIAAIARLphxQgAAQHeAmHFCAAAA3dKYcUIAAMBCJZlxQgAAgKh3mXFCAABADsqZcUIAAAB0HJpxQgAAwNlumnFCAACAP8GacUIAAEClE5txQgAAAAtmm3FCAADAcLibcUIAAIDWCpxxQgAAQDxdnHFCAAAAoq+ccUIAAMAHAp1xQgAAgG1UnXFCAABA06adcUIAAAA5+Z1xQgAAwJ5LnnFCAACABJ6ecUIAAEBq8J5xQgAAANBCn3FCAADANZWfcUIAAICb559xQgAAQAE6oHFCAAAAZ4ygcUIAAMDM3qBxQgAAgDIxoXFCAABAmIOhcUIAAAD+1aFxQgAAwGMoonFCAACAyXqicUIAAEAvzaJxQgAAAJUfo3FCAADA+nGjcUIAAIBgxKNxQgAAQMYWpHFCAAAALGmkcUIAAMCRu6RxQgAAgPcNpXFCAABAXWClcUIAAADDsqVxQgAAwCgFpnFCAACAjlemcUIAAED0qaZxQgAAAFr8pnFCAADAv06ncUIAAIAloadxQgAAQIvzp3FCAAAA8UWocUIAAMBWmKhxQgAAgLzqqHFCAABAIj2pcUIAAACIj6lxQgAAwO3hqXFCAACAUzSqcUIAAEC5hqpxQgAAAB/ZqnFCAADAhCurcUIAAIDqfatxQgAAQFDQq3FCAAAAtiKscUIAAMAbdaxxQgAAgIHHrHFCAABA5xmtcUIAAABNbK1xQgAAwLK+rXFCAACAGBGucUIAAEB+Y65xQgAAAOS1rnFCAADASQivcUIAAICvWq9xQgAAQBWtr3FCAAAAe/+vcUIAAMDgUbBxQgAAgEaksHFCAABArPawcUIAAAASSbFxQgAAwHebsXFCAACA3e2xcUIAAEBDQLJxQgAAAKmSsnFCAADADuWycUIAAIB0N7NxQgAAQNqJs3FCAAAAQNyzcUIAAMClLrRxQgAAgAuBtHFCAABAcdO0cUIAAADXJbVxQgAAwDx4tXFCAACAosq1cUIAAEAIHbZxQgAAAG5vtnFCAADA08G2cUIAAIA5FLdxQgAAQJ9mt3FCAAAABbm3cUIAAMBqC7hxQgAAgNBduHFCAABANrC4cUIAAACcArlxQgAAwAFVuXFCAACAZ6e5cUIAAEDN+blxQgAAADNMunFCAADAmJ66cUIAAID+8LpxQgAAQGRDu3FCAAAAypW7cUIAAMAv6LtxQgAAgJU6vHFCAABA+4y8cUIAAABh37xxQgAAwMYxvXFCAACALIS9cUIAAECS1r1xQgAAAPgovnFCAADAXXu+cUIAAIDDzb5xQgAAQCkgv3FCAAAAj3K/cUIAAMD0xL9xQgAAgFoXwHFCAABAwGnAcUIAAAAmvMBxQgAAwIsOwXFCAACA8WDBcUIAAEBXs8FxQgAAAL0FwnFCAADAIljCcUIAAICIqsJxQgAAQO78wnFCAAAAVE/DcUIAAMC5ocNxQgAAgB/0w3FCAABAhUbEcUIAAADrmMRxQgAAwFDrxHFCAACAtj3FcUIAAEAckMVxQgAAAILixXFCAADA5zTGcUIAAIBNh8ZxQgAAQLPZxnFCAAAAGSzHcUIAAMB+fsdxQgAAgOTQx3FCAABASiPIcUIAAACwdchxQgAAwBXIyHFCAACAexrJcUIAAEDhbMlxQgAAAEe/yXFCAADArBHKcUIAAIASZMpxQgAAQHi2ynFCAAAA3gjLcUIAAMBDW8txQgAAgKmty3FCAABADwDMcUIAAAB1UsxxQgAAwNqkzHFCAACAQPfMcUIAAECmSc1xQgAAAAyczXFCAADAce7NcUIAAIDXQM5xQgAAQD2TznFCAAAAo+XOcUIAAMAIOM9xQgAAgG6Kz3FCAABA1NzPcUIAAAA6L9BxQgAAwJ+B0HFCAACABdTQcUIAAEBrJtFxQgAAANF40XFCAADANsvRcUIAAICcHdJxQgAAQAJw0nFCAAAAaMLScUIAAMDNFNNxQgAAgDNn03FCAABAmbnTcUIAAAD/C9RxQgAAwGRe1HFCAACAyrDUcUIAAEAwA9VxQgAAAJZV1XFCAADA+6fVcUIAAIBh+tVxQgAAQMdM1nFCAAAALZ/WcUIAAMCS8dZxQgAAgPhD13FCAABAXpbXcUIAAADE6NdxQgAAwCk72HFCAACAj43YcUIAAED139hxQgAAAFsy2XFCAADAwITZcUIAAIAm19lxQgAAQIwp2nFCAAAA8nvacUIAAMBXztpxQgAAgL0g23FCAABAI3PbcUIAAACJxdtxQgAAwO4X3HFCAACAVGrccUIAAEC6vNxxQgAAACAP3XFCAADAhWHdcUIAAIDrs91xQgAAQFEG3nFCAAAAt1jecUIAAMAcq95xQgAAgIL93nFCAABA6E/fcUIAAABOot9xQgAAwLP033FCAACAGUfgcUIAAEB/meBxQgAAAOXr4HFCAADASj7hcUIAAICwkOFxQgAAQBbj4XFCAAAAfDXicUIAAMDhh+JxQgAAgEfa4nFCAABArSzjcUIAAAATf+NxQgAAwHjR43FCAACA3iPkcUIAAEBEduRxQgAAAKrI5HFCAADADxvlcUIAAIB1beVxQgAAQNu/5XFCAAAAQRLmcUIAAMCmZOZxQgAAgAy35nFCAABAcgnncUIAAADYW+dxQgAAwD2u53FCAACAowDocUIAAEAJU+hxQgAAAG+l6HFCAADA1PfocUIAAIA6SulxQgAAQKCc6XFCAAAABu/pcUIAAMBrQepxQgAAgNGT6nFCAABAN+bqcUIAAACdOOtxQgAAwAKL63FCAACAaN3rcUIAAEDOL+xxQgAAADSC7HFCAADAmdTscUIAAID/Ju1xQgAAQGV57XFCAAAAy8vtcUIAAMAwHu5xQgAAgJZw7nFCAABA/MLucUIAAABiFe9xQgAAwMdn73FCAACALbrvcUIAAECTDPBxQgAAAPle8HFCAADAXrHwcUIAAIDEA/FxQgAAQCpW8XFCAAAAkKjxcUIAAMD1+vFxQgAAgFtN8nFCAABAwZ/ycUIAAAAn8vJxQgAAwIxE83FCAACA8pbzcUIAAEBY6fNxQgAAAL479HFCAADAI470cUIAAICJ4PRxQgAAQO8y9XFCAAAAVYX1cUIAAMC61/VxQgAAgCAq9nFCAABAhnz2cUIAAADszvZxQgAAwFEh93FCAACAt3P3cUIAAEAdxvdxQgAAAIMY+HFCAADA6Gr4cUIAAIBOvfhxQgAAQLQP+XFCAAAAGmL5cUIAAMB/tPlxQgAAgOUG+nFCAABAS1n6cUIAAACxq/pxQgAAwBb++nFCAACAfFD7cUIAAEDiovtxQgAAAEj1+3FCAADArUf8cUIAAIATmvxxQgAAQHns/HFCAAAA3z79cUIAAMBEkf1xQgAAgKrj/XFCAABAEDb+cUIAAAB2iP5xQgAAwNva/nFCAACAQS3/cUIAAECnf/9xQgAAAA3S/3FCAADAciQAckIAAIDYdgByQgAAQD7JAHJCAAAApBsBckIAAMAJbgFyQgAAgG/AAXJCAABA1RICckIAAAA7ZQJyQgAAwKC3AnJCAACABgoDckIAAEBsXANyQgAAANKuA3JCAADANwEEckIAAICdUwRyQgAAQAOmBHJCAAAAafgEckIAAMDOSgVyQgAAgDSdBXJCAABAmu8FckIAAAAAQgZyQgAAwGWUBnJCAACAy+YGckIAAEAxOQdyQgAAAJeLB3JCAADA/N0HckIAAIBiMAhyQgAAQMiCCHJCAAAALtUIckIAAMCTJwlyQgAAgPl5CXJCAABAX8wJckIAAADFHgpyQgAAwCpxCnJCAACAkMMKckIAAED2FQtyQgAAAFxoC3JCAADAwboLckIAAIAnDQxyQgAAQI1fDHJCAAAA87EMckIAAMBYBA1yQgAAgL5WDXJCAABAJKkNckIAAACK+w1yQgAAwO9NDnJCAACAVaAOckIAAEC78g5yQgAAACFFD3JCAADAhpcPckIAAIDs6Q9yQgAAQFI8EHJCAAAAuI4QckIAAMAd4RByQgAAgIMzEXJCAABA6YURckIAAABP2BFyQgAAwLQqEnJCAACAGn0SckIAAECAzxJyQgAAAOYhE3JCAADAS3QTckIAAICxxhNyQgAAQBcZFHJCAAAAfWsUckIAAMDivRRyQgAAgEgQFXJCAABArmIVckIAAAAUtRVyQgAAwHkHFnJCAACA31kWckIAAEBFrBZyQgAAAKv+FnJCAADAEFEXckIAAIB2oxdyQgAAQNz1F3JCAAAAQkgYckIAAMCnmhhyQgAAgA3tGHJCAABAcz8ZckIAAADZkRlyQgAAwD7kGXJCAACApDYackIAAEAKiRpyQgAAAHDbGnJCAADA1S0bckIAAIA7gBtyQgAAQKHSG3JCAAAAByUcckIAAMBsdxxyQgAAgNLJHHJCAABAOBwdckIAAACebh1yQgAAwAPBHXJCAACAaRMeckIAAEDPZR5yQgAAADW4HnJCAADAmgofckIAAIAAXR9yQgAAQGavH3JCAAAAzAEgckIAAMAxVCByQgAAgJemIHJCAABA/fggckIAAABjSyFyQgAAwMidIXJCAACALvAhckIAAECUQiJyQgAAAPqUInJCAADAX+cickIAAIDFOSNyQgAAQCuMI3JCAAAAkd4jckIAAMD2MCRyQgAAgFyDJHJCAABAwtUkckIAAAAoKCVyQgAAwI16JXJCAACA88wlckIAAEBZHyZyQgAAAL9xJnJCAADAJMQmckIAAICKFidyQgAAQPBoJ3JCAAAAVrsnckIAAMC7DShyQgAAgCFgKHJCAABAh7IockIAAADtBClyQgAAwFJXKXJCAACAuKkpckIAAEAe/ClyQgAAAIROKnJCAADA6aAqckIAAIBP8ypyQgAAQLVFK3JCAAAAG5grckIAAMCA6ityQgAAgOY8LHJCAABATI8sckIAAACy4SxyQgAAwBc0LXJCAACAfYYtckIAAEDj2C1yQgAAAEkrLnJCAADArn0uckIAAIAU0C5yQgAAQHoiL3JCAAAA4HQvckIAAMBFxy9yQgAAgKsZMHJCAABAEWwwckIAAAB3vjByQgAAwNwQMXJCAACAQmMxckIAAECotTFyQgAAAA4IMnJCAADAc1oyckIAAIDZrDJyQgAAQD//MnJCAAAApVEzckIAAMAKpDNyQgAAgHD2M3JCAABA1kg0ckIAAAA8mzRyQgAAwKHtNHJCAACAB0A1ckIAAEBtkjVyQgAAANPkNXJCAADAODc2ckIAAICeiTZyQgAAQATcNnJCAAAAai43ckIAAMDPgDdyQgAAgDXTN3JCAABAmyU4ckIAAAABeDhyQgAAwGbKOHJCAACAzBw5ckIAAEAybzlyQgAAAJjBOXJCAADA/RM6ckIAAIBjZjpyQgAAQMm4OnJCAAAALws7ckIAAMCUXTtyQgAAgPqvO3JCAABAYAI8ckIAAADGVDxyQgAAwCunPHJCAACAkfk8ckIAAED3Sz1yQgAAAF2ePXJCAADAwvA9ckIAAIAoQz5yQgAAQI6VPnJCAAAA9Oc+ckIAAMBZOj9yQgAAgL+MP3JCAABAJd8/ckIAAACLMUByQgAAwPCDQHJCAACAVtZAckIAAEC8KEFyQgAAACJ7QXJCAADAh81BckIAAIDtH0JyQgAAQFNyQnJCAAAAucRCckIAAMAeF0NyQgAAgIRpQ3JCAABA6rtDckIAAABQDkRyQgAAwLVgRHJCAACAG7NEckIAAECBBUVyQgAAAOdXRXJCAADATKpFckIAAICy/EVyQgAAQBhPRnJCAAAAfqFGckIAAMDj80ZyQgAAgElGR3JCAABAr5hHckIAAAAV60dyQgAAwHo9SHJCAACA4I9IckIAAEBG4khyQgAAAKw0SXJCAADAEYdJckIAAIB32UlyQgAAQN0rSnJCAAAAQ35KckIAAMCo0EpyQgAAgA4jS3JCAABAdHVLckIAAADax0tyQgAAwD8aTHJCAACApWxMckIAAEALv0xyQgAAAHERTXJCAADA1mNNckIAAIA8tk1yQgAAQKIITnJCAAAACFtOckIAAMBtrU5yQgAAgNP/TnJCAABAOVJPckIAAACfpE9yQgAAwAT3T3JCAACAaklQckIAAEDQm1ByQgAAADbuUHJCAADAm0BRckIAAIABk1FyQgAAQGflUXJCAAAAzTdSckIAAMAyilJyQgAAgJjcUnJCAABA/i5TckIAAABkgVNyQgAAwMnTU3JCAACALyZUckIAAECVeFRyQgAAAPvKVHJCAADAYB1VckIAAIDGb1VyQgAAQCzCVXJCAAAAkhRWckIAAMD3ZlZyQgAAgF25VnJCAABAwwtXckIAAAApXldyQgAAwI6wV3JCAACA9AJYckIAAEBaVVhyQgAAAMCnWHJCAADAJfpYckIAAICLTFlyQgAAQPGeWXJCAAAAV/FZckIAAMC8Q1pyQgAAgCKWWnJCAABAiOhackIAAADuOltyQgAAwFONW3JCAACAud9bckIAAEAfMlxyQgAAAIWEXHJCAADA6tZcckIAAIBQKV1yQgAAQLZ7XXJCAAAAHM5dckIAAMCBIF5yQgAAgOdyXnJCAABATcVeckIAAACzF19yQgAAwBhqX3JCAACAfrxfckIAAEDkDmByQgAAAEphYHJCAADAr7NgckIAAIAVBmFyQgAAQHtYYXJCAAAA4aphckIAAMBG/WFyQgAAgKxPYnJCAABAEqJickIAAAB49GJyQgAAwN1GY3JCAACAQ5ljckIAAECp62NyQgAAAA8+ZHJCAADAdJBkckIAAIDa4mRyQgAAQEA1ZXJCAAAApodlckIAAMAL2mVyQgAAgHEsZnJCAABA135mckIAAAA90WZyQgAAwKIjZ3JCAACACHZnckIAAEBuyGdyQgAAANQaaHJCAADAOW1ockIAAICfv2hyQgAAQAUSaXJCAAAAa2RpckIAAMDQtmlyQgAAgDYJanJCAABAnFtqckIAAAACrmpyQgAAwGcAa3JCAACAzVJrckIAAEAzpWtyQgAAAJn3a3JCAADA/klsckIAAIBknGxyQgAAQMrubHJCAAAAMEFtckIAAMCVk21yQgAAgPvlbXJCAABAYThuckIAAADHim5yQgAAwCzdbnJCAACAki9vckIAAED4gW9yQgAAAF7Ub3JCAADAwyZwckIAAIApeXByQgAAQI/LcHJCAAAA9R1xckIAAMBacHFyQgAAgMDCcXJCAABAJhVyckIAAACMZ3JyQgAAwPG5cnJCAACAVwxzckIAAEC9XnNyQgAAACOxc3JCAADAiAN0ckIAAIDuVXRyQgAAQFSodHJCAAAAuvp0ckIAAMAfTXVyQgAAgIWfdXJCAABA6/F1ckIAAABRRHZyQgAAwLaWdnJCAACAHOl2ckIAAECCO3dyQgAAAOiNd3JCAADATeB3ckIAAICzMnhyQgAAQBmFeHJCAAAAf9d4ckIAAMDkKXlyQgAAgEp8eXJCAABAsM55ckIAAAAWIXpyQgAAwHtzenJCAACA4cV6ckIAAEBHGHtyQgAAAK1qe3JCAADAEr17ckIAAIB4D3xyQgAAQN5hfHJCAAAARLR8ckIAAMCpBn1yQgAAgA9ZfXJCAABAdat9ckIAAADb/X1yQgAAwEBQfnJCAACApqJ+ckIAAEAM9X5yQgAAAHJHf3JCAADA15l/ckIAAIA97H9yQgAAQKM+gHJCAAAACZGAckIAAMBu44ByQgAAgNQ1gXJCAABAOoiBckIAAACg2oFyQgAAwAUtgnJCAACAa3+CckIAAEDR0YJyQgAAADckg3JCAADAnHaDckIAAIACyYNyQgAAQGgbhHJCAAAAzm2EckIAAMAzwIRyQgAAgJkShXJCAABA/2SFckIAAABlt4VyQgAAwMoJhnJCAACAMFyGckIAAECWroZyQgAAAPwAh3JCAADAYVOHckIAAIDHpYdyQgAAQC34h3JCAAAAk0qIckIAAMD4nIhyQgAAgF7viHJCAABAxEGJckIAAAAqlIlyQgAAwI/miXJCAACA9TiKckIAAEBbi4pyQgAAAMHdinJCAADAJjCLckIAAICMgotyQgAAQPLUi3JCAAAAWCeMckIAAMC9eYxyQgAAgCPMjHJCAABAiR6NckIAAADvcI1yQgAAwFTDjXJCAACAuhWOckIAAEAgaI5yQgAAAIa6jnJCAADA6wyPckIAAIBRX49yQgAAQLexj3JCAAAAHQSQckIAAMCCVpByQgAAgOiokHJCAABATvuQckIAAAC0TZFyQgAAwBmgkXJCAACAf/KRckIAAEDlRJJyQgAAAEuXknJCAADAsOmSckIAAIAWPJNyQgAAQHyOk3JCAAAA4uCTckIAAMBHM5RyQgAAgK2FlHJCAABAE9iUckIAAAB5KpVyQgAAwN58lXJCAACARM+VckIAAECqIZZyQgAAABB0lnJCAADAdcaWckIAAIDbGJdyQgAAQEFrl3JCAAAAp72XckIAAMAMEJhyQgAAgHJimHJCAABA2LSYckIAAAA+B5lyQgAAwKNZmXJCAACACayZckIAAEBv/plyQgAAANVQmnJCAADAOqOackIAAICg9ZpyQgAAQAZIm3JCAAAAbJqbckIAAMDR7JtyQgAAgDc/nHJCAABAnZGcckIAAAAD5JxyQgAAwGg2nXJCAACAzoidckIAAEA0251yQgAAAJotnnJCAADA/3+eckIAAIBl0p5yQgAAQMskn3JCAAAAMXefckIAAMCWyZ9yQgAAgPwboHJCAABAYm6gckIAAADIwKByQgAAwC0ToXJCAACAk2WhckIAAED5t6FyQgAAAF8KonJCAADAxFyickIAAIAqr6JyQgAAQJABo3JCAAAA9lOjckIAAMBbpqNyQgAAgMH4o3JCAABAJ0ukckIAAACNnaRyQgAAwPLvpHJCAACAWEKlckIAAEC+lKVyQgAAACTnpXJCAADAiTmmckIAAIDvi6ZyQgAAQFXepnJCAAAAuzCnckIAAMAgg6dyQgAAgIbVp3JCAABA7CeockIAAABSeqhyQgAAwLfMqHJCAACAHR+pckIAAECDcalyQgAAAOnDqXJCAADAThaqckIAAIC0aKpyQgAAQBq7qnJCAAAAgA2rckIAAMDlX6tyQgAAgEuyq3JCAABAsQSsckIAAAAXV6xyQgAAwHyprHJCAACA4vusckIAAEBITq1yQgAAAK6grXJCAADAE/OtckIAAIB5Ra5yQgAAQN+XrnJCAAAARequckIAAMCqPK9yQgAAgBCPr3JCAABAduGvckIAAADcM7ByQgAAwEGGsHJCAACAp9iwckIAAEANK7FyQgAAAHN9sXJCAADA2M+xckIAAIA+IrJyQgAAQKR0snJCAAAACseyckIAAMBvGbNyQgAAgNVrs3JCAABAO76zckIAAAChELRyQgAAwAZjtHJCAACAbLW0ckIAAEDSB7VyQgAAADhatXJCAADAnay1ckIAAIAD/7VyQgAAQGlRtnJCAAAAz6O2ckIAAMA09rZyQgAAgJpIt3JCAABAAJu3ckIAAABm7bdyQgAAwMs/uHJCAACAMZK4ckIAAECX5LhyQgAAAP02uXJCAADAYom5ckIAAIDI27lyQgAAQC4uunJCAAAAlIC6ckIAAMD50rpyQgAAgF8lu3JCAABAxXe7ckIAAAAryrtyQgAAwJAcvHJCAACA9m68ckIAAEBcwbxyQgAAAMITvXJCAADAJ2a9ckIAAICNuL1yQgAAQPMKvnJCAAAAWV2+ckIAAMC+r75yQgAAgCQCv3JCAABAilS/ckIAAADwpr9yQgAAwFX5v3JCAACAu0vAckIAAEAhnsByQgAAAIfwwHJCAADA7ELBckIAAIBSlcFyQgAAQLjnwXJCAAAAHjrCckIAAMCDjMJyQgAAgOnewnJCAABATzHDckIAAAC1g8NyQgAAwBrWw3JCAACAgCjEckIAAEDmesRyQgAAAEzNxHJCAADAsR/FckIAAIAXcsVyQgAAQH3ExXJCAAAA4xbGckIAAMBIacZyQgAAgK67xnJCAABAFA7HckIAAAB6YMdyQgAAwN+yx3JCAACARQXIckIAAECrV8hyQgAAABGqyHJCAADAdvzIckIAAIDcTslyQgAAQEKhyXJCAAAAqPPJckIAAMANRspyQgAAgHOYynJCAABA2erKckIAAAA/PctyQgAAwKSPy3JCAACACuLLckIAAEBwNMxyQgAAANaGzHJCAADAO9nMckIAAIChK81yQgAAQAd+zXJCAAAAbdDNckIAAMDSIs5yQgAAgDh1znJCAABAnsfOckIAAAAEGs9yQgAAwGlsz3JCAACAz77PckIAAEA1EdByQgAAAJtj0HJCAADAALbQckIAAIBmCNFyQgAAQMxa0XJCAAAAMq3RckIAAMCX/9FyQgAAgP1R0nJCAABAY6TSckIAAADJ9tJyQgAAwC5J03JCAACAlJvTckIAAED67dNyQgAAAGBA1HJCAADAxZLUckIAAIAr5dRyQgAAQJE31XJCAAAA94nVckIAAMBc3NVyQgAAgMIu1nJCAABAKIHWckIAAACO09ZyQgAAwPMl13JCAACAWXjXckIAAEC/ytdyQgAAACUd2HJCAADAim/YckIAAIDwwdhyQgAAQFYU2XJCAAAAvGbZckIAAMAhudlyQgAAgIcL2nJCAABA7V3ackIAAABTsNpyQgAAwLgC23JCAACAHlXbckIAAECEp9tyQgAAAOr523JCAADAT0zcckIAAIC1ntxyQgAAQBvx3HJCAAAAgUPdckIAAMDmld1yQgAAgEzo3XJCAABAsjreckIAAAAYjd5yQgAAwH3f3nJCAACA4zHfckIAAEBJhN9yQgAAAK/W33JCAADAFCngckIAAIB6e+ByQgAAQODN4HJCAAAARiDhckIAAMCrcuFyQgAAgBHF4XJCAABAdxfickIAAADdaeJyQgAAwEK84nJCAACAqA7jckIAAEAOYeNyQgAAAHSz43JCAADA2QXkckIAAIA/WORyQgAAQKWq5HJCAAAAC/3kckIAAMBwT+VyQgAAgNah5XJCAABAPPTlckIAAACiRuZyQgAAwAeZ5nJCAACAbevmckIAAEDTPedyQgAAADmQ53JCAADAnuLnckIAAIAENehyQgAAQGqH6HJCAAAA0NnockIAAMA1LOlyQgAAgJt+6XJCAABAAdHpckIAAABnI+pyQgAAwMx16nJCAACAMsjqckIAAECYGutyQgAAAP5s63JCAADAY7/rckIAAIDJEexyQgAAQC9k7HJCAAAAlbbsckIAAMD6CO1yQgAAgGBb7XJCAABAxq3tckIAAAAsAO5yQgAAwJFS7nJCAACA96TuckIAAEBd9+5yQgAAAMNJ73JCAADAKJzvckIAAICO7u9yQgAAQPRA8HJCAAAAWpPwckIAAMC/5fByQgAAgCU48XJCAABAi4rxckIAAADx3PFyQgAAwFYv8nJCAACAvIHyckIAAEAi1PJyQgAAAIgm83JCAADA7XjzckIAAIBTy/NyQgAAQLkd9HJCAAAAH3D0ckIAAMCEwvRyQgAAgOoU9XJCAABAUGf1ckIAAAC2ufVyQgAAwBsM9nJCAACAgV72ckIAAEDnsPZyQgAAAE0D93JCAADAslX3ckIAAIAYqPdyQgAAQH7693JCAAAA5Ez4ckIAAMBJn/hyQgAAgK/x+HJCAABAFUT5ckIAAAB7lvlyQgAAwODo+XJCAACARjv6ckIAAECsjfpyQgAAABLg+nJCAADAdzL7ckIAAIDdhPtyQgAAQEPX+3JCAAAAqSn8ckIAAMAOfPxyQgAAgHTO/HJCAABA2iD9ckIAAABAc/1yQgAAwKXF/XJCAACACxj+ckIAAEBxav5yQgAAANe8/nJCAADAPA//ckIAAICiYf9yQgAAQAi0/3JCAAAAbgYAc0IAAMDTWABzQgAAgDmrAHNCAABAn/0Ac0IAAAAFUAFzQgAAwGqiAXNCAACA0PQBc0IAAEA2RwJzQgAAAJyZAnNCAADAAewCc0IAAIBnPgNzQgAAQM2QA3NCAAAAM+MDc0IAAMCYNQRzQgAAgP6HBHNCAABAZNoEc0IAAADKLAVzQgAAwC9/BXNCAACAldEFc0IAAED7IwZzQgAAAGF2BnNCAADAxsgGc0IAAIAsGwdzQgAAQJJtB3NCAAAA+L8Hc0IAAMBdEghzQgAAgMNkCHNCAABAKbcIc0IAAACPCQlzQgAAwPRbCXNCAACAWq4Jc0IAAEDAAApzQgAAACZTCnNCAADAi6UKc0IAAIDx9wpzQgAAQFdKC3NCAAAAvZwLc0IAAMAi7wtzQgAAgIhBDHNCAABA7pMMc0IAAABU5gxzQgAAwLk4DXNCAACAH4sNc0IAAECF3Q1zQgAAAOsvDnNCAADAUIIOc0IAAIC21A5zQgAAQBwnD3NCAAAAgnkPc0IAAMDnyw9zQgAAgE0eEHNCAABAs3AQc0IAAAAZwxBzQgAAwH4VEXNCAACA5GcRc0IAAEBKuhFzQgAAALAMEnNCAADAFV8Sc0IAAIB7sRJzQgAAQOEDE3NCAAAAR1YTc0IAAMCsqBNzQgAAgBL7E3NCAABAeE0Uc0IAAADenxRzQgAAwEPyFHNCAACAqUQVc0IAAEAPlxVzQgAAAHXpFXNCAADA2jsWc0IAAIBAjhZzQgAAQKbgFnNCAAAADDMXc0IAAMBxhRdzQgAAgNfXF3NCAABAPSoYc0IAAACjfBhzQgAAwAjPGHNCAACAbiEZc0IAAEDUcxlzQgAAADrGGXNCAADAnxgac0IAAIAFaxpzQgAAQGu9GnNCAAAA0Q8bc0IAAMA2YhtzQgAAgJy0G3NCAABAAgccc0IAAABoWRxzQgAAwM2rHHNCAACAM/4cc0IAAECZUB1zQgAAAP+iHXNCAADAZPUdc0IAAIDKRx5zQgAAQDCaHnNCAAAAluwec0IAAMD7Ph9zQgAAgGGRH3NCAABAx+Mfc0IAAAAtNiBzQgAAwJKIIHNCAACA+Nogc0IAAEBeLSFzQgAAAMR/IXNCAADAKdIhc0IAAICPJCJzQgAAQPV2InNCAAAAW8kic0IAAMDAGyNzQgAAgCZuI3NCAABAjMAjc0IAAADyEiRzQgAAwFdlJHNCAACAvbckc0IAAEAjCiVzQgAAAIlcJXNCAADA7q4lc0IAAIBUASZzQgAAQLpTJnNCAAAAIKYmc0IAAMCF+CZzQgAAgOtKJ3NCAABAUZ0nc0IAAAC37ydzQgAAwBxCKHNCAACAgpQoc0IAAEDo5ihzQgAAAE45KXNCAADAs4spc0IAAIAZ3ilzQgAAQH8wKnNCAAAA5YIqc0IAAMBK1SpzQgAAgLAnK3NCAABAFnorc0IAAAB8zCtzQgAAwOEeLHNCAACAR3Esc0IAAECtwyxzQgAAABMWLXNCAADAeGgtc0IAAIDeui1zQgAAQEQNLnNCAAAAql8uc0IAAMAPsi5zQgAAgHUEL3NCAABA21Yvc0IAAABBqS9zQgAAwKb7L3NCAACADE4wc0IAAEByoDBzQgAAANjyMHNCAADAPUUxc0IAAICjlzFzQgAAQAnqMXNCAAAAbzwyc0IAAMDUjjJzQgAAgDrhMnNCAABAoDMzc0IAAAAGhjNzQgAAwGvYM3NCAACA0So0c0IAAEA3fTRzQgAAAJ3PNHNCAADAAiI1c0IAAIBodDVzQgAAQM7GNXNCAAAANBk2c0IAAMCZazZzQgAAgP+9NnNCAABAZRA3c0IAAADLYjdzQgAAwDC1N3NCAACAlgc4c0IAAED8WThzQgAAAGKsOHNCAADAx/44c0IAAIAtUTlzQgAAQJOjOXNCAAAA+fU5c0IAAMBeSDpzQgAAgMSaOnNCAABAKu06c0IAAACQPztzQgAAwPWRO3NCAACAW+Q7c0IAAEDBNjxzQgAAACeJPHNCAADAjNs8c0IAAIDyLT1zQgAAQFiAPXNCAAAAvtI9c0IAAMAjJT5zQgAAgIl3PnNCAABA78k+c0IAAABVHD9zQgAAwLpuP3NCAACAIME/c0IAAECGE0BzQgAAAOxlQHNCAADAUbhAc0IAAIC3CkFzQgAAQB1dQXNCAAAAg69Bc0IAAMDoAUJzQgAAgE5UQnNCAABAtKZCc0IAAAAa+UJzQgAAwH9LQ3NCAACA5Z1Dc0IAAEBL8ENzQgAAALFCRHNCAADAFpVEc0IAAIB850RzQgAAQOI5RXNCAAAASIxFc0IAAMCt3kVzQgAAgBMxRnNCAABAeYNGc0IAAADf1UZzQgAAwEQoR3NCAACAqnpHc0IAAEAQzUdzQgAAAHYfSHNCAADA23FIc0IAAIBBxEhzQgAAQKcWSXNC\",\"dtype\":\"float64\",\"order\":\"little\",\"shape\":[1461]},\"y\":[575,716,830,906,674,548,722,828,823,707,1065,686,544,774,855,795,994,1075,583,486,648,798,865,708,845,582,473,799,879,854,802,1351,755,530,759,803,810,719,829,691,734,753,3050,1196,1032,784,634,487,719,746,713,761,1893,712,541,772,695,642,763,926,747,539,835,747,759,777,952,949,577,745,698,665,782,860,740,537,828,665,946,829,755,666,492,672,741,678,669,708,675,532,812,865,827,782,926,701,502,679,768,715,873,777,887,527,782,883,823,845,1027,751,526,685,786,816,896,943,704,582,1312,841,731,805,863,752,663,802,818,893,948,1480,828,564,966,892,776,792,1375,919,758,862,1028,854,955,1032,730,649,656,1005,957,890,988,897,635,910,842,882,841,952,822,692,963,954,986,984,1056,952,710,829,784,948,804,935,844,610,768,864,838,752,965,865,700,798,855,823,1081,723,839,497,817,837,820,848,905,755,631,919,844,823,830,995,792,661,794,752,927,937,950,767,657,743,770,739,823,951,782,680,802,735,856,864,928,800,725,793,809,743,835,910,813,616,782,766,810,788,948,710,577,700,745,687,723,752,734,630,577,949,772,804,990,995,555,835,846,809,742,1243,812,573,820,638,751,760,936,762,592,748,839,745,731,1400,865,784,692,716,752,820,860,740,551,692,853,780,798,1063,796,632,702,777,824,754,1004,774,599,854,857,763,895,905,1279,717,766,1366,922,944,1039,746,586,780,772,1077,1169,839,849,634,805,799,724,1145,1326,1017,577,822,729,875,815,974,801,565,914,1175,983,471,725,667,924,1041,817,899,922,941,795,541,764,902,1243,1335,1216,831,615,926,1160,1059,1062,1995,961,1112,1155,1170,1655,440,710,596,484,789,757,868,458,681,602,416,569,789,810,819,801,1184,745,992,789,715,1087,979,644,959,1296,1271,870,780,1015,606,455,674,714,1299,893,911,620,504,793,1459,1057,805,761,709,458,785,570,693,683,771,612,450,535,697,724,689,724,567,524,695,676,686,642,830,577,938,1258,1124,755,852,750,757,446,675,580,672,704,798,601,462,590,711,686,694,732,697,455,722,677,644,862,910,672,601,704,774,724,785,1075,688,556,807,685,664,803,642,795,483,678,838,774,764,953,751,571,785,798,773,823,1019,860,727,889,916,759,750,1105,772,768,1005,865,722,955,936,824,578,695,839,850,846,988,750,559,720,931,985,1071,1012,710,631,633,878,763,844,953,766,643,858,870,926,936,1351,859,665,772,785,732,833,1077,857,633,832,726,763,1071,999,954,644,814,771,879,840,892,808,688,772,838,699,822,644,565,511,690,744,590,639,754,599,616,675,722,733,661,737,676,542,623,941,596,753,728,649,591,669,670,742,701,887,746,523,753,668,559,644,796,593,525,691,597,658,649,737,637,532,617,629,656,654,840,813,492,657,616,576,532,900,746,492,574,636,638,697,703,612,461,372,630,622,668,1226,851,537,717,647,590,602,729,641,481,728,565,651,666,732,620,829,628,568,588,635,704,790,548,678,679,789,644,743,671,469,455,647,679,1038,981,721,555,702,636,721,727,810,1178,555,730,1013,1029,715,727,859,552,659,731,689,631,729,637,475,645,599,630,858,1015,904,551,640,645,686,803,889,604,467,690,720,1101,439,492,551,485,857,669,790,724,838,763,485,681,673,975,748,766,639,1134,777,637,744,825,962,1268,679,1004,904,1090,946,375,688,540,541,614,552,1791,617,545,468,754,747,666,828,1079,642,486,763,710,674,868,753,705,609,656,649,755,756,719,699,543,943,725,696,2180,840,1065,530,735,703,945,880,865,747,685,886,1001,1110,951,1195,784,611,678,1008,935,816,885,766,528,835,1062,814,1209,975,767,584,945,818,754,740,744,735,570,697,743,662,643,957,977,622,833,823,852,847,915,813,637,775,760,767,715,774,711,539,813,868,794,915,849,734,574,700,740,793,814,792,695,540,797,738,848,731,912,666,540,757,753,817,788,939,769,700,948,816,722,835,957,851,655,909,901,935,856,943,916,542,865,746,884,834,893,824,585,764,1092,795,951,974,750,549,808,888,1019,854,862,703,806,640,971,968,887,988,752,629,806,860,1002,929,956,748,769,760,881,763,929,1099,880,634,947,819,946,937,1076,814,632,893,790,859,918,934,781,690,674,868,828,797,1054,758,620,770,979,1048,825,919,757,584,852,774,849,898,959,744,728,823,838,793,911,938,737,602,745,824,761,821,937,759,570,774,725,775,878,857,694,630,760,802,754,815,860,712,914,907,748,777,771,873,706,610,772,825,835,835,760,706,589,524,912,878,699,754,760,712,813,884,903,926,922,655,637,876,845,868,841,870,788,511,1261,871,687,856,1161,749,584,987,891,792,961,1042,817,645,743,867,947,1024,935,735,624,753,953,782,805,1008,824,586,824,757,1219,1034,981,760,588,855,872,983,1293,1020,705,604,860,945,836,830,1039,801,590,759,1024,1022,813,1043,719,534,885,851,972,660,785,616,573,836,921,1022,895,854,666,552,741,745,881,932,915,759,893,869,831,858,1644,1098,840,516,1002,1033,992,1027,848,326,2017,750,959,929,1027,776,371,308,519,457,440,504,864,652,370,525,629,405,601,660,401,303,426,602,489,523,766,402,289,549,463,1070,649,746,519,347,747,690,509,708,667,516,346,558,492,480,508,583,427,305,488,477,382,407,524,361,266,459,661,455,406,483,393,260,424,421,418,474,471,379,350,482,418,400,489,509,361,241,361,429,421,466,497,397,318,417,406,568,452,516,391,309,426,435,401,495,564,380,319,393,458,412,405,519,422,295,451,353,427,515,452,454,372,406,417,384,478,386,401,384,412,444,443,429,532,471,336,405,476,560,541,537,461,318,499,486,476,491,545,430,459,501,481,506,460,654,462,292,430,502,535,545,628,489,383,357,586,520,572,577,439,325,489,554,500,574,596,489,317,459,581,547,502,653,465,376,489,458,485,461,517,499,379,471,504,455,521,534,440,373,323,542,481,501,583,470,367,462,468,488,506,604,461,371,476,478,482,511,560,436,334,482,454,487,405,582,441,325,503,459,529,471,505,439,374,429,489,475,466,534,433,513,433,437,454,464,559,469,335,422,439,442,523,580,336,195,537,515,461,536,481,358,345,304,726,516,489,582,437,264,480,469,483,499,543,428,330,471,477,467,468,801,421,332,437,419,461,511,553,501,402,468,435,538,552,633,446,398,421,490,604,512,671,462,357,521,483,759,515,524,457,331,447,593,455,770,638,871,654,561,528,564,519,639,513,386,555,473,597,504,484,475,313,503,480,686,520,607,417,317,563,783,733,285,388,372,296,484,628,485,587,577,462,301,534,693,753,541,648,422,295,520,602,494,504,528,430,319,564,670,703,658,655,442,207,311,589,369,429,483,335]},\"selected\":{\"id\":\"1448\"},\"selection_policy\":{\"id\":\"1447\"}},\"id\":\"1416\",\"type\":\"ColumnDataSource\"},{\"attributes\":{\"source\":{\"id\":\"1416\"}},\"id\":\"1420\",\"type\":\"CDSView\"},{\"attributes\":{\"line_alpha\":0.1,\"line_color\":\"red\",\"x\":{\"field\":\"x\"},\"y\":{\"field\":\"y\"}},\"id\":\"1418\",\"type\":\"Line\"},{\"attributes\":{\"line_color\":\"red\",\"x\":{\"field\":\"x\"},\"y\":{\"field\":\"y\"}},\"id\":\"1417\",\"type\":\"Line\"},{\"attributes\":{\"bottom_units\":\"screen\",\"fill_alpha\":0.5,\"fill_color\":\"lightgrey\",\"left_units\":\"screen\",\"level\":\"overlay\",\"line_alpha\":1.0,\"line_color\":\"black\",\"line_dash\":[4,4],\"line_width\":2,\"right_units\":\"screen\",\"syncable\":false,\"top_units\":\"screen\"},\"id\":\"1408\",\"type\":\"BoxAnnotation\"}],\"root_ids\":[\"1383\"]},\"title\":\"Bokeh Application\",\"version\":\"2.3.2\"}};\n",
       "  var render_items = [{\"docid\":\"be944c56-60a9-436f-9f6a-7a43668ae5f2\",\"root_ids\":[\"1383\"],\"roots\":{\"1383\":\"b88d26e1-9684-49c5-a03c-8182d855729f\"}}];\n",
       "  root.Bokeh.embed.embed_items_notebook(docs_json, render_items);\n",
       "\n",
       "  }\n",
       "  if (root.Bokeh !== undefined) {\n",
       "    embed_document(root);\n",
       "  } else {\n",
       "    var attempts = 0;\n",
       "    var timer = setInterval(function(root) {\n",
       "      if (root.Bokeh !== undefined) {\n",
       "        clearInterval(timer);\n",
       "        embed_document(root);\n",
       "      } else {\n",
       "        attempts++;\n",
       "        if (attempts > 100) {\n",
       "          clearInterval(timer);\n",
       "          console.log(\"Bokeh: ERROR: Unable to run BokehJS code because BokehJS library is missing\");\n",
       "        }\n",
       "      }\n",
       "    }, 10, root)\n",
       "  }\n",
       "})(window);"
      ],
      "application/vnd.bokehjs_exec.v0+json": ""
     },
     "metadata": {
      "application/vnd.bokehjs_exec.v0+json": {
       "id": "1383"
      }
     },
     "output_type": "display_data"
    }
   ],
   "source": [
    "linechart = figure(title = \"N. of NJ Car Accidents over time\",\n",
    "                   plot_width = 500,\n",
    "                   plot_height = 400,\n",
    "                   x_axis_type = \"datetime\")\n",
    "\n",
    "linechart.line(line[\"Crash Date\"].sort_values(),\n",
    "               line[\"County Name\"],\n",
    "               line_color = \"red\", \n",
    "               line_width = 1)\n",
    "\n",
    "linechart.xaxis.major_label_orientation = \"vertical\"\n",
    "linechart.xaxis.axis_label = \"Crash Date\"\n",
    "linechart.yaxis.axis_label = \"N. of Car Accidents\"\n",
    "\n",
    "output_file(\"Your_First_TimeSeries_Line.html\")\n",
    "\n",
    "show(linechart)"
   ]
  },
  {
   "cell_type": "code",
   "execution_count": null,
   "metadata": {},
   "outputs": [],
   "source": []
  },
  {
   "cell_type": "markdown",
   "metadata": {},
   "source": [
    "> `Thank you for working with the script :)`"
   ]
  },
  {
   "cell_type": "code",
   "execution_count": null,
   "metadata": {},
   "outputs": [],
   "source": []
  },
  {
   "cell_type": "code",
   "execution_count": null,
   "metadata": {},
   "outputs": [],
   "source": []
  },
  {
   "cell_type": "markdown",
   "metadata": {},
   "source": [
    "# QF 627 Programming and Computational Finance\n",
    "## Problem-Sets for Exercise 1 | `Questions`"
   ]
  },
  {
   "cell_type": "markdown",
   "metadata": {},
   "source": [
    "> For your further exercise, let's analyze a dataset about [TED talks](https://www.ted.com/talks) using `pandas` and `matplotlib` libraries."
   ]
  },
  {
   "cell_type": "markdown",
   "metadata": {},
   "source": [
    "### <font color = green> Activation of necessary libraries. </font>"
   ]
  },
  {
   "cell_type": "code",
   "execution_count": 1,
   "metadata": {},
   "outputs": [],
   "source": [
    "import pandas as pd\n",
    "import matplotlib.pyplot as plt"
   ]
  },
  {
   "cell_type": "markdown",
   "metadata": {},
   "source": [
    "### <font color = \"blue\"> `IMPORT` your dataset: `TED_talks.csv`. </font>"
   ]
  },
  {
   "cell_type": "code",
   "execution_count": 2,
   "metadata": {},
   "outputs": [],
   "source": [
    "exercise1 = pd.read_csv(\"TED_talks.csv\")"
   ]
  },
  {
   "cell_type": "markdown",
   "metadata": {
    "scrolled": false
   },
   "source": [
    "> #### Print the imported dataframe. Each row (data points) represents a single talk (unit of observation)."
   ]
  },
  {
   "cell_type": "code",
   "execution_count": 3,
   "metadata": {
    "scrolled": true
   },
   "outputs": [
    {
     "data": {
      "text/html": [
       "<div>\n",
       "<style scoped>\n",
       "    .dataframe tbody tr th:only-of-type {\n",
       "        vertical-align: middle;\n",
       "    }\n",
       "\n",
       "    .dataframe tbody tr th {\n",
       "        vertical-align: top;\n",
       "    }\n",
       "\n",
       "    .dataframe thead th {\n",
       "        text-align: right;\n",
       "    }\n",
       "</style>\n",
       "<table border=\"1\" class=\"dataframe\">\n",
       "  <thead>\n",
       "    <tr style=\"text-align: right;\">\n",
       "      <th></th>\n",
       "      <th>comments</th>\n",
       "      <th>description</th>\n",
       "      <th>duration</th>\n",
       "      <th>event</th>\n",
       "      <th>film_date</th>\n",
       "      <th>languages</th>\n",
       "      <th>main_speaker</th>\n",
       "      <th>name</th>\n",
       "      <th>num_speaker</th>\n",
       "      <th>published_date</th>\n",
       "      <th>ratings</th>\n",
       "      <th>related_talks</th>\n",
       "      <th>speaker_occupation</th>\n",
       "      <th>tags</th>\n",
       "      <th>title</th>\n",
       "      <th>url</th>\n",
       "      <th>views</th>\n",
       "    </tr>\n",
       "  </thead>\n",
       "  <tbody>\n",
       "    <tr>\n",
       "      <th>0</th>\n",
       "      <td>4553</td>\n",
       "      <td>Sir Ken Robinson makes an entertaining and pro...</td>\n",
       "      <td>1164</td>\n",
       "      <td>TED2006</td>\n",
       "      <td>1140825600</td>\n",
       "      <td>60</td>\n",
       "      <td>Ken Robinson</td>\n",
       "      <td>Ken Robinson: Do schools kill creativity?</td>\n",
       "      <td>1</td>\n",
       "      <td>1151367060</td>\n",
       "      <td>[{'id': 7, 'name': 'Funny', 'count': 19645}, {...</td>\n",
       "      <td>[{'id': 865, 'hero': 'https://pe.tedcdn.com/im...</td>\n",
       "      <td>Author/educator</td>\n",
       "      <td>['children', 'creativity', 'culture', 'dance',...</td>\n",
       "      <td>Do schools kill creativity?</td>\n",
       "      <td>https://www.ted.com/talks/ken_robinson_says_sc...</td>\n",
       "      <td>47227110</td>\n",
       "    </tr>\n",
       "    <tr>\n",
       "      <th>1</th>\n",
       "      <td>265</td>\n",
       "      <td>With the same humor and humanity he exuded in ...</td>\n",
       "      <td>977</td>\n",
       "      <td>TED2006</td>\n",
       "      <td>1140825600</td>\n",
       "      <td>43</td>\n",
       "      <td>Al Gore</td>\n",
       "      <td>Al Gore: Averting the climate crisis</td>\n",
       "      <td>1</td>\n",
       "      <td>1151367060</td>\n",
       "      <td>[{'id': 7, 'name': 'Funny', 'count': 544}, {'i...</td>\n",
       "      <td>[{'id': 243, 'hero': 'https://pe.tedcdn.com/im...</td>\n",
       "      <td>Climate advocate</td>\n",
       "      <td>['alternative energy', 'cars', 'climate change...</td>\n",
       "      <td>Averting the climate crisis</td>\n",
       "      <td>https://www.ted.com/talks/al_gore_on_averting_...</td>\n",
       "      <td>3200520</td>\n",
       "    </tr>\n",
       "    <tr>\n",
       "      <th>2</th>\n",
       "      <td>124</td>\n",
       "      <td>New York Times columnist David Pogue takes aim...</td>\n",
       "      <td>1286</td>\n",
       "      <td>TED2006</td>\n",
       "      <td>1140739200</td>\n",
       "      <td>26</td>\n",
       "      <td>David Pogue</td>\n",
       "      <td>David Pogue: Simplicity sells</td>\n",
       "      <td>1</td>\n",
       "      <td>1151367060</td>\n",
       "      <td>[{'id': 7, 'name': 'Funny', 'count': 964}, {'i...</td>\n",
       "      <td>[{'id': 1725, 'hero': 'https://pe.tedcdn.com/i...</td>\n",
       "      <td>Technology columnist</td>\n",
       "      <td>['computers', 'entertainment', 'interface desi...</td>\n",
       "      <td>Simplicity sells</td>\n",
       "      <td>https://www.ted.com/talks/david_pogue_says_sim...</td>\n",
       "      <td>1636292</td>\n",
       "    </tr>\n",
       "    <tr>\n",
       "      <th>3</th>\n",
       "      <td>200</td>\n",
       "      <td>In an emotionally charged talk, MacArthur-winn...</td>\n",
       "      <td>1116</td>\n",
       "      <td>TED2006</td>\n",
       "      <td>1140912000</td>\n",
       "      <td>35</td>\n",
       "      <td>Majora Carter</td>\n",
       "      <td>Majora Carter: Greening the ghetto</td>\n",
       "      <td>1</td>\n",
       "      <td>1151367060</td>\n",
       "      <td>[{'id': 3, 'name': 'Courageous', 'count': 760}...</td>\n",
       "      <td>[{'id': 1041, 'hero': 'https://pe.tedcdn.com/i...</td>\n",
       "      <td>Activist for environmental justice</td>\n",
       "      <td>['MacArthur grant', 'activism', 'business', 'c...</td>\n",
       "      <td>Greening the ghetto</td>\n",
       "      <td>https://www.ted.com/talks/majora_carter_s_tale...</td>\n",
       "      <td>1697550</td>\n",
       "    </tr>\n",
       "    <tr>\n",
       "      <th>4</th>\n",
       "      <td>593</td>\n",
       "      <td>You've never seen data presented like this. Wi...</td>\n",
       "      <td>1190</td>\n",
       "      <td>TED2006</td>\n",
       "      <td>1140566400</td>\n",
       "      <td>48</td>\n",
       "      <td>Hans Rosling</td>\n",
       "      <td>Hans Rosling: The best stats you've ever seen</td>\n",
       "      <td>1</td>\n",
       "      <td>1151440680</td>\n",
       "      <td>[{'id': 9, 'name': 'Ingenious', 'count': 3202}...</td>\n",
       "      <td>[{'id': 2056, 'hero': 'https://pe.tedcdn.com/i...</td>\n",
       "      <td>Global health expert; data visionary</td>\n",
       "      <td>['Africa', 'Asia', 'Google', 'demo', 'economic...</td>\n",
       "      <td>The best stats you've ever seen</td>\n",
       "      <td>https://www.ted.com/talks/hans_rosling_shows_t...</td>\n",
       "      <td>12005869</td>\n",
       "    </tr>\n",
       "  </tbody>\n",
       "</table>\n",
       "</div>"
      ],
      "text/plain": [
       "   comments                                        description  duration  \\\n",
       "0      4553  Sir Ken Robinson makes an entertaining and pro...      1164   \n",
       "1       265  With the same humor and humanity he exuded in ...       977   \n",
       "2       124  New York Times columnist David Pogue takes aim...      1286   \n",
       "3       200  In an emotionally charged talk, MacArthur-winn...      1116   \n",
       "4       593  You've never seen data presented like this. Wi...      1190   \n",
       "\n",
       "     event   film_date  languages   main_speaker  \\\n",
       "0  TED2006  1140825600         60   Ken Robinson   \n",
       "1  TED2006  1140825600         43        Al Gore   \n",
       "2  TED2006  1140739200         26    David Pogue   \n",
       "3  TED2006  1140912000         35  Majora Carter   \n",
       "4  TED2006  1140566400         48   Hans Rosling   \n",
       "\n",
       "                                            name  num_speaker  published_date  \\\n",
       "0      Ken Robinson: Do schools kill creativity?            1      1151367060   \n",
       "1           Al Gore: Averting the climate crisis            1      1151367060   \n",
       "2                  David Pogue: Simplicity sells            1      1151367060   \n",
       "3             Majora Carter: Greening the ghetto            1      1151367060   \n",
       "4  Hans Rosling: The best stats you've ever seen            1      1151440680   \n",
       "\n",
       "                                             ratings  \\\n",
       "0  [{'id': 7, 'name': 'Funny', 'count': 19645}, {...   \n",
       "1  [{'id': 7, 'name': 'Funny', 'count': 544}, {'i...   \n",
       "2  [{'id': 7, 'name': 'Funny', 'count': 964}, {'i...   \n",
       "3  [{'id': 3, 'name': 'Courageous', 'count': 760}...   \n",
       "4  [{'id': 9, 'name': 'Ingenious', 'count': 3202}...   \n",
       "\n",
       "                                       related_talks  \\\n",
       "0  [{'id': 865, 'hero': 'https://pe.tedcdn.com/im...   \n",
       "1  [{'id': 243, 'hero': 'https://pe.tedcdn.com/im...   \n",
       "2  [{'id': 1725, 'hero': 'https://pe.tedcdn.com/i...   \n",
       "3  [{'id': 1041, 'hero': 'https://pe.tedcdn.com/i...   \n",
       "4  [{'id': 2056, 'hero': 'https://pe.tedcdn.com/i...   \n",
       "\n",
       "                     speaker_occupation  \\\n",
       "0                       Author/educator   \n",
       "1                      Climate advocate   \n",
       "2                  Technology columnist   \n",
       "3    Activist for environmental justice   \n",
       "4  Global health expert; data visionary   \n",
       "\n",
       "                                                tags  \\\n",
       "0  ['children', 'creativity', 'culture', 'dance',...   \n",
       "1  ['alternative energy', 'cars', 'climate change...   \n",
       "2  ['computers', 'entertainment', 'interface desi...   \n",
       "3  ['MacArthur grant', 'activism', 'business', 'c...   \n",
       "4  ['Africa', 'Asia', 'Google', 'demo', 'economic...   \n",
       "\n",
       "                             title  \\\n",
       "0      Do schools kill creativity?   \n",
       "1      Averting the climate crisis   \n",
       "2                 Simplicity sells   \n",
       "3              Greening the ghetto   \n",
       "4  The best stats you've ever seen   \n",
       "\n",
       "                                                 url     views  \n",
       "0  https://www.ted.com/talks/ken_robinson_says_sc...  47227110  \n",
       "1  https://www.ted.com/talks/al_gore_on_averting_...   3200520  \n",
       "2  https://www.ted.com/talks/david_pogue_says_sim...   1636292  \n",
       "3  https://www.ted.com/talks/majora_carter_s_tale...   1697550  \n",
       "4  https://www.ted.com/talks/hans_rosling_shows_t...  12005869  "
      ]
     },
     "execution_count": 3,
     "metadata": {},
     "output_type": "execute_result"
    }
   ],
   "source": [
    "exercise1.head()"
   ]
  },
  {
   "cell_type": "markdown",
   "metadata": {},
   "source": [
    "### Question 1. How would you check the number of rows and columns?"
   ]
  },
  {
   "cell_type": "code",
   "execution_count": 4,
   "metadata": {},
   "outputs": [
    {
     "name": "stdout",
     "output_type": "stream",
     "text": [
      "<class 'pandas.core.frame.DataFrame'>\n",
      "RangeIndex: 2550 entries, 0 to 2549\n",
      "Data columns (total 17 columns):\n",
      " #   Column              Non-Null Count  Dtype \n",
      "---  ------              --------------  ----- \n",
      " 0   comments            2550 non-null   int64 \n",
      " 1   description         2550 non-null   object\n",
      " 2   duration            2550 non-null   int64 \n",
      " 3   event               2550 non-null   object\n",
      " 4   film_date           2550 non-null   int64 \n",
      " 5   languages           2550 non-null   int64 \n",
      " 6   main_speaker        2550 non-null   object\n",
      " 7   name                2550 non-null   object\n",
      " 8   num_speaker         2550 non-null   int64 \n",
      " 9   published_date      2550 non-null   int64 \n",
      " 10  ratings             2550 non-null   object\n",
      " 11  related_talks       2550 non-null   object\n",
      " 12  speaker_occupation  2544 non-null   object\n",
      " 13  tags                2550 non-null   object\n",
      " 14  title               2550 non-null   object\n",
      " 15  url                 2550 non-null   object\n",
      " 16  views               2550 non-null   int64 \n",
      "dtypes: int64(7), object(10)\n",
      "memory usage: 338.8+ KB\n"
     ]
    }
   ],
   "source": [
    "exercise1.info()"
   ]
  },
  {
   "cell_type": "markdown",
   "metadata": {},
   "source": [
    "> Note that `object columns` are usually `strings`, but can also be arbitrary Python objects such as `lists` and `dictionaries`.\n",
    "\n",
    "> #### <font color = \"red\"> See **Chapter 12 and 13** of `The Coder's Apprentice` for more details. </font>"
   ]
  },
  {
   "cell_type": "markdown",
   "metadata": {},
   "source": [
    "### Question 2. How would you count the number of missing values in each column?"
   ]
  },
  {
   "cell_type": "code",
   "execution_count": 5,
   "metadata": {
    "scrolled": false
   },
   "outputs": [
    {
     "data": {
      "text/plain": [
       "comments              0\n",
       "description           0\n",
       "duration              0\n",
       "event                 0\n",
       "film_date             0\n",
       "languages             0\n",
       "main_speaker          0\n",
       "name                  0\n",
       "num_speaker           0\n",
       "published_date        0\n",
       "ratings               0\n",
       "related_talks         0\n",
       "speaker_occupation    6\n",
       "tags                  0\n",
       "title                 0\n",
       "url                   0\n",
       "views                 0\n",
       "dtype: int64"
      ]
     },
     "execution_count": 5,
     "metadata": {},
     "output_type": "execute_result"
    }
   ],
   "source": [
    "exercise1.isna().sum()"
   ]
  },
  {
   "cell_type": "code",
   "execution_count": 6,
   "metadata": {},
   "outputs": [
    {
     "data": {
      "text/html": [
       "<div>\n",
       "<style scoped>\n",
       "    .dataframe tbody tr th:only-of-type {\n",
       "        vertical-align: middle;\n",
       "    }\n",
       "\n",
       "    .dataframe tbody tr th {\n",
       "        vertical-align: top;\n",
       "    }\n",
       "\n",
       "    .dataframe thead th {\n",
       "        text-align: right;\n",
       "    }\n",
       "</style>\n",
       "<table border=\"1\" class=\"dataframe\">\n",
       "  <thead>\n",
       "    <tr style=\"text-align: right;\">\n",
       "      <th></th>\n",
       "      <th>comments</th>\n",
       "      <th>description</th>\n",
       "      <th>duration</th>\n",
       "      <th>event</th>\n",
       "      <th>film_date</th>\n",
       "      <th>languages</th>\n",
       "      <th>main_speaker</th>\n",
       "      <th>name</th>\n",
       "      <th>num_speaker</th>\n",
       "      <th>published_date</th>\n",
       "      <th>ratings</th>\n",
       "      <th>related_talks</th>\n",
       "      <th>speaker_occupation</th>\n",
       "      <th>tags</th>\n",
       "      <th>title</th>\n",
       "      <th>url</th>\n",
       "      <th>views</th>\n",
       "    </tr>\n",
       "  </thead>\n",
       "  <tbody>\n",
       "    <tr>\n",
       "      <th>1113</th>\n",
       "      <td>145</td>\n",
       "      <td>After a crisis, how can we tell if water is sa...</td>\n",
       "      <td>217</td>\n",
       "      <td>TEDGlobal 2011</td>\n",
       "      <td>1310601600</td>\n",
       "      <td>38</td>\n",
       "      <td>Sonaar Luthra</td>\n",
       "      <td>Sonaar Luthra: Meet the Water Canary</td>\n",
       "      <td>1</td>\n",
       "      <td>1326731605</td>\n",
       "      <td>[{'id': 10, 'name': 'Inspiring', 'count': 73},...</td>\n",
       "      <td>[{'id': 523, 'hero': 'https://pe.tedcdn.com/im...</td>\n",
       "      <td>NaN</td>\n",
       "      <td>['TED Fellows', 'design', 'global development'...</td>\n",
       "      <td>Meet the Water Canary</td>\n",
       "      <td>https://www.ted.com/talks/sonaar_luthra_meet_t...</td>\n",
       "      <td>353749</td>\n",
       "    </tr>\n",
       "    <tr>\n",
       "      <th>1192</th>\n",
       "      <td>122</td>\n",
       "      <td>The Pirate Party fights for transparency, anon...</td>\n",
       "      <td>1097</td>\n",
       "      <td>TEDxObserver</td>\n",
       "      <td>1331424000</td>\n",
       "      <td>10</td>\n",
       "      <td>Rick Falkvinge</td>\n",
       "      <td>Rick Falkvinge: I am a pirate</td>\n",
       "      <td>1</td>\n",
       "      <td>1333289675</td>\n",
       "      <td>[{'id': 8, 'name': 'Informative', 'count': 156...</td>\n",
       "      <td>[{'id': 1329, 'hero': 'https://pe.tedcdn.com/i...</td>\n",
       "      <td>NaN</td>\n",
       "      <td>['Internet', 'TEDx', 'global issues', 'politic...</td>\n",
       "      <td>I am a pirate</td>\n",
       "      <td>https://www.ted.com/talks/rick_falkvinge_i_am_...</td>\n",
       "      <td>181010</td>\n",
       "    </tr>\n",
       "    <tr>\n",
       "      <th>1220</th>\n",
       "      <td>257</td>\n",
       "      <td>As you surf the Web, information is being coll...</td>\n",
       "      <td>399</td>\n",
       "      <td>TED2012</td>\n",
       "      <td>1330473600</td>\n",
       "      <td>32</td>\n",
       "      <td>Gary Kovacs</td>\n",
       "      <td>Gary Kovacs: Tracking our online trackers</td>\n",
       "      <td>1</td>\n",
       "      <td>1336057219</td>\n",
       "      <td>[{'id': 23, 'name': 'Jaw-dropping', 'count': 9...</td>\n",
       "      <td>[{'id': 1370, 'hero': 'https://pe.tedcdn.com/i...</td>\n",
       "      <td>NaN</td>\n",
       "      <td>['Internet', 'advertising', 'business', 'priva...</td>\n",
       "      <td>Tracking our online trackers</td>\n",
       "      <td>https://www.ted.com/talks/gary_kovacs_tracking...</td>\n",
       "      <td>2098639</td>\n",
       "    </tr>\n",
       "    <tr>\n",
       "      <th>1656</th>\n",
       "      <td>140</td>\n",
       "      <td>In this lovely talk, TED Fellow Ryan Holladay ...</td>\n",
       "      <td>389</td>\n",
       "      <td>TED@BCG San Francisco</td>\n",
       "      <td>1383091200</td>\n",
       "      <td>33</td>\n",
       "      <td>Ryan Holladay</td>\n",
       "      <td>Ryan Holladay: To hear this music you have to ...</td>\n",
       "      <td>1</td>\n",
       "      <td>1389369735</td>\n",
       "      <td>[{'id': 1, 'name': 'Beautiful', 'count': 211},...</td>\n",
       "      <td>[{'id': 1152, 'hero': 'https://pe.tedcdn.com/i...</td>\n",
       "      <td>NaN</td>\n",
       "      <td>['TED Fellows', 'entertainment', 'music', 'tec...</td>\n",
       "      <td>To hear this music you have to be there. Liter...</td>\n",
       "      <td>https://www.ted.com/talks/ryan_holladay_to_hea...</td>\n",
       "      <td>1284510</td>\n",
       "    </tr>\n",
       "    <tr>\n",
       "      <th>1911</th>\n",
       "      <td>48</td>\n",
       "      <td>What do you do with an outdated encyclopedia i...</td>\n",
       "      <td>366</td>\n",
       "      <td>TEDYouth 2014</td>\n",
       "      <td>1415059200</td>\n",
       "      <td>34</td>\n",
       "      <td>Brian Dettmer</td>\n",
       "      <td>Brian Dettmer: Old books reborn as art</td>\n",
       "      <td>1</td>\n",
       "      <td>1423238442</td>\n",
       "      <td>[{'id': 1, 'name': 'Beautiful', 'count': 361},...</td>\n",
       "      <td>[{'id': 610, 'hero': 'https://pe.tedcdn.com/im...</td>\n",
       "      <td>NaN</td>\n",
       "      <td>['TEDYouth', 'art', 'books', 'creativity']</td>\n",
       "      <td>Old books reborn as art</td>\n",
       "      <td>https://www.ted.com/talks/brian_dettmer_old_bo...</td>\n",
       "      <td>1159937</td>\n",
       "    </tr>\n",
       "    <tr>\n",
       "      <th>1949</th>\n",
       "      <td>70</td>\n",
       "      <td>Photographer Boniface Mwangi wanted to protest...</td>\n",
       "      <td>440</td>\n",
       "      <td>TEDGlobal 2014</td>\n",
       "      <td>1413763200</td>\n",
       "      <td>33</td>\n",
       "      <td>Boniface Mwangi</td>\n",
       "      <td>Boniface Mwangi: The day I stood up alone</td>\n",
       "      <td>1</td>\n",
       "      <td>1427989423</td>\n",
       "      <td>[{'id': 3, 'name': 'Courageous', 'count': 614}...</td>\n",
       "      <td>[{'id': 1757, 'hero': 'https://pe.tedcdn.com/i...</td>\n",
       "      <td>NaN</td>\n",
       "      <td>['TED Fellows', 'activism', 'art', 'corruption...</td>\n",
       "      <td>The day I stood up alone</td>\n",
       "      <td>https://www.ted.com/talks/boniface_mwangi_boni...</td>\n",
       "      <td>1342431</td>\n",
       "    </tr>\n",
       "  </tbody>\n",
       "</table>\n",
       "</div>"
      ],
      "text/plain": [
       "      comments                                        description  duration  \\\n",
       "1113       145  After a crisis, how can we tell if water is sa...       217   \n",
       "1192       122  The Pirate Party fights for transparency, anon...      1097   \n",
       "1220       257  As you surf the Web, information is being coll...       399   \n",
       "1656       140  In this lovely talk, TED Fellow Ryan Holladay ...       389   \n",
       "1911        48  What do you do with an outdated encyclopedia i...       366   \n",
       "1949        70  Photographer Boniface Mwangi wanted to protest...       440   \n",
       "\n",
       "                      event   film_date  languages     main_speaker  \\\n",
       "1113         TEDGlobal 2011  1310601600         38    Sonaar Luthra   \n",
       "1192           TEDxObserver  1331424000         10   Rick Falkvinge   \n",
       "1220                TED2012  1330473600         32      Gary Kovacs   \n",
       "1656  TED@BCG San Francisco  1383091200         33    Ryan Holladay   \n",
       "1911          TEDYouth 2014  1415059200         34    Brian Dettmer   \n",
       "1949         TEDGlobal 2014  1413763200         33  Boniface Mwangi   \n",
       "\n",
       "                                                   name  num_speaker  \\\n",
       "1113               Sonaar Luthra: Meet the Water Canary            1   \n",
       "1192                      Rick Falkvinge: I am a pirate            1   \n",
       "1220          Gary Kovacs: Tracking our online trackers            1   \n",
       "1656  Ryan Holladay: To hear this music you have to ...            1   \n",
       "1911             Brian Dettmer: Old books reborn as art            1   \n",
       "1949          Boniface Mwangi: The day I stood up alone            1   \n",
       "\n",
       "      published_date                                            ratings  \\\n",
       "1113      1326731605  [{'id': 10, 'name': 'Inspiring', 'count': 73},...   \n",
       "1192      1333289675  [{'id': 8, 'name': 'Informative', 'count': 156...   \n",
       "1220      1336057219  [{'id': 23, 'name': 'Jaw-dropping', 'count': 9...   \n",
       "1656      1389369735  [{'id': 1, 'name': 'Beautiful', 'count': 211},...   \n",
       "1911      1423238442  [{'id': 1, 'name': 'Beautiful', 'count': 361},...   \n",
       "1949      1427989423  [{'id': 3, 'name': 'Courageous', 'count': 614}...   \n",
       "\n",
       "                                          related_talks speaker_occupation  \\\n",
       "1113  [{'id': 523, 'hero': 'https://pe.tedcdn.com/im...                NaN   \n",
       "1192  [{'id': 1329, 'hero': 'https://pe.tedcdn.com/i...                NaN   \n",
       "1220  [{'id': 1370, 'hero': 'https://pe.tedcdn.com/i...                NaN   \n",
       "1656  [{'id': 1152, 'hero': 'https://pe.tedcdn.com/i...                NaN   \n",
       "1911  [{'id': 610, 'hero': 'https://pe.tedcdn.com/im...                NaN   \n",
       "1949  [{'id': 1757, 'hero': 'https://pe.tedcdn.com/i...                NaN   \n",
       "\n",
       "                                                   tags  \\\n",
       "1113  ['TED Fellows', 'design', 'global development'...   \n",
       "1192  ['Internet', 'TEDx', 'global issues', 'politic...   \n",
       "1220  ['Internet', 'advertising', 'business', 'priva...   \n",
       "1656  ['TED Fellows', 'entertainment', 'music', 'tec...   \n",
       "1911         ['TEDYouth', 'art', 'books', 'creativity']   \n",
       "1949  ['TED Fellows', 'activism', 'art', 'corruption...   \n",
       "\n",
       "                                                  title  \\\n",
       "1113                              Meet the Water Canary   \n",
       "1192                                      I am a pirate   \n",
       "1220                       Tracking our online trackers   \n",
       "1656  To hear this music you have to be there. Liter...   \n",
       "1911                            Old books reborn as art   \n",
       "1949                           The day I stood up alone   \n",
       "\n",
       "                                                    url    views  \n",
       "1113  https://www.ted.com/talks/sonaar_luthra_meet_t...   353749  \n",
       "1192  https://www.ted.com/talks/rick_falkvinge_i_am_...   181010  \n",
       "1220  https://www.ted.com/talks/gary_kovacs_tracking...  2098639  \n",
       "1656  https://www.ted.com/talks/ryan_holladay_to_hea...  1284510  \n",
       "1911  https://www.ted.com/talks/brian_dettmer_old_bo...  1159937  \n",
       "1949  https://www.ted.com/talks/boniface_mwangi_boni...  1342431  "
      ]
     },
     "execution_count": 6,
     "metadata": {},
     "output_type": "execute_result"
    }
   ],
   "source": [
    "# 看看哪几行值缺失\n",
    "exercise1[exercise1.isna().any(axis = 1)]"
   ]
  },
  {
   "cell_type": "markdown",
   "metadata": {},
   "source": [
    "### Question 3.1. Which talks give rise to the most online discussion? First, please sort by the number of first-level comments (though note that this is `biased in favor of older talks`)."
   ]
  },
  {
   "cell_type": "code",
   "execution_count": 7,
   "metadata": {
    "scrolled": true
   },
   "outputs": [
    {
     "data": {
      "text/html": [
       "<div>\n",
       "<style scoped>\n",
       "    .dataframe tbody tr th:only-of-type {\n",
       "        vertical-align: middle;\n",
       "    }\n",
       "\n",
       "    .dataframe tbody tr th {\n",
       "        vertical-align: top;\n",
       "    }\n",
       "\n",
       "    .dataframe thead th {\n",
       "        text-align: right;\n",
       "    }\n",
       "</style>\n",
       "<table border=\"1\" class=\"dataframe\">\n",
       "  <thead>\n",
       "    <tr style=\"text-align: right;\">\n",
       "      <th></th>\n",
       "      <th>comments</th>\n",
       "      <th>description</th>\n",
       "      <th>duration</th>\n",
       "      <th>event</th>\n",
       "      <th>film_date</th>\n",
       "      <th>languages</th>\n",
       "      <th>main_speaker</th>\n",
       "      <th>name</th>\n",
       "      <th>num_speaker</th>\n",
       "      <th>published_date</th>\n",
       "      <th>ratings</th>\n",
       "      <th>related_talks</th>\n",
       "      <th>speaker_occupation</th>\n",
       "      <th>tags</th>\n",
       "      <th>title</th>\n",
       "      <th>url</th>\n",
       "      <th>views</th>\n",
       "    </tr>\n",
       "  </thead>\n",
       "  <tbody>\n",
       "    <tr>\n",
       "      <th>96</th>\n",
       "      <td>6404</td>\n",
       "      <td>Richard Dawkins urges all atheists to openly s...</td>\n",
       "      <td>1750</td>\n",
       "      <td>TED2002</td>\n",
       "      <td>1012608000</td>\n",
       "      <td>42</td>\n",
       "      <td>Richard Dawkins</td>\n",
       "      <td>Richard Dawkins: Militant atheism</td>\n",
       "      <td>1</td>\n",
       "      <td>1176689220</td>\n",
       "      <td>[{'id': 3, 'name': 'Courageous', 'count': 3236...</td>\n",
       "      <td>[{'id': 86, 'hero': 'https://pe.tedcdn.com/ima...</td>\n",
       "      <td>Evolutionary biologist</td>\n",
       "      <td>['God', 'atheism', 'culture', 'religion', 'sci...</td>\n",
       "      <td>Militant atheism</td>\n",
       "      <td>https://www.ted.com/talks/richard_dawkins_on_m...</td>\n",
       "      <td>4374792</td>\n",
       "    </tr>\n",
       "  </tbody>\n",
       "</table>\n",
       "</div>"
      ],
      "text/plain": [
       "    comments                                        description  duration  \\\n",
       "96      6404  Richard Dawkins urges all atheists to openly s...      1750   \n",
       "\n",
       "      event   film_date  languages     main_speaker  \\\n",
       "96  TED2002  1012608000         42  Richard Dawkins   \n",
       "\n",
       "                                 name  num_speaker  published_date  \\\n",
       "96  Richard Dawkins: Militant atheism            1      1176689220   \n",
       "\n",
       "                                              ratings  \\\n",
       "96  [{'id': 3, 'name': 'Courageous', 'count': 3236...   \n",
       "\n",
       "                                        related_talks      speaker_occupation  \\\n",
       "96  [{'id': 86, 'hero': 'https://pe.tedcdn.com/ima...  Evolutionary biologist   \n",
       "\n",
       "                                                 tags             title  \\\n",
       "96  ['God', 'atheism', 'culture', 'religion', 'sci...  Militant atheism   \n",
       "\n",
       "                                                  url    views  \n",
       "96  https://www.ted.com/talks/richard_dawkins_on_m...  4374792  "
      ]
     },
     "execution_count": 7,
     "metadata": {},
     "output_type": "execute_result"
    }
   ],
   "source": [
    "exercise1[exercise1[\"comments\"] == exercise1[\"comments\"].max()]"
   ]
  },
  {
   "cell_type": "code",
   "execution_count": 8,
   "metadata": {},
   "outputs": [
    {
     "data": {
      "text/html": [
       "<div>\n",
       "<style scoped>\n",
       "    .dataframe tbody tr th:only-of-type {\n",
       "        vertical-align: middle;\n",
       "    }\n",
       "\n",
       "    .dataframe tbody tr th {\n",
       "        vertical-align: top;\n",
       "    }\n",
       "\n",
       "    .dataframe thead th {\n",
       "        text-align: right;\n",
       "    }\n",
       "</style>\n",
       "<table border=\"1\" class=\"dataframe\">\n",
       "  <thead>\n",
       "    <tr style=\"text-align: right;\">\n",
       "      <th></th>\n",
       "      <th>comments</th>\n",
       "      <th>description</th>\n",
       "      <th>duration</th>\n",
       "      <th>event</th>\n",
       "      <th>film_date</th>\n",
       "      <th>languages</th>\n",
       "      <th>main_speaker</th>\n",
       "      <th>name</th>\n",
       "      <th>num_speaker</th>\n",
       "      <th>published_date</th>\n",
       "      <th>ratings</th>\n",
       "      <th>related_talks</th>\n",
       "      <th>speaker_occupation</th>\n",
       "      <th>tags</th>\n",
       "      <th>title</th>\n",
       "      <th>url</th>\n",
       "      <th>views</th>\n",
       "    </tr>\n",
       "  </thead>\n",
       "  <tbody>\n",
       "    <tr>\n",
       "      <th>96</th>\n",
       "      <td>6404</td>\n",
       "      <td>Richard Dawkins urges all atheists to openly s...</td>\n",
       "      <td>1750</td>\n",
       "      <td>TED2002</td>\n",
       "      <td>1012608000</td>\n",
       "      <td>42</td>\n",
       "      <td>Richard Dawkins</td>\n",
       "      <td>Richard Dawkins: Militant atheism</td>\n",
       "      <td>1</td>\n",
       "      <td>1176689220</td>\n",
       "      <td>[{'id': 3, 'name': 'Courageous', 'count': 3236...</td>\n",
       "      <td>[{'id': 86, 'hero': 'https://pe.tedcdn.com/ima...</td>\n",
       "      <td>Evolutionary biologist</td>\n",
       "      <td>['God', 'atheism', 'culture', 'religion', 'sci...</td>\n",
       "      <td>Militant atheism</td>\n",
       "      <td>https://www.ted.com/talks/richard_dawkins_on_m...</td>\n",
       "      <td>4374792</td>\n",
       "    </tr>\n",
       "    <tr>\n",
       "      <th>0</th>\n",
       "      <td>4553</td>\n",
       "      <td>Sir Ken Robinson makes an entertaining and pro...</td>\n",
       "      <td>1164</td>\n",
       "      <td>TED2006</td>\n",
       "      <td>1140825600</td>\n",
       "      <td>60</td>\n",
       "      <td>Ken Robinson</td>\n",
       "      <td>Ken Robinson: Do schools kill creativity?</td>\n",
       "      <td>1</td>\n",
       "      <td>1151367060</td>\n",
       "      <td>[{'id': 7, 'name': 'Funny', 'count': 19645}, {...</td>\n",
       "      <td>[{'id': 865, 'hero': 'https://pe.tedcdn.com/im...</td>\n",
       "      <td>Author/educator</td>\n",
       "      <td>['children', 'creativity', 'culture', 'dance',...</td>\n",
       "      <td>Do schools kill creativity?</td>\n",
       "      <td>https://www.ted.com/talks/ken_robinson_says_sc...</td>\n",
       "      <td>47227110</td>\n",
       "    </tr>\n",
       "    <tr>\n",
       "      <th>644</th>\n",
       "      <td>3356</td>\n",
       "      <td>Questions of good and evil, right and wrong ar...</td>\n",
       "      <td>1386</td>\n",
       "      <td>TED2010</td>\n",
       "      <td>1265846400</td>\n",
       "      <td>39</td>\n",
       "      <td>Sam Harris</td>\n",
       "      <td>Sam Harris: Science can answer moral questions</td>\n",
       "      <td>1</td>\n",
       "      <td>1269249180</td>\n",
       "      <td>[{'id': 8, 'name': 'Informative', 'count': 923...</td>\n",
       "      <td>[{'id': 666, 'hero': 'https://pe.tedcdn.com/im...</td>\n",
       "      <td>Neuroscientist, philosopher</td>\n",
       "      <td>['culture', 'evolutionary psychology', 'global...</td>\n",
       "      <td>Science can answer moral questions</td>\n",
       "      <td>https://www.ted.com/talks/sam_harris_science_c...</td>\n",
       "      <td>3433437</td>\n",
       "    </tr>\n",
       "    <tr>\n",
       "      <th>201</th>\n",
       "      <td>2877</td>\n",
       "      <td>Jill Bolte Taylor got a research opportunity f...</td>\n",
       "      <td>1099</td>\n",
       "      <td>TED2008</td>\n",
       "      <td>1204070400</td>\n",
       "      <td>49</td>\n",
       "      <td>Jill Bolte Taylor</td>\n",
       "      <td>Jill Bolte Taylor: My stroke of insight</td>\n",
       "      <td>1</td>\n",
       "      <td>1205284200</td>\n",
       "      <td>[{'id': 22, 'name': 'Fascinating', 'count': 14...</td>\n",
       "      <td>[{'id': 184, 'hero': 'https://pe.tedcdn.com/im...</td>\n",
       "      <td>Neuroanatomist</td>\n",
       "      <td>['biology', 'brain', 'consciousness', 'global ...</td>\n",
       "      <td>My stroke of insight</td>\n",
       "      <td>https://www.ted.com/talks/jill_bolte_taylor_s_...</td>\n",
       "      <td>21190883</td>\n",
       "    </tr>\n",
       "    <tr>\n",
       "      <th>1787</th>\n",
       "      <td>2673</td>\n",
       "      <td>Our consciousness is a fundamental aspect of o...</td>\n",
       "      <td>1117</td>\n",
       "      <td>TED2014</td>\n",
       "      <td>1395100800</td>\n",
       "      <td>33</td>\n",
       "      <td>David Chalmers</td>\n",
       "      <td>David Chalmers: How do you explain consciousness?</td>\n",
       "      <td>1</td>\n",
       "      <td>1405350484</td>\n",
       "      <td>[{'id': 25, 'name': 'OK', 'count': 280}, {'id'...</td>\n",
       "      <td>[{'id': 1308, 'hero': 'https://pe.tedcdn.com/i...</td>\n",
       "      <td>Philosopher</td>\n",
       "      <td>['brain', 'consciousness', 'neuroscience', 'ph...</td>\n",
       "      <td>How do you explain consciousness?</td>\n",
       "      <td>https://www.ted.com/talks/david_chalmers_how_d...</td>\n",
       "      <td>2162764</td>\n",
       "    </tr>\n",
       "    <tr>\n",
       "      <th>...</th>\n",
       "      <td>...</td>\n",
       "      <td>...</td>\n",
       "      <td>...</td>\n",
       "      <td>...</td>\n",
       "      <td>...</td>\n",
       "      <td>...</td>\n",
       "      <td>...</td>\n",
       "      <td>...</td>\n",
       "      <td>...</td>\n",
       "      <td>...</td>\n",
       "      <td>...</td>\n",
       "      <td>...</td>\n",
       "      <td>...</td>\n",
       "      <td>...</td>\n",
       "      <td>...</td>\n",
       "      <td>...</td>\n",
       "      <td>...</td>\n",
       "    </tr>\n",
       "    <tr>\n",
       "      <th>2407</th>\n",
       "      <td>5</td>\n",
       "      <td>Grammy-winning Silk Road Ensemble display thei...</td>\n",
       "      <td>389</td>\n",
       "      <td>TED2016</td>\n",
       "      <td>1455494400</td>\n",
       "      <td>0</td>\n",
       "      <td>Silk Road Ensemble</td>\n",
       "      <td>Silk Road Ensemble: \"Turceasca\"</td>\n",
       "      <td>1</td>\n",
       "      <td>1489759215</td>\n",
       "      <td>[{'id': 1, 'name': 'Beautiful', 'count': 80}, ...</td>\n",
       "      <td>[{'id': 2611, 'hero': 'https://pe.tedcdn.com/i...</td>\n",
       "      <td>Musical explorers</td>\n",
       "      <td>['art', 'live music', 'music', 'performance']</td>\n",
       "      <td>\"Turceasca\"</td>\n",
       "      <td>https://www.ted.com/talks/silk_road_ensemble_t...</td>\n",
       "      <td>640734</td>\n",
       "    </tr>\n",
       "    <tr>\n",
       "      <th>2528</th>\n",
       "      <td>3</td>\n",
       "      <td>Digital archaeologist Chance Coughenour is usi...</td>\n",
       "      <td>717</td>\n",
       "      <td>TEDxHamburg</td>\n",
       "      <td>1465344000</td>\n",
       "      <td>5</td>\n",
       "      <td>Chance Coughenour</td>\n",
       "      <td>Chance Coughenour: How your pictures can help ...</td>\n",
       "      <td>1</td>\n",
       "      <td>1504209631</td>\n",
       "      <td>[{'id': 9, 'name': 'Ingenious', 'count': 16}, ...</td>\n",
       "      <td>[{'id': 2673, 'hero': 'https://pe.tedcdn.com/i...</td>\n",
       "      <td>Digital archaeologist</td>\n",
       "      <td>['TEDx', 'ancient world', 'archaeology', 'cons...</td>\n",
       "      <td>How your pictures can help reclaim lost history</td>\n",
       "      <td>https://www.ted.com/talks/chance_coughenour_ho...</td>\n",
       "      <td>539207</td>\n",
       "    </tr>\n",
       "    <tr>\n",
       "      <th>2542</th>\n",
       "      <td>3</td>\n",
       "      <td>In the century-old statues that occupy Cape To...</td>\n",
       "      <td>795</td>\n",
       "      <td>TEDGlobal 2017</td>\n",
       "      <td>1503792000</td>\n",
       "      <td>1</td>\n",
       "      <td>Sethembile Msezane</td>\n",
       "      <td>Sethembile Msezane: Living sculptures that sta...</td>\n",
       "      <td>1</td>\n",
       "      <td>1505488093</td>\n",
       "      <td>[{'id': 1, 'name': 'Beautiful', 'count': 41}, ...</td>\n",
       "      <td>[{'id': 2873, 'hero': 'https://pe.tedcdn.com/i...</td>\n",
       "      <td>Artist</td>\n",
       "      <td>['Africa', 'activism', 'art', 'community', 'hi...</td>\n",
       "      <td>Living sculptures that stand for history's truths</td>\n",
       "      <td>https://www.ted.com/talks/sethembile_msezane_l...</td>\n",
       "      <td>542088</td>\n",
       "    </tr>\n",
       "    <tr>\n",
       "      <th>2501</th>\n",
       "      <td>3</td>\n",
       "      <td>Meet Françoise Mouly, The New Yorker's art dir...</td>\n",
       "      <td>509</td>\n",
       "      <td>TEDNYC</td>\n",
       "      <td>1488931200</td>\n",
       "      <td>12</td>\n",
       "      <td>Françoise Mouly</td>\n",
       "      <td>Françoise Mouly: The stories behind The New Yo...</td>\n",
       "      <td>1</td>\n",
       "      <td>1501770244</td>\n",
       "      <td>[{'id': 7, 'name': 'Funny', 'count': 10}, {'id...</td>\n",
       "      <td>[{'id': 2479, 'hero': 'https://pe.tedcdn.com/i...</td>\n",
       "      <td>Art editor</td>\n",
       "      <td>['TEDNYC', 'art', 'creativity', 'culture', 'de...</td>\n",
       "      <td>The stories behind The New Yorker's iconic covers</td>\n",
       "      <td>https://www.ted.com/talks/francoise_mouly_the_...</td>\n",
       "      <td>839040</td>\n",
       "    </tr>\n",
       "    <tr>\n",
       "      <th>2534</th>\n",
       "      <td>2</td>\n",
       "      <td>What the astronauts felt when they saw Earth f...</td>\n",
       "      <td>725</td>\n",
       "      <td>TEDxSkoll</td>\n",
       "      <td>1491523200</td>\n",
       "      <td>1</td>\n",
       "      <td>Benjamin Grant</td>\n",
       "      <td>Benjamin Grant: What it feels like to see Eart...</td>\n",
       "      <td>1</td>\n",
       "      <td>1504814438</td>\n",
       "      <td>[{'id': 10, 'name': 'Inspiring', 'count': 46},...</td>\n",
       "      <td>[{'id': 2511, 'hero': 'https://pe.tedcdn.com/i...</td>\n",
       "      <td>Author</td>\n",
       "      <td>['TEDx', 'art', 'climate change', 'environment...</td>\n",
       "      <td>What it feels like to see Earth from space</td>\n",
       "      <td>https://www.ted.com/talks/benjamin_grant_what_...</td>\n",
       "      <td>646174</td>\n",
       "    </tr>\n",
       "  </tbody>\n",
       "</table>\n",
       "<p>2550 rows × 17 columns</p>\n",
       "</div>"
      ],
      "text/plain": [
       "      comments                                        description  duration  \\\n",
       "96        6404  Richard Dawkins urges all atheists to openly s...      1750   \n",
       "0         4553  Sir Ken Robinson makes an entertaining and pro...      1164   \n",
       "644       3356  Questions of good and evil, right and wrong ar...      1386   \n",
       "201       2877  Jill Bolte Taylor got a research opportunity f...      1099   \n",
       "1787      2673  Our consciousness is a fundamental aspect of o...      1117   \n",
       "...        ...                                                ...       ...   \n",
       "2407         5  Grammy-winning Silk Road Ensemble display thei...       389   \n",
       "2528         3  Digital archaeologist Chance Coughenour is usi...       717   \n",
       "2542         3  In the century-old statues that occupy Cape To...       795   \n",
       "2501         3  Meet Françoise Mouly, The New Yorker's art dir...       509   \n",
       "2534         2  What the astronauts felt when they saw Earth f...       725   \n",
       "\n",
       "               event   film_date  languages         main_speaker  \\\n",
       "96           TED2002  1012608000         42      Richard Dawkins   \n",
       "0            TED2006  1140825600         60         Ken Robinson   \n",
       "644          TED2010  1265846400         39           Sam Harris   \n",
       "201          TED2008  1204070400         49    Jill Bolte Taylor   \n",
       "1787         TED2014  1395100800         33       David Chalmers   \n",
       "...              ...         ...        ...                  ...   \n",
       "2407         TED2016  1455494400          0   Silk Road Ensemble   \n",
       "2528     TEDxHamburg  1465344000          5    Chance Coughenour   \n",
       "2542  TEDGlobal 2017  1503792000          1   Sethembile Msezane   \n",
       "2501          TEDNYC  1488931200         12      Françoise Mouly   \n",
       "2534       TEDxSkoll  1491523200          1       Benjamin Grant   \n",
       "\n",
       "                                                   name  num_speaker  \\\n",
       "96                    Richard Dawkins: Militant atheism            1   \n",
       "0             Ken Robinson: Do schools kill creativity?            1   \n",
       "644      Sam Harris: Science can answer moral questions            1   \n",
       "201             Jill Bolte Taylor: My stroke of insight            1   \n",
       "1787  David Chalmers: How do you explain consciousness?            1   \n",
       "...                                                 ...          ...   \n",
       "2407                    Silk Road Ensemble: \"Turceasca\"            1   \n",
       "2528  Chance Coughenour: How your pictures can help ...            1   \n",
       "2542  Sethembile Msezane: Living sculptures that sta...            1   \n",
       "2501  Françoise Mouly: The stories behind The New Yo...            1   \n",
       "2534  Benjamin Grant: What it feels like to see Eart...            1   \n",
       "\n",
       "      published_date                                            ratings  \\\n",
       "96        1176689220  [{'id': 3, 'name': 'Courageous', 'count': 3236...   \n",
       "0         1151367060  [{'id': 7, 'name': 'Funny', 'count': 19645}, {...   \n",
       "644       1269249180  [{'id': 8, 'name': 'Informative', 'count': 923...   \n",
       "201       1205284200  [{'id': 22, 'name': 'Fascinating', 'count': 14...   \n",
       "1787      1405350484  [{'id': 25, 'name': 'OK', 'count': 280}, {'id'...   \n",
       "...              ...                                                ...   \n",
       "2407      1489759215  [{'id': 1, 'name': 'Beautiful', 'count': 80}, ...   \n",
       "2528      1504209631  [{'id': 9, 'name': 'Ingenious', 'count': 16}, ...   \n",
       "2542      1505488093  [{'id': 1, 'name': 'Beautiful', 'count': 41}, ...   \n",
       "2501      1501770244  [{'id': 7, 'name': 'Funny', 'count': 10}, {'id...   \n",
       "2534      1504814438  [{'id': 10, 'name': 'Inspiring', 'count': 46},...   \n",
       "\n",
       "                                          related_talks  \\\n",
       "96    [{'id': 86, 'hero': 'https://pe.tedcdn.com/ima...   \n",
       "0     [{'id': 865, 'hero': 'https://pe.tedcdn.com/im...   \n",
       "644   [{'id': 666, 'hero': 'https://pe.tedcdn.com/im...   \n",
       "201   [{'id': 184, 'hero': 'https://pe.tedcdn.com/im...   \n",
       "1787  [{'id': 1308, 'hero': 'https://pe.tedcdn.com/i...   \n",
       "...                                                 ...   \n",
       "2407  [{'id': 2611, 'hero': 'https://pe.tedcdn.com/i...   \n",
       "2528  [{'id': 2673, 'hero': 'https://pe.tedcdn.com/i...   \n",
       "2542  [{'id': 2873, 'hero': 'https://pe.tedcdn.com/i...   \n",
       "2501  [{'id': 2479, 'hero': 'https://pe.tedcdn.com/i...   \n",
       "2534  [{'id': 2511, 'hero': 'https://pe.tedcdn.com/i...   \n",
       "\n",
       "               speaker_occupation  \\\n",
       "96         Evolutionary biologist   \n",
       "0                 Author/educator   \n",
       "644   Neuroscientist, philosopher   \n",
       "201                Neuroanatomist   \n",
       "1787                  Philosopher   \n",
       "...                           ...   \n",
       "2407            Musical explorers   \n",
       "2528        Digital archaeologist   \n",
       "2542                       Artist   \n",
       "2501                   Art editor   \n",
       "2534                       Author   \n",
       "\n",
       "                                                   tags  \\\n",
       "96    ['God', 'atheism', 'culture', 'religion', 'sci...   \n",
       "0     ['children', 'creativity', 'culture', 'dance',...   \n",
       "644   ['culture', 'evolutionary psychology', 'global...   \n",
       "201   ['biology', 'brain', 'consciousness', 'global ...   \n",
       "1787  ['brain', 'consciousness', 'neuroscience', 'ph...   \n",
       "...                                                 ...   \n",
       "2407      ['art', 'live music', 'music', 'performance']   \n",
       "2528  ['TEDx', 'ancient world', 'archaeology', 'cons...   \n",
       "2542  ['Africa', 'activism', 'art', 'community', 'hi...   \n",
       "2501  ['TEDNYC', 'art', 'creativity', 'culture', 'de...   \n",
       "2534  ['TEDx', 'art', 'climate change', 'environment...   \n",
       "\n",
       "                                                  title  \\\n",
       "96                                     Militant atheism   \n",
       "0                           Do schools kill creativity?   \n",
       "644                  Science can answer moral questions   \n",
       "201                                My stroke of insight   \n",
       "1787                  How do you explain consciousness?   \n",
       "...                                                 ...   \n",
       "2407                                        \"Turceasca\"   \n",
       "2528    How your pictures can help reclaim lost history   \n",
       "2542  Living sculptures that stand for history's truths   \n",
       "2501  The stories behind The New Yorker's iconic covers   \n",
       "2534         What it feels like to see Earth from space   \n",
       "\n",
       "                                                    url     views  \n",
       "96    https://www.ted.com/talks/richard_dawkins_on_m...   4374792  \n",
       "0     https://www.ted.com/talks/ken_robinson_says_sc...  47227110  \n",
       "644   https://www.ted.com/talks/sam_harris_science_c...   3433437  \n",
       "201   https://www.ted.com/talks/jill_bolte_taylor_s_...  21190883  \n",
       "1787  https://www.ted.com/talks/david_chalmers_how_d...   2162764  \n",
       "...                                                 ...       ...  \n",
       "2407  https://www.ted.com/talks/silk_road_ensemble_t...    640734  \n",
       "2528  https://www.ted.com/talks/chance_coughenour_ho...    539207  \n",
       "2542  https://www.ted.com/talks/sethembile_msezane_l...    542088  \n",
       "2501  https://www.ted.com/talks/francoise_mouly_the_...    839040  \n",
       "2534  https://www.ted.com/talks/benjamin_grant_what_...    646174  \n",
       "\n",
       "[2550 rows x 17 columns]"
      ]
     },
     "execution_count": 8,
     "metadata": {},
     "output_type": "execute_result"
    }
   ],
   "source": [
    "exercise1.sort_values(by = \"comments\", ascending = False)"
   ]
  },
  {
   "cell_type": "markdown",
   "metadata": {},
   "source": [
    "#### Question 3.2. Please `correct for the bias` in favor of older talks `by calculating the number of comments per view`."
   ]
  },
  {
   "cell_type": "code",
   "execution_count": 9,
   "metadata": {},
   "outputs": [
    {
     "data": {
      "text/html": [
       "<div>\n",
       "<style scoped>\n",
       "    .dataframe tbody tr th:only-of-type {\n",
       "        vertical-align: middle;\n",
       "    }\n",
       "\n",
       "    .dataframe tbody tr th {\n",
       "        vertical-align: top;\n",
       "    }\n",
       "\n",
       "    .dataframe thead th {\n",
       "        text-align: right;\n",
       "    }\n",
       "</style>\n",
       "<table border=\"1\" class=\"dataframe\">\n",
       "  <thead>\n",
       "    <tr style=\"text-align: right;\">\n",
       "      <th></th>\n",
       "      <th>comments</th>\n",
       "      <th>description</th>\n",
       "      <th>duration</th>\n",
       "      <th>event</th>\n",
       "      <th>film_date</th>\n",
       "      <th>languages</th>\n",
       "      <th>main_speaker</th>\n",
       "      <th>name</th>\n",
       "      <th>num_speaker</th>\n",
       "      <th>published_date</th>\n",
       "      <th>ratings</th>\n",
       "      <th>related_talks</th>\n",
       "      <th>speaker_occupation</th>\n",
       "      <th>tags</th>\n",
       "      <th>title</th>\n",
       "      <th>url</th>\n",
       "      <th>views</th>\n",
       "      <th>comments per view</th>\n",
       "    </tr>\n",
       "  </thead>\n",
       "  <tbody>\n",
       "    <tr>\n",
       "      <th>744</th>\n",
       "      <td>649</td>\n",
       "      <td>Hours before New York lawmakers rejected a key...</td>\n",
       "      <td>453</td>\n",
       "      <td>New York State Senate</td>\n",
       "      <td>1259712000</td>\n",
       "      <td>0</td>\n",
       "      <td>Diane J. Savino</td>\n",
       "      <td>Diane J. Savino: The case for same-sex marriage</td>\n",
       "      <td>1</td>\n",
       "      <td>1282062180</td>\n",
       "      <td>[{'id': 25, 'name': 'OK', 'count': 100}, {'id'...</td>\n",
       "      <td>[{'id': 217, 'hero': 'https://pe.tedcdn.com/im...</td>\n",
       "      <td>Senator</td>\n",
       "      <td>['God', 'LGBT', 'culture', 'government', 'law'...</td>\n",
       "      <td>The case for same-sex marriage</td>\n",
       "      <td>https://www.ted.com/talks/diane_j_savino_the_c...</td>\n",
       "      <td>292395</td>\n",
       "      <td>0.002220</td>\n",
       "    </tr>\n",
       "    <tr>\n",
       "      <th>803</th>\n",
       "      <td>834</td>\n",
       "      <td>David Bismark demos a new system for voting th...</td>\n",
       "      <td>422</td>\n",
       "      <td>TEDGlobal 2010</td>\n",
       "      <td>1279065600</td>\n",
       "      <td>36</td>\n",
       "      <td>David Bismark</td>\n",
       "      <td>David Bismark: E-voting without fraud</td>\n",
       "      <td>1</td>\n",
       "      <td>1288685640</td>\n",
       "      <td>[{'id': 25, 'name': 'OK', 'count': 111}, {'id'...</td>\n",
       "      <td>[{'id': 803, 'hero': 'https://pe.tedcdn.com/im...</td>\n",
       "      <td>Voting system designer</td>\n",
       "      <td>['culture', 'democracy', 'design', 'global iss...</td>\n",
       "      <td>E-voting without fraud</td>\n",
       "      <td>https://www.ted.com/talks/david_bismark_e_voti...</td>\n",
       "      <td>543551</td>\n",
       "      <td>0.001534</td>\n",
       "    </tr>\n",
       "    <tr>\n",
       "      <th>96</th>\n",
       "      <td>6404</td>\n",
       "      <td>Richard Dawkins urges all atheists to openly s...</td>\n",
       "      <td>1750</td>\n",
       "      <td>TED2002</td>\n",
       "      <td>1012608000</td>\n",
       "      <td>42</td>\n",
       "      <td>Richard Dawkins</td>\n",
       "      <td>Richard Dawkins: Militant atheism</td>\n",
       "      <td>1</td>\n",
       "      <td>1176689220</td>\n",
       "      <td>[{'id': 3, 'name': 'Courageous', 'count': 3236...</td>\n",
       "      <td>[{'id': 86, 'hero': 'https://pe.tedcdn.com/ima...</td>\n",
       "      <td>Evolutionary biologist</td>\n",
       "      <td>['God', 'atheism', 'culture', 'religion', 'sci...</td>\n",
       "      <td>Militant atheism</td>\n",
       "      <td>https://www.ted.com/talks/richard_dawkins_on_m...</td>\n",
       "      <td>4374792</td>\n",
       "      <td>0.001464</td>\n",
       "    </tr>\n",
       "    <tr>\n",
       "      <th>694</th>\n",
       "      <td>1502</td>\n",
       "      <td>Filmmaker Sharmeen Obaid-Chinoy takes on a ter...</td>\n",
       "      <td>489</td>\n",
       "      <td>TED2010</td>\n",
       "      <td>1265760000</td>\n",
       "      <td>32</td>\n",
       "      <td>Sharmeen Obaid-Chinoy</td>\n",
       "      <td>Sharmeen Obaid-Chinoy: Inside a school for sui...</td>\n",
       "      <td>1</td>\n",
       "      <td>1274865960</td>\n",
       "      <td>[{'id': 23, 'name': 'Jaw-dropping', 'count': 3...</td>\n",
       "      <td>[{'id': 171, 'hero': 'https://pe.tedcdn.com/im...</td>\n",
       "      <td>Filmmaker</td>\n",
       "      <td>['TED Fellows', 'children', 'culture', 'film',...</td>\n",
       "      <td>Inside a school for suicide bombers</td>\n",
       "      <td>https://www.ted.com/talks/sharmeen_obaid_chino...</td>\n",
       "      <td>1057238</td>\n",
       "      <td>0.001421</td>\n",
       "    </tr>\n",
       "    <tr>\n",
       "      <th>954</th>\n",
       "      <td>2492</td>\n",
       "      <td>Janet Echelman found her true voice as an arti...</td>\n",
       "      <td>566</td>\n",
       "      <td>TED2011</td>\n",
       "      <td>1299110400</td>\n",
       "      <td>35</td>\n",
       "      <td>Janet Echelman</td>\n",
       "      <td>Janet Echelman: Taking imagination seriously</td>\n",
       "      <td>1</td>\n",
       "      <td>1307489760</td>\n",
       "      <td>[{'id': 23, 'name': 'Jaw-dropping', 'count': 3...</td>\n",
       "      <td>[{'id': 453, 'hero': 'https://pe.tedcdn.com/im...</td>\n",
       "      <td>Artist</td>\n",
       "      <td>['art', 'cities', 'culture', 'data', 'design',...</td>\n",
       "      <td>Taking imagination seriously</td>\n",
       "      <td>https://www.ted.com/talks/janet_echelman</td>\n",
       "      <td>1832930</td>\n",
       "      <td>0.001360</td>\n",
       "    </tr>\n",
       "    <tr>\n",
       "      <th>...</th>\n",
       "      <td>...</td>\n",
       "      <td>...</td>\n",
       "      <td>...</td>\n",
       "      <td>...</td>\n",
       "      <td>...</td>\n",
       "      <td>...</td>\n",
       "      <td>...</td>\n",
       "      <td>...</td>\n",
       "      <td>...</td>\n",
       "      <td>...</td>\n",
       "      <td>...</td>\n",
       "      <td>...</td>\n",
       "      <td>...</td>\n",
       "      <td>...</td>\n",
       "      <td>...</td>\n",
       "      <td>...</td>\n",
       "      <td>...</td>\n",
       "      <td>...</td>\n",
       "    </tr>\n",
       "    <tr>\n",
       "      <th>2494</th>\n",
       "      <td>7</td>\n",
       "      <td>Jimmy Lin is developing technologies to catch ...</td>\n",
       "      <td>730</td>\n",
       "      <td>TED2017</td>\n",
       "      <td>1492992000</td>\n",
       "      <td>10</td>\n",
       "      <td>Jimmy Lin</td>\n",
       "      <td>Jimmy Lin: A simple new blood test that can ca...</td>\n",
       "      <td>1</td>\n",
       "      <td>1500994384</td>\n",
       "      <td>[{'id': 1, 'name': 'Beautiful', 'count': 7}, {...</td>\n",
       "      <td>[{'id': 2498, 'hero': 'https://pe.tedcdn.com/i...</td>\n",
       "      <td>Geneticist</td>\n",
       "      <td>['DNA', 'TED Fellows', 'biology', 'cancer', 'd...</td>\n",
       "      <td>A simple new blood test that can catch cancer ...</td>\n",
       "      <td>https://www.ted.com/talks/jimmy_lin_a_simple_n...</td>\n",
       "      <td>1005506</td>\n",
       "      <td>0.000007</td>\n",
       "    </tr>\n",
       "    <tr>\n",
       "      <th>2528</th>\n",
       "      <td>3</td>\n",
       "      <td>Digital archaeologist Chance Coughenour is usi...</td>\n",
       "      <td>717</td>\n",
       "      <td>TEDxHamburg</td>\n",
       "      <td>1465344000</td>\n",
       "      <td>5</td>\n",
       "      <td>Chance Coughenour</td>\n",
       "      <td>Chance Coughenour: How your pictures can help ...</td>\n",
       "      <td>1</td>\n",
       "      <td>1504209631</td>\n",
       "      <td>[{'id': 9, 'name': 'Ingenious', 'count': 16}, ...</td>\n",
       "      <td>[{'id': 2673, 'hero': 'https://pe.tedcdn.com/i...</td>\n",
       "      <td>Digital archaeologist</td>\n",
       "      <td>['TEDx', 'ancient world', 'archaeology', 'cons...</td>\n",
       "      <td>How your pictures can help reclaim lost history</td>\n",
       "      <td>https://www.ted.com/talks/chance_coughenour_ho...</td>\n",
       "      <td>539207</td>\n",
       "      <td>0.000006</td>\n",
       "    </tr>\n",
       "    <tr>\n",
       "      <th>2542</th>\n",
       "      <td>3</td>\n",
       "      <td>In the century-old statues that occupy Cape To...</td>\n",
       "      <td>795</td>\n",
       "      <td>TEDGlobal 2017</td>\n",
       "      <td>1503792000</td>\n",
       "      <td>1</td>\n",
       "      <td>Sethembile Msezane</td>\n",
       "      <td>Sethembile Msezane: Living sculptures that sta...</td>\n",
       "      <td>1</td>\n",
       "      <td>1505488093</td>\n",
       "      <td>[{'id': 1, 'name': 'Beautiful', 'count': 41}, ...</td>\n",
       "      <td>[{'id': 2873, 'hero': 'https://pe.tedcdn.com/i...</td>\n",
       "      <td>Artist</td>\n",
       "      <td>['Africa', 'activism', 'art', 'community', 'hi...</td>\n",
       "      <td>Living sculptures that stand for history's truths</td>\n",
       "      <td>https://www.ted.com/talks/sethembile_msezane_l...</td>\n",
       "      <td>542088</td>\n",
       "      <td>0.000006</td>\n",
       "    </tr>\n",
       "    <tr>\n",
       "      <th>2501</th>\n",
       "      <td>3</td>\n",
       "      <td>Meet Françoise Mouly, The New Yorker's art dir...</td>\n",
       "      <td>509</td>\n",
       "      <td>TEDNYC</td>\n",
       "      <td>1488931200</td>\n",
       "      <td>12</td>\n",
       "      <td>Françoise Mouly</td>\n",
       "      <td>Françoise Mouly: The stories behind The New Yo...</td>\n",
       "      <td>1</td>\n",
       "      <td>1501770244</td>\n",
       "      <td>[{'id': 7, 'name': 'Funny', 'count': 10}, {'id...</td>\n",
       "      <td>[{'id': 2479, 'hero': 'https://pe.tedcdn.com/i...</td>\n",
       "      <td>Art editor</td>\n",
       "      <td>['TEDNYC', 'art', 'creativity', 'culture', 'de...</td>\n",
       "      <td>The stories behind The New Yorker's iconic covers</td>\n",
       "      <td>https://www.ted.com/talks/francoise_mouly_the_...</td>\n",
       "      <td>839040</td>\n",
       "      <td>0.000004</td>\n",
       "    </tr>\n",
       "    <tr>\n",
       "      <th>2534</th>\n",
       "      <td>2</td>\n",
       "      <td>What the astronauts felt when they saw Earth f...</td>\n",
       "      <td>725</td>\n",
       "      <td>TEDxSkoll</td>\n",
       "      <td>1491523200</td>\n",
       "      <td>1</td>\n",
       "      <td>Benjamin Grant</td>\n",
       "      <td>Benjamin Grant: What it feels like to see Eart...</td>\n",
       "      <td>1</td>\n",
       "      <td>1504814438</td>\n",
       "      <td>[{'id': 10, 'name': 'Inspiring', 'count': 46},...</td>\n",
       "      <td>[{'id': 2511, 'hero': 'https://pe.tedcdn.com/i...</td>\n",
       "      <td>Author</td>\n",
       "      <td>['TEDx', 'art', 'climate change', 'environment...</td>\n",
       "      <td>What it feels like to see Earth from space</td>\n",
       "      <td>https://www.ted.com/talks/benjamin_grant_what_...</td>\n",
       "      <td>646174</td>\n",
       "      <td>0.000003</td>\n",
       "    </tr>\n",
       "  </tbody>\n",
       "</table>\n",
       "<p>2550 rows × 18 columns</p>\n",
       "</div>"
      ],
      "text/plain": [
       "      comments                                        description  duration  \\\n",
       "744        649  Hours before New York lawmakers rejected a key...       453   \n",
       "803        834  David Bismark demos a new system for voting th...       422   \n",
       "96        6404  Richard Dawkins urges all atheists to openly s...      1750   \n",
       "694       1502  Filmmaker Sharmeen Obaid-Chinoy takes on a ter...       489   \n",
       "954       2492  Janet Echelman found her true voice as an arti...       566   \n",
       "...        ...                                                ...       ...   \n",
       "2494         7  Jimmy Lin is developing technologies to catch ...       730   \n",
       "2528         3  Digital archaeologist Chance Coughenour is usi...       717   \n",
       "2542         3  In the century-old statues that occupy Cape To...       795   \n",
       "2501         3  Meet Françoise Mouly, The New Yorker's art dir...       509   \n",
       "2534         2  What the astronauts felt when they saw Earth f...       725   \n",
       "\n",
       "                      event   film_date  languages           main_speaker  \\\n",
       "744   New York State Senate  1259712000          0        Diane J. Savino   \n",
       "803          TEDGlobal 2010  1279065600         36          David Bismark   \n",
       "96                  TED2002  1012608000         42        Richard Dawkins   \n",
       "694                 TED2010  1265760000         32  Sharmeen Obaid-Chinoy   \n",
       "954                 TED2011  1299110400         35         Janet Echelman   \n",
       "...                     ...         ...        ...                    ...   \n",
       "2494                TED2017  1492992000         10              Jimmy Lin   \n",
       "2528            TEDxHamburg  1465344000          5      Chance Coughenour   \n",
       "2542         TEDGlobal 2017  1503792000          1     Sethembile Msezane   \n",
       "2501                 TEDNYC  1488931200         12        Françoise Mouly   \n",
       "2534              TEDxSkoll  1491523200          1         Benjamin Grant   \n",
       "\n",
       "                                                   name  num_speaker  \\\n",
       "744     Diane J. Savino: The case for same-sex marriage            1   \n",
       "803               David Bismark: E-voting without fraud            1   \n",
       "96                    Richard Dawkins: Militant atheism            1   \n",
       "694   Sharmeen Obaid-Chinoy: Inside a school for sui...            1   \n",
       "954        Janet Echelman: Taking imagination seriously            1   \n",
       "...                                                 ...          ...   \n",
       "2494  Jimmy Lin: A simple new blood test that can ca...            1   \n",
       "2528  Chance Coughenour: How your pictures can help ...            1   \n",
       "2542  Sethembile Msezane: Living sculptures that sta...            1   \n",
       "2501  Françoise Mouly: The stories behind The New Yo...            1   \n",
       "2534  Benjamin Grant: What it feels like to see Eart...            1   \n",
       "\n",
       "      published_date                                            ratings  \\\n",
       "744       1282062180  [{'id': 25, 'name': 'OK', 'count': 100}, {'id'...   \n",
       "803       1288685640  [{'id': 25, 'name': 'OK', 'count': 111}, {'id'...   \n",
       "96        1176689220  [{'id': 3, 'name': 'Courageous', 'count': 3236...   \n",
       "694       1274865960  [{'id': 23, 'name': 'Jaw-dropping', 'count': 3...   \n",
       "954       1307489760  [{'id': 23, 'name': 'Jaw-dropping', 'count': 3...   \n",
       "...              ...                                                ...   \n",
       "2494      1500994384  [{'id': 1, 'name': 'Beautiful', 'count': 7}, {...   \n",
       "2528      1504209631  [{'id': 9, 'name': 'Ingenious', 'count': 16}, ...   \n",
       "2542      1505488093  [{'id': 1, 'name': 'Beautiful', 'count': 41}, ...   \n",
       "2501      1501770244  [{'id': 7, 'name': 'Funny', 'count': 10}, {'id...   \n",
       "2534      1504814438  [{'id': 10, 'name': 'Inspiring', 'count': 46},...   \n",
       "\n",
       "                                          related_talks  \\\n",
       "744   [{'id': 217, 'hero': 'https://pe.tedcdn.com/im...   \n",
       "803   [{'id': 803, 'hero': 'https://pe.tedcdn.com/im...   \n",
       "96    [{'id': 86, 'hero': 'https://pe.tedcdn.com/ima...   \n",
       "694   [{'id': 171, 'hero': 'https://pe.tedcdn.com/im...   \n",
       "954   [{'id': 453, 'hero': 'https://pe.tedcdn.com/im...   \n",
       "...                                                 ...   \n",
       "2494  [{'id': 2498, 'hero': 'https://pe.tedcdn.com/i...   \n",
       "2528  [{'id': 2673, 'hero': 'https://pe.tedcdn.com/i...   \n",
       "2542  [{'id': 2873, 'hero': 'https://pe.tedcdn.com/i...   \n",
       "2501  [{'id': 2479, 'hero': 'https://pe.tedcdn.com/i...   \n",
       "2534  [{'id': 2511, 'hero': 'https://pe.tedcdn.com/i...   \n",
       "\n",
       "          speaker_occupation  \\\n",
       "744                  Senator   \n",
       "803   Voting system designer   \n",
       "96    Evolutionary biologist   \n",
       "694                Filmmaker   \n",
       "954                   Artist   \n",
       "...                      ...   \n",
       "2494              Geneticist   \n",
       "2528   Digital archaeologist   \n",
       "2542                  Artist   \n",
       "2501              Art editor   \n",
       "2534                  Author   \n",
       "\n",
       "                                                   tags  \\\n",
       "744   ['God', 'LGBT', 'culture', 'government', 'law'...   \n",
       "803   ['culture', 'democracy', 'design', 'global iss...   \n",
       "96    ['God', 'atheism', 'culture', 'religion', 'sci...   \n",
       "694   ['TED Fellows', 'children', 'culture', 'film',...   \n",
       "954   ['art', 'cities', 'culture', 'data', 'design',...   \n",
       "...                                                 ...   \n",
       "2494  ['DNA', 'TED Fellows', 'biology', 'cancer', 'd...   \n",
       "2528  ['TEDx', 'ancient world', 'archaeology', 'cons...   \n",
       "2542  ['Africa', 'activism', 'art', 'community', 'hi...   \n",
       "2501  ['TEDNYC', 'art', 'creativity', 'culture', 'de...   \n",
       "2534  ['TEDx', 'art', 'climate change', 'environment...   \n",
       "\n",
       "                                                  title  \\\n",
       "744                      The case for same-sex marriage   \n",
       "803                              E-voting without fraud   \n",
       "96                                     Militant atheism   \n",
       "694                 Inside a school for suicide bombers   \n",
       "954                        Taking imagination seriously   \n",
       "...                                                 ...   \n",
       "2494  A simple new blood test that can catch cancer ...   \n",
       "2528    How your pictures can help reclaim lost history   \n",
       "2542  Living sculptures that stand for history's truths   \n",
       "2501  The stories behind The New Yorker's iconic covers   \n",
       "2534         What it feels like to see Earth from space   \n",
       "\n",
       "                                                    url    views  \\\n",
       "744   https://www.ted.com/talks/diane_j_savino_the_c...   292395   \n",
       "803   https://www.ted.com/talks/david_bismark_e_voti...   543551   \n",
       "96    https://www.ted.com/talks/richard_dawkins_on_m...  4374792   \n",
       "694   https://www.ted.com/talks/sharmeen_obaid_chino...  1057238   \n",
       "954            https://www.ted.com/talks/janet_echelman  1832930   \n",
       "...                                                 ...      ...   \n",
       "2494  https://www.ted.com/talks/jimmy_lin_a_simple_n...  1005506   \n",
       "2528  https://www.ted.com/talks/chance_coughenour_ho...   539207   \n",
       "2542  https://www.ted.com/talks/sethembile_msezane_l...   542088   \n",
       "2501  https://www.ted.com/talks/francoise_mouly_the_...   839040   \n",
       "2534  https://www.ted.com/talks/benjamin_grant_what_...   646174   \n",
       "\n",
       "      comments per view  \n",
       "744            0.002220  \n",
       "803            0.001534  \n",
       "96             0.001464  \n",
       "694            0.001421  \n",
       "954            0.001360  \n",
       "...                 ...  \n",
       "2494           0.000007  \n",
       "2528           0.000006  \n",
       "2542           0.000006  \n",
       "2501           0.000004  \n",
       "2534           0.000003  \n",
       "\n",
       "[2550 rows x 18 columns]"
      ]
     },
     "execution_count": 9,
     "metadata": {},
     "output_type": "execute_result"
    }
   ],
   "source": [
    "exercise1[\"comments per view\"] = exercise1[\"comments\"] / exercise1[\"views\"]\n",
    "exercise1.sort_values(by = \"comments per view\", ascending = False)"
   ]
  },
  {
   "cell_type": "markdown",
   "metadata": {},
   "source": [
    "> #### You will find that, for every view of the same-sex marriage talk, there are 0.002 comments."
   ]
  },
  {
   "cell_type": "markdown",
   "metadata": {},
   "source": [
    "#### Question 3.3. Please make this more interpretable by `inverting` the calculation."
   ]
  },
  {
   "cell_type": "code",
   "execution_count": 10,
   "metadata": {
    "scrolled": true
   },
   "outputs": [
    {
     "data": {
      "text/html": [
       "<div>\n",
       "<style scoped>\n",
       "    .dataframe tbody tr th:only-of-type {\n",
       "        vertical-align: middle;\n",
       "    }\n",
       "\n",
       "    .dataframe tbody tr th {\n",
       "        vertical-align: top;\n",
       "    }\n",
       "\n",
       "    .dataframe thead th {\n",
       "        text-align: right;\n",
       "    }\n",
       "</style>\n",
       "<table border=\"1\" class=\"dataframe\">\n",
       "  <thead>\n",
       "    <tr style=\"text-align: right;\">\n",
       "      <th></th>\n",
       "      <th>comments</th>\n",
       "      <th>description</th>\n",
       "      <th>duration</th>\n",
       "      <th>event</th>\n",
       "      <th>film_date</th>\n",
       "      <th>languages</th>\n",
       "      <th>main_speaker</th>\n",
       "      <th>name</th>\n",
       "      <th>num_speaker</th>\n",
       "      <th>published_date</th>\n",
       "      <th>ratings</th>\n",
       "      <th>related_talks</th>\n",
       "      <th>speaker_occupation</th>\n",
       "      <th>tags</th>\n",
       "      <th>title</th>\n",
       "      <th>url</th>\n",
       "      <th>views</th>\n",
       "      <th>comments per view</th>\n",
       "      <th>view per comments</th>\n",
       "    </tr>\n",
       "  </thead>\n",
       "  <tbody>\n",
       "    <tr>\n",
       "      <th>744</th>\n",
       "      <td>649</td>\n",
       "      <td>Hours before New York lawmakers rejected a key...</td>\n",
       "      <td>453</td>\n",
       "      <td>New York State Senate</td>\n",
       "      <td>1259712000</td>\n",
       "      <td>0</td>\n",
       "      <td>Diane J. Savino</td>\n",
       "      <td>Diane J. Savino: The case for same-sex marriage</td>\n",
       "      <td>1</td>\n",
       "      <td>1282062180</td>\n",
       "      <td>[{'id': 25, 'name': 'OK', 'count': 100}, {'id'...</td>\n",
       "      <td>[{'id': 217, 'hero': 'https://pe.tedcdn.com/im...</td>\n",
       "      <td>Senator</td>\n",
       "      <td>['God', 'LGBT', 'culture', 'government', 'law'...</td>\n",
       "      <td>The case for same-sex marriage</td>\n",
       "      <td>https://www.ted.com/talks/diane_j_savino_the_c...</td>\n",
       "      <td>292395</td>\n",
       "      <td>0.002220</td>\n",
       "      <td>450.531587</td>\n",
       "    </tr>\n",
       "    <tr>\n",
       "      <th>803</th>\n",
       "      <td>834</td>\n",
       "      <td>David Bismark demos a new system for voting th...</td>\n",
       "      <td>422</td>\n",
       "      <td>TEDGlobal 2010</td>\n",
       "      <td>1279065600</td>\n",
       "      <td>36</td>\n",
       "      <td>David Bismark</td>\n",
       "      <td>David Bismark: E-voting without fraud</td>\n",
       "      <td>1</td>\n",
       "      <td>1288685640</td>\n",
       "      <td>[{'id': 25, 'name': 'OK', 'count': 111}, {'id'...</td>\n",
       "      <td>[{'id': 803, 'hero': 'https://pe.tedcdn.com/im...</td>\n",
       "      <td>Voting system designer</td>\n",
       "      <td>['culture', 'democracy', 'design', 'global iss...</td>\n",
       "      <td>E-voting without fraud</td>\n",
       "      <td>https://www.ted.com/talks/david_bismark_e_voti...</td>\n",
       "      <td>543551</td>\n",
       "      <td>0.001534</td>\n",
       "      <td>651.739808</td>\n",
       "    </tr>\n",
       "    <tr>\n",
       "      <th>96</th>\n",
       "      <td>6404</td>\n",
       "      <td>Richard Dawkins urges all atheists to openly s...</td>\n",
       "      <td>1750</td>\n",
       "      <td>TED2002</td>\n",
       "      <td>1012608000</td>\n",
       "      <td>42</td>\n",
       "      <td>Richard Dawkins</td>\n",
       "      <td>Richard Dawkins: Militant atheism</td>\n",
       "      <td>1</td>\n",
       "      <td>1176689220</td>\n",
       "      <td>[{'id': 3, 'name': 'Courageous', 'count': 3236...</td>\n",
       "      <td>[{'id': 86, 'hero': 'https://pe.tedcdn.com/ima...</td>\n",
       "      <td>Evolutionary biologist</td>\n",
       "      <td>['God', 'atheism', 'culture', 'religion', 'sci...</td>\n",
       "      <td>Militant atheism</td>\n",
       "      <td>https://www.ted.com/talks/richard_dawkins_on_m...</td>\n",
       "      <td>4374792</td>\n",
       "      <td>0.001464</td>\n",
       "      <td>683.134291</td>\n",
       "    </tr>\n",
       "    <tr>\n",
       "      <th>694</th>\n",
       "      <td>1502</td>\n",
       "      <td>Filmmaker Sharmeen Obaid-Chinoy takes on a ter...</td>\n",
       "      <td>489</td>\n",
       "      <td>TED2010</td>\n",
       "      <td>1265760000</td>\n",
       "      <td>32</td>\n",
       "      <td>Sharmeen Obaid-Chinoy</td>\n",
       "      <td>Sharmeen Obaid-Chinoy: Inside a school for sui...</td>\n",
       "      <td>1</td>\n",
       "      <td>1274865960</td>\n",
       "      <td>[{'id': 23, 'name': 'Jaw-dropping', 'count': 3...</td>\n",
       "      <td>[{'id': 171, 'hero': 'https://pe.tedcdn.com/im...</td>\n",
       "      <td>Filmmaker</td>\n",
       "      <td>['TED Fellows', 'children', 'culture', 'film',...</td>\n",
       "      <td>Inside a school for suicide bombers</td>\n",
       "      <td>https://www.ted.com/talks/sharmeen_obaid_chino...</td>\n",
       "      <td>1057238</td>\n",
       "      <td>0.001421</td>\n",
       "      <td>703.886818</td>\n",
       "    </tr>\n",
       "    <tr>\n",
       "      <th>954</th>\n",
       "      <td>2492</td>\n",
       "      <td>Janet Echelman found her true voice as an arti...</td>\n",
       "      <td>566</td>\n",
       "      <td>TED2011</td>\n",
       "      <td>1299110400</td>\n",
       "      <td>35</td>\n",
       "      <td>Janet Echelman</td>\n",
       "      <td>Janet Echelman: Taking imagination seriously</td>\n",
       "      <td>1</td>\n",
       "      <td>1307489760</td>\n",
       "      <td>[{'id': 23, 'name': 'Jaw-dropping', 'count': 3...</td>\n",
       "      <td>[{'id': 453, 'hero': 'https://pe.tedcdn.com/im...</td>\n",
       "      <td>Artist</td>\n",
       "      <td>['art', 'cities', 'culture', 'data', 'design',...</td>\n",
       "      <td>Taking imagination seriously</td>\n",
       "      <td>https://www.ted.com/talks/janet_echelman</td>\n",
       "      <td>1832930</td>\n",
       "      <td>0.001360</td>\n",
       "      <td>735.525682</td>\n",
       "    </tr>\n",
       "    <tr>\n",
       "      <th>...</th>\n",
       "      <td>...</td>\n",
       "      <td>...</td>\n",
       "      <td>...</td>\n",
       "      <td>...</td>\n",
       "      <td>...</td>\n",
       "      <td>...</td>\n",
       "      <td>...</td>\n",
       "      <td>...</td>\n",
       "      <td>...</td>\n",
       "      <td>...</td>\n",
       "      <td>...</td>\n",
       "      <td>...</td>\n",
       "      <td>...</td>\n",
       "      <td>...</td>\n",
       "      <td>...</td>\n",
       "      <td>...</td>\n",
       "      <td>...</td>\n",
       "      <td>...</td>\n",
       "      <td>...</td>\n",
       "    </tr>\n",
       "    <tr>\n",
       "      <th>2494</th>\n",
       "      <td>7</td>\n",
       "      <td>Jimmy Lin is developing technologies to catch ...</td>\n",
       "      <td>730</td>\n",
       "      <td>TED2017</td>\n",
       "      <td>1492992000</td>\n",
       "      <td>10</td>\n",
       "      <td>Jimmy Lin</td>\n",
       "      <td>Jimmy Lin: A simple new blood test that can ca...</td>\n",
       "      <td>1</td>\n",
       "      <td>1500994384</td>\n",
       "      <td>[{'id': 1, 'name': 'Beautiful', 'count': 7}, {...</td>\n",
       "      <td>[{'id': 2498, 'hero': 'https://pe.tedcdn.com/i...</td>\n",
       "      <td>Geneticist</td>\n",
       "      <td>['DNA', 'TED Fellows', 'biology', 'cancer', 'd...</td>\n",
       "      <td>A simple new blood test that can catch cancer ...</td>\n",
       "      <td>https://www.ted.com/talks/jimmy_lin_a_simple_n...</td>\n",
       "      <td>1005506</td>\n",
       "      <td>0.000007</td>\n",
       "      <td>143643.714286</td>\n",
       "    </tr>\n",
       "    <tr>\n",
       "      <th>2528</th>\n",
       "      <td>3</td>\n",
       "      <td>Digital archaeologist Chance Coughenour is usi...</td>\n",
       "      <td>717</td>\n",
       "      <td>TEDxHamburg</td>\n",
       "      <td>1465344000</td>\n",
       "      <td>5</td>\n",
       "      <td>Chance Coughenour</td>\n",
       "      <td>Chance Coughenour: How your pictures can help ...</td>\n",
       "      <td>1</td>\n",
       "      <td>1504209631</td>\n",
       "      <td>[{'id': 9, 'name': 'Ingenious', 'count': 16}, ...</td>\n",
       "      <td>[{'id': 2673, 'hero': 'https://pe.tedcdn.com/i...</td>\n",
       "      <td>Digital archaeologist</td>\n",
       "      <td>['TEDx', 'ancient world', 'archaeology', 'cons...</td>\n",
       "      <td>How your pictures can help reclaim lost history</td>\n",
       "      <td>https://www.ted.com/talks/chance_coughenour_ho...</td>\n",
       "      <td>539207</td>\n",
       "      <td>0.000006</td>\n",
       "      <td>179735.666667</td>\n",
       "    </tr>\n",
       "    <tr>\n",
       "      <th>2542</th>\n",
       "      <td>3</td>\n",
       "      <td>In the century-old statues that occupy Cape To...</td>\n",
       "      <td>795</td>\n",
       "      <td>TEDGlobal 2017</td>\n",
       "      <td>1503792000</td>\n",
       "      <td>1</td>\n",
       "      <td>Sethembile Msezane</td>\n",
       "      <td>Sethembile Msezane: Living sculptures that sta...</td>\n",
       "      <td>1</td>\n",
       "      <td>1505488093</td>\n",
       "      <td>[{'id': 1, 'name': 'Beautiful', 'count': 41}, ...</td>\n",
       "      <td>[{'id': 2873, 'hero': 'https://pe.tedcdn.com/i...</td>\n",
       "      <td>Artist</td>\n",
       "      <td>['Africa', 'activism', 'art', 'community', 'hi...</td>\n",
       "      <td>Living sculptures that stand for history's truths</td>\n",
       "      <td>https://www.ted.com/talks/sethembile_msezane_l...</td>\n",
       "      <td>542088</td>\n",
       "      <td>0.000006</td>\n",
       "      <td>180696.000000</td>\n",
       "    </tr>\n",
       "    <tr>\n",
       "      <th>2501</th>\n",
       "      <td>3</td>\n",
       "      <td>Meet Françoise Mouly, The New Yorker's art dir...</td>\n",
       "      <td>509</td>\n",
       "      <td>TEDNYC</td>\n",
       "      <td>1488931200</td>\n",
       "      <td>12</td>\n",
       "      <td>Françoise Mouly</td>\n",
       "      <td>Françoise Mouly: The stories behind The New Yo...</td>\n",
       "      <td>1</td>\n",
       "      <td>1501770244</td>\n",
       "      <td>[{'id': 7, 'name': 'Funny', 'count': 10}, {'id...</td>\n",
       "      <td>[{'id': 2479, 'hero': 'https://pe.tedcdn.com/i...</td>\n",
       "      <td>Art editor</td>\n",
       "      <td>['TEDNYC', 'art', 'creativity', 'culture', 'de...</td>\n",
       "      <td>The stories behind The New Yorker's iconic covers</td>\n",
       "      <td>https://www.ted.com/talks/francoise_mouly_the_...</td>\n",
       "      <td>839040</td>\n",
       "      <td>0.000004</td>\n",
       "      <td>279680.000000</td>\n",
       "    </tr>\n",
       "    <tr>\n",
       "      <th>2534</th>\n",
       "      <td>2</td>\n",
       "      <td>What the astronauts felt when they saw Earth f...</td>\n",
       "      <td>725</td>\n",
       "      <td>TEDxSkoll</td>\n",
       "      <td>1491523200</td>\n",
       "      <td>1</td>\n",
       "      <td>Benjamin Grant</td>\n",
       "      <td>Benjamin Grant: What it feels like to see Eart...</td>\n",
       "      <td>1</td>\n",
       "      <td>1504814438</td>\n",
       "      <td>[{'id': 10, 'name': 'Inspiring', 'count': 46},...</td>\n",
       "      <td>[{'id': 2511, 'hero': 'https://pe.tedcdn.com/i...</td>\n",
       "      <td>Author</td>\n",
       "      <td>['TEDx', 'art', 'climate change', 'environment...</td>\n",
       "      <td>What it feels like to see Earth from space</td>\n",
       "      <td>https://www.ted.com/talks/benjamin_grant_what_...</td>\n",
       "      <td>646174</td>\n",
       "      <td>0.000003</td>\n",
       "      <td>323087.000000</td>\n",
       "    </tr>\n",
       "  </tbody>\n",
       "</table>\n",
       "<p>2550 rows × 19 columns</p>\n",
       "</div>"
      ],
      "text/plain": [
       "      comments                                        description  duration  \\\n",
       "744        649  Hours before New York lawmakers rejected a key...       453   \n",
       "803        834  David Bismark demos a new system for voting th...       422   \n",
       "96        6404  Richard Dawkins urges all atheists to openly s...      1750   \n",
       "694       1502  Filmmaker Sharmeen Obaid-Chinoy takes on a ter...       489   \n",
       "954       2492  Janet Echelman found her true voice as an arti...       566   \n",
       "...        ...                                                ...       ...   \n",
       "2494         7  Jimmy Lin is developing technologies to catch ...       730   \n",
       "2528         3  Digital archaeologist Chance Coughenour is usi...       717   \n",
       "2542         3  In the century-old statues that occupy Cape To...       795   \n",
       "2501         3  Meet Françoise Mouly, The New Yorker's art dir...       509   \n",
       "2534         2  What the astronauts felt when they saw Earth f...       725   \n",
       "\n",
       "                      event   film_date  languages           main_speaker  \\\n",
       "744   New York State Senate  1259712000          0        Diane J. Savino   \n",
       "803          TEDGlobal 2010  1279065600         36          David Bismark   \n",
       "96                  TED2002  1012608000         42        Richard Dawkins   \n",
       "694                 TED2010  1265760000         32  Sharmeen Obaid-Chinoy   \n",
       "954                 TED2011  1299110400         35         Janet Echelman   \n",
       "...                     ...         ...        ...                    ...   \n",
       "2494                TED2017  1492992000         10              Jimmy Lin   \n",
       "2528            TEDxHamburg  1465344000          5      Chance Coughenour   \n",
       "2542         TEDGlobal 2017  1503792000          1     Sethembile Msezane   \n",
       "2501                 TEDNYC  1488931200         12        Françoise Mouly   \n",
       "2534              TEDxSkoll  1491523200          1         Benjamin Grant   \n",
       "\n",
       "                                                   name  num_speaker  \\\n",
       "744     Diane J. Savino: The case for same-sex marriage            1   \n",
       "803               David Bismark: E-voting without fraud            1   \n",
       "96                    Richard Dawkins: Militant atheism            1   \n",
       "694   Sharmeen Obaid-Chinoy: Inside a school for sui...            1   \n",
       "954        Janet Echelman: Taking imagination seriously            1   \n",
       "...                                                 ...          ...   \n",
       "2494  Jimmy Lin: A simple new blood test that can ca...            1   \n",
       "2528  Chance Coughenour: How your pictures can help ...            1   \n",
       "2542  Sethembile Msezane: Living sculptures that sta...            1   \n",
       "2501  Françoise Mouly: The stories behind The New Yo...            1   \n",
       "2534  Benjamin Grant: What it feels like to see Eart...            1   \n",
       "\n",
       "      published_date                                            ratings  \\\n",
       "744       1282062180  [{'id': 25, 'name': 'OK', 'count': 100}, {'id'...   \n",
       "803       1288685640  [{'id': 25, 'name': 'OK', 'count': 111}, {'id'...   \n",
       "96        1176689220  [{'id': 3, 'name': 'Courageous', 'count': 3236...   \n",
       "694       1274865960  [{'id': 23, 'name': 'Jaw-dropping', 'count': 3...   \n",
       "954       1307489760  [{'id': 23, 'name': 'Jaw-dropping', 'count': 3...   \n",
       "...              ...                                                ...   \n",
       "2494      1500994384  [{'id': 1, 'name': 'Beautiful', 'count': 7}, {...   \n",
       "2528      1504209631  [{'id': 9, 'name': 'Ingenious', 'count': 16}, ...   \n",
       "2542      1505488093  [{'id': 1, 'name': 'Beautiful', 'count': 41}, ...   \n",
       "2501      1501770244  [{'id': 7, 'name': 'Funny', 'count': 10}, {'id...   \n",
       "2534      1504814438  [{'id': 10, 'name': 'Inspiring', 'count': 46},...   \n",
       "\n",
       "                                          related_talks  \\\n",
       "744   [{'id': 217, 'hero': 'https://pe.tedcdn.com/im...   \n",
       "803   [{'id': 803, 'hero': 'https://pe.tedcdn.com/im...   \n",
       "96    [{'id': 86, 'hero': 'https://pe.tedcdn.com/ima...   \n",
       "694   [{'id': 171, 'hero': 'https://pe.tedcdn.com/im...   \n",
       "954   [{'id': 453, 'hero': 'https://pe.tedcdn.com/im...   \n",
       "...                                                 ...   \n",
       "2494  [{'id': 2498, 'hero': 'https://pe.tedcdn.com/i...   \n",
       "2528  [{'id': 2673, 'hero': 'https://pe.tedcdn.com/i...   \n",
       "2542  [{'id': 2873, 'hero': 'https://pe.tedcdn.com/i...   \n",
       "2501  [{'id': 2479, 'hero': 'https://pe.tedcdn.com/i...   \n",
       "2534  [{'id': 2511, 'hero': 'https://pe.tedcdn.com/i...   \n",
       "\n",
       "          speaker_occupation  \\\n",
       "744                  Senator   \n",
       "803   Voting system designer   \n",
       "96    Evolutionary biologist   \n",
       "694                Filmmaker   \n",
       "954                   Artist   \n",
       "...                      ...   \n",
       "2494              Geneticist   \n",
       "2528   Digital archaeologist   \n",
       "2542                  Artist   \n",
       "2501              Art editor   \n",
       "2534                  Author   \n",
       "\n",
       "                                                   tags  \\\n",
       "744   ['God', 'LGBT', 'culture', 'government', 'law'...   \n",
       "803   ['culture', 'democracy', 'design', 'global iss...   \n",
       "96    ['God', 'atheism', 'culture', 'religion', 'sci...   \n",
       "694   ['TED Fellows', 'children', 'culture', 'film',...   \n",
       "954   ['art', 'cities', 'culture', 'data', 'design',...   \n",
       "...                                                 ...   \n",
       "2494  ['DNA', 'TED Fellows', 'biology', 'cancer', 'd...   \n",
       "2528  ['TEDx', 'ancient world', 'archaeology', 'cons...   \n",
       "2542  ['Africa', 'activism', 'art', 'community', 'hi...   \n",
       "2501  ['TEDNYC', 'art', 'creativity', 'culture', 'de...   \n",
       "2534  ['TEDx', 'art', 'climate change', 'environment...   \n",
       "\n",
       "                                                  title  \\\n",
       "744                      The case for same-sex marriage   \n",
       "803                              E-voting without fraud   \n",
       "96                                     Militant atheism   \n",
       "694                 Inside a school for suicide bombers   \n",
       "954                        Taking imagination seriously   \n",
       "...                                                 ...   \n",
       "2494  A simple new blood test that can catch cancer ...   \n",
       "2528    How your pictures can help reclaim lost history   \n",
       "2542  Living sculptures that stand for history's truths   \n",
       "2501  The stories behind The New Yorker's iconic covers   \n",
       "2534         What it feels like to see Earth from space   \n",
       "\n",
       "                                                    url    views  \\\n",
       "744   https://www.ted.com/talks/diane_j_savino_the_c...   292395   \n",
       "803   https://www.ted.com/talks/david_bismark_e_voti...   543551   \n",
       "96    https://www.ted.com/talks/richard_dawkins_on_m...  4374792   \n",
       "694   https://www.ted.com/talks/sharmeen_obaid_chino...  1057238   \n",
       "954            https://www.ted.com/talks/janet_echelman  1832930   \n",
       "...                                                 ...      ...   \n",
       "2494  https://www.ted.com/talks/jimmy_lin_a_simple_n...  1005506   \n",
       "2528  https://www.ted.com/talks/chance_coughenour_ho...   539207   \n",
       "2542  https://www.ted.com/talks/sethembile_msezane_l...   542088   \n",
       "2501  https://www.ted.com/talks/francoise_mouly_the_...   839040   \n",
       "2534  https://www.ted.com/talks/benjamin_grant_what_...   646174   \n",
       "\n",
       "      comments per view  view per comments  \n",
       "744            0.002220         450.531587  \n",
       "803            0.001534         651.739808  \n",
       "96             0.001464         683.134291  \n",
       "694            0.001421         703.886818  \n",
       "954            0.001360         735.525682  \n",
       "...                 ...                ...  \n",
       "2494           0.000007      143643.714286  \n",
       "2528           0.000006      179735.666667  \n",
       "2542           0.000006      180696.000000  \n",
       "2501           0.000004      279680.000000  \n",
       "2534           0.000003      323087.000000  \n",
       "\n",
       "[2550 rows x 19 columns]"
      ]
     },
     "execution_count": 10,
     "metadata": {},
     "output_type": "execute_result"
    }
   ],
   "source": [
    "exercise1[\"view per comments\"] = exercise1[\"views\"] / exercise1[\"comments\"]\n",
    "exercise1.sort_values(by = \"view per comments\")"
   ]
  },
  {
   "cell_type": "markdown",
   "metadata": {},
   "source": [
    "> Please consider the `limitations` and `biases` of your data, making your results understandable (`interpretable`)."
   ]
  },
  {
   "cell_type": "markdown",
   "metadata": {},
   "source": [
    "### <font color = \"blue\"> Let's `visualize` the distribution of comments </font>\n",
    "\n",
    "> #### <font color = \"red\"> See **Chapter 4** of `Python Data Science Handbook` for a quick reference for matplotlib </font>\n",
    "\n",
    "> #### <font color = \"red\"> For in-depth details, use https://matplotlib.org/stable/api/_as_gen/matplotlib.pyplot.html </font>"
   ]
  },
  {
   "cell_type": "markdown",
   "metadata": {},
   "source": [
    "#### Question 3.4. Please create a `Line chart`, but it seems NOT useful here."
   ]
  },
  {
   "cell_type": "code",
   "execution_count": 11,
   "metadata": {},
   "outputs": [
    {
     "data": {
      "image/png": "[encoded data removed]",
      "text/plain": [
       "<Figure size 432x288 with 1 Axes>"
      ]
     },
     "metadata": {
      "needs_background": "light"
     },
     "output_type": "display_data"
    }
   ],
   "source": [
    "comments = exercise1[\"comments\"].sort_values()\n",
    "\n",
    "plt.plot(comments)\n",
    "plt.show()"
   ]
  },
  {
   "cell_type": "markdown",
   "metadata": {},
   "source": [
    "#### Question 3.5. Please create a `Histogram`--it displays the frequency distribution of a single numeric variable."
   ]
  },
  {
   "cell_type": "code",
   "execution_count": 12,
   "metadata": {},
   "outputs": [
    {
     "data": {
      "image/png": "[encoded data removed]",
      "text/plain": [
       "<Figure size 432x288 with 1 Axes>"
      ]
     },
     "metadata": {
      "needs_background": "light"
     },
     "output_type": "display_data"
    }
   ],
   "source": [
    "plt.hist(comments,50, density=True, facecolor='g', alpha=0.75)\n",
    "\n",
    "plt.xlabel('comments')\n",
    "plt.ylabel('Probability')\n",
    "plt.show()"
   ]
  },
  {
   "cell_type": "markdown",
   "metadata": {},
   "source": [
    "#### Question 3.6. Please modify the plot to be more informative by setting a cut-off for inclusion (i.e., more than 1,000 comments)."
   ]
  },
  {
   "cell_type": "code",
   "execution_count": 13,
   "metadata": {},
   "outputs": [
    {
     "data": {
      "text/plain": [
       "2534       2\n",
       "2542       3\n",
       "2528       3\n",
       "2501       3\n",
       "2407       5\n",
       "        ... \n",
       "29       970\n",
       "30       991\n",
       "1798     992\n",
       "1632     992\n",
       "1533    1000\n",
       "Name: comments, Length: 2519, dtype: int64"
      ]
     },
     "execution_count": 13,
     "metadata": {},
     "output_type": "execute_result"
    }
   ],
   "source": [
    "sub_comments = comments[comments <= 1000]\n",
    "sub_comments"
   ]
  },
  {
   "cell_type": "code",
   "execution_count": 14,
   "metadata": {},
   "outputs": [
    {
     "data": {
      "image/png": "[encoded data removed]",
      "text/plain": [
       "<Figure size 432x288 with 1 Axes>"
      ]
     },
     "metadata": {
      "needs_background": "light"
     },
     "output_type": "display_data"
    }
   ],
   "source": [
    "plt.hist(sub_comments,50, density=True, facecolor='g', alpha=0.75)\n",
    "\n",
    "plt.xlabel('comments')\n",
    "plt.ylabel('Probability')\n",
    "plt.show()"
   ]
  },
  {
   "cell_type": "markdown",
   "metadata": {},
   "source": [
    ">  Now, before we move on, let's check how many observations we removed from the plot."
   ]
  },
  {
   "cell_type": "code",
   "execution_count": 15,
   "metadata": {},
   "outputs": [
    {
     "data": {
      "text/plain": [
       "32"
      ]
     },
     "execution_count": 15,
     "metadata": {},
     "output_type": "execute_result"
    }
   ],
   "source": [
    "len(comments) - len(sub_comments) + 1"
   ]
  },
  {
   "cell_type": "code",
   "execution_count": 16,
   "metadata": {},
   "outputs": [
    {
     "data": {
      "text/plain": [
       "(32, 19)"
      ]
     },
     "execution_count": 16,
     "metadata": {},
     "output_type": "execute_result"
    }
   ],
   "source": [
    "exercise1[exercise1[\"comments\"] >= 1000].shape"
   ]
  },
  {
   "cell_type": "markdown",
   "metadata": {},
   "source": [
    "### Question 4.1. Here's a question for an expansion of your vocabulary: please obtain the above using the query method.\n",
    "\n",
    "> #### <font color = \"red\"> Please check the following for more details </font> \n",
    "> - `Python Data Science Handbook`\n",
    "    - *Chapter 3*: Data Manipulation with Pandas\n",
    "        - *Section 12*: High-Performance Pandas: `eval()` and `query()` "
   ]
  },
  {
   "cell_type": "code",
   "execution_count": 17,
   "metadata": {},
   "outputs": [
    {
     "data": {
      "text/plain": [
       "1       265\n",
       "2       124\n",
       "3       200\n",
       "4       593\n",
       "5       672\n",
       "       ... \n",
       "2545     17\n",
       "2546      6\n",
       "2547     10\n",
       "2548     32\n",
       "2549      8\n",
       "Name: comments, Length: 2519, dtype: int64"
      ]
     },
     "execution_count": 17,
     "metadata": {},
     "output_type": "execute_result"
    }
   ],
   "source": [
    "second_sub_comments = exercise1.query(\"comments <= 1000\")[\"comments\"]\n",
    "second_sub_comments"
   ]
  },
  {
   "cell_type": "markdown",
   "metadata": {},
   "source": [
    "#### Question 4.2. Here's a question for yet another expansion of your vocabulary: please write this using the `loc` accessor.\n",
    "\n",
    "> #### <font color = \"red\"> Please check the following for more details on the differences between loc and iloc. \n",
    "    \n",
    "> - `** NOTE: You may ignore ix as it has been deprecated**` </font>\n",
    "\n",
    "> - `Python Data Science Handbook`\n",
    "    - *Chapter 3*: Data Manipulation with Pandas\n",
    "        - *Section 2*: Data Indexing and Selection\n",
    "            - *Subsection 3*: Indexers: loc, iloc, and ix"
   ]
  },
  {
   "cell_type": "code",
   "execution_count": 18,
   "metadata": {},
   "outputs": [
    {
     "data": {
      "text/html": [
       "<div>\n",
       "<style scoped>\n",
       "    .dataframe tbody tr th:only-of-type {\n",
       "        vertical-align: middle;\n",
       "    }\n",
       "\n",
       "    .dataframe tbody tr th {\n",
       "        vertical-align: top;\n",
       "    }\n",
       "\n",
       "    .dataframe thead th {\n",
       "        text-align: right;\n",
       "    }\n",
       "</style>\n",
       "<table border=\"1\" class=\"dataframe\">\n",
       "  <thead>\n",
       "    <tr style=\"text-align: right;\">\n",
       "      <th></th>\n",
       "      <th>comments</th>\n",
       "    </tr>\n",
       "  </thead>\n",
       "  <tbody>\n",
       "    <tr>\n",
       "      <th>1</th>\n",
       "      <td>265</td>\n",
       "    </tr>\n",
       "    <tr>\n",
       "      <th>2</th>\n",
       "      <td>124</td>\n",
       "    </tr>\n",
       "    <tr>\n",
       "      <th>3</th>\n",
       "      <td>200</td>\n",
       "    </tr>\n",
       "    <tr>\n",
       "      <th>4</th>\n",
       "      <td>593</td>\n",
       "    </tr>\n",
       "    <tr>\n",
       "      <th>5</th>\n",
       "      <td>672</td>\n",
       "    </tr>\n",
       "    <tr>\n",
       "      <th>...</th>\n",
       "      <td>...</td>\n",
       "    </tr>\n",
       "    <tr>\n",
       "      <th>2545</th>\n",
       "      <td>17</td>\n",
       "    </tr>\n",
       "    <tr>\n",
       "      <th>2546</th>\n",
       "      <td>6</td>\n",
       "    </tr>\n",
       "    <tr>\n",
       "      <th>2547</th>\n",
       "      <td>10</td>\n",
       "    </tr>\n",
       "    <tr>\n",
       "      <th>2548</th>\n",
       "      <td>32</td>\n",
       "    </tr>\n",
       "    <tr>\n",
       "      <th>2549</th>\n",
       "      <td>8</td>\n",
       "    </tr>\n",
       "  </tbody>\n",
       "</table>\n",
       "<p>2519 rows × 1 columns</p>\n",
       "</div>"
      ],
      "text/plain": [
       "      comments\n",
       "1          265\n",
       "2          124\n",
       "3          200\n",
       "4          593\n",
       "5          672\n",
       "...        ...\n",
       "2545        17\n",
       "2546         6\n",
       "2547        10\n",
       "2548        32\n",
       "2549         8\n",
       "\n",
       "[2519 rows x 1 columns]"
      ]
     },
     "execution_count": 18,
     "metadata": {},
     "output_type": "execute_result"
    }
   ],
   "source": [
    "third_sub_comments = exercise1.loc[exercise1[\"comments\"] <= 1000, [\"comments\"]]\n",
    "third_sub_comments"
   ]
  },
  {
   "cell_type": "markdown",
   "metadata": {},
   "source": [
    "> Let's increase the number of bins (intervals) to see more detail."
   ]
  },
  {
   "cell_type": "code",
   "execution_count": 19,
   "metadata": {},
   "outputs": [
    {
     "data": {
      "image/png": "[encoded data removed]",
      "text/plain": [
       "<Figure size 432x288 with 1 Axes>"
      ]
     },
     "metadata": {
      "needs_background": "light"
     },
     "output_type": "display_data"
    }
   ],
   "source": [
    "plt.hist(third_sub_comments,100, density=True, facecolor='g', alpha=0.75)\n",
    "\n",
    "plt.xlabel('comments')\n",
    "plt.ylabel('Probability')\n",
    "plt.show()"
   ]
  },
  {
   "cell_type": "markdown",
   "metadata": {},
   "source": [
    "#### Question 4.3. Please create a boxplot. Boxplot can also show distributions, but it's far less useful for concentrated distributions because of outliers."
   ]
  },
  {
   "cell_type": "code",
   "execution_count": 20,
   "metadata": {},
   "outputs": [
    {
     "data": {
      "image/png": "[encoded data removed]",
      "text/plain": [
       "<Figure size 432x288 with 1 Axes>"
      ]
     },
     "metadata": {
      "needs_background": "light"
     },
     "output_type": "display_data"
    }
   ],
   "source": [
    "plt.boxplot(third_sub_comments, vert = False)\n",
    "\n",
    "plt.show()"
   ]
  },
  {
   "cell_type": "markdown",
   "metadata": {},
   "source": [
    "![](微信图片_20210831213127.png)"
   ]
  },
  {
   "cell_type": "markdown",
   "metadata": {},
   "source": [
    "### <font color = \"blue\"> Let me reiterate learning pointers in an explicit manner so that you can keep this in mind. </font>\n",
    "\n",
    "1. `Choose your plot type` based on the question you are answering and the data type(s) you are working with\n",
    "2. `Use pandas one-liners` to iterate through plots quickly\n",
    "3. `Try modifying the plot defaults`\n",
    "\n",
    "> ***Yes, creating plots involves your decision-making***"
   ]
  },
  {
   "cell_type": "markdown",
   "metadata": {},
   "source": [
    "#### Question 4.4. Please plot the number of talks that took place each year."
   ]
  },
  {
   "cell_type": "markdown",
   "metadata": {},
   "source": [
    "> Let's calculate the average delay between filming and publishing."
   ]
  },
  {
   "cell_type": "code",
   "execution_count": 21,
   "metadata": {
    "scrolled": true
   },
   "outputs": [
    {
     "data": {
      "text/html": [
       "<div>\n",
       "<style scoped>\n",
       "    .dataframe tbody tr th:only-of-type {\n",
       "        vertical-align: middle;\n",
       "    }\n",
       "\n",
       "    .dataframe tbody tr th {\n",
       "        vertical-align: top;\n",
       "    }\n",
       "\n",
       "    .dataframe thead th {\n",
       "        text-align: right;\n",
       "    }\n",
       "</style>\n",
       "<table border=\"1\" class=\"dataframe\">\n",
       "  <thead>\n",
       "    <tr style=\"text-align: right;\">\n",
       "      <th></th>\n",
       "      <th>comments</th>\n",
       "      <th>description</th>\n",
       "      <th>duration</th>\n",
       "      <th>event</th>\n",
       "      <th>film_date</th>\n",
       "      <th>languages</th>\n",
       "      <th>main_speaker</th>\n",
       "      <th>name</th>\n",
       "      <th>num_speaker</th>\n",
       "      <th>published_date</th>\n",
       "      <th>ratings</th>\n",
       "      <th>related_talks</th>\n",
       "      <th>speaker_occupation</th>\n",
       "      <th>tags</th>\n",
       "      <th>title</th>\n",
       "      <th>url</th>\n",
       "      <th>views</th>\n",
       "      <th>comments per view</th>\n",
       "      <th>view per comments</th>\n",
       "    </tr>\n",
       "  </thead>\n",
       "  <tbody>\n",
       "    <tr>\n",
       "      <th>0</th>\n",
       "      <td>4553</td>\n",
       "      <td>Sir Ken Robinson makes an entertaining and pro...</td>\n",
       "      <td>1164</td>\n",
       "      <td>TED2006</td>\n",
       "      <td>1140825600</td>\n",
       "      <td>60</td>\n",
       "      <td>Ken Robinson</td>\n",
       "      <td>Ken Robinson: Do schools kill creativity?</td>\n",
       "      <td>1</td>\n",
       "      <td>1151367060</td>\n",
       "      <td>[{'id': 7, 'name': 'Funny', 'count': 19645}, {...</td>\n",
       "      <td>[{'id': 865, 'hero': 'https://pe.tedcdn.com/im...</td>\n",
       "      <td>Author/educator</td>\n",
       "      <td>['children', 'creativity', 'culture', 'dance',...</td>\n",
       "      <td>Do schools kill creativity?</td>\n",
       "      <td>https://www.ted.com/talks/ken_robinson_says_sc...</td>\n",
       "      <td>47227110</td>\n",
       "      <td>0.000096</td>\n",
       "      <td>10372.745443</td>\n",
       "    </tr>\n",
       "  </tbody>\n",
       "</table>\n",
       "</div>"
      ],
      "text/plain": [
       "   comments                                        description  duration  \\\n",
       "0      4553  Sir Ken Robinson makes an entertaining and pro...      1164   \n",
       "\n",
       "     event   film_date  languages  main_speaker  \\\n",
       "0  TED2006  1140825600         60  Ken Robinson   \n",
       "\n",
       "                                        name  num_speaker  published_date  \\\n",
       "0  Ken Robinson: Do schools kill creativity?            1      1151367060   \n",
       "\n",
       "                                             ratings  \\\n",
       "0  [{'id': 7, 'name': 'Funny', 'count': 19645}, {...   \n",
       "\n",
       "                                       related_talks speaker_occupation  \\\n",
       "0  [{'id': 865, 'hero': 'https://pe.tedcdn.com/im...    Author/educator   \n",
       "\n",
       "                                                tags  \\\n",
       "0  ['children', 'creativity', 'culture', 'dance',...   \n",
       "\n",
       "                         title  \\\n",
       "0  Do schools kill creativity?   \n",
       "\n",
       "                                                 url     views  \\\n",
       "0  https://www.ted.com/talks/ken_robinson_says_sc...  47227110   \n",
       "\n",
       "   comments per view  view per comments  \n",
       "0           0.000096       10372.745443  "
      ]
     },
     "execution_count": 21,
     "metadata": {},
     "output_type": "execute_result"
    }
   ],
   "source": [
    "import datetime as dt\n",
    "exercise1.head(1)"
   ]
  },
  {
   "cell_type": "code",
   "execution_count": 24,
   "metadata": {},
   "outputs": [],
   "source": [
    "exercise1[\"film_date\"] = pd.to_datetime(exercise1[\"film_date\"], unit = \"s\")"
   ]
  },
  {
   "cell_type": "code",
   "execution_count": 25,
   "metadata": {
    "scrolled": true
   },
   "outputs": [
    {
     "data": {
      "text/html": [
       "<div>\n",
       "<style scoped>\n",
       "    .dataframe tbody tr th:only-of-type {\n",
       "        vertical-align: middle;\n",
       "    }\n",
       "\n",
       "    .dataframe tbody tr th {\n",
       "        vertical-align: top;\n",
       "    }\n",
       "\n",
       "    .dataframe thead th {\n",
       "        text-align: right;\n",
       "    }\n",
       "</style>\n",
       "<table border=\"1\" class=\"dataframe\">\n",
       "  <thead>\n",
       "    <tr style=\"text-align: right;\">\n",
       "      <th></th>\n",
       "      <th>comments</th>\n",
       "      <th>description</th>\n",
       "      <th>duration</th>\n",
       "      <th>event</th>\n",
       "      <th>film_date</th>\n",
       "      <th>languages</th>\n",
       "      <th>main_speaker</th>\n",
       "      <th>name</th>\n",
       "      <th>num_speaker</th>\n",
       "      <th>published_date</th>\n",
       "      <th>ratings</th>\n",
       "      <th>related_talks</th>\n",
       "      <th>speaker_occupation</th>\n",
       "      <th>tags</th>\n",
       "      <th>title</th>\n",
       "      <th>url</th>\n",
       "      <th>views</th>\n",
       "      <th>comments per view</th>\n",
       "      <th>view per comments</th>\n",
       "    </tr>\n",
       "  </thead>\n",
       "  <tbody>\n",
       "    <tr>\n",
       "      <th>2545</th>\n",
       "      <td>17</td>\n",
       "      <td>Between 2008 and 2016, the United States depor...</td>\n",
       "      <td>476</td>\n",
       "      <td>TED2017</td>\n",
       "      <td>2017-06-06</td>\n",
       "      <td>4</td>\n",
       "      <td>Duarte Geraldino</td>\n",
       "      <td>Duarte Geraldino: What we're missing in the de...</td>\n",
       "      <td>1</td>\n",
       "      <td>2017-09-19 20:00:16</td>\n",
       "      <td>[{'id': 3, 'name': 'Courageous', 'count': 24},...</td>\n",
       "      <td>[{'id': 2596, 'hero': 'https://pe.tedcdn.com/i...</td>\n",
       "      <td>Journalist</td>\n",
       "      <td>['TED Residency', 'United States', 'community'...</td>\n",
       "      <td>What we're missing in the debate about immigra...</td>\n",
       "      <td>https://www.ted.com/talks/duarte_geraldino_wha...</td>\n",
       "      <td>450430</td>\n",
       "      <td>0.000038</td>\n",
       "      <td>26495.882353</td>\n",
       "    </tr>\n",
       "    <tr>\n",
       "      <th>2546</th>\n",
       "      <td>6</td>\n",
       "      <td>How can you study Mars without a spaceship? He...</td>\n",
       "      <td>290</td>\n",
       "      <td>TED2017</td>\n",
       "      <td>2017-04-24</td>\n",
       "      <td>3</td>\n",
       "      <td>Armando Azua-Bustos</td>\n",
       "      <td>Armando Azua-Bustos: The most Martian place on...</td>\n",
       "      <td>1</td>\n",
       "      <td>2017-09-20 15:02:17</td>\n",
       "      <td>[{'id': 22, 'name': 'Fascinating', 'count': 32...</td>\n",
       "      <td>[{'id': 2491, 'hero': 'https://pe.tedcdn.com/i...</td>\n",
       "      <td>Astrobiologist</td>\n",
       "      <td>['Mars', 'South America', 'TED Fellows', 'astr...</td>\n",
       "      <td>The most Martian place on Earth</td>\n",
       "      <td>https://www.ted.com/talks/armando_azua_bustos_...</td>\n",
       "      <td>417470</td>\n",
       "      <td>0.000014</td>\n",
       "      <td>69578.333333</td>\n",
       "    </tr>\n",
       "    <tr>\n",
       "      <th>2547</th>\n",
       "      <td>10</td>\n",
       "      <td>Science fiction visions of the future show us ...</td>\n",
       "      <td>651</td>\n",
       "      <td>TED2017</td>\n",
       "      <td>2017-04-24</td>\n",
       "      <td>1</td>\n",
       "      <td>Radhika Nagpal</td>\n",
       "      <td>Radhika Nagpal: What intelligent machines can ...</td>\n",
       "      <td>1</td>\n",
       "      <td>2017-09-21 15:01:35</td>\n",
       "      <td>[{'id': 1, 'name': 'Beautiful', 'count': 14}, ...</td>\n",
       "      <td>[{'id': 2346, 'hero': 'https://pe.tedcdn.com/i...</td>\n",
       "      <td>Robotics engineer</td>\n",
       "      <td>['AI', 'ants', 'fish', 'future', 'innovation',...</td>\n",
       "      <td>What intelligent machines can learn from a sch...</td>\n",
       "      <td>https://www.ted.com/talks/radhika_nagpal_what_...</td>\n",
       "      <td>375647</td>\n",
       "      <td>0.000027</td>\n",
       "      <td>37564.700000</td>\n",
       "    </tr>\n",
       "    <tr>\n",
       "      <th>2548</th>\n",
       "      <td>32</td>\n",
       "      <td>In an unmissable talk about race and politics ...</td>\n",
       "      <td>1100</td>\n",
       "      <td>TEDxMileHigh</td>\n",
       "      <td>2017-07-08</td>\n",
       "      <td>1</td>\n",
       "      <td>Theo E.J. Wilson</td>\n",
       "      <td>Theo E.J. Wilson: A black man goes undercover ...</td>\n",
       "      <td>1</td>\n",
       "      <td>2017-09-21 20:00:42</td>\n",
       "      <td>[{'id': 11, 'name': 'Longwinded', 'count': 3},...</td>\n",
       "      <td>[{'id': 2512, 'hero': 'https://pe.tedcdn.com/i...</td>\n",
       "      <td>Public intellectual</td>\n",
       "      <td>['Internet', 'TEDx', 'United States', 'communi...</td>\n",
       "      <td>A black man goes undercover in the alt-right</td>\n",
       "      <td>https://www.ted.com/talks/theo_e_j_wilson_a_bl...</td>\n",
       "      <td>419309</td>\n",
       "      <td>0.000076</td>\n",
       "      <td>13103.406250</td>\n",
       "    </tr>\n",
       "    <tr>\n",
       "      <th>2549</th>\n",
       "      <td>8</td>\n",
       "      <td>With more than half of the world population li...</td>\n",
       "      <td>519</td>\n",
       "      <td>TED2017</td>\n",
       "      <td>2017-04-24</td>\n",
       "      <td>1</td>\n",
       "      <td>Karoliina Korppoo</td>\n",
       "      <td>Karoliina Korppoo: How a video game might help...</td>\n",
       "      <td>1</td>\n",
       "      <td>2017-09-22 15:00:22</td>\n",
       "      <td>[{'id': 21, 'name': 'Unconvincing', 'count': 2...</td>\n",
       "      <td>[{'id': 2682, 'hero': 'https://pe.tedcdn.com/i...</td>\n",
       "      <td>Game designer</td>\n",
       "      <td>['cities', 'design', 'future', 'infrastructure...</td>\n",
       "      <td>How a video game might help us build better ci...</td>\n",
       "      <td>https://www.ted.com/talks/karoliina_korppoo_ho...</td>\n",
       "      <td>391721</td>\n",
       "      <td>0.000020</td>\n",
       "      <td>48965.125000</td>\n",
       "    </tr>\n",
       "  </tbody>\n",
       "</table>\n",
       "</div>"
      ],
      "text/plain": [
       "      comments                                        description  duration  \\\n",
       "2545        17  Between 2008 and 2016, the United States depor...       476   \n",
       "2546         6  How can you study Mars without a spaceship? He...       290   \n",
       "2547        10  Science fiction visions of the future show us ...       651   \n",
       "2548        32  In an unmissable talk about race and politics ...      1100   \n",
       "2549         8  With more than half of the world population li...       519   \n",
       "\n",
       "             event  film_date  languages         main_speaker  \\\n",
       "2545       TED2017 2017-06-06          4     Duarte Geraldino   \n",
       "2546       TED2017 2017-04-24          3  Armando Azua-Bustos   \n",
       "2547       TED2017 2017-04-24          1       Radhika Nagpal   \n",
       "2548  TEDxMileHigh 2017-07-08          1     Theo E.J. Wilson   \n",
       "2549       TED2017 2017-04-24          1    Karoliina Korppoo   \n",
       "\n",
       "                                                   name  num_speaker  \\\n",
       "2545  Duarte Geraldino: What we're missing in the de...            1   \n",
       "2546  Armando Azua-Bustos: The most Martian place on...            1   \n",
       "2547  Radhika Nagpal: What intelligent machines can ...            1   \n",
       "2548  Theo E.J. Wilson: A black man goes undercover ...            1   \n",
       "2549  Karoliina Korppoo: How a video game might help...            1   \n",
       "\n",
       "          published_date                                            ratings  \\\n",
       "2545 2017-09-19 20:00:16  [{'id': 3, 'name': 'Courageous', 'count': 24},...   \n",
       "2546 2017-09-20 15:02:17  [{'id': 22, 'name': 'Fascinating', 'count': 32...   \n",
       "2547 2017-09-21 15:01:35  [{'id': 1, 'name': 'Beautiful', 'count': 14}, ...   \n",
       "2548 2017-09-21 20:00:42  [{'id': 11, 'name': 'Longwinded', 'count': 3},...   \n",
       "2549 2017-09-22 15:00:22  [{'id': 21, 'name': 'Unconvincing', 'count': 2...   \n",
       "\n",
       "                                          related_talks   speaker_occupation  \\\n",
       "2545  [{'id': 2596, 'hero': 'https://pe.tedcdn.com/i...           Journalist   \n",
       "2546  [{'id': 2491, 'hero': 'https://pe.tedcdn.com/i...       Astrobiologist   \n",
       "2547  [{'id': 2346, 'hero': 'https://pe.tedcdn.com/i...    Robotics engineer   \n",
       "2548  [{'id': 2512, 'hero': 'https://pe.tedcdn.com/i...  Public intellectual   \n",
       "2549  [{'id': 2682, 'hero': 'https://pe.tedcdn.com/i...        Game designer   \n",
       "\n",
       "                                                   tags  \\\n",
       "2545  ['TED Residency', 'United States', 'community'...   \n",
       "2546  ['Mars', 'South America', 'TED Fellows', 'astr...   \n",
       "2547  ['AI', 'ants', 'fish', 'future', 'innovation',...   \n",
       "2548  ['Internet', 'TEDx', 'United States', 'communi...   \n",
       "2549  ['cities', 'design', 'future', 'infrastructure...   \n",
       "\n",
       "                                                  title  \\\n",
       "2545  What we're missing in the debate about immigra...   \n",
       "2546                    The most Martian place on Earth   \n",
       "2547  What intelligent machines can learn from a sch...   \n",
       "2548       A black man goes undercover in the alt-right   \n",
       "2549  How a video game might help us build better ci...   \n",
       "\n",
       "                                                    url   views  \\\n",
       "2545  https://www.ted.com/talks/duarte_geraldino_wha...  450430   \n",
       "2546  https://www.ted.com/talks/armando_azua_bustos_...  417470   \n",
       "2547  https://www.ted.com/talks/radhika_nagpal_what_...  375647   \n",
       "2548  https://www.ted.com/talks/theo_e_j_wilson_a_bl...  419309   \n",
       "2549  https://www.ted.com/talks/karoliina_korppoo_ho...  391721   \n",
       "\n",
       "      comments per view  view per comments  \n",
       "2545           0.000038       26495.882353  \n",
       "2546           0.000014       69578.333333  \n",
       "2547           0.000027       37564.700000  \n",
       "2548           0.000076       13103.406250  \n",
       "2549           0.000020       48965.125000  "
      ]
     },
     "execution_count": 25,
     "metadata": {},
     "output_type": "execute_result"
    }
   ],
   "source": [
    "exercise1[\"published_date\"] = pd.to_datetime(exercise1[\"published_date\"], unit = \"s\")\n",
    "exercise1.tail()"
   ]
  },
  {
   "cell_type": "code",
   "execution_count": 26,
   "metadata": {
    "scrolled": true
   },
   "outputs": [
    {
     "data": {
      "text/plain": [
       "249.45960784313726"
      ]
     },
     "execution_count": 26,
     "metadata": {},
     "output_type": "execute_result"
    }
   ],
   "source": [
    "delay = (exercise1[\"published_date\"]-exercise1[\"film_date\"]).dt.days\n",
    "\n",
    "delay.mean()"
   ]
  },
  {
   "cell_type": "markdown",
   "metadata": {},
   "source": [
    "> Okay. `event` column does not always include the year"
   ]
  },
  {
   "cell_type": "markdown",
   "metadata": {},
   "source": [
    "> Note that `film_date` denotes `Unix timestamp of the filming`. Have a look at it :)"
   ]
  },
  {
   "cell_type": "markdown",
   "metadata": {},
   "source": [
    "> Results don't look right...\n",
    "\n",
    "> What would you do? You may use `to_datetime()`"
   ]
  },
  {
   "cell_type": "markdown",
   "metadata": {},
   "source": [
    "> Still, it does NOT look fine..."
   ]
  },
  {
   "cell_type": "markdown",
   "metadata": {},
   "source": [
    "### <font color = \"red\"> For your information, [pandas documentation for `to_datetime`](https://pandas.pydata.org/pandas-docs/stable/reference/api/pandas.to_datetime.html) </font>"
   ]
  },
  {
   "cell_type": "markdown",
   "metadata": {},
   "source": [
    "> #### <font color = \"blue\"> Please use argument `unit` and set it at `\"s\"` </font>"
   ]
  },
  {
   "cell_type": "code",
   "execution_count": 30,
   "metadata": {},
   "outputs": [],
   "source": [
    "exercise1[\"film_datetime\"] = pd.to_datetime(exercise1[\"film_date\"], unit = \"s\")"
   ]
  },
  {
   "cell_type": "markdown",
   "metadata": {
    "scrolled": false
   },
   "source": [
    "> You might want to check that event name matches film_datetime for a random sample: use, `sample()`"
   ]
  },
  {
   "cell_type": "code",
   "execution_count": 31,
   "metadata": {
    "scrolled": false
   },
   "outputs": [
    {
     "data": {
      "text/html": [
       "<div>\n",
       "<style scoped>\n",
       "    .dataframe tbody tr th:only-of-type {\n",
       "        vertical-align: middle;\n",
       "    }\n",
       "\n",
       "    .dataframe tbody tr th {\n",
       "        vertical-align: top;\n",
       "    }\n",
       "\n",
       "    .dataframe thead th {\n",
       "        text-align: right;\n",
       "    }\n",
       "</style>\n",
       "<table border=\"1\" class=\"dataframe\">\n",
       "  <thead>\n",
       "    <tr style=\"text-align: right;\">\n",
       "      <th></th>\n",
       "      <th>comments</th>\n",
       "      <th>description</th>\n",
       "      <th>duration</th>\n",
       "      <th>event</th>\n",
       "      <th>film_date</th>\n",
       "      <th>languages</th>\n",
       "      <th>main_speaker</th>\n",
       "      <th>name</th>\n",
       "      <th>num_speaker</th>\n",
       "      <th>published_date</th>\n",
       "      <th>ratings</th>\n",
       "      <th>related_talks</th>\n",
       "      <th>speaker_occupation</th>\n",
       "      <th>tags</th>\n",
       "      <th>title</th>\n",
       "      <th>url</th>\n",
       "      <th>views</th>\n",
       "      <th>comments per view</th>\n",
       "      <th>view per comments</th>\n",
       "      <th>film_datetime</th>\n",
       "    </tr>\n",
       "  </thead>\n",
       "  <tbody>\n",
       "    <tr>\n",
       "      <th>2133</th>\n",
       "      <td>38</td>\n",
       "      <td>How much do you know about intellectual disabi...</td>\n",
       "      <td>852</td>\n",
       "      <td>TEDxVancouver</td>\n",
       "      <td>2015-11-14</td>\n",
       "      <td>24</td>\n",
       "      <td>Matthew Williams</td>\n",
       "      <td>Matthew Williams: Special Olympics let me be m...</td>\n",
       "      <td>1</td>\n",
       "      <td>2016-02-05 15:53:55</td>\n",
       "      <td>[{'id': 3, 'name': 'Courageous', 'count': 281}...</td>\n",
       "      <td>[{'id': 769, 'hero': 'https://pe.tedcdn.com/im...</td>\n",
       "      <td>Special Olympics International Sargent Shriver...</td>\n",
       "      <td>['TEDx', 'bullying', 'community', 'disability'...</td>\n",
       "      <td>Special Olympics let me be myself -- a champion</td>\n",
       "      <td>https://www.ted.com/talks/matthew_williams_spe...</td>\n",
       "      <td>1074684</td>\n",
       "      <td>0.000035</td>\n",
       "      <td>28281.157895</td>\n",
       "      <td>2015-11-14</td>\n",
       "    </tr>\n",
       "    <tr>\n",
       "      <th>855</th>\n",
       "      <td>98</td>\n",
       "      <td>Your medical chart: it's hard to access, impos...</td>\n",
       "      <td>993</td>\n",
       "      <td>TEDMED 2010</td>\n",
       "      <td>2010-10-10</td>\n",
       "      <td>27</td>\n",
       "      <td>Thomas Goetz</td>\n",
       "      <td>Thomas Goetz: It's time to redesign medical data</td>\n",
       "      <td>1</td>\n",
       "      <td>2011-01-25 15:58:07</td>\n",
       "      <td>[{'id': 8, 'name': 'Informative', 'count': 392...</td>\n",
       "      <td>[{'id': 966, 'hero': 'https://pe.tedcdn.com/im...</td>\n",
       "      <td>Healthcare communicator</td>\n",
       "      <td>['business', 'design', 'health', 'medicine', '...</td>\n",
       "      <td>It's time to redesign medical data</td>\n",
       "      <td>https://www.ted.com/talks/thomas_goetz_it_s_ti...</td>\n",
       "      <td>497626</td>\n",
       "      <td>0.000197</td>\n",
       "      <td>5077.816327</td>\n",
       "      <td>2010-10-10</td>\n",
       "    </tr>\n",
       "    <tr>\n",
       "      <th>2263</th>\n",
       "      <td>11</td>\n",
       "      <td>With warmth and respect, Gonzalo Vilariño tell...</td>\n",
       "      <td>859</td>\n",
       "      <td>TEDxRiodelaPlata</td>\n",
       "      <td>2015-09-24</td>\n",
       "      <td>18</td>\n",
       "      <td>Gonzalo Vilariño</td>\n",
       "      <td>Gonzalo Vilariño: How Argentina's blind soccer...</td>\n",
       "      <td>1</td>\n",
       "      <td>2016-08-19 14:14:35</td>\n",
       "      <td>[{'id': 1, 'name': 'Beautiful', 'count': 129},...</td>\n",
       "      <td>[{'id': 2186, 'hero': 'https://pe.tedcdn.com/i...</td>\n",
       "      <td>Lawyer, coach</td>\n",
       "      <td>['Blindness', 'TED en Español', 'TEDx', 'colla...</td>\n",
       "      <td>How Argentina's blind soccer team became champ...</td>\n",
       "      <td>https://www.ted.com/talks/gonzalo_vilarino_how...</td>\n",
       "      <td>443773</td>\n",
       "      <td>0.000025</td>\n",
       "      <td>40343.000000</td>\n",
       "      <td>2015-09-24</td>\n",
       "    </tr>\n",
       "    <tr>\n",
       "      <th>2108</th>\n",
       "      <td>44</td>\n",
       "      <td>For sculptor Jason deCaires Taylor, the ocean ...</td>\n",
       "      <td>669</td>\n",
       "      <td>Mission Blue II</td>\n",
       "      <td>2015-10-10</td>\n",
       "      <td>30</td>\n",
       "      <td>Jason deCaires Taylor</td>\n",
       "      <td>Jason deCaires Taylor: An underwater art museu...</td>\n",
       "      <td>1</td>\n",
       "      <td>2015-12-22 16:33:01</td>\n",
       "      <td>[{'id': 1, 'name': 'Beautiful', 'count': 492},...</td>\n",
       "      <td>[{'id': 2160, 'hero': 'https://pe.tedcdn.com/i...</td>\n",
       "      <td>Sculptor</td>\n",
       "      <td>['art', 'creativity', 'design', 'ecology', 'en...</td>\n",
       "      <td>An underwater art museum, teeming with life</td>\n",
       "      <td>https://www.ted.com/talks/jason_decaires_taylo...</td>\n",
       "      <td>1446673</td>\n",
       "      <td>0.000030</td>\n",
       "      <td>32878.931818</td>\n",
       "      <td>2015-10-10</td>\n",
       "    </tr>\n",
       "  </tbody>\n",
       "</table>\n",
       "</div>"
      ],
      "text/plain": [
       "      comments                                        description  duration  \\\n",
       "2133        38  How much do you know about intellectual disabi...       852   \n",
       "855         98  Your medical chart: it's hard to access, impos...       993   \n",
       "2263        11  With warmth and respect, Gonzalo Vilariño tell...       859   \n",
       "2108        44  For sculptor Jason deCaires Taylor, the ocean ...       669   \n",
       "\n",
       "                 event  film_date  languages           main_speaker  \\\n",
       "2133     TEDxVancouver 2015-11-14         24       Matthew Williams   \n",
       "855        TEDMED 2010 2010-10-10         27           Thomas Goetz   \n",
       "2263  TEDxRiodelaPlata 2015-09-24         18       Gonzalo Vilariño   \n",
       "2108   Mission Blue II 2015-10-10         30  Jason deCaires Taylor   \n",
       "\n",
       "                                                   name  num_speaker  \\\n",
       "2133  Matthew Williams: Special Olympics let me be m...            1   \n",
       "855    Thomas Goetz: It's time to redesign medical data            1   \n",
       "2263  Gonzalo Vilariño: How Argentina's blind soccer...            1   \n",
       "2108  Jason deCaires Taylor: An underwater art museu...            1   \n",
       "\n",
       "          published_date                                            ratings  \\\n",
       "2133 2016-02-05 15:53:55  [{'id': 3, 'name': 'Courageous', 'count': 281}...   \n",
       "855  2011-01-25 15:58:07  [{'id': 8, 'name': 'Informative', 'count': 392...   \n",
       "2263 2016-08-19 14:14:35  [{'id': 1, 'name': 'Beautiful', 'count': 129},...   \n",
       "2108 2015-12-22 16:33:01  [{'id': 1, 'name': 'Beautiful', 'count': 492},...   \n",
       "\n",
       "                                          related_talks  \\\n",
       "2133  [{'id': 769, 'hero': 'https://pe.tedcdn.com/im...   \n",
       "855   [{'id': 966, 'hero': 'https://pe.tedcdn.com/im...   \n",
       "2263  [{'id': 2186, 'hero': 'https://pe.tedcdn.com/i...   \n",
       "2108  [{'id': 2160, 'hero': 'https://pe.tedcdn.com/i...   \n",
       "\n",
       "                                     speaker_occupation  \\\n",
       "2133  Special Olympics International Sargent Shriver...   \n",
       "855                             Healthcare communicator   \n",
       "2263                                      Lawyer, coach   \n",
       "2108                                           Sculptor   \n",
       "\n",
       "                                                   tags  \\\n",
       "2133  ['TEDx', 'bullying', 'community', 'disability'...   \n",
       "855   ['business', 'design', 'health', 'medicine', '...   \n",
       "2263  ['Blindness', 'TED en Español', 'TEDx', 'colla...   \n",
       "2108  ['art', 'creativity', 'design', 'ecology', 'en...   \n",
       "\n",
       "                                                  title  \\\n",
       "2133    Special Olympics let me be myself -- a champion   \n",
       "855                  It's time to redesign medical data   \n",
       "2263  How Argentina's blind soccer team became champ...   \n",
       "2108        An underwater art museum, teeming with life   \n",
       "\n",
       "                                                    url    views  \\\n",
       "2133  https://www.ted.com/talks/matthew_williams_spe...  1074684   \n",
       "855   https://www.ted.com/talks/thomas_goetz_it_s_ti...   497626   \n",
       "2263  https://www.ted.com/talks/gonzalo_vilarino_how...   443773   \n",
       "2108  https://www.ted.com/talks/jason_decaires_taylo...  1446673   \n",
       "\n",
       "      comments per view  view per comments film_datetime  \n",
       "2133           0.000035       28281.157895    2015-11-14  \n",
       "855            0.000197        5077.816327    2010-10-10  \n",
       "2263           0.000025       40343.000000    2015-09-24  \n",
       "2108           0.000030       32878.931818    2015-10-10  "
      ]
     },
     "execution_count": 31,
     "metadata": {},
     "output_type": "execute_result"
    }
   ],
   "source": [
    "exercise1.sample(n = 4)"
   ]
  },
  {
   "cell_type": "markdown",
   "metadata": {},
   "source": [
    "> New column uses the datetime data type (this was an automatic conversion)"
   ]
  },
  {
   "cell_type": "markdown",
   "metadata": {},
   "source": [
    "##### `datetime` columns have convenient attributes under the `dt` namespace"
   ]
  },
  {
   "cell_type": "code",
   "execution_count": 32,
   "metadata": {},
   "outputs": [
    {
     "data": {
      "text/plain": [
       "0    2006\n",
       "1    2006\n",
       "2    2006\n",
       "3    2006\n",
       "4    2006\n",
       "Name: film_datetime, dtype: int64"
      ]
     },
     "execution_count": 32,
     "metadata": {},
     "output_type": "execute_result"
    }
   ],
   "source": [
    "exercise1.film_datetime.dt.year.head()"
   ]
  },
  {
   "cell_type": "markdown",
   "metadata": {},
   "source": [
    "> This is similar to string methods under the `str` namespace"
   ]
  },
  {
   "cell_type": "code",
   "execution_count": 33,
   "metadata": {},
   "outputs": [
    {
     "data": {
      "text/plain": [
       "0            ted2006\n",
       "1            ted2006\n",
       "2            ted2006\n",
       "3            ted2006\n",
       "4            ted2006\n",
       "            ...     \n",
       "2545         ted2017\n",
       "2546         ted2017\n",
       "2547         ted2017\n",
       "2548    tedxmilehigh\n",
       "2549         ted2017\n",
       "Name: event, Length: 2550, dtype: object"
      ]
     },
     "execution_count": 33,
     "metadata": {},
     "output_type": "execute_result"
    }
   ],
   "source": [
    "exercise1.event.str.lower()"
   ]
  },
  {
   "cell_type": "markdown",
   "metadata": {},
   "source": [
    "> Let's count the number of talks each year using value_counts()"
   ]
  },
  {
   "cell_type": "code",
   "execution_count": 35,
   "metadata": {},
   "outputs": [
    {
     "data": {
      "text/plain": [
       "2013    270\n",
       "2011    270\n",
       "2010    267\n",
       "2012    267\n",
       "2016    246\n",
       "2015    239\n",
       "2014    237\n",
       "2009    232\n",
       "2007    114\n",
       "2017     98\n",
       "2008     84\n",
       "2005     66\n",
       "2006     50\n",
       "2003     33\n",
       "2004     33\n",
       "2002     27\n",
       "1998      6\n",
       "2001      5\n",
       "1984      1\n",
       "1983      1\n",
       "1991      1\n",
       "1994      1\n",
       "1990      1\n",
       "1972      1\n",
       "Name: film_date, dtype: int64"
      ]
     },
     "execution_count": 35,
     "metadata": {},
     "output_type": "execute_result"
    }
   ],
   "source": [
    "count_talk = exercise1[\"film_date\"].dt.year.value_counts()\n",
    "count_talk"
   ]
  },
  {
   "cell_type": "markdown",
   "metadata": {},
   "source": [
    "##### Let's visualize."
   ]
  },
  {
   "cell_type": "code",
   "execution_count": 36,
   "metadata": {},
   "outputs": [
    {
     "data": {
      "text/plain": [
       "[<matplotlib.lines.Line2D at 0x20ee238bca0>]"
      ]
     },
     "execution_count": 36,
     "metadata": {},
     "output_type": "execute_result"
    },
    {
     "data": {
      "image/png": "[encoded data removed]",
      "text/plain": [
       "<Figure size 432x288 with 1 Axes>"
      ]
     },
     "metadata": {
      "needs_background": "light"
     },
     "output_type": "display_data"
    }
   ],
   "source": [
    "plt.plot(count_talk)"
   ]
  },
  {
   "cell_type": "markdown",
   "metadata": {},
   "source": [
    "> points are plotted and connected in the order you give them to pandas"
   ]
  },
  {
   "cell_type": "markdown",
   "metadata": {},
   "source": [
    "#### Question 4.5. Please sort the index before plotting"
   ]
  },
  {
   "cell_type": "code",
   "execution_count": 37,
   "metadata": {},
   "outputs": [
    {
     "data": {
      "text/plain": [
       "[<matplotlib.lines.Line2D at 0x20ee23d0e80>]"
      ]
     },
     "execution_count": 37,
     "metadata": {},
     "output_type": "execute_result"
    },
    {
     "data": {
      "image/png": "[encoded data removed]",
      "text/plain": [
       "<Figure size 432x288 with 1 Axes>"
      ]
     },
     "metadata": {
      "needs_background": "light"
     },
     "output_type": "display_data"
    }
   ],
   "source": [
    "count_talk = exercise1[\"film_date\"].dt.year.value_counts().sort_index()\n",
    "plt.plot(count_talk)"
   ]
  },
  {
   "cell_type": "markdown",
   "metadata": {},
   "source": [
    "> Check your data to understand more about what this means :)"
   ]
  },
  {
   "cell_type": "code",
   "execution_count": 38,
   "metadata": {
    "scrolled": true
   },
   "outputs": [
    {
     "data": {
      "text/plain": [
       "Timestamp('2017-08-27 00:00:00')"
      ]
     },
     "execution_count": 38,
     "metadata": {},
     "output_type": "execute_result"
    }
   ],
   "source": [
    "exercise1.film_datetime.max()"
   ]
  },
  {
   "cell_type": "markdown",
   "metadata": {
    "scrolled": true
   },
   "source": [
    "> Do note that we only have partial data for 2017"
   ]
  },
  {
   "cell_type": "markdown",
   "metadata": {},
   "source": [
    "Before we move forward, please consider the following:\n",
    "\n",
    "- Read the documentation of your dataset\n",
    "- Use the datetime data type for dates and times\n",
    "- Check your work as you proceed\n",
    "- Exclude data if it might not be relevant to your focal point of analysis"
   ]
  },
  {
   "cell_type": "markdown",
   "metadata": {},
   "source": [
    "### Question 5.1. What were the \"best\" events in TED talks' history to attend? Let's count the number of talks (great if you value variety, but they may not be great talks)"
   ]
  },
  {
   "cell_type": "code",
   "execution_count": 39,
   "metadata": {},
   "outputs": [
    {
     "data": {
      "text/plain": [
       "TED2014                   84\n",
       "TED2009                   83\n",
       "TED2016                   77\n",
       "TED2013                   77\n",
       "TED2015                   75\n",
       "                          ..\n",
       "TEDxVirginiaTech           1\n",
       "TEDSalon London 2009       1\n",
       "TEDxLinnaeusUniversity     1\n",
       "TEDxCannes                 1\n",
       "TEDxPittsburgh             1\n",
       "Name: event, Length: 355, dtype: int64"
      ]
     },
     "execution_count": 39,
     "metadata": {},
     "output_type": "execute_result"
    }
   ],
   "source": [
    "exercise1[\"event\"].value_counts()"
   ]
  },
  {
   "cell_type": "markdown",
   "metadata": {},
   "source": [
    "#### Question 5.2. Let's use `views` as a proxy for `quality of talk`"
   ]
  },
  {
   "cell_type": "code",
   "execution_count": 40,
   "metadata": {},
   "outputs": [
    {
     "data": {
      "text/plain": [
       "0       47227110\n",
       "1        3200520\n",
       "2        1636292\n",
       "3        1697550\n",
       "4       12005869\n",
       "          ...   \n",
       "2545      450430\n",
       "2546      417470\n",
       "2547      375647\n",
       "2548      419309\n",
       "2549      391721\n",
       "Name: views, Length: 2550, dtype: int64"
      ]
     },
     "execution_count": 40,
     "metadata": {},
     "output_type": "execute_result"
    }
   ],
   "source": [
    "exercise1[\"views\"]"
   ]
  },
  {
   "cell_type": "markdown",
   "metadata": {},
   "source": [
    "#### Question 5.3. Let's find the largest values, but we don't know how many talks are being averaged"
   ]
  },
  {
   "cell_type": "code",
   "execution_count": 41,
   "metadata": {},
   "outputs": [
    {
     "data": {
      "text/plain": [
       "event\n",
       "The Do Lectures             112321.0\n",
       "TEDxIslay                   120274.0\n",
       "TEDxWaterloo                138812.0\n",
       "AORN Congress               149818.0\n",
       "TEDxNASA@SiliconValley      155895.0\n",
       "                             ...    \n",
       "TEDxNorrkoping             6569493.0\n",
       "TEDxCreativeCoast          8444981.0\n",
       "TEDxBloomington            9484259.5\n",
       "TEDxHouston               16140250.5\n",
       "TEDxPuget Sound           34309432.0\n",
       "Name: views, Length: 355, dtype: float64"
      ]
     },
     "execution_count": 41,
     "metadata": {},
     "output_type": "execute_result"
    }
   ],
   "source": [
    "exercise1.groupby(\"event\")[\"views\"].mean().sort_values()"
   ]
  },
  {
   "cell_type": "markdown",
   "metadata": {},
   "source": [
    "#### Question 5.4. Let's show the number of talks along with the mean (events with the highest means had only 1 or 2 talks)"
   ]
  },
  {
   "cell_type": "code",
   "execution_count": 42,
   "metadata": {},
   "outputs": [
    {
     "data": {
      "text/html": [
       "<div>\n",
       "<style scoped>\n",
       "    .dataframe tbody tr th:only-of-type {\n",
       "        vertical-align: middle;\n",
       "    }\n",
       "\n",
       "    .dataframe tbody tr th {\n",
       "        vertical-align: top;\n",
       "    }\n",
       "\n",
       "    .dataframe thead th {\n",
       "        text-align: right;\n",
       "    }\n",
       "</style>\n",
       "<table border=\"1\" class=\"dataframe\">\n",
       "  <thead>\n",
       "    <tr style=\"text-align: right;\">\n",
       "      <th></th>\n",
       "      <th>count</th>\n",
       "      <th>mean</th>\n",
       "    </tr>\n",
       "    <tr>\n",
       "      <th>event</th>\n",
       "      <th></th>\n",
       "      <th></th>\n",
       "    </tr>\n",
       "  </thead>\n",
       "  <tbody>\n",
       "    <tr>\n",
       "      <th>The Do Lectures</th>\n",
       "      <td>1</td>\n",
       "      <td>112321.0</td>\n",
       "    </tr>\n",
       "    <tr>\n",
       "      <th>TEDxIslay</th>\n",
       "      <td>1</td>\n",
       "      <td>120274.0</td>\n",
       "    </tr>\n",
       "    <tr>\n",
       "      <th>TEDxWaterloo</th>\n",
       "      <td>1</td>\n",
       "      <td>138812.0</td>\n",
       "    </tr>\n",
       "    <tr>\n",
       "      <th>AORN Congress</th>\n",
       "      <td>1</td>\n",
       "      <td>149818.0</td>\n",
       "    </tr>\n",
       "    <tr>\n",
       "      <th>TEDxNASA@SiliconValley</th>\n",
       "      <td>1</td>\n",
       "      <td>155895.0</td>\n",
       "    </tr>\n",
       "    <tr>\n",
       "      <th>...</th>\n",
       "      <td>...</td>\n",
       "      <td>...</td>\n",
       "    </tr>\n",
       "    <tr>\n",
       "      <th>TEDxNorrkoping</th>\n",
       "      <td>1</td>\n",
       "      <td>6569493.0</td>\n",
       "    </tr>\n",
       "    <tr>\n",
       "      <th>TEDxCreativeCoast</th>\n",
       "      <td>1</td>\n",
       "      <td>8444981.0</td>\n",
       "    </tr>\n",
       "    <tr>\n",
       "      <th>TEDxBloomington</th>\n",
       "      <td>2</td>\n",
       "      <td>9484259.5</td>\n",
       "    </tr>\n",
       "    <tr>\n",
       "      <th>TEDxHouston</th>\n",
       "      <td>2</td>\n",
       "      <td>16140250.5</td>\n",
       "    </tr>\n",
       "    <tr>\n",
       "      <th>TEDxPuget Sound</th>\n",
       "      <td>1</td>\n",
       "      <td>34309432.0</td>\n",
       "    </tr>\n",
       "  </tbody>\n",
       "</table>\n",
       "<p>355 rows × 2 columns</p>\n",
       "</div>"
      ],
      "text/plain": [
       "                        count        mean\n",
       "event                                    \n",
       "The Do Lectures             1    112321.0\n",
       "TEDxIslay                   1    120274.0\n",
       "TEDxWaterloo                1    138812.0\n",
       "AORN Congress               1    149818.0\n",
       "TEDxNASA@SiliconValley      1    155895.0\n",
       "...                       ...         ...\n",
       "TEDxNorrkoping              1   6569493.0\n",
       "TEDxCreativeCoast           1   8444981.0\n",
       "TEDxBloomington             2   9484259.5\n",
       "TEDxHouston                 2  16140250.5\n",
       "TEDxPuget Sound             1  34309432.0\n",
       "\n",
       "[355 rows x 2 columns]"
      ]
     },
     "execution_count": 42,
     "metadata": {},
     "output_type": "execute_result"
    }
   ],
   "source": [
    "exercise1.groupby(\"event\").views.agg([\"count\",\"mean\"]).sort_values(\"mean\")"
   ]
  },
  {
   "cell_type": "markdown",
   "metadata": {},
   "source": [
    "#### Question 5.5. Let's calculate the total views per event"
   ]
  },
  {
   "cell_type": "code",
   "execution_count": 43,
   "metadata": {},
   "outputs": [
    {
     "data": {
      "text/html": [
       "<div>\n",
       "<style scoped>\n",
       "    .dataframe tbody tr th:only-of-type {\n",
       "        vertical-align: middle;\n",
       "    }\n",
       "\n",
       "    .dataframe tbody tr th {\n",
       "        vertical-align: top;\n",
       "    }\n",
       "\n",
       "    .dataframe thead th {\n",
       "        text-align: right;\n",
       "    }\n",
       "</style>\n",
       "<table border=\"1\" class=\"dataframe\">\n",
       "  <thead>\n",
       "    <tr style=\"text-align: right;\">\n",
       "      <th></th>\n",
       "      <th>count</th>\n",
       "      <th>mean</th>\n",
       "      <th>sum</th>\n",
       "    </tr>\n",
       "    <tr>\n",
       "      <th>event</th>\n",
       "      <th></th>\n",
       "      <th></th>\n",
       "      <th></th>\n",
       "    </tr>\n",
       "  </thead>\n",
       "  <tbody>\n",
       "    <tr>\n",
       "      <th>The Do Lectures</th>\n",
       "      <td>1</td>\n",
       "      <td>1.123210e+05</td>\n",
       "      <td>112321</td>\n",
       "    </tr>\n",
       "    <tr>\n",
       "      <th>TEDxIslay</th>\n",
       "      <td>1</td>\n",
       "      <td>1.202740e+05</td>\n",
       "      <td>120274</td>\n",
       "    </tr>\n",
       "    <tr>\n",
       "      <th>TEDxWaterloo</th>\n",
       "      <td>1</td>\n",
       "      <td>1.388120e+05</td>\n",
       "      <td>138812</td>\n",
       "    </tr>\n",
       "    <tr>\n",
       "      <th>AORN Congress</th>\n",
       "      <td>1</td>\n",
       "      <td>1.498180e+05</td>\n",
       "      <td>149818</td>\n",
       "    </tr>\n",
       "    <tr>\n",
       "      <th>TEDxNASA@SiliconValley</th>\n",
       "      <td>1</td>\n",
       "      <td>1.558950e+05</td>\n",
       "      <td>155895</td>\n",
       "    </tr>\n",
       "    <tr>\n",
       "      <th>...</th>\n",
       "      <td>...</td>\n",
       "      <td>...</td>\n",
       "      <td>...</td>\n",
       "    </tr>\n",
       "    <tr>\n",
       "      <th>TED2006</th>\n",
       "      <td>45</td>\n",
       "      <td>3.274345e+06</td>\n",
       "      <td>147345533</td>\n",
       "    </tr>\n",
       "    <tr>\n",
       "      <th>TED2015</th>\n",
       "      <td>75</td>\n",
       "      <td>2.011017e+06</td>\n",
       "      <td>150826305</td>\n",
       "    </tr>\n",
       "    <tr>\n",
       "      <th>TEDGlobal 2013</th>\n",
       "      <td>66</td>\n",
       "      <td>2.584163e+06</td>\n",
       "      <td>170554736</td>\n",
       "    </tr>\n",
       "    <tr>\n",
       "      <th>TED2014</th>\n",
       "      <td>84</td>\n",
       "      <td>2.072874e+06</td>\n",
       "      <td>174121423</td>\n",
       "    </tr>\n",
       "    <tr>\n",
       "      <th>TED2013</th>\n",
       "      <td>77</td>\n",
       "      <td>2.302700e+06</td>\n",
       "      <td>177307937</td>\n",
       "    </tr>\n",
       "  </tbody>\n",
       "</table>\n",
       "<p>355 rows × 3 columns</p>\n",
       "</div>"
      ],
      "text/plain": [
       "                        count          mean        sum\n",
       "event                                                 \n",
       "The Do Lectures             1  1.123210e+05     112321\n",
       "TEDxIslay                   1  1.202740e+05     120274\n",
       "TEDxWaterloo                1  1.388120e+05     138812\n",
       "AORN Congress               1  1.498180e+05     149818\n",
       "TEDxNASA@SiliconValley      1  1.558950e+05     155895\n",
       "...                       ...           ...        ...\n",
       "TED2006                    45  3.274345e+06  147345533\n",
       "TED2015                    75  2.011017e+06  150826305\n",
       "TEDGlobal 2013             66  2.584163e+06  170554736\n",
       "TED2014                    84  2.072874e+06  174121423\n",
       "TED2013                    77  2.302700e+06  177307937\n",
       "\n",
       "[355 rows x 3 columns]"
      ]
     },
     "execution_count": 43,
     "metadata": {},
     "output_type": "execute_result"
    }
   ],
   "source": [
    "exercise1.groupby(\"event\").views.agg([\"count\",\"mean\", \"sum\"]).sort_values(\"sum\")"
   ]
  },
  {
   "cell_type": "markdown",
   "metadata": {},
   "source": [
    "> #### <font color = \"blue\"> As you have seen, please... </font>\n",
    "\n",
    "- Think creatively for how you can use the data you have to answer your question\n",
    "- Watch out for small sample sizes"
   ]
  },
  {
   "cell_type": "markdown",
   "metadata": {},
   "source": [
    "### Now, let's take a look at ratings data"
   ]
  },
  {
   "cell_type": "markdown",
   "metadata": {},
   "source": [
    "> Previously, users could tag talks on the TED website (funny, inspiring, confusing, etc.)"
   ]
  },
  {
   "cell_type": "code",
   "execution_count": 44,
   "metadata": {},
   "outputs": [
    {
     "data": {
      "text/html": [
       "<div>\n",
       "<style scoped>\n",
       "    .dataframe tbody tr th:only-of-type {\n",
       "        vertical-align: middle;\n",
       "    }\n",
       "\n",
       "    .dataframe tbody tr th {\n",
       "        vertical-align: top;\n",
       "    }\n",
       "\n",
       "    .dataframe thead th {\n",
       "        text-align: right;\n",
       "    }\n",
       "</style>\n",
       "<table border=\"1\" class=\"dataframe\">\n",
       "  <thead>\n",
       "    <tr style=\"text-align: right;\">\n",
       "      <th></th>\n",
       "      <th>comments</th>\n",
       "      <th>description</th>\n",
       "      <th>duration</th>\n",
       "      <th>event</th>\n",
       "      <th>film_date</th>\n",
       "      <th>languages</th>\n",
       "      <th>main_speaker</th>\n",
       "      <th>name</th>\n",
       "      <th>num_speaker</th>\n",
       "      <th>published_date</th>\n",
       "      <th>ratings</th>\n",
       "      <th>related_talks</th>\n",
       "      <th>speaker_occupation</th>\n",
       "      <th>tags</th>\n",
       "      <th>title</th>\n",
       "      <th>url</th>\n",
       "      <th>views</th>\n",
       "      <th>comments per view</th>\n",
       "      <th>view per comments</th>\n",
       "      <th>film_datetime</th>\n",
       "    </tr>\n",
       "  </thead>\n",
       "  <tbody>\n",
       "    <tr>\n",
       "      <th>0</th>\n",
       "      <td>4553</td>\n",
       "      <td>Sir Ken Robinson makes an entertaining and pro...</td>\n",
       "      <td>1164</td>\n",
       "      <td>TED2006</td>\n",
       "      <td>2006-02-25</td>\n",
       "      <td>60</td>\n",
       "      <td>Ken Robinson</td>\n",
       "      <td>Ken Robinson: Do schools kill creativity?</td>\n",
       "      <td>1</td>\n",
       "      <td>2006-06-27 00:11:00</td>\n",
       "      <td>[{'id': 7, 'name': 'Funny', 'count': 19645}, {...</td>\n",
       "      <td>[{'id': 865, 'hero': 'https://pe.tedcdn.com/im...</td>\n",
       "      <td>Author/educator</td>\n",
       "      <td>['children', 'creativity', 'culture', 'dance',...</td>\n",
       "      <td>Do schools kill creativity?</td>\n",
       "      <td>https://www.ted.com/talks/ken_robinson_says_sc...</td>\n",
       "      <td>47227110</td>\n",
       "      <td>0.000096</td>\n",
       "      <td>10372.745443</td>\n",
       "      <td>2006-02-25</td>\n",
       "    </tr>\n",
       "  </tbody>\n",
       "</table>\n",
       "</div>"
      ],
      "text/plain": [
       "   comments                                        description  duration  \\\n",
       "0      4553  Sir Ken Robinson makes an entertaining and pro...      1164   \n",
       "\n",
       "     event  film_date  languages  main_speaker  \\\n",
       "0  TED2006 2006-02-25         60  Ken Robinson   \n",
       "\n",
       "                                        name  num_speaker      published_date  \\\n",
       "0  Ken Robinson: Do schools kill creativity?            1 2006-06-27 00:11:00   \n",
       "\n",
       "                                             ratings  \\\n",
       "0  [{'id': 7, 'name': 'Funny', 'count': 19645}, {...   \n",
       "\n",
       "                                       related_talks speaker_occupation  \\\n",
       "0  [{'id': 865, 'hero': 'https://pe.tedcdn.com/im...    Author/educator   \n",
       "\n",
       "                                                tags  \\\n",
       "0  ['children', 'creativity', 'culture', 'dance',...   \n",
       "\n",
       "                         title  \\\n",
       "0  Do schools kill creativity?   \n",
       "\n",
       "                                                 url     views  \\\n",
       "0  https://www.ted.com/talks/ken_robinson_says_sc...  47227110   \n",
       "\n",
       "   comments per view  view per comments film_datetime  \n",
       "0           0.000096       10372.745443    2006-02-25  "
      ]
     },
     "execution_count": 44,
     "metadata": {},
     "output_type": "execute_result"
    }
   ],
   "source": [
    "exercise1.head(1)"
   ]
  },
  {
   "cell_type": "markdown",
   "metadata": {},
   "source": [
    "> Think about `two ways` to examine the ratings data for the first talk"
   ]
  },
  {
   "cell_type": "code",
   "execution_count": 45,
   "metadata": {},
   "outputs": [
    {
     "data": {
      "text/plain": [
       "\"[{'id': 7, 'name': 'Funny', 'count': 19645}, {'id': 1, 'name': 'Beautiful', 'count': 4573}, {'id': 9, 'name': 'Ingenious', 'count': 6073}, {'id': 3, 'name': 'Courageous', 'count': 3253}, {'id': 11, 'name': 'Longwinded', 'count': 387}, {'id': 2, 'name': 'Confusing', 'count': 242}, {'id': 8, 'name': 'Informative', 'count': 7346}, {'id': 22, 'name': 'Fascinating', 'count': 10581}, {'id': 21, 'name': 'Unconvincing', 'count': 300}, {'id': 24, 'name': 'Persuasive', 'count': 10704}, {'id': 23, 'name': 'Jaw-dropping', 'count': 4439}, {'id': 25, 'name': 'OK', 'count': 1174}, {'id': 26, 'name': 'Obnoxious', 'count': 209}, {'id': 10, 'name': 'Inspiring', 'count': 24924}]\""
      ]
     },
     "execution_count": 45,
     "metadata": {},
     "output_type": "execute_result"
    }
   ],
   "source": [
    "exercise1.ratings[0]"
   ]
  },
  {
   "cell_type": "code",
   "execution_count": 46,
   "metadata": {},
   "outputs": [
    {
     "data": {
      "text/plain": [
       "\"[{'id': 7, 'name': 'Funny', 'count': 19645}, {'id': 1, 'name': 'Beautiful', 'count': 4573}, {'id': 9, 'name': 'Ingenious', 'count': 6073}, {'id': 3, 'name': 'Courageous', 'count': 3253}, {'id': 11, 'name': 'Longwinded', 'count': 387}, {'id': 2, 'name': 'Confusing', 'count': 242}, {'id': 8, 'name': 'Informative', 'count': 7346}, {'id': 22, 'name': 'Fascinating', 'count': 10581}, {'id': 21, 'name': 'Unconvincing', 'count': 300}, {'id': 24, 'name': 'Persuasive', 'count': 10704}, {'id': 23, 'name': 'Jaw-dropping', 'count': 4439}, {'id': 25, 'name': 'OK', 'count': 1174}, {'id': 26, 'name': 'Obnoxious', 'count': 209}, {'id': 10, 'name': 'Inspiring', 'count': 24924}]\""
      ]
     },
     "execution_count": 46,
     "metadata": {},
     "output_type": "execute_result"
    }
   ],
   "source": [
    "exercise1.loc[0, \"ratings\"]"
   ]
  },
  {
   "cell_type": "markdown",
   "metadata": {},
   "source": [
    "> Okay, this is a string not a list."
   ]
  },
  {
   "cell_type": "code",
   "execution_count": 48,
   "metadata": {},
   "outputs": [
    {
     "data": {
      "text/plain": [
       "str"
      ]
     },
     "execution_count": 48,
     "metadata": {},
     "output_type": "execute_result"
    }
   ],
   "source": [
    "type(exercise1.ratings[0])"
   ]
  },
  {
   "cell_type": "markdown",
   "metadata": {},
   "source": [
    "### Let's convert this into something useful using Python's `ast` module (`Abstract Syntax Tree`)"
   ]
  },
  {
   "cell_type": "markdown",
   "metadata": {},
   "source": [
    "> `literal_eval()` allows you to evaluate a string containing a Python literal or container\n",
    "\n",
    "> #### <font color = \"red\"> See below for my guidance </font>"
   ]
  },
  {
   "cell_type": "code",
   "execution_count": 49,
   "metadata": {},
   "outputs": [],
   "source": [
    "import ast"
   ]
  },
  {
   "cell_type": "markdown",
   "metadata": {},
   "source": [
    "```python\n",
    "# if you wish to unpack data\n",
    "    YOUR_DF[\"variable\"].apply(ast.literal_eval)\n",
    "\n",
    "# if you wish to access specific talk related data\n",
    "    YOUR_DF[\"variable\"].apply(ast.literal_eval)[0]\n",
    "\n",
    "# if you wish to access specific talk related observations within the data\n",
    "    YOUR_DF[\"variable\"].apply(ast.literal_eval)[0][0]\n",
    "\n",
    "# if you wish to access specific talk related observations with a particular attribute within the data\n",
    "    YOUR_DF[\"variable\"].apply(ast.literal_eval)[0][0][\"key\"]\n",
    "```"
   ]
  },
  {
   "cell_type": "markdown",
   "metadata": {},
   "source": [
    "> If you have a string representation of something, you can retrieve what it actually represents"
   ]
  },
  {
   "cell_type": "code",
   "execution_count": 50,
   "metadata": {},
   "outputs": [
    {
     "data": {
      "text/plain": [
       "[{'id': 7, 'name': 'Funny', 'count': 19645},\n",
       " {'id': 1, 'name': 'Beautiful', 'count': 4573},\n",
       " {'id': 9, 'name': 'Ingenious', 'count': 6073},\n",
       " {'id': 3, 'name': 'Courageous', 'count': 3253},\n",
       " {'id': 11, 'name': 'Longwinded', 'count': 387},\n",
       " {'id': 2, 'name': 'Confusing', 'count': 242},\n",
       " {'id': 8, 'name': 'Informative', 'count': 7346},\n",
       " {'id': 22, 'name': 'Fascinating', 'count': 10581},\n",
       " {'id': 21, 'name': 'Unconvincing', 'count': 300},\n",
       " {'id': 24, 'name': 'Persuasive', 'count': 10704},\n",
       " {'id': 23, 'name': 'Jaw-dropping', 'count': 4439},\n",
       " {'id': 25, 'name': 'OK', 'count': 1174},\n",
       " {'id': 26, 'name': 'Obnoxious', 'count': 209},\n",
       " {'id': 10, 'name': 'Inspiring', 'count': 24924}]"
      ]
     },
     "execution_count": 50,
     "metadata": {},
     "output_type": "execute_result"
    }
   ],
   "source": [
    "ast.literal_eval(exercise1.ratings[0])"
   ]
  },
  {
   "cell_type": "markdown",
   "metadata": {},
   "source": [
    "> Let's unpack the ratings data for the first talk"
   ]
  },
  {
   "cell_type": "code",
   "execution_count": 51,
   "metadata": {},
   "outputs": [
    {
     "data": {
      "text/plain": [
       "list"
      ]
     },
     "execution_count": 51,
     "metadata": {},
     "output_type": "execute_result"
    }
   ],
   "source": [
    "type(ast.literal_eval(exercise1.ratings[0]))"
   ]
  },
  {
   "cell_type": "markdown",
   "metadata": {},
   "source": [
    "> Yes, now we have a list (of dictionaries)"
   ]
  },
  {
   "cell_type": "markdown",
   "metadata": {},
   "source": [
    "### Question 6. Let's define a function to convert an element in the ratings Series from string to list\n",
    "\n",
    "#### <font color = \"blue\"> USE `ast.literal_eval()` </font>"
   ]
  },
  {
   "cell_type": "code",
   "execution_count": 52,
   "metadata": {},
   "outputs": [],
   "source": [
    "def string_to_list(rating_str):\n",
    "    return ast.literal_eval(rating_str)"
   ]
  },
  {
   "cell_type": "markdown",
   "metadata": {},
   "source": [
    "> Let's test our function"
   ]
  },
  {
   "cell_type": "code",
   "execution_count": 53,
   "metadata": {},
   "outputs": [
    {
     "data": {
      "text/plain": [
       "\"[{'id': 7, 'name': 'Funny', 'count': 19645}, {'id': 1, 'name': 'Beautiful', 'count': 4573}, {'id': 9, 'name': 'Ingenious', 'count': 6073}, {'id': 3, 'name': 'Courageous', 'count': 3253}, {'id': 11, 'name': 'Longwinded', 'count': 387}, {'id': 2, 'name': 'Confusing', 'count': 242}, {'id': 8, 'name': 'Informative', 'count': 7346}, {'id': 22, 'name': 'Fascinating', 'count': 10581}, {'id': 21, 'name': 'Unconvincing', 'count': 300}, {'id': 24, 'name': 'Persuasive', 'count': 10704}, {'id': 23, 'name': 'Jaw-dropping', 'count': 4439}, {'id': 25, 'name': 'OK', 'count': 1174}, {'id': 26, 'name': 'Obnoxious', 'count': 209}, {'id': 10, 'name': 'Inspiring', 'count': 24924}]\""
      ]
     },
     "execution_count": 53,
     "metadata": {},
     "output_type": "execute_result"
    }
   ],
   "source": [
    "exercise1[\"ratings\"][0]"
   ]
  },
  {
   "cell_type": "code",
   "execution_count": 54,
   "metadata": {},
   "outputs": [
    {
     "data": {
      "text/plain": [
       "[{'id': 7, 'name': 'Funny', 'count': 19645},\n",
       " {'id': 1, 'name': 'Beautiful', 'count': 4573},\n",
       " {'id': 9, 'name': 'Ingenious', 'count': 6073},\n",
       " {'id': 3, 'name': 'Courageous', 'count': 3253},\n",
       " {'id': 11, 'name': 'Longwinded', 'count': 387},\n",
       " {'id': 2, 'name': 'Confusing', 'count': 242},\n",
       " {'id': 8, 'name': 'Informative', 'count': 7346},\n",
       " {'id': 22, 'name': 'Fascinating', 'count': 10581},\n",
       " {'id': 21, 'name': 'Unconvincing', 'count': 300},\n",
       " {'id': 24, 'name': 'Persuasive', 'count': 10704},\n",
       " {'id': 23, 'name': 'Jaw-dropping', 'count': 4439},\n",
       " {'id': 25, 'name': 'OK', 'count': 1174},\n",
       " {'id': 26, 'name': 'Obnoxious', 'count': 209},\n",
       " {'id': 10, 'name': 'Inspiring', 'count': 24924}]"
      ]
     },
     "execution_count": 54,
     "metadata": {},
     "output_type": "execute_result"
    }
   ],
   "source": [
    "string_to_list(exercise1[\"ratings\"][0]) # 第一组字节转成list"
   ]
  },
  {
   "cell_type": "markdown",
   "metadata": {},
   "source": [
    "> Note that Series `apply` method applies a function to every element in a Series, returning a Series."
   ]
  },
  {
   "cell_type": "code",
   "execution_count": 55,
   "metadata": {},
   "outputs": [
    {
     "data": {
      "text/plain": [
       "[{'id': 7, 'name': 'Funny', 'count': 19645},\n",
       " {'id': 1, 'name': 'Beautiful', 'count': 4573},\n",
       " {'id': 9, 'name': 'Ingenious', 'count': 6073},\n",
       " {'id': 3, 'name': 'Courageous', 'count': 3253},\n",
       " {'id': 11, 'name': 'Longwinded', 'count': 387},\n",
       " {'id': 2, 'name': 'Confusing', 'count': 242},\n",
       " {'id': 8, 'name': 'Informative', 'count': 7346},\n",
       " {'id': 22, 'name': 'Fascinating', 'count': 10581},\n",
       " {'id': 21, 'name': 'Unconvincing', 'count': 300},\n",
       " {'id': 24, 'name': 'Persuasive', 'count': 10704},\n",
       " {'id': 23, 'name': 'Jaw-dropping', 'count': 4439},\n",
       " {'id': 25, 'name': 'OK', 'count': 1174},\n",
       " {'id': 26, 'name': 'Obnoxious', 'count': 209},\n",
       " {'id': 10, 'name': 'Inspiring', 'count': 24924}]"
      ]
     },
     "execution_count": 55,
     "metadata": {},
     "output_type": "execute_result"
    }
   ],
   "source": [
    "exercise1.ratings.apply(string_to_list)[0] # 很多组list选第一组list"
   ]
  },
  {
   "cell_type": "markdown",
   "metadata": {},
   "source": [
    "> #### <font color = \"blue\"> `lambda` is a shorter alternative</blue>\n",
    "\n",
    "> #### <font color = \"red\">Please check the following for more details</font>\n",
    "> - `Coder's Apprentice`\n",
    "    - *Chapter 8*: Functions\n",
    "        - *Section 6*: Anonymous functions"
   ]
  },
  {
   "cell_type": "code",
   "execution_count": 56,
   "metadata": {},
   "outputs": [
    {
     "data": {
      "text/plain": [
       "0       [{'id': 7, 'name': 'Funny', 'count': 19645}, {...\n",
       "1       [{'id': 7, 'name': 'Funny', 'count': 544}, {'i...\n",
       "2       [{'id': 7, 'name': 'Funny', 'count': 964}, {'i...\n",
       "3       [{'id': 3, 'name': 'Courageous', 'count': 760}...\n",
       "4       [{'id': 9, 'name': 'Ingenious', 'count': 3202}...\n",
       "                              ...                        \n",
       "2545    [{'id': 3, 'name': 'Courageous', 'count': 24},...\n",
       "2546    [{'id': 22, 'name': 'Fascinating', 'count': 32...\n",
       "2547    [{'id': 1, 'name': 'Beautiful', 'count': 14}, ...\n",
       "2548    [{'id': 11, 'name': 'Longwinded', 'count': 3},...\n",
       "2549    [{'id': 21, 'name': 'Unconvincing', 'count': 2...\n",
       "Name: ratings_list, Length: 2550, dtype: object"
      ]
     },
     "execution_count": 56,
     "metadata": {},
     "output_type": "execute_result"
    }
   ],
   "source": [
    "exercise1[\"ratings_list\"] = exercise1.ratings.apply(lambda x: ast.literal_eval(x))\n",
    "exercise1[\"ratings_list\"]"
   ]
  },
  {
   "cell_type": "markdown",
   "metadata": {},
   "source": [
    "> An even shorter alternative is to apply the function directly (without lambda)"
   ]
  },
  {
   "cell_type": "code",
   "execution_count": 58,
   "metadata": {},
   "outputs": [
    {
     "data": {
      "text/plain": [
       "list"
      ]
     },
     "execution_count": 58,
     "metadata": {},
     "output_type": "execute_result"
    }
   ],
   "source": [
    "type(exercise1[\"ratings_list\"][0])"
   ]
  },
  {
   "cell_type": "markdown",
   "metadata": {},
   "source": [
    "> Let's check that the new Series looks as expected"
   ]
  },
  {
   "cell_type": "code",
   "execution_count": 59,
   "metadata": {},
   "outputs": [
    {
     "data": {
      "text/plain": [
       "[{'id': 7, 'name': 'Funny', 'count': 19645},\n",
       " {'id': 1, 'name': 'Beautiful', 'count': 4573},\n",
       " {'id': 9, 'name': 'Ingenious', 'count': 6073},\n",
       " {'id': 3, 'name': 'Courageous', 'count': 3253},\n",
       " {'id': 11, 'name': 'Longwinded', 'count': 387},\n",
       " {'id': 2, 'name': 'Confusing', 'count': 242},\n",
       " {'id': 8, 'name': 'Informative', 'count': 7346},\n",
       " {'id': 22, 'name': 'Fascinating', 'count': 10581},\n",
       " {'id': 21, 'name': 'Unconvincing', 'count': 300},\n",
       " {'id': 24, 'name': 'Persuasive', 'count': 10704},\n",
       " {'id': 23, 'name': 'Jaw-dropping', 'count': 4439},\n",
       " {'id': 25, 'name': 'OK', 'count': 1174},\n",
       " {'id': 26, 'name': 'Obnoxious', 'count': 209},\n",
       " {'id': 10, 'name': 'Inspiring', 'count': 24924}]"
      ]
     },
     "execution_count": 59,
     "metadata": {},
     "output_type": "execute_result"
    }
   ],
   "source": [
    "exercise1[\"ratings_list\"][0]"
   ]
  },
  {
   "cell_type": "markdown",
   "metadata": {},
   "source": [
    "> Each element in the Series is a list"
   ]
  },
  {
   "cell_type": "markdown",
   "metadata": {
    "scrolled": true
   },
   "source": [
    "> data type of the new Series is object"
   ]
  },
  {
   "cell_type": "markdown",
   "metadata": {},
   "source": [
    "##### Note that object is not just for strings."
   ]
  },
  {
   "cell_type": "code",
   "execution_count": 60,
   "metadata": {},
   "outputs": [
    {
     "data": {
      "text/plain": [
       "comments                       int64\n",
       "description                   object\n",
       "duration                       int64\n",
       "event                         object\n",
       "film_date             datetime64[ns]\n",
       "languages                      int64\n",
       "main_speaker                  object\n",
       "name                          object\n",
       "num_speaker                    int64\n",
       "published_date        datetime64[ns]\n",
       "ratings                       object\n",
       "related_talks                 object\n",
       "speaker_occupation            object\n",
       "tags                          object\n",
       "title                         object\n",
       "url                           object\n",
       "views                          int64\n",
       "comments per view            float64\n",
       "view per comments            float64\n",
       "film_datetime         datetime64[ns]\n",
       "ratings_list                  object\n",
       "dtype: object"
      ]
     },
     "execution_count": 60,
     "metadata": {},
     "output_type": "execute_result"
    }
   ],
   "source": [
    "exercise1.dtypes"
   ]
  },
  {
   "cell_type": "markdown",
   "metadata": {},
   "source": [
    "#### <font color = \"blue\"> So far so good, remember to: </font>\n",
    "\n",
    "- Pay attention to data types in pandas\n",
    "- Use apply any time it is necessary"
   ]
  },
  {
   "cell_type": "markdown",
   "metadata": {},
   "source": [
    "### Question 7.1. Let's have a look at the total number of ratings received by each talk\n",
    "\n",
    "- for each talk, calculate the percentage of ratings that were negative\n",
    "\n",
    "- for each talk, calculate the average number of ratings it received per day since it was published"
   ]
  },
  {
   "cell_type": "markdown",
   "metadata": {},
   "source": [
    "> Let's start by building a simple function"
   ]
  },
  {
   "cell_type": "markdown",
   "metadata": {},
   "source": [
    "> Here, expected result (for each talk) is sum of count"
   ]
  },
  {
   "cell_type": "code",
   "execution_count": 61,
   "metadata": {},
   "outputs": [],
   "source": [
    "def extract_number_of_ratings(list_of_dicts):\n",
    "    return list_of_dicts[0]"
   ]
  },
  {
   "cell_type": "markdown",
   "metadata": {},
   "source": [
    "#### Question 7.2. Please pass it a list, and it returns the first element in the list, which is a dictionary"
   ]
  },
  {
   "cell_type": "code",
   "execution_count": 62,
   "metadata": {},
   "outputs": [
    {
     "data": {
      "text/plain": [
       "{'id': 7, 'name': 'Funny', 'count': 19645}"
      ]
     },
     "execution_count": 62,
     "metadata": {},
     "output_type": "execute_result"
    }
   ],
   "source": [
    "extract_number_of_ratings(exercise1.ratings_list[0])"
   ]
  },
  {
   "cell_type": "markdown",
   "metadata": {},
   "source": [
    "#### Question 7.3. Let's modify the function to return the vote count."
   ]
  },
  {
   "cell_type": "code",
   "execution_count": 63,
   "metadata": {},
   "outputs": [],
   "source": [
    "## method 1 def function\n",
    "def extract_number_of_ratings(list_of_dicts):\n",
    "    return list_of_dicts[0][\"count\"]"
   ]
  },
  {
   "cell_type": "markdown",
   "metadata": {},
   "source": [
    "#### Quesion 7.4. Let's pass it a list, and it returns a value from the first dictionary in the list"
   ]
  },
  {
   "cell_type": "code",
   "execution_count": 64,
   "metadata": {},
   "outputs": [
    {
     "data": {
      "text/plain": [
       "19645"
      ]
     },
     "execution_count": 64,
     "metadata": {},
     "output_type": "execute_result"
    }
   ],
   "source": [
    "## method 1 def function\n",
    "extract_number_of_ratings(exercise1.ratings_list[0])"
   ]
  },
  {
   "cell_type": "markdown",
   "metadata": {},
   "source": [
    "#### Question 7.5. Let's modify the function to get the sum of count"
   ]
  },
  {
   "cell_type": "code",
   "execution_count": 65,
   "metadata": {},
   "outputs": [],
   "source": [
    "## method 1 def function\n",
    "def extract_number_of_ratings(list_of_dicts):\n",
    "    count = 0\n",
    "    for d in list_of_dicts:\n",
    "        count = count + d[\"count\"]\n",
    "    \n",
    "    return count"
   ]
  },
  {
   "cell_type": "markdown",
   "metadata": {},
   "source": [
    "> Does the result look about right? Please check."
   ]
  },
  {
   "cell_type": "code",
   "execution_count": 66,
   "metadata": {},
   "outputs": [
    {
     "data": {
      "text/plain": [
       "93850"
      ]
     },
     "execution_count": 66,
     "metadata": {},
     "output_type": "execute_result"
    }
   ],
   "source": [
    "## method 1 def function\n",
    "extract_number_of_ratings(exercise1.ratings_list[0])"
   ]
  },
  {
   "cell_type": "markdown",
   "metadata": {},
   "source": [
    "> Let's apply it to every element in the Series"
   ]
  },
  {
   "cell_type": "code",
   "execution_count": 67,
   "metadata": {},
   "outputs": [
    {
     "data": {
      "text/plain": [
       "0       93850\n",
       "1        2936\n",
       "2        2824\n",
       "3        3728\n",
       "4       25620\n",
       "        ...  \n",
       "2545      192\n",
       "2546      151\n",
       "2547      136\n",
       "2548      583\n",
       "2549      142\n",
       "Name: ratings_list, Length: 2550, dtype: int64"
      ]
     },
     "execution_count": 67,
     "metadata": {},
     "output_type": "execute_result"
    }
   ],
   "source": [
    "exercise1.ratings_list.apply(extract_number_of_ratings) # dataframe里每行都 分别 用这个函数"
   ]
  },
  {
   "cell_type": "markdown",
   "metadata": {},
   "source": [
    "> #### <font color = \"blue\"> Alternative here is to use a `generator expression`</font>\n",
    "\n",
    "> #### <font color = \"red\"> Please check the following for more details </font>\n",
    "> - `Think Python`: https://greenteapress.com/thinkpython2/thinkpython2.pdf\n",
    "    - *Chapter 19*: The Goodies\n",
    "        - *Section 3*: Generator expressions"
   ]
  },
  {
   "cell_type": "code",
   "execution_count": 68,
   "metadata": {},
   "outputs": [
    {
     "data": {
      "text/plain": [
       "93850"
      ]
     },
     "execution_count": 68,
     "metadata": {},
     "output_type": "execute_result"
    }
   ],
   "source": [
    "sum(i[\"count\"] for i in exercise1.ratings_list[0])"
   ]
  },
  {
   "cell_type": "markdown",
   "metadata": {},
   "source": [
    "> Try to use `lambda` to apply this method"
   ]
  },
  {
   "cell_type": "code",
   "execution_count": 69,
   "metadata": {},
   "outputs": [
    {
     "data": {
      "text/plain": [
       "0       93850\n",
       "1        2936\n",
       "2        2824\n",
       "3        3728\n",
       "4       25620\n",
       "        ...  \n",
       "2545      192\n",
       "2546      151\n",
       "2547      136\n",
       "2548      583\n",
       "2549      142\n",
       "Name: ratings_list, Length: 2550, dtype: int64"
      ]
     },
     "execution_count": 69,
     "metadata": {},
     "output_type": "execute_result"
    }
   ],
   "source": [
    "exercise1.ratings_list.apply(lambda x: sum(d[\"count\"] for d in x))"
   ]
  },
  {
   "cell_type": "markdown",
   "metadata": {},
   "source": [
    "> Another alternative is to use `pd.DataFrame()`"
   ]
  },
  {
   "cell_type": "code",
   "execution_count": 70,
   "metadata": {},
   "outputs": [
    {
     "data": {
      "text/plain": [
       "93850"
      ]
     },
     "execution_count": 70,
     "metadata": {},
     "output_type": "execute_result"
    }
   ],
   "source": [
    "pd.DataFrame(exercise1.ratings_list[0])[\"count\"].sum()"
   ]
  },
  {
   "cell_type": "markdown",
   "metadata": {},
   "source": [
    "> use `lambda` to apply this method"
   ]
  },
  {
   "cell_type": "code",
   "execution_count": 71,
   "metadata": {},
   "outputs": [
    {
     "data": {
      "text/plain": [
       "0       93850\n",
       "1        2936\n",
       "2        2824\n",
       "3        3728\n",
       "4       25620\n",
       "        ...  \n",
       "2545      192\n",
       "2546      151\n",
       "2547      136\n",
       "2548      583\n",
       "2549      142\n",
       "Name: ratings_list, Length: 2550, dtype: int64"
      ]
     },
     "execution_count": 71,
     "metadata": {},
     "output_type": "execute_result"
    }
   ],
   "source": [
    "exercise1.ratings_list.apply(lambda x: pd.DataFrame(x)[\"count\"].sum())"
   ]
  },
  {
   "cell_type": "markdown",
   "metadata": {},
   "source": [
    "> Things to consider:\n",
    "\n",
    "- Write your code in small chunks\n",
    "\n",
    "- Check your work as you move forward\n",
    "\n",
    "- `lambda` is best for simple functions"
   ]
  },
  {
   "cell_type": "code",
   "execution_count": 78,
   "metadata": {},
   "outputs": [
    {
     "data": {
      "text/html": [
       "<div>\n",
       "<style scoped>\n",
       "    .dataframe tbody tr th:only-of-type {\n",
       "        vertical-align: middle;\n",
       "    }\n",
       "\n",
       "    .dataframe tbody tr th {\n",
       "        vertical-align: top;\n",
       "    }\n",
       "\n",
       "    .dataframe thead th {\n",
       "        text-align: right;\n",
       "    }\n",
       "</style>\n",
       "<table border=\"1\" class=\"dataframe\">\n",
       "  <thead>\n",
       "    <tr style=\"text-align: right;\">\n",
       "      <th></th>\n",
       "      <th>comments</th>\n",
       "      <th>description</th>\n",
       "      <th>duration</th>\n",
       "      <th>event</th>\n",
       "      <th>film_date</th>\n",
       "      <th>languages</th>\n",
       "      <th>main_speaker</th>\n",
       "      <th>name</th>\n",
       "      <th>num_speaker</th>\n",
       "      <th>published_date</th>\n",
       "      <th>...</th>\n",
       "      <th>speaker_occupation</th>\n",
       "      <th>tags</th>\n",
       "      <th>title</th>\n",
       "      <th>url</th>\n",
       "      <th>views</th>\n",
       "      <th>comments per view</th>\n",
       "      <th>view per comments</th>\n",
       "      <th>film_datetime</th>\n",
       "      <th>ratings_list</th>\n",
       "      <th>number_of_ratings</th>\n",
       "    </tr>\n",
       "  </thead>\n",
       "  <tbody>\n",
       "    <tr>\n",
       "      <th>2471</th>\n",
       "      <td>65</td>\n",
       "      <td>A few days before she turned 61, writer Anne L...</td>\n",
       "      <td>955</td>\n",
       "      <td>TED2017</td>\n",
       "      <td>2017-04-24</td>\n",
       "      <td>16</td>\n",
       "      <td>Anne Lamott</td>\n",
       "      <td>Anne Lamott: 12 truths I learned from life and...</td>\n",
       "      <td>1</td>\n",
       "      <td>2017-06-09 15:06:36</td>\n",
       "      <td>...</td>\n",
       "      <td>Novelist, essayist</td>\n",
       "      <td>['Christianity', 'God', 'aging', 'art', 'beaut...</td>\n",
       "      <td>12 truths I learned from life and writing</td>\n",
       "      <td>https://www.ted.com/talks/anne_lamott_12_truth...</td>\n",
       "      <td>1890978</td>\n",
       "      <td>0.000034</td>\n",
       "      <td>29091.969231</td>\n",
       "      <td>2017-04-24</td>\n",
       "      <td>[{'id': 26, 'name': 'Obnoxious', 'count': 27},...</td>\n",
       "      <td>2057</td>\n",
       "    </tr>\n",
       "  </tbody>\n",
       "</table>\n",
       "<p>1 rows × 22 columns</p>\n",
       "</div>"
      ],
      "text/plain": [
       "      comments                                        description  duration  \\\n",
       "2471        65  A few days before she turned 61, writer Anne L...       955   \n",
       "\n",
       "        event  film_date  languages main_speaker  \\\n",
       "2471  TED2017 2017-04-24         16  Anne Lamott   \n",
       "\n",
       "                                                   name  num_speaker  \\\n",
       "2471  Anne Lamott: 12 truths I learned from life and...            1   \n",
       "\n",
       "          published_date  ...  speaker_occupation  \\\n",
       "2471 2017-06-09 15:06:36  ...  Novelist, essayist   \n",
       "\n",
       "                                                   tags  \\\n",
       "2471  ['Christianity', 'God', 'aging', 'art', 'beaut...   \n",
       "\n",
       "                                          title  \\\n",
       "2471  12 truths I learned from life and writing   \n",
       "\n",
       "                                                    url    views  \\\n",
       "2471  https://www.ted.com/talks/anne_lamott_12_truth...  1890978   \n",
       "\n",
       "     comments per view  view per comments  film_datetime  \\\n",
       "2471          0.000034       29091.969231     2017-04-24   \n",
       "\n",
       "                                           ratings_list number_of_ratings  \n",
       "2471  [{'id': 26, 'name': 'Obnoxious', 'count': 27},...              2057  \n",
       "\n",
       "[1 rows x 22 columns]"
      ]
     },
     "execution_count": 78,
     "metadata": {},
     "output_type": "execute_result"
    }
   ],
   "source": [
    "exercise1[\"number_of_ratings\"] = exercise1.ratings_list.apply(extract_number_of_ratings)\n",
    "exercise1.sample(1)"
   ]
  },
  {
   "cell_type": "markdown",
   "metadata": {},
   "source": [
    "### Let's find: \n",
    "#### ***which occupations deliver the funniest TED talks on average?***\n",
    "\n",
    "- for each talk, calculate the most frequent rating\n",
    "- for each talk, clean the occupation data so that there's only one occupation per talk"
   ]
  },
  {
   "cell_type": "markdown",
   "metadata": {},
   "source": [
    "##### You might want to count the number of funny ratings"
   ]
  },
  {
   "cell_type": "code",
   "execution_count": 74,
   "metadata": {},
   "outputs": [
    {
     "data": {
      "text/plain": [
       "0    [{'id': 7, 'name': 'Funny', 'count': 19645}, {...\n",
       "Name: ratings_list, dtype: object"
      ]
     },
     "execution_count": 74,
     "metadata": {},
     "output_type": "execute_result"
    }
   ],
   "source": [
    "exercise1.ratings_list.head(1)"
   ]
  },
  {
   "cell_type": "markdown",
   "metadata": {},
   "source": [
    "> \"Funny\" is not always the first dictionary in the list."
   ]
  },
  {
   "cell_type": "markdown",
   "metadata": {},
   "source": [
    "#### Please check ratings (not ratings_list) to see if \"Funny\" is always a rating type"
   ]
  },
  {
   "cell_type": "code",
   "execution_count": 75,
   "metadata": {},
   "outputs": [
    {
     "data": {
      "text/plain": [
       "True    2550\n",
       "Name: ratings, dtype: int64"
      ]
     },
     "execution_count": 75,
     "metadata": {},
     "output_type": "execute_result"
    }
   ],
   "source": [
    "exercise1.ratings.str.contains(\"Funny\").value_counts()"
   ]
  },
  {
   "cell_type": "markdown",
   "metadata": {},
   "source": [
    "### Question 8. Let's write a custom function that gives us a `dictionary` that lists `talks` containing `funny` rating."
   ]
  },
  {
   "cell_type": "code",
   "execution_count": 76,
   "metadata": {},
   "outputs": [],
   "source": [
    "def extract_funny_ratings(list_of_dicts):\n",
    "    for d in list_of_dicts:\n",
    "        if d[\"name\"] == \"Funny\":\n",
    "            return d[\"count\"]"
   ]
  },
  {
   "cell_type": "markdown",
   "metadata": {},
   "source": [
    "> Then, you might want to examine a record in which \"Funny\" is not the first dictionary"
   ]
  },
  {
   "cell_type": "code",
   "execution_count": 79,
   "metadata": {},
   "outputs": [
    {
     "data": {
      "text/plain": [
       "[{'id': 3, 'name': 'Courageous', 'count': 3236},\n",
       " {'id': 21, 'name': 'Unconvincing', 'count': 539},\n",
       " {'id': 1, 'name': 'Beautiful', 'count': 399},\n",
       " {'id': 2, 'name': 'Confusing', 'count': 86},\n",
       " {'id': 7, 'name': 'Funny', 'count': 1203},\n",
       " {'id': 9, 'name': 'Ingenious', 'count': 663},\n",
       " {'id': 11, 'name': 'Longwinded', 'count': 192},\n",
       " {'id': 8, 'name': 'Informative', 'count': 1113},\n",
       " {'id': 10, 'name': 'Inspiring', 'count': 2935},\n",
       " {'id': 22, 'name': 'Fascinating', 'count': 934},\n",
       " {'id': 24, 'name': 'Persuasive', 'count': 2475},\n",
       " {'id': 23, 'name': 'Jaw-dropping', 'count': 551},\n",
       " {'id': 26, 'name': 'Obnoxious', 'count': 406},\n",
       " {'id': 25, 'name': 'OK', 'count': 172}]"
      ]
     },
     "execution_count": 79,
     "metadata": {},
     "output_type": "execute_result"
    }
   ],
   "source": [
    "exercise1.ratings_list[96]"
   ]
  },
  {
   "cell_type": "markdown",
   "metadata": {},
   "source": [
    "> Let's check that the function works."
   ]
  },
  {
   "cell_type": "code",
   "execution_count": 80,
   "metadata": {},
   "outputs": [
    {
     "data": {
      "text/plain": [
       "1203"
      ]
     },
     "execution_count": 80,
     "metadata": {},
     "output_type": "execute_result"
    }
   ],
   "source": [
    "extract_funny_ratings(exercise1.ratings_list[96])"
   ]
  },
  {
   "cell_type": "markdown",
   "metadata": {},
   "source": [
    "> Let's apply it to every element in the Series."
   ]
  },
  {
   "cell_type": "code",
   "execution_count": 81,
   "metadata": {},
   "outputs": [
    {
     "data": {
      "text/html": [
       "<div>\n",
       "<style scoped>\n",
       "    .dataframe tbody tr th:only-of-type {\n",
       "        vertical-align: middle;\n",
       "    }\n",
       "\n",
       "    .dataframe tbody tr th {\n",
       "        vertical-align: top;\n",
       "    }\n",
       "\n",
       "    .dataframe thead th {\n",
       "        text-align: right;\n",
       "    }\n",
       "</style>\n",
       "<table border=\"1\" class=\"dataframe\">\n",
       "  <thead>\n",
       "    <tr style=\"text-align: right;\">\n",
       "      <th></th>\n",
       "      <th>comments</th>\n",
       "      <th>description</th>\n",
       "      <th>duration</th>\n",
       "      <th>event</th>\n",
       "      <th>film_date</th>\n",
       "      <th>languages</th>\n",
       "      <th>main_speaker</th>\n",
       "      <th>name</th>\n",
       "      <th>num_speaker</th>\n",
       "      <th>published_date</th>\n",
       "      <th>...</th>\n",
       "      <th>speaker_occupation</th>\n",
       "      <th>tags</th>\n",
       "      <th>title</th>\n",
       "      <th>url</th>\n",
       "      <th>views</th>\n",
       "      <th>comments per view</th>\n",
       "      <th>view per comments</th>\n",
       "      <th>film_datetime</th>\n",
       "      <th>ratings_list</th>\n",
       "      <th>number_of_ratings</th>\n",
       "    </tr>\n",
       "  </thead>\n",
       "  <tbody>\n",
       "    <tr>\n",
       "      <th>0</th>\n",
       "      <td>4553</td>\n",
       "      <td>Sir Ken Robinson makes an entertaining and pro...</td>\n",
       "      <td>1164</td>\n",
       "      <td>TED2006</td>\n",
       "      <td>2006-02-25</td>\n",
       "      <td>60</td>\n",
       "      <td>Ken Robinson</td>\n",
       "      <td>Ken Robinson: Do schools kill creativity?</td>\n",
       "      <td>1</td>\n",
       "      <td>2006-06-27 00:11:00</td>\n",
       "      <td>...</td>\n",
       "      <td>Author/educator</td>\n",
       "      <td>['children', 'creativity', 'culture', 'dance',...</td>\n",
       "      <td>Do schools kill creativity?</td>\n",
       "      <td>https://www.ted.com/talks/ken_robinson_says_sc...</td>\n",
       "      <td>47227110</td>\n",
       "      <td>0.000096</td>\n",
       "      <td>10372.745443</td>\n",
       "      <td>2006-02-25</td>\n",
       "      <td>[{'id': 7, 'name': 'Funny', 'count': 19645}, {...</td>\n",
       "      <td>93850</td>\n",
       "    </tr>\n",
       "  </tbody>\n",
       "</table>\n",
       "<p>1 rows × 22 columns</p>\n",
       "</div>"
      ],
      "text/plain": [
       "   comments                                        description  duration  \\\n",
       "0      4553  Sir Ken Robinson makes an entertaining and pro...      1164   \n",
       "\n",
       "     event  film_date  languages  main_speaker  \\\n",
       "0  TED2006 2006-02-25         60  Ken Robinson   \n",
       "\n",
       "                                        name  num_speaker      published_date  \\\n",
       "0  Ken Robinson: Do schools kill creativity?            1 2006-06-27 00:11:00   \n",
       "\n",
       "   ... speaker_occupation                                               tags  \\\n",
       "0  ...    Author/educator  ['children', 'creativity', 'culture', 'dance',...   \n",
       "\n",
       "                         title  \\\n",
       "0  Do schools kill creativity?   \n",
       "\n",
       "                                                 url     views  \\\n",
       "0  https://www.ted.com/talks/ken_robinson_says_sc...  47227110   \n",
       "\n",
       "  comments per view  view per comments  film_datetime  \\\n",
       "0          0.000096       10372.745443     2006-02-25   \n",
       "\n",
       "                                        ratings_list number_of_ratings  \n",
       "0  [{'id': 7, 'name': 'Funny', 'count': 19645}, {...             93850  \n",
       "\n",
       "[1 rows x 22 columns]"
      ]
     },
     "execution_count": 81,
     "metadata": {},
     "output_type": "execute_result"
    }
   ],
   "source": [
    "exercise1.head(1)"
   ]
  },
  {
   "cell_type": "code",
   "execution_count": 82,
   "metadata": {},
   "outputs": [],
   "source": [
    "exercise1[\"funny_ratings\"] = exercise1.ratings_list.apply(extract_funny_ratings)"
   ]
  },
  {
   "cell_type": "markdown",
   "metadata": {},
   "source": [
    "> Do check for `missing values`."
   ]
  },
  {
   "cell_type": "code",
   "execution_count": 83,
   "metadata": {},
   "outputs": [
    {
     "data": {
      "text/plain": [
       "0"
      ]
     },
     "execution_count": 83,
     "metadata": {},
     "output_type": "execute_result"
    }
   ],
   "source": [
    "exercise1.funny_ratings.isna().sum()"
   ]
  },
  {
   "cell_type": "markdown",
   "metadata": {},
   "source": [
    "##### Now, let's calculate the percentage of ratings that are funny"
   ]
  },
  {
   "cell_type": "code",
   "execution_count": 84,
   "metadata": {},
   "outputs": [],
   "source": [
    "exercise1[\"funny_percentage\"] = exercise1.funny_ratings / exercise1.number_of_ratings"
   ]
  },
  {
   "cell_type": "markdown",
   "metadata": {},
   "source": [
    "> Let's do some \"gut check\" here that this calculation makes sense by examining the occupations of the funniest talks"
   ]
  },
  {
   "cell_type": "code",
   "execution_count": 85,
   "metadata": {},
   "outputs": [
    {
     "data": {
      "text/plain": [
       "2549                  Game designer\n",
       "1612                      Biologist\n",
       "612                        Sculptor\n",
       "998                  Penguin expert\n",
       "593                        Engineer\n",
       "                   ...             \n",
       "2114            Comedian and writer\n",
       "173                        Investor\n",
       "747                        Comedian\n",
       "1398                       Comedian\n",
       "685     Actor, comedian, playwright\n",
       "Name: speaker_occupation, Length: 2550, dtype: object"
      ]
     },
     "execution_count": 85,
     "metadata": {},
     "output_type": "execute_result"
    }
   ],
   "source": [
    "exercise1.sort_values(\"funny_percentage\").speaker_occupation"
   ]
  },
  {
   "cell_type": "markdown",
   "metadata": {},
   "source": [
    "> Let's examine the occupations of the least funny talks."
   ]
  },
  {
   "cell_type": "code",
   "execution_count": 90,
   "metadata": {},
   "outputs": [
    {
     "data": {
      "text/plain": [
       "speaker_occupation\n",
       " Chairman of the Cordoba Initiative    0.0\n",
       "Political scientist and journalist     0.0\n",
       "HIV/AIDS fighter                       0.0\n",
       "Author, thinker                        0.0\n",
       "Aid worker                             0.0\n",
       "Name: funny_percentage, dtype: float64"
      ]
     },
     "execution_count": 90,
     "metadata": {},
     "output_type": "execute_result"
    }
   ],
   "source": [
    "exercise1.groupby(\"speaker_occupation\").funny_percentage.mean().sort_values().head()"
   ]
  },
  {
   "cell_type": "markdown",
   "metadata": {},
   "source": [
    "### Question 9. It would be funny (pun inteded here) to analyze the funny rate by occupation :) Let's calculate the mean funny rate for each job."
   ]
  },
  {
   "cell_type": "code",
   "execution_count": 89,
   "metadata": {},
   "outputs": [
    {
     "data": {
      "text/plain": [
       "speaker_occupation\n",
       "Comedian                       0.512457\n",
       "Actor, writer                  0.515152\n",
       "Actor, comedian, playwright    0.558107\n",
       "Jugglers                       0.566828\n",
       "Comedian and writer            0.602085\n",
       "Name: funny_percentage, dtype: float64"
      ]
     },
     "execution_count": 89,
     "metadata": {},
     "output_type": "execute_result"
    }
   ],
   "source": [
    "exercise1.groupby(\"speaker_occupation\").funny_percentage.mean().sort_values().tail()"
   ]
  },
  {
   "cell_type": "markdown",
   "metadata": {},
   "source": [
    "##### Note that most of the occupations have a sample size of 1"
   ]
  },
  {
   "cell_type": "code",
   "execution_count": 91,
   "metadata": {},
   "outputs": [
    {
     "data": {
      "text/plain": [
       "Writer                                                                    45\n",
       "Designer                                                                  34\n",
       "Artist                                                                    34\n",
       "Journalist                                                                33\n",
       "Entrepreneur                                                              31\n",
       "                                                                          ..\n",
       "Principal Investigator and Director of the Open Agriculture Initiative     1\n",
       "Cybercrime fighter                                                         1\n",
       "Designer and storyteller                                                   1\n",
       "Human beatbox                                                              1\n",
       "Farmer and technologist                                                    1\n",
       "Name: speaker_occupation, Length: 1458, dtype: int64"
      ]
     },
     "execution_count": 91,
     "metadata": {},
     "output_type": "execute_result"
    }
   ],
   "source": [
    "exercise1.speaker_occupation.value_counts()"
   ]
  },
  {
   "cell_type": "markdown",
   "metadata": {},
   "source": [
    "### Question 10. Let's start looking at `occupations` that are well-represented in the dataset. Let's count how many times each job appears"
   ]
  },
  {
   "cell_type": "code",
   "execution_count": 92,
   "metadata": {},
   "outputs": [
    {
     "data": {
      "text/plain": [
       "Writer                                                                    45\n",
       "Designer                                                                  34\n",
       "Artist                                                                    34\n",
       "Journalist                                                                33\n",
       "Entrepreneur                                                              31\n",
       "                                                                          ..\n",
       "Principal Investigator and Director of the Open Agriculture Initiative     1\n",
       "Cybercrime fighter                                                         1\n",
       "Designer and storyteller                                                   1\n",
       "Human beatbox                                                              1\n",
       "Farmer and technologist                                                    1\n",
       "Name: speaker_occupation, Length: 1458, dtype: int64"
      ]
     },
     "execution_count": 92,
     "metadata": {},
     "output_type": "execute_result"
    }
   ],
   "source": [
    "counting_jobs = exercise1.speaker_occupation.value_counts()\n",
    "counting_jobs"
   ]
  },
  {
   "cell_type": "markdown",
   "metadata": {},
   "source": [
    "##### `value_counts()` outputs a pandas Series, thus we can use pandas to manipulate the output"
   ]
  },
  {
   "cell_type": "code",
   "execution_count": 93,
   "metadata": {},
   "outputs": [
    {
     "data": {
      "text/plain": [
       "pandas.core.series.Series"
      ]
     },
     "execution_count": 93,
     "metadata": {},
     "output_type": "execute_result"
    }
   ],
   "source": [
    "type(counting_jobs)"
   ]
  },
  {
   "cell_type": "markdown",
   "metadata": {},
   "source": [
    "##### Let's take a look at jobs which appear at least 5 times"
   ]
  },
  {
   "cell_type": "code",
   "execution_count": 94,
   "metadata": {},
   "outputs": [
    {
     "data": {
      "text/plain": [
       "Writer                        45\n",
       "Designer                      34\n",
       "Artist                        34\n",
       "Journalist                    33\n",
       "Entrepreneur                  31\n",
       "                              ..\n",
       "Chemist                        5\n",
       "Paleontologist                 5\n",
       "Environmentalist, futurist     5\n",
       "Producer                       5\n",
       "Game designer                  5\n",
       "Name: speaker_occupation, Length: 68, dtype: int64"
      ]
     },
     "execution_count": 94,
     "metadata": {},
     "output_type": "execute_result"
    }
   ],
   "source": [
    "counting_jobs[counting_jobs>=5]"
   ]
  },
  {
   "cell_type": "markdown",
   "metadata": {},
   "source": [
    "> Let's save the index of this Series"
   ]
  },
  {
   "cell_type": "code",
   "execution_count": 95,
   "metadata": {},
   "outputs": [
    {
     "data": {
      "text/plain": [
       "Index(['Writer', 'Designer', 'Artist', 'Journalist', 'Entrepreneur',\n",
       "       'Architect', 'Inventor', 'Psychologist', 'Photographer', 'Filmmaker',\n",
       "       'Economist', 'Author', 'Educator', 'Neuroscientist', 'Roboticist',\n",
       "       'Philosopher', 'Biologist', 'Physicist', 'Marine biologist', 'Musician',\n",
       "       'Technologist', 'Global health expert; data visionary', 'Activist',\n",
       "       'Graphic designer', 'Behavioral economist', 'Philanthropist',\n",
       "       'Astronomer', 'Singer/songwriter', 'Poet', 'Oceanographer', 'Historian',\n",
       "       'Social psychologist', 'Computer scientist', 'Novelist', 'Futurist',\n",
       "       'Engineer', 'Mathematician', 'Astrophysicist', 'Social entrepreneur',\n",
       "       'Legal activist', 'Reporter', 'Performance poet, multimedia artist',\n",
       "       'Photojournalist', 'Evolutionary biologist', 'Singer-songwriter',\n",
       "       'Writer, activist', 'Techno-illusionist', 'Climate advocate',\n",
       "       'Comedian', 'Researcher', 'Social Media Theorist',\n",
       "       'Investor and advocate for moral leadership', 'Sculptor', 'Chef',\n",
       "       'Data scientist', 'Sound consultant', 'Science writer',\n",
       "       'Musician, activist', 'Violinist', 'Physician', 'Surgeon',\n",
       "       'Tech visionary', 'Cartoonist', 'Chemist', 'Paleontologist',\n",
       "       'Environmentalist, futurist', 'Producer', 'Game designer'],\n",
       "      dtype='object')"
      ]
     },
     "execution_count": 95,
     "metadata": {},
     "output_type": "execute_result"
    }
   ],
   "source": [
    "well_represented_jobs = counting_jobs[counting_jobs>=5].index\n",
    "well_represented_jobs"
   ]
  },
  {
   "cell_type": "markdown",
   "metadata": {},
   "source": [
    "##### Now, re-analyze the funny rate by occupation (for top jobs only)"
   ]
  },
  {
   "cell_type": "markdown",
   "metadata": {},
   "source": [
    "> Let's filter DataFrame to include only those jobs."
   ]
  },
  {
   "cell_type": "code",
   "execution_count": 96,
   "metadata": {},
   "outputs": [
    {
     "data": {
      "text/html": [
       "<div>\n",
       "<style scoped>\n",
       "    .dataframe tbody tr th:only-of-type {\n",
       "        vertical-align: middle;\n",
       "    }\n",
       "\n",
       "    .dataframe tbody tr th {\n",
       "        vertical-align: top;\n",
       "    }\n",
       "\n",
       "    .dataframe thead th {\n",
       "        text-align: right;\n",
       "    }\n",
       "</style>\n",
       "<table border=\"1\" class=\"dataframe\">\n",
       "  <thead>\n",
       "    <tr style=\"text-align: right;\">\n",
       "      <th></th>\n",
       "      <th>comments</th>\n",
       "      <th>description</th>\n",
       "      <th>duration</th>\n",
       "      <th>event</th>\n",
       "      <th>film_date</th>\n",
       "      <th>languages</th>\n",
       "      <th>main_speaker</th>\n",
       "      <th>name</th>\n",
       "      <th>num_speaker</th>\n",
       "      <th>published_date</th>\n",
       "      <th>...</th>\n",
       "      <th>title</th>\n",
       "      <th>url</th>\n",
       "      <th>views</th>\n",
       "      <th>comments per view</th>\n",
       "      <th>view per comments</th>\n",
       "      <th>film_datetime</th>\n",
       "      <th>ratings_list</th>\n",
       "      <th>number_of_ratings</th>\n",
       "      <th>funny_ratings</th>\n",
       "      <th>funny_percentage</th>\n",
       "    </tr>\n",
       "  </thead>\n",
       "  <tbody>\n",
       "    <tr>\n",
       "      <th>1</th>\n",
       "      <td>265</td>\n",
       "      <td>With the same humor and humanity he exuded in ...</td>\n",
       "      <td>977</td>\n",
       "      <td>TED2006</td>\n",
       "      <td>2006-02-25</td>\n",
       "      <td>43</td>\n",
       "      <td>Al Gore</td>\n",
       "      <td>Al Gore: Averting the climate crisis</td>\n",
       "      <td>1</td>\n",
       "      <td>2006-06-27 00:11:00</td>\n",
       "      <td>...</td>\n",
       "      <td>Averting the climate crisis</td>\n",
       "      <td>https://www.ted.com/talks/al_gore_on_averting_...</td>\n",
       "      <td>3200520</td>\n",
       "      <td>0.000083</td>\n",
       "      <td>12077.433962</td>\n",
       "      <td>2006-02-25</td>\n",
       "      <td>[{'id': 7, 'name': 'Funny', 'count': 544}, {'i...</td>\n",
       "      <td>2936</td>\n",
       "      <td>544</td>\n",
       "      <td>0.185286</td>\n",
       "    </tr>\n",
       "    <tr>\n",
       "      <th>4</th>\n",
       "      <td>593</td>\n",
       "      <td>You've never seen data presented like this. Wi...</td>\n",
       "      <td>1190</td>\n",
       "      <td>TED2006</td>\n",
       "      <td>2006-02-22</td>\n",
       "      <td>48</td>\n",
       "      <td>Hans Rosling</td>\n",
       "      <td>Hans Rosling: The best stats you've ever seen</td>\n",
       "      <td>1</td>\n",
       "      <td>2006-06-27 20:38:00</td>\n",
       "      <td>...</td>\n",
       "      <td>The best stats you've ever seen</td>\n",
       "      <td>https://www.ted.com/talks/hans_rosling_shows_t...</td>\n",
       "      <td>12005869</td>\n",
       "      <td>0.000049</td>\n",
       "      <td>20245.984823</td>\n",
       "      <td>2006-02-22</td>\n",
       "      <td>[{'id': 9, 'name': 'Ingenious', 'count': 3202}...</td>\n",
       "      <td>25620</td>\n",
       "      <td>1390</td>\n",
       "      <td>0.054254</td>\n",
       "    </tr>\n",
       "    <tr>\n",
       "      <th>7</th>\n",
       "      <td>46</td>\n",
       "      <td>Architect Joshua Prince-Ramus takes the audien...</td>\n",
       "      <td>1198</td>\n",
       "      <td>TED2006</td>\n",
       "      <td>2006-02-23</td>\n",
       "      <td>19</td>\n",
       "      <td>Joshua Prince-Ramus</td>\n",
       "      <td>Joshua Prince-Ramus: Behind the design of Seat...</td>\n",
       "      <td>1</td>\n",
       "      <td>2006-07-10 00:11:00</td>\n",
       "      <td>...</td>\n",
       "      <td>Behind the design of Seattle's library</td>\n",
       "      <td>https://www.ted.com/talks/joshua_prince_ramus_...</td>\n",
       "      <td>967741</td>\n",
       "      <td>0.000048</td>\n",
       "      <td>21037.847826</td>\n",
       "      <td>2006-02-23</td>\n",
       "      <td>[{'id': 9, 'name': 'Ingenious', 'count': 195},...</td>\n",
       "      <td>1024</td>\n",
       "      <td>9</td>\n",
       "      <td>0.008789</td>\n",
       "    </tr>\n",
       "    <tr>\n",
       "      <th>11</th>\n",
       "      <td>55</td>\n",
       "      <td>Jehane Noujaim unveils her 2006 TED Prize wish...</td>\n",
       "      <td>1538</td>\n",
       "      <td>TED2006</td>\n",
       "      <td>2006-02-26</td>\n",
       "      <td>20</td>\n",
       "      <td>Jehane Noujaim</td>\n",
       "      <td>Jehane Noujaim: My wish: A global day of film</td>\n",
       "      <td>1</td>\n",
       "      <td>2006-07-25 00:11:00</td>\n",
       "      <td>...</td>\n",
       "      <td>My wish: A global day of film</td>\n",
       "      <td>https://www.ted.com/talks/jehane_noujaim_inspi...</td>\n",
       "      <td>387877</td>\n",
       "      <td>0.000142</td>\n",
       "      <td>7052.309091</td>\n",
       "      <td>2006-02-26</td>\n",
       "      <td>[{'id': 1, 'name': 'Beautiful', 'count': 70}, ...</td>\n",
       "      <td>592</td>\n",
       "      <td>5</td>\n",
       "      <td>0.008446</td>\n",
       "    </tr>\n",
       "    <tr>\n",
       "      <th>14</th>\n",
       "      <td>99</td>\n",
       "      <td>Nicholas Negroponte, founder of the MIT Media ...</td>\n",
       "      <td>1057</td>\n",
       "      <td>TED2006</td>\n",
       "      <td>2006-02-23</td>\n",
       "      <td>25</td>\n",
       "      <td>Nicholas Negroponte</td>\n",
       "      <td>Nicholas Negroponte: One Laptop per Child</td>\n",
       "      <td>1</td>\n",
       "      <td>2006-08-01 00:11:00</td>\n",
       "      <td>...</td>\n",
       "      <td>One Laptop per Child</td>\n",
       "      <td>https://www.ted.com/talks/nicholas_negroponte_...</td>\n",
       "      <td>358304</td>\n",
       "      <td>0.000276</td>\n",
       "      <td>3619.232323</td>\n",
       "      <td>2006-02-23</td>\n",
       "      <td>[{'id': 3, 'name': 'Courageous', 'count': 83},...</td>\n",
       "      <td>781</td>\n",
       "      <td>14</td>\n",
       "      <td>0.017926</td>\n",
       "    </tr>\n",
       "    <tr>\n",
       "      <th>...</th>\n",
       "      <td>...</td>\n",
       "      <td>...</td>\n",
       "      <td>...</td>\n",
       "      <td>...</td>\n",
       "      <td>...</td>\n",
       "      <td>...</td>\n",
       "      <td>...</td>\n",
       "      <td>...</td>\n",
       "      <td>...</td>\n",
       "      <td>...</td>\n",
       "      <td>...</td>\n",
       "      <td>...</td>\n",
       "      <td>...</td>\n",
       "      <td>...</td>\n",
       "      <td>...</td>\n",
       "      <td>...</td>\n",
       "      <td>...</td>\n",
       "      <td>...</td>\n",
       "      <td>...</td>\n",
       "      <td>...</td>\n",
       "      <td>...</td>\n",
       "    </tr>\n",
       "    <tr>\n",
       "      <th>2539</th>\n",
       "      <td>10</td>\n",
       "      <td>Forget quinoa. Meet fonio, an ancient \"miracle...</td>\n",
       "      <td>934</td>\n",
       "      <td>TED2017</td>\n",
       "      <td>2017-08-27</td>\n",
       "      <td>2</td>\n",
       "      <td>Pierre Thiam</td>\n",
       "      <td>Pierre Thiam: A forgotten ancient grain that c...</td>\n",
       "      <td>1</td>\n",
       "      <td>2017-09-13 14:45:42</td>\n",
       "      <td>...</td>\n",
       "      <td>A forgotten ancient grain that could help Afri...</td>\n",
       "      <td>https://www.ted.com/talks/pierre_thiam_a_forgo...</td>\n",
       "      <td>527314</td>\n",
       "      <td>0.000019</td>\n",
       "      <td>52731.400000</td>\n",
       "      <td>2017-08-27</td>\n",
       "      <td>[{'id': 10, 'name': 'Inspiring', 'count': 73},...</td>\n",
       "      <td>256</td>\n",
       "      <td>2</td>\n",
       "      <td>0.007812</td>\n",
       "    </tr>\n",
       "    <tr>\n",
       "      <th>2541</th>\n",
       "      <td>12</td>\n",
       "      <td>Physics doesn't just happen in a fancy lab -- ...</td>\n",
       "      <td>957</td>\n",
       "      <td>TEDxManchester</td>\n",
       "      <td>2017-02-19</td>\n",
       "      <td>2</td>\n",
       "      <td>Helen Czerski</td>\n",
       "      <td>Helen Czerski: The fascinating physics of ever...</td>\n",
       "      <td>1</td>\n",
       "      <td>2017-09-14 20:00:02</td>\n",
       "      <td>...</td>\n",
       "      <td>The fascinating physics of everyday life</td>\n",
       "      <td>https://www.ted.com/talks/helen_czerski_fun_ho...</td>\n",
       "      <td>656791</td>\n",
       "      <td>0.000018</td>\n",
       "      <td>54732.583333</td>\n",
       "      <td>2017-02-19</td>\n",
       "      <td>[{'id': 11, 'name': 'Longwinded', 'count': 29}...</td>\n",
       "      <td>378</td>\n",
       "      <td>39</td>\n",
       "      <td>0.103175</td>\n",
       "    </tr>\n",
       "    <tr>\n",
       "      <th>2542</th>\n",
       "      <td>3</td>\n",
       "      <td>In the century-old statues that occupy Cape To...</td>\n",
       "      <td>795</td>\n",
       "      <td>TEDGlobal 2017</td>\n",
       "      <td>2017-08-27</td>\n",
       "      <td>1</td>\n",
       "      <td>Sethembile Msezane</td>\n",
       "      <td>Sethembile Msezane: Living sculptures that sta...</td>\n",
       "      <td>1</td>\n",
       "      <td>2017-09-15 15:08:13</td>\n",
       "      <td>...</td>\n",
       "      <td>Living sculptures that stand for history's truths</td>\n",
       "      <td>https://www.ted.com/talks/sethembile_msezane_l...</td>\n",
       "      <td>542088</td>\n",
       "      <td>0.000006</td>\n",
       "      <td>180696.000000</td>\n",
       "      <td>2017-08-27</td>\n",
       "      <td>[{'id': 1, 'name': 'Beautiful', 'count': 41}, ...</td>\n",
       "      <td>181</td>\n",
       "      <td>6</td>\n",
       "      <td>0.033149</td>\n",
       "    </tr>\n",
       "    <tr>\n",
       "      <th>2545</th>\n",
       "      <td>17</td>\n",
       "      <td>Between 2008 and 2016, the United States depor...</td>\n",
       "      <td>476</td>\n",
       "      <td>TED2017</td>\n",
       "      <td>2017-06-06</td>\n",
       "      <td>4</td>\n",
       "      <td>Duarte Geraldino</td>\n",
       "      <td>Duarte Geraldino: What we're missing in the de...</td>\n",
       "      <td>1</td>\n",
       "      <td>2017-09-19 20:00:16</td>\n",
       "      <td>...</td>\n",
       "      <td>What we're missing in the debate about immigra...</td>\n",
       "      <td>https://www.ted.com/talks/duarte_geraldino_wha...</td>\n",
       "      <td>450430</td>\n",
       "      <td>0.000038</td>\n",
       "      <td>26495.882353</td>\n",
       "      <td>2017-06-06</td>\n",
       "      <td>[{'id': 3, 'name': 'Courageous', 'count': 24},...</td>\n",
       "      <td>192</td>\n",
       "      <td>1</td>\n",
       "      <td>0.005208</td>\n",
       "    </tr>\n",
       "    <tr>\n",
       "      <th>2549</th>\n",
       "      <td>8</td>\n",
       "      <td>With more than half of the world population li...</td>\n",
       "      <td>519</td>\n",
       "      <td>TED2017</td>\n",
       "      <td>2017-04-24</td>\n",
       "      <td>1</td>\n",
       "      <td>Karoliina Korppoo</td>\n",
       "      <td>Karoliina Korppoo: How a video game might help...</td>\n",
       "      <td>1</td>\n",
       "      <td>2017-09-22 15:00:22</td>\n",
       "      <td>...</td>\n",
       "      <td>How a video game might help us build better ci...</td>\n",
       "      <td>https://www.ted.com/talks/karoliina_korppoo_ho...</td>\n",
       "      <td>391721</td>\n",
       "      <td>0.000020</td>\n",
       "      <td>48965.125000</td>\n",
       "      <td>2017-04-24</td>\n",
       "      <td>[{'id': 21, 'name': 'Unconvincing', 'count': 2...</td>\n",
       "      <td>142</td>\n",
       "      <td>0</td>\n",
       "      <td>0.000000</td>\n",
       "    </tr>\n",
       "  </tbody>\n",
       "</table>\n",
       "<p>786 rows × 24 columns</p>\n",
       "</div>"
      ],
      "text/plain": [
       "      comments                                        description  duration  \\\n",
       "1          265  With the same humor and humanity he exuded in ...       977   \n",
       "4          593  You've never seen data presented like this. Wi...      1190   \n",
       "7           46  Architect Joshua Prince-Ramus takes the audien...      1198   \n",
       "11          55  Jehane Noujaim unveils her 2006 TED Prize wish...      1538   \n",
       "14          99  Nicholas Negroponte, founder of the MIT Media ...      1057   \n",
       "...        ...                                                ...       ...   \n",
       "2539        10  Forget quinoa. Meet fonio, an ancient \"miracle...       934   \n",
       "2541        12  Physics doesn't just happen in a fancy lab -- ...       957   \n",
       "2542         3  In the century-old statues that occupy Cape To...       795   \n",
       "2545        17  Between 2008 and 2016, the United States depor...       476   \n",
       "2549         8  With more than half of the world population li...       519   \n",
       "\n",
       "               event  film_date  languages         main_speaker  \\\n",
       "1            TED2006 2006-02-25         43              Al Gore   \n",
       "4            TED2006 2006-02-22         48         Hans Rosling   \n",
       "7            TED2006 2006-02-23         19  Joshua Prince-Ramus   \n",
       "11           TED2006 2006-02-26         20       Jehane Noujaim   \n",
       "14           TED2006 2006-02-23         25  Nicholas Negroponte   \n",
       "...              ...        ...        ...                  ...   \n",
       "2539         TED2017 2017-08-27          2         Pierre Thiam   \n",
       "2541  TEDxManchester 2017-02-19          2        Helen Czerski   \n",
       "2542  TEDGlobal 2017 2017-08-27          1   Sethembile Msezane   \n",
       "2545         TED2017 2017-06-06          4     Duarte Geraldino   \n",
       "2549         TED2017 2017-04-24          1    Karoliina Korppoo   \n",
       "\n",
       "                                                   name  num_speaker  \\\n",
       "1                  Al Gore: Averting the climate crisis            1   \n",
       "4         Hans Rosling: The best stats you've ever seen            1   \n",
       "7     Joshua Prince-Ramus: Behind the design of Seat...            1   \n",
       "11        Jehane Noujaim: My wish: A global day of film            1   \n",
       "14            Nicholas Negroponte: One Laptop per Child            1   \n",
       "...                                                 ...          ...   \n",
       "2539  Pierre Thiam: A forgotten ancient grain that c...            1   \n",
       "2541  Helen Czerski: The fascinating physics of ever...            1   \n",
       "2542  Sethembile Msezane: Living sculptures that sta...            1   \n",
       "2545  Duarte Geraldino: What we're missing in the de...            1   \n",
       "2549  Karoliina Korppoo: How a video game might help...            1   \n",
       "\n",
       "          published_date  ...  \\\n",
       "1    2006-06-27 00:11:00  ...   \n",
       "4    2006-06-27 20:38:00  ...   \n",
       "7    2006-07-10 00:11:00  ...   \n",
       "11   2006-07-25 00:11:00  ...   \n",
       "14   2006-08-01 00:11:00  ...   \n",
       "...                  ...  ...   \n",
       "2539 2017-09-13 14:45:42  ...   \n",
       "2541 2017-09-14 20:00:02  ...   \n",
       "2542 2017-09-15 15:08:13  ...   \n",
       "2545 2017-09-19 20:00:16  ...   \n",
       "2549 2017-09-22 15:00:22  ...   \n",
       "\n",
       "                                                  title  \\\n",
       "1                           Averting the climate crisis   \n",
       "4                       The best stats you've ever seen   \n",
       "7                Behind the design of Seattle's library   \n",
       "11                        My wish: A global day of film   \n",
       "14                                 One Laptop per Child   \n",
       "...                                                 ...   \n",
       "2539  A forgotten ancient grain that could help Afri...   \n",
       "2541           The fascinating physics of everyday life   \n",
       "2542  Living sculptures that stand for history's truths   \n",
       "2545  What we're missing in the debate about immigra...   \n",
       "2549  How a video game might help us build better ci...   \n",
       "\n",
       "                                                    url     views  \\\n",
       "1     https://www.ted.com/talks/al_gore_on_averting_...   3200520   \n",
       "4     https://www.ted.com/talks/hans_rosling_shows_t...  12005869   \n",
       "7     https://www.ted.com/talks/joshua_prince_ramus_...    967741   \n",
       "11    https://www.ted.com/talks/jehane_noujaim_inspi...    387877   \n",
       "14    https://www.ted.com/talks/nicholas_negroponte_...    358304   \n",
       "...                                                 ...       ...   \n",
       "2539  https://www.ted.com/talks/pierre_thiam_a_forgo...    527314   \n",
       "2541  https://www.ted.com/talks/helen_czerski_fun_ho...    656791   \n",
       "2542  https://www.ted.com/talks/sethembile_msezane_l...    542088   \n",
       "2545  https://www.ted.com/talks/duarte_geraldino_wha...    450430   \n",
       "2549  https://www.ted.com/talks/karoliina_korppoo_ho...    391721   \n",
       "\n",
       "     comments per view view per comments film_datetime  \\\n",
       "1             0.000083      12077.433962    2006-02-25   \n",
       "4             0.000049      20245.984823    2006-02-22   \n",
       "7             0.000048      21037.847826    2006-02-23   \n",
       "11            0.000142       7052.309091    2006-02-26   \n",
       "14            0.000276       3619.232323    2006-02-23   \n",
       "...                ...               ...           ...   \n",
       "2539          0.000019      52731.400000    2017-08-27   \n",
       "2541          0.000018      54732.583333    2017-02-19   \n",
       "2542          0.000006     180696.000000    2017-08-27   \n",
       "2545          0.000038      26495.882353    2017-06-06   \n",
       "2549          0.000020      48965.125000    2017-04-24   \n",
       "\n",
       "                                           ratings_list  number_of_ratings  \\\n",
       "1     [{'id': 7, 'name': 'Funny', 'count': 544}, {'i...               2936   \n",
       "4     [{'id': 9, 'name': 'Ingenious', 'count': 3202}...              25620   \n",
       "7     [{'id': 9, 'name': 'Ingenious', 'count': 195},...               1024   \n",
       "11    [{'id': 1, 'name': 'Beautiful', 'count': 70}, ...                592   \n",
       "14    [{'id': 3, 'name': 'Courageous', 'count': 83},...                781   \n",
       "...                                                 ...                ...   \n",
       "2539  [{'id': 10, 'name': 'Inspiring', 'count': 73},...                256   \n",
       "2541  [{'id': 11, 'name': 'Longwinded', 'count': 29}...                378   \n",
       "2542  [{'id': 1, 'name': 'Beautiful', 'count': 41}, ...                181   \n",
       "2545  [{'id': 3, 'name': 'Courageous', 'count': 24},...                192   \n",
       "2549  [{'id': 21, 'name': 'Unconvincing', 'count': 2...                142   \n",
       "\n",
       "      funny_ratings funny_percentage  \n",
       "1               544         0.185286  \n",
       "4              1390         0.054254  \n",
       "7                 9         0.008789  \n",
       "11                5         0.008446  \n",
       "14               14         0.017926  \n",
       "...             ...              ...  \n",
       "2539              2         0.007812  \n",
       "2541             39         0.103175  \n",
       "2542              6         0.033149  \n",
       "2545              1         0.005208  \n",
       "2549              0         0.000000  \n",
       "\n",
       "[786 rows x 24 columns]"
      ]
     },
     "execution_count": 96,
     "metadata": {},
     "output_type": "execute_result"
    }
   ],
   "source": [
    "ted_with_jobs = exercise1[exercise1.speaker_occupation.isin(well_represented_jobs)]\n",
    "ted_with_jobs"
   ]
  },
  {
   "cell_type": "markdown",
   "metadata": {},
   "source": [
    "##### Let's re-do the previous groupby"
   ]
  },
  {
   "cell_type": "code",
   "execution_count": 97,
   "metadata": {},
   "outputs": [
    {
     "data": {
      "text/plain": [
       "speaker_occupation\n",
       " Chairman of the Cordoba Initiative    0.000000\n",
       "Political scientist and journalist     0.000000\n",
       "HIV/AIDS fighter                       0.000000\n",
       "Author, thinker                        0.000000\n",
       "Aid worker                             0.000000\n",
       "                                         ...   \n",
       "Comedian                               0.512457\n",
       "Actor, writer                          0.515152\n",
       "Actor, comedian, playwright            0.558107\n",
       "Jugglers                               0.566828\n",
       "Comedian and writer                    0.602085\n",
       "Name: funny_percentage, Length: 1458, dtype: float64"
      ]
     },
     "execution_count": 97,
     "metadata": {},
     "output_type": "execute_result"
    }
   ],
   "source": [
    "exercise1.groupby(\"speaker_occupation\").funny_percentage.mean().sort_values()"
   ]
  },
  {
   "cell_type": "markdown",
   "metadata": {},
   "source": [
    "> ### <font color = \"blue\"> Please consider the following, when using `pandas`: </font>\n",
    "\n",
    "- Check your assumptions about your data\n",
    "- Check whether your results are reasonable\n",
    "- Take advantage of the fact that pandas operations often output a DataFrame or a Series\n",
    "- Watch out for small sample sizes\n",
    "- Consider the impact of missing data\n",
    "\n",
    "> ### <font color = \"blue\"> As you could find from me as well as from the dataset, `data scientists are relatively funny` :) </font>\n"
   ]
  },
  {
   "cell_type": "markdown",
   "metadata": {},
   "source": [
    "### <font color=\"green\">\"Thank you for putting your efforts into the exercise problem sets :)\"</font>"
   ]
  },
  {
   "cell_type": "code",
   "execution_count": null,
   "metadata": {},
   "outputs": [],
   "source": []
  },
  {
   "cell_type": "markdown",
   "metadata": {},
   "source": [
    "# QF 627 Programming and Computational Finance\n",
    "## Problem-Sets for Exercise 1 | `Questions`"
   ]
  },
  {
   "cell_type": "markdown",
   "metadata": {},
   "source": [
    "> For your further exercise, let's analyze a dataset about [TED talks](https://www.ted.com/talks) using `pandas` and `matplotlib` libraries."
   ]
  },
  {
   "cell_type": "markdown",
   "metadata": {},
   "source": [
    "### <font color = green> Activation of necessary libraries. </font>"
   ]
  },
  {
   "cell_type": "code",
   "execution_count": 1,
   "metadata": {},
   "outputs": [],
   "source": [
    "import pandas as pd\n",
    "import matplotlib.pyplot as plt"
   ]
  },
  {
   "cell_type": "markdown",
   "metadata": {},
   "source": [
    "### <font color = \"blue\"> `IMPORT` your dataset: `TED_talks.csv`. </font>"
   ]
  },
  {
   "cell_type": "code",
   "execution_count": 2,
   "metadata": {},
   "outputs": [],
   "source": [
    "exercise1 = pd.read_csv(\"TED_talks.csv\")"
   ]
  },
  {
   "cell_type": "markdown",
   "metadata": {
    "scrolled": false
   },
   "source": [
    "> #### Print the imported dataframe. Each row (data points) represents a single talk (unit of observation)."
   ]
  },
  {
   "cell_type": "code",
   "execution_count": 3,
   "metadata": {
    "scrolled": true
   },
   "outputs": [
    {
     "data": {
      "text/html": [
       "<div>\n",
       "<style scoped>\n",
       "    .dataframe tbody tr th:only-of-type {\n",
       "        vertical-align: middle;\n",
       "    }\n",
       "\n",
       "    .dataframe tbody tr th {\n",
       "        vertical-align: top;\n",
       "    }\n",
       "\n",
       "    .dataframe thead th {\n",
       "        text-align: right;\n",
       "    }\n",
       "</style>\n",
       "<table border=\"1\" class=\"dataframe\">\n",
       "  <thead>\n",
       "    <tr style=\"text-align: right;\">\n",
       "      <th></th>\n",
       "      <th>comments</th>\n",
       "      <th>description</th>\n",
       "      <th>duration</th>\n",
       "      <th>event</th>\n",
       "      <th>film_date</th>\n",
       "      <th>languages</th>\n",
       "      <th>main_speaker</th>\n",
       "      <th>name</th>\n",
       "      <th>num_speaker</th>\n",
       "      <th>published_date</th>\n",
       "      <th>ratings</th>\n",
       "      <th>related_talks</th>\n",
       "      <th>speaker_occupation</th>\n",
       "      <th>tags</th>\n",
       "      <th>title</th>\n",
       "      <th>url</th>\n",
       "      <th>views</th>\n",
       "    </tr>\n",
       "  </thead>\n",
       "  <tbody>\n",
       "    <tr>\n",
       "      <th>0</th>\n",
       "      <td>4553</td>\n",
       "      <td>Sir Ken Robinson makes an entertaining and pro...</td>\n",
       "      <td>1164</td>\n",
       "      <td>TED2006</td>\n",
       "      <td>1140825600</td>\n",
       "      <td>60</td>\n",
       "      <td>Ken Robinson</td>\n",
       "      <td>Ken Robinson: Do schools kill creativity?</td>\n",
       "      <td>1</td>\n",
       "      <td>1151367060</td>\n",
       "      <td>[{'id': 7, 'name': 'Funny', 'count': 19645}, {...</td>\n",
       "      <td>[{'id': 865, 'hero': 'https://pe.tedcdn.com/im...</td>\n",
       "      <td>Author/educator</td>\n",
       "      <td>['children', 'creativity', 'culture', 'dance',...</td>\n",
       "      <td>Do schools kill creativity?</td>\n",
       "      <td>https://www.ted.com/talks/ken_robinson_says_sc...</td>\n",
       "      <td>47227110</td>\n",
       "    </tr>\n",
       "    <tr>\n",
       "      <th>1</th>\n",
       "      <td>265</td>\n",
       "      <td>With the same humor and humanity he exuded in ...</td>\n",
       "      <td>977</td>\n",
       "      <td>TED2006</td>\n",
       "      <td>1140825600</td>\n",
       "      <td>43</td>\n",
       "      <td>Al Gore</td>\n",
       "      <td>Al Gore: Averting the climate crisis</td>\n",
       "      <td>1</td>\n",
       "      <td>1151367060</td>\n",
       "      <td>[{'id': 7, 'name': 'Funny', 'count': 544}, {'i...</td>\n",
       "      <td>[{'id': 243, 'hero': 'https://pe.tedcdn.com/im...</td>\n",
       "      <td>Climate advocate</td>\n",
       "      <td>['alternative energy', 'cars', 'climate change...</td>\n",
       "      <td>Averting the climate crisis</td>\n",
       "      <td>https://www.ted.com/talks/al_gore_on_averting_...</td>\n",
       "      <td>3200520</td>\n",
       "    </tr>\n",
       "    <tr>\n",
       "      <th>2</th>\n",
       "      <td>124</td>\n",
       "      <td>New York Times columnist David Pogue takes aim...</td>\n",
       "      <td>1286</td>\n",
       "      <td>TED2006</td>\n",
       "      <td>1140739200</td>\n",
       "      <td>26</td>\n",
       "      <td>David Pogue</td>\n",
       "      <td>David Pogue: Simplicity sells</td>\n",
       "      <td>1</td>\n",
       "      <td>1151367060</td>\n",
       "      <td>[{'id': 7, 'name': 'Funny', 'count': 964}, {'i...</td>\n",
       "      <td>[{'id': 1725, 'hero': 'https://pe.tedcdn.com/i...</td>\n",
       "      <td>Technology columnist</td>\n",
       "      <td>['computers', 'entertainment', 'interface desi...</td>\n",
       "      <td>Simplicity sells</td>\n",
       "      <td>https://www.ted.com/talks/david_pogue_says_sim...</td>\n",
       "      <td>1636292</td>\n",
       "    </tr>\n",
       "    <tr>\n",
       "      <th>3</th>\n",
       "      <td>200</td>\n",
       "      <td>In an emotionally charged talk, MacArthur-winn...</td>\n",
       "      <td>1116</td>\n",
       "      <td>TED2006</td>\n",
       "      <td>1140912000</td>\n",
       "      <td>35</td>\n",
       "      <td>Majora Carter</td>\n",
       "      <td>Majora Carter: Greening the ghetto</td>\n",
       "      <td>1</td>\n",
       "      <td>1151367060</td>\n",
       "      <td>[{'id': 3, 'name': 'Courageous', 'count': 760}...</td>\n",
       "      <td>[{'id': 1041, 'hero': 'https://pe.tedcdn.com/i...</td>\n",
       "      <td>Activist for environmental justice</td>\n",
       "      <td>['MacArthur grant', 'activism', 'business', 'c...</td>\n",
       "      <td>Greening the ghetto</td>\n",
       "      <td>https://www.ted.com/talks/majora_carter_s_tale...</td>\n",
       "      <td>1697550</td>\n",
       "    </tr>\n",
       "    <tr>\n",
       "      <th>4</th>\n",
       "      <td>593</td>\n",
       "      <td>You've never seen data presented like this. Wi...</td>\n",
       "      <td>1190</td>\n",
       "      <td>TED2006</td>\n",
       "      <td>1140566400</td>\n",
       "      <td>48</td>\n",
       "      <td>Hans Rosling</td>\n",
       "      <td>Hans Rosling: The best stats you've ever seen</td>\n",
       "      <td>1</td>\n",
       "      <td>1151440680</td>\n",
       "      <td>[{'id': 9, 'name': 'Ingenious', 'count': 3202}...</td>\n",
       "      <td>[{'id': 2056, 'hero': 'https://pe.tedcdn.com/i...</td>\n",
       "      <td>Global health expert; data visionary</td>\n",
       "      <td>['Africa', 'Asia', 'Google', 'demo', 'economic...</td>\n",
       "      <td>The best stats you've ever seen</td>\n",
       "      <td>https://www.ted.com/talks/hans_rosling_shows_t...</td>\n",
       "      <td>12005869</td>\n",
       "    </tr>\n",
       "  </tbody>\n",
       "</table>\n",
       "</div>"
      ],
      "text/plain": [
       "   comments                                        description  duration  \\\n",
       "0      4553  Sir Ken Robinson makes an entertaining and pro...      1164   \n",
       "1       265  With the same humor and humanity he exuded in ...       977   \n",
       "2       124  New York Times columnist David Pogue takes aim...      1286   \n",
       "3       200  In an emotionally charged talk, MacArthur-winn...      1116   \n",
       "4       593  You've never seen data presented like this. Wi...      1190   \n",
       "\n",
       "     event   film_date  languages   main_speaker  \\\n",
       "0  TED2006  1140825600         60   Ken Robinson   \n",
       "1  TED2006  1140825600         43        Al Gore   \n",
       "2  TED2006  1140739200         26    David Pogue   \n",
       "3  TED2006  1140912000         35  Majora Carter   \n",
       "4  TED2006  1140566400         48   Hans Rosling   \n",
       "\n",
       "                                            name  num_speaker  published_date  \\\n",
       "0      Ken Robinson: Do schools kill creativity?            1      1151367060   \n",
       "1           Al Gore: Averting the climate crisis            1      1151367060   \n",
       "2                  David Pogue: Simplicity sells            1      1151367060   \n",
       "3             Majora Carter: Greening the ghetto            1      1151367060   \n",
       "4  Hans Rosling: The best stats you've ever seen            1      1151440680   \n",
       "\n",
       "                                             ratings  \\\n",
       "0  [{'id': 7, 'name': 'Funny', 'count': 19645}, {...   \n",
       "1  [{'id': 7, 'name': 'Funny', 'count': 544}, {'i...   \n",
       "2  [{'id': 7, 'name': 'Funny', 'count': 964}, {'i...   \n",
       "3  [{'id': 3, 'name': 'Courageous', 'count': 760}...   \n",
       "4  [{'id': 9, 'name': 'Ingenious', 'count': 3202}...   \n",
       "\n",
       "                                       related_talks  \\\n",
       "0  [{'id': 865, 'hero': 'https://pe.tedcdn.com/im...   \n",
       "1  [{'id': 243, 'hero': 'https://pe.tedcdn.com/im...   \n",
       "2  [{'id': 1725, 'hero': 'https://pe.tedcdn.com/i...   \n",
       "3  [{'id': 1041, 'hero': 'https://pe.tedcdn.com/i...   \n",
       "4  [{'id': 2056, 'hero': 'https://pe.tedcdn.com/i...   \n",
       "\n",
       "                     speaker_occupation  \\\n",
       "0                       Author/educator   \n",
       "1                      Climate advocate   \n",
       "2                  Technology columnist   \n",
       "3    Activist for environmental justice   \n",
       "4  Global health expert; data visionary   \n",
       "\n",
       "                                                tags  \\\n",
       "0  ['children', 'creativity', 'culture', 'dance',...   \n",
       "1  ['alternative energy', 'cars', 'climate change...   \n",
       "2  ['computers', 'entertainment', 'interface desi...   \n",
       "3  ['MacArthur grant', 'activism', 'business', 'c...   \n",
       "4  ['Africa', 'Asia', 'Google', 'demo', 'economic...   \n",
       "\n",
       "                             title  \\\n",
       "0      Do schools kill creativity?   \n",
       "1      Averting the climate crisis   \n",
       "2                 Simplicity sells   \n",
       "3              Greening the ghetto   \n",
       "4  The best stats you've ever seen   \n",
       "\n",
       "                                                 url     views  \n",
       "0  https://www.ted.com/talks/ken_robinson_says_sc...  47227110  \n",
       "1  https://www.ted.com/talks/al_gore_on_averting_...   3200520  \n",
       "2  https://www.ted.com/talks/david_pogue_says_sim...   1636292  \n",
       "3  https://www.ted.com/talks/majora_carter_s_tale...   1697550  \n",
       "4  https://www.ted.com/talks/hans_rosling_shows_t...  12005869  "
      ]
     },
     "execution_count": 3,
     "metadata": {},
     "output_type": "execute_result"
    }
   ],
   "source": [
    "exercise1.head()"
   ]
  },
  {
   "cell_type": "markdown",
   "metadata": {},
   "source": [
    "### Question 1. How would you check the number of rows and columns?"
   ]
  },
  {
   "cell_type": "code",
   "execution_count": 4,
   "metadata": {},
   "outputs": [
    {
     "name": "stdout",
     "output_type": "stream",
     "text": [
      "<class 'pandas.core.frame.DataFrame'>\n",
      "RangeIndex: 2550 entries, 0 to 2549\n",
      "Data columns (total 17 columns):\n",
      " #   Column              Non-Null Count  Dtype \n",
      "---  ------              --------------  ----- \n",
      " 0   comments            2550 non-null   int64 \n",
      " 1   description         2550 non-null   object\n",
      " 2   duration            2550 non-null   int64 \n",
      " 3   event               2550 non-null   object\n",
      " 4   film_date           2550 non-null   int64 \n",
      " 5   languages           2550 non-null   int64 \n",
      " 6   main_speaker        2550 non-null   object\n",
      " 7   name                2550 non-null   object\n",
      " 8   num_speaker         2550 non-null   int64 \n",
      " 9   published_date      2550 non-null   int64 \n",
      " 10  ratings             2550 non-null   object\n",
      " 11  related_talks       2550 non-null   object\n",
      " 12  speaker_occupation  2544 non-null   object\n",
      " 13  tags                2550 non-null   object\n",
      " 14  title               2550 non-null   object\n",
      " 15  url                 2550 non-null   object\n",
      " 16  views               2550 non-null   int64 \n",
      "dtypes: int64(7), object(10)\n",
      "memory usage: 338.8+ KB\n"
     ]
    }
   ],
   "source": [
    "exercise1.info()"
   ]
  },
  {
   "cell_type": "markdown",
   "metadata": {},
   "source": [
    "> Note that `object columns` are usually `strings`, but can also be arbitrary Python objects such as `lists` and `dictionaries`.\n",
    "\n",
    "> #### <font color = \"red\"> See **Chapter 12 and 13** of `The Coder's Apprentice` for more details. </font>"
   ]
  },
  {
   "cell_type": "markdown",
   "metadata": {},
   "source": [
    "### Question 2. How would you count the number of missing values in each column?"
   ]
  },
  {
   "cell_type": "code",
   "execution_count": 5,
   "metadata": {
    "scrolled": false
   },
   "outputs": [
    {
     "data": {
      "text/plain": [
       "comments              0\n",
       "description           0\n",
       "duration              0\n",
       "event                 0\n",
       "film_date             0\n",
       "languages             0\n",
       "main_speaker          0\n",
       "name                  0\n",
       "num_speaker           0\n",
       "published_date        0\n",
       "ratings               0\n",
       "related_talks         0\n",
       "speaker_occupation    6\n",
       "tags                  0\n",
       "title                 0\n",
       "url                   0\n",
       "views                 0\n",
       "dtype: int64"
      ]
     },
     "execution_count": 5,
     "metadata": {},
     "output_type": "execute_result"
    }
   ],
   "source": [
    "exercise1.isna().sum()"
   ]
  },
  {
   "cell_type": "code",
   "execution_count": 6,
   "metadata": {},
   "outputs": [
    {
     "data": {
      "text/html": [
       "<div>\n",
       "<style scoped>\n",
       "    .dataframe tbody tr th:only-of-type {\n",
       "        vertical-align: middle;\n",
       "    }\n",
       "\n",
       "    .dataframe tbody tr th {\n",
       "        vertical-align: top;\n",
       "    }\n",
       "\n",
       "    .dataframe thead th {\n",
       "        text-align: right;\n",
       "    }\n",
       "</style>\n",
       "<table border=\"1\" class=\"dataframe\">\n",
       "  <thead>\n",
       "    <tr style=\"text-align: right;\">\n",
       "      <th></th>\n",
       "      <th>comments</th>\n",
       "      <th>description</th>\n",
       "      <th>duration</th>\n",
       "      <th>event</th>\n",
       "      <th>film_date</th>\n",
       "      <th>languages</th>\n",
       "      <th>main_speaker</th>\n",
       "      <th>name</th>\n",
       "      <th>num_speaker</th>\n",
       "      <th>published_date</th>\n",
       "      <th>ratings</th>\n",
       "      <th>related_talks</th>\n",
       "      <th>speaker_occupation</th>\n",
       "      <th>tags</th>\n",
       "      <th>title</th>\n",
       "      <th>url</th>\n",
       "      <th>views</th>\n",
       "    </tr>\n",
       "  </thead>\n",
       "  <tbody>\n",
       "    <tr>\n",
       "      <th>1113</th>\n",
       "      <td>145</td>\n",
       "      <td>After a crisis, how can we tell if water is sa...</td>\n",
       "      <td>217</td>\n",
       "      <td>TEDGlobal 2011</td>\n",
       "      <td>1310601600</td>\n",
       "      <td>38</td>\n",
       "      <td>Sonaar Luthra</td>\n",
       "      <td>Sonaar Luthra: Meet the Water Canary</td>\n",
       "      <td>1</td>\n",
       "      <td>1326731605</td>\n",
       "      <td>[{'id': 10, 'name': 'Inspiring', 'count': 73},...</td>\n",
       "      <td>[{'id': 523, 'hero': 'https://pe.tedcdn.com/im...</td>\n",
       "      <td>NaN</td>\n",
       "      <td>['TED Fellows', 'design', 'global development'...</td>\n",
       "      <td>Meet the Water Canary</td>\n",
       "      <td>https://www.ted.com/talks/sonaar_luthra_meet_t...</td>\n",
       "      <td>353749</td>\n",
       "    </tr>\n",
       "    <tr>\n",
       "      <th>1192</th>\n",
       "      <td>122</td>\n",
       "      <td>The Pirate Party fights for transparency, anon...</td>\n",
       "      <td>1097</td>\n",
       "      <td>TEDxObserver</td>\n",
       "      <td>1331424000</td>\n",
       "      <td>10</td>\n",
       "      <td>Rick Falkvinge</td>\n",
       "      <td>Rick Falkvinge: I am a pirate</td>\n",
       "      <td>1</td>\n",
       "      <td>1333289675</td>\n",
       "      <td>[{'id': 8, 'name': 'Informative', 'count': 156...</td>\n",
       "      <td>[{'id': 1329, 'hero': 'https://pe.tedcdn.com/i...</td>\n",
       "      <td>NaN</td>\n",
       "      <td>['Internet', 'TEDx', 'global issues', 'politic...</td>\n",
       "      <td>I am a pirate</td>\n",
       "      <td>https://www.ted.com/talks/rick_falkvinge_i_am_...</td>\n",
       "      <td>181010</td>\n",
       "    </tr>\n",
       "    <tr>\n",
       "      <th>1220</th>\n",
       "      <td>257</td>\n",
       "      <td>As you surf the Web, information is being coll...</td>\n",
       "      <td>399</td>\n",
       "      <td>TED2012</td>\n",
       "      <td>1330473600</td>\n",
       "      <td>32</td>\n",
       "      <td>Gary Kovacs</td>\n",
       "      <td>Gary Kovacs: Tracking our online trackers</td>\n",
       "      <td>1</td>\n",
       "      <td>1336057219</td>\n",
       "      <td>[{'id': 23, 'name': 'Jaw-dropping', 'count': 9...</td>\n",
       "      <td>[{'id': 1370, 'hero': 'https://pe.tedcdn.com/i...</td>\n",
       "      <td>NaN</td>\n",
       "      <td>['Internet', 'advertising', 'business', 'priva...</td>\n",
       "      <td>Tracking our online trackers</td>\n",
       "      <td>https://www.ted.com/talks/gary_kovacs_tracking...</td>\n",
       "      <td>2098639</td>\n",
       "    </tr>\n",
       "    <tr>\n",
       "      <th>1656</th>\n",
       "      <td>140</td>\n",
       "      <td>In this lovely talk, TED Fellow Ryan Holladay ...</td>\n",
       "      <td>389</td>\n",
       "      <td>TED@BCG San Francisco</td>\n",
       "      <td>1383091200</td>\n",
       "      <td>33</td>\n",
       "      <td>Ryan Holladay</td>\n",
       "      <td>Ryan Holladay: To hear this music you have to ...</td>\n",
       "      <td>1</td>\n",
       "      <td>1389369735</td>\n",
       "      <td>[{'id': 1, 'name': 'Beautiful', 'count': 211},...</td>\n",
       "      <td>[{'id': 1152, 'hero': 'https://pe.tedcdn.com/i...</td>\n",
       "      <td>NaN</td>\n",
       "      <td>['TED Fellows', 'entertainment', 'music', 'tec...</td>\n",
       "      <td>To hear this music you have to be there. Liter...</td>\n",
       "      <td>https://www.ted.com/talks/ryan_holladay_to_hea...</td>\n",
       "      <td>1284510</td>\n",
       "    </tr>\n",
       "    <tr>\n",
       "      <th>1911</th>\n",
       "      <td>48</td>\n",
       "      <td>What do you do with an outdated encyclopedia i...</td>\n",
       "      <td>366</td>\n",
       "      <td>TEDYouth 2014</td>\n",
       "      <td>1415059200</td>\n",
       "      <td>34</td>\n",
       "      <td>Brian Dettmer</td>\n",
       "      <td>Brian Dettmer: Old books reborn as art</td>\n",
       "      <td>1</td>\n",
       "      <td>1423238442</td>\n",
       "      <td>[{'id': 1, 'name': 'Beautiful', 'count': 361},...</td>\n",
       "      <td>[{'id': 610, 'hero': 'https://pe.tedcdn.com/im...</td>\n",
       "      <td>NaN</td>\n",
       "      <td>['TEDYouth', 'art', 'books', 'creativity']</td>\n",
       "      <td>Old books reborn as art</td>\n",
       "      <td>https://www.ted.com/talks/brian_dettmer_old_bo...</td>\n",
       "      <td>1159937</td>\n",
       "    </tr>\n",
       "    <tr>\n",
       "      <th>1949</th>\n",
       "      <td>70</td>\n",
       "      <td>Photographer Boniface Mwangi wanted to protest...</td>\n",
       "      <td>440</td>\n",
       "      <td>TEDGlobal 2014</td>\n",
       "      <td>1413763200</td>\n",
       "      <td>33</td>\n",
       "      <td>Boniface Mwangi</td>\n",
       "      <td>Boniface Mwangi: The day I stood up alone</td>\n",
       "      <td>1</td>\n",
       "      <td>1427989423</td>\n",
       "      <td>[{'id': 3, 'name': 'Courageous', 'count': 614}...</td>\n",
       "      <td>[{'id': 1757, 'hero': 'https://pe.tedcdn.com/i...</td>\n",
       "      <td>NaN</td>\n",
       "      <td>['TED Fellows', 'activism', 'art', 'corruption...</td>\n",
       "      <td>The day I stood up alone</td>\n",
       "      <td>https://www.ted.com/talks/boniface_mwangi_boni...</td>\n",
       "      <td>1342431</td>\n",
       "    </tr>\n",
       "  </tbody>\n",
       "</table>\n",
       "</div>"
      ],
      "text/plain": [
       "      comments                                        description  duration  \\\n",
       "1113       145  After a crisis, how can we tell if water is sa...       217   \n",
       "1192       122  The Pirate Party fights for transparency, anon...      1097   \n",
       "1220       257  As you surf the Web, information is being coll...       399   \n",
       "1656       140  In this lovely talk, TED Fellow Ryan Holladay ...       389   \n",
       "1911        48  What do you do with an outdated encyclopedia i...       366   \n",
       "1949        70  Photographer Boniface Mwangi wanted to protest...       440   \n",
       "\n",
       "                      event   film_date  languages     main_speaker  \\\n",
       "1113         TEDGlobal 2011  1310601600         38    Sonaar Luthra   \n",
       "1192           TEDxObserver  1331424000         10   Rick Falkvinge   \n",
       "1220                TED2012  1330473600         32      Gary Kovacs   \n",
       "1656  TED@BCG San Francisco  1383091200         33    Ryan Holladay   \n",
       "1911          TEDYouth 2014  1415059200         34    Brian Dettmer   \n",
       "1949         TEDGlobal 2014  1413763200         33  Boniface Mwangi   \n",
       "\n",
       "                                                   name  num_speaker  \\\n",
       "1113               Sonaar Luthra: Meet the Water Canary            1   \n",
       "1192                      Rick Falkvinge: I am a pirate            1   \n",
       "1220          Gary Kovacs: Tracking our online trackers            1   \n",
       "1656  Ryan Holladay: To hear this music you have to ...            1   \n",
       "1911             Brian Dettmer: Old books reborn as art            1   \n",
       "1949          Boniface Mwangi: The day I stood up alone            1   \n",
       "\n",
       "      published_date                                            ratings  \\\n",
       "1113      1326731605  [{'id': 10, 'name': 'Inspiring', 'count': 73},...   \n",
       "1192      1333289675  [{'id': 8, 'name': 'Informative', 'count': 156...   \n",
       "1220      1336057219  [{'id': 23, 'name': 'Jaw-dropping', 'count': 9...   \n",
       "1656      1389369735  [{'id': 1, 'name': 'Beautiful', 'count': 211},...   \n",
       "1911      1423238442  [{'id': 1, 'name': 'Beautiful', 'count': 361},...   \n",
       "1949      1427989423  [{'id': 3, 'name': 'Courageous', 'count': 614}...   \n",
       "\n",
       "                                          related_talks speaker_occupation  \\\n",
       "1113  [{'id': 523, 'hero': 'https://pe.tedcdn.com/im...                NaN   \n",
       "1192  [{'id': 1329, 'hero': 'https://pe.tedcdn.com/i...                NaN   \n",
       "1220  [{'id': 1370, 'hero': 'https://pe.tedcdn.com/i...                NaN   \n",
       "1656  [{'id': 1152, 'hero': 'https://pe.tedcdn.com/i...                NaN   \n",
       "1911  [{'id': 610, 'hero': 'https://pe.tedcdn.com/im...                NaN   \n",
       "1949  [{'id': 1757, 'hero': 'https://pe.tedcdn.com/i...                NaN   \n",
       "\n",
       "                                                   tags  \\\n",
       "1113  ['TED Fellows', 'design', 'global development'...   \n",
       "1192  ['Internet', 'TEDx', 'global issues', 'politic...   \n",
       "1220  ['Internet', 'advertising', 'business', 'priva...   \n",
       "1656  ['TED Fellows', 'entertainment', 'music', 'tec...   \n",
       "1911         ['TEDYouth', 'art', 'books', 'creativity']   \n",
       "1949  ['TED Fellows', 'activism', 'art', 'corruption...   \n",
       "\n",
       "                                                  title  \\\n",
       "1113                              Meet the Water Canary   \n",
       "1192                                      I am a pirate   \n",
       "1220                       Tracking our online trackers   \n",
       "1656  To hear this music you have to be there. Liter...   \n",
       "1911                            Old books reborn as art   \n",
       "1949                           The day I stood up alone   \n",
       "\n",
       "                                                    url    views  \n",
       "1113  https://www.ted.com/talks/sonaar_luthra_meet_t...   353749  \n",
       "1192  https://www.ted.com/talks/rick_falkvinge_i_am_...   181010  \n",
       "1220  https://www.ted.com/talks/gary_kovacs_tracking...  2098639  \n",
       "1656  https://www.ted.com/talks/ryan_holladay_to_hea...  1284510  \n",
       "1911  https://www.ted.com/talks/brian_dettmer_old_bo...  1159937  \n",
       "1949  https://www.ted.com/talks/boniface_mwangi_boni...  1342431  "
      ]
     },
     "execution_count": 6,
     "metadata": {},
     "output_type": "execute_result"
    }
   ],
   "source": [
    "# 看看哪几行值缺失\n",
    "exercise1[exercise1.isna().any(axis = 1)]"
   ]
  },
  {
   "cell_type": "markdown",
   "metadata": {},
   "source": [
    "### Question 3.1. Which talks give rise to the most online discussion? First, please sort by the number of first-level comments (though note that this is `biased in favor of older talks`)."
   ]
  },
  {
   "cell_type": "code",
   "execution_count": 7,
   "metadata": {
    "scrolled": true
   },
   "outputs": [
    {
     "data": {
      "text/html": [
       "<div>\n",
       "<style scoped>\n",
       "    .dataframe tbody tr th:only-of-type {\n",
       "        vertical-align: middle;\n",
       "    }\n",
       "\n",
       "    .dataframe tbody tr th {\n",
       "        vertical-align: top;\n",
       "    }\n",
       "\n",
       "    .dataframe thead th {\n",
       "        text-align: right;\n",
       "    }\n",
       "</style>\n",
       "<table border=\"1\" class=\"dataframe\">\n",
       "  <thead>\n",
       "    <tr style=\"text-align: right;\">\n",
       "      <th></th>\n",
       "      <th>comments</th>\n",
       "      <th>description</th>\n",
       "      <th>duration</th>\n",
       "      <th>event</th>\n",
       "      <th>film_date</th>\n",
       "      <th>languages</th>\n",
       "      <th>main_speaker</th>\n",
       "      <th>name</th>\n",
       "      <th>num_speaker</th>\n",
       "      <th>published_date</th>\n",
       "      <th>ratings</th>\n",
       "      <th>related_talks</th>\n",
       "      <th>speaker_occupation</th>\n",
       "      <th>tags</th>\n",
       "      <th>title</th>\n",
       "      <th>url</th>\n",
       "      <th>views</th>\n",
       "    </tr>\n",
       "  </thead>\n",
       "  <tbody>\n",
       "    <tr>\n",
       "      <th>96</th>\n",
       "      <td>6404</td>\n",
       "      <td>Richard Dawkins urges all atheists to openly s...</td>\n",
       "      <td>1750</td>\n",
       "      <td>TED2002</td>\n",
       "      <td>1012608000</td>\n",
       "      <td>42</td>\n",
       "      <td>Richard Dawkins</td>\n",
       "      <td>Richard Dawkins: Militant atheism</td>\n",
       "      <td>1</td>\n",
       "      <td>1176689220</td>\n",
       "      <td>[{'id': 3, 'name': 'Courageous', 'count': 3236...</td>\n",
       "      <td>[{'id': 86, 'hero': 'https://pe.tedcdn.com/ima...</td>\n",
       "      <td>Evolutionary biologist</td>\n",
       "      <td>['God', 'atheism', 'culture', 'religion', 'sci...</td>\n",
       "      <td>Militant atheism</td>\n",
       "      <td>https://www.ted.com/talks/richard_dawkins_on_m...</td>\n",
       "      <td>4374792</td>\n",
       "    </tr>\n",
       "  </tbody>\n",
       "</table>\n",
       "</div>"
      ],
      "text/plain": [
       "    comments                                        description  duration  \\\n",
       "96      6404  Richard Dawkins urges all atheists to openly s...      1750   \n",
       "\n",
       "      event   film_date  languages     main_speaker  \\\n",
       "96  TED2002  1012608000         42  Richard Dawkins   \n",
       "\n",
       "                                 name  num_speaker  published_date  \\\n",
       "96  Richard Dawkins: Militant atheism            1      1176689220   \n",
       "\n",
       "                                              ratings  \\\n",
       "96  [{'id': 3, 'name': 'Courageous', 'count': 3236...   \n",
       "\n",
       "                                        related_talks      speaker_occupation  \\\n",
       "96  [{'id': 86, 'hero': 'https://pe.tedcdn.com/ima...  Evolutionary biologist   \n",
       "\n",
       "                                                 tags             title  \\\n",
       "96  ['God', 'atheism', 'culture', 'religion', 'sci...  Militant atheism   \n",
       "\n",
       "                                                  url    views  \n",
       "96  https://www.ted.com/talks/richard_dawkins_on_m...  4374792  "
      ]
     },
     "execution_count": 7,
     "metadata": {},
     "output_type": "execute_result"
    }
   ],
   "source": [
    "exercise1[exercise1[\"comments\"] == exercise1[\"comments\"].max()]"
   ]
  },
  {
   "cell_type": "code",
   "execution_count": 8,
   "metadata": {},
   "outputs": [
    {
     "data": {
      "text/html": [
       "<div>\n",
       "<style scoped>\n",
       "    .dataframe tbody tr th:only-of-type {\n",
       "        vertical-align: middle;\n",
       "    }\n",
       "\n",
       "    .dataframe tbody tr th {\n",
       "        vertical-align: top;\n",
       "    }\n",
       "\n",
       "    .dataframe thead th {\n",
       "        text-align: right;\n",
       "    }\n",
       "</style>\n",
       "<table border=\"1\" class=\"dataframe\">\n",
       "  <thead>\n",
       "    <tr style=\"text-align: right;\">\n",
       "      <th></th>\n",
       "      <th>comments</th>\n",
       "      <th>description</th>\n",
       "      <th>duration</th>\n",
       "      <th>event</th>\n",
       "      <th>film_date</th>\n",
       "      <th>languages</th>\n",
       "      <th>main_speaker</th>\n",
       "      <th>name</th>\n",
       "      <th>num_speaker</th>\n",
       "      <th>published_date</th>\n",
       "      <th>ratings</th>\n",
       "      <th>related_talks</th>\n",
       "      <th>speaker_occupation</th>\n",
       "      <th>tags</th>\n",
       "      <th>title</th>\n",
       "      <th>url</th>\n",
       "      <th>views</th>\n",
       "    </tr>\n",
       "  </thead>\n",
       "  <tbody>\n",
       "    <tr>\n",
       "      <th>96</th>\n",
       "      <td>6404</td>\n",
       "      <td>Richard Dawkins urges all atheists to openly s...</td>\n",
       "      <td>1750</td>\n",
       "      <td>TED2002</td>\n",
       "      <td>1012608000</td>\n",
       "      <td>42</td>\n",
       "      <td>Richard Dawkins</td>\n",
       "      <td>Richard Dawkins: Militant atheism</td>\n",
       "      <td>1</td>\n",
       "      <td>1176689220</td>\n",
       "      <td>[{'id': 3, 'name': 'Courageous', 'count': 3236...</td>\n",
       "      <td>[{'id': 86, 'hero': 'https://pe.tedcdn.com/ima...</td>\n",
       "      <td>Evolutionary biologist</td>\n",
       "      <td>['God', 'atheism', 'culture', 'religion', 'sci...</td>\n",
       "      <td>Militant atheism</td>\n",
       "      <td>https://www.ted.com/talks/richard_dawkins_on_m...</td>\n",
       "      <td>4374792</td>\n",
       "    </tr>\n",
       "    <tr>\n",
       "      <th>0</th>\n",
       "      <td>4553</td>\n",
       "      <td>Sir Ken Robinson makes an entertaining and pro...</td>\n",
       "      <td>1164</td>\n",
       "      <td>TED2006</td>\n",
       "      <td>1140825600</td>\n",
       "      <td>60</td>\n",
       "      <td>Ken Robinson</td>\n",
       "      <td>Ken Robinson: Do schools kill creativity?</td>\n",
       "      <td>1</td>\n",
       "      <td>1151367060</td>\n",
       "      <td>[{'id': 7, 'name': 'Funny', 'count': 19645}, {...</td>\n",
       "      <td>[{'id': 865, 'hero': 'https://pe.tedcdn.com/im...</td>\n",
       "      <td>Author/educator</td>\n",
       "      <td>['children', 'creativity', 'culture', 'dance',...</td>\n",
       "      <td>Do schools kill creativity?</td>\n",
       "      <td>https://www.ted.com/talks/ken_robinson_says_sc...</td>\n",
       "      <td>47227110</td>\n",
       "    </tr>\n",
       "    <tr>\n",
       "      <th>644</th>\n",
       "      <td>3356</td>\n",
       "      <td>Questions of good and evil, right and wrong ar...</td>\n",
       "      <td>1386</td>\n",
       "      <td>TED2010</td>\n",
       "      <td>1265846400</td>\n",
       "      <td>39</td>\n",
       "      <td>Sam Harris</td>\n",
       "      <td>Sam Harris: Science can answer moral questions</td>\n",
       "      <td>1</td>\n",
       "      <td>1269249180</td>\n",
       "      <td>[{'id': 8, 'name': 'Informative', 'count': 923...</td>\n",
       "      <td>[{'id': 666, 'hero': 'https://pe.tedcdn.com/im...</td>\n",
       "      <td>Neuroscientist, philosopher</td>\n",
       "      <td>['culture', 'evolutionary psychology', 'global...</td>\n",
       "      <td>Science can answer moral questions</td>\n",
       "      <td>https://www.ted.com/talks/sam_harris_science_c...</td>\n",
       "      <td>3433437</td>\n",
       "    </tr>\n",
       "    <tr>\n",
       "      <th>201</th>\n",
       "      <td>2877</td>\n",
       "      <td>Jill Bolte Taylor got a research opportunity f...</td>\n",
       "      <td>1099</td>\n",
       "      <td>TED2008</td>\n",
       "      <td>1204070400</td>\n",
       "      <td>49</td>\n",
       "      <td>Jill Bolte Taylor</td>\n",
       "      <td>Jill Bolte Taylor: My stroke of insight</td>\n",
       "      <td>1</td>\n",
       "      <td>1205284200</td>\n",
       "      <td>[{'id': 22, 'name': 'Fascinating', 'count': 14...</td>\n",
       "      <td>[{'id': 184, 'hero': 'https://pe.tedcdn.com/im...</td>\n",
       "      <td>Neuroanatomist</td>\n",
       "      <td>['biology', 'brain', 'consciousness', 'global ...</td>\n",
       "      <td>My stroke of insight</td>\n",
       "      <td>https://www.ted.com/talks/jill_bolte_taylor_s_...</td>\n",
       "      <td>21190883</td>\n",
       "    </tr>\n",
       "    <tr>\n",
       "      <th>1787</th>\n",
       "      <td>2673</td>\n",
       "      <td>Our consciousness is a fundamental aspect of o...</td>\n",
       "      <td>1117</td>\n",
       "      <td>TED2014</td>\n",
       "      <td>1395100800</td>\n",
       "      <td>33</td>\n",
       "      <td>David Chalmers</td>\n",
       "      <td>David Chalmers: How do you explain consciousness?</td>\n",
       "      <td>1</td>\n",
       "      <td>1405350484</td>\n",
       "      <td>[{'id': 25, 'name': 'OK', 'count': 280}, {'id'...</td>\n",
       "      <td>[{'id': 1308, 'hero': 'https://pe.tedcdn.com/i...</td>\n",
       "      <td>Philosopher</td>\n",
       "      <td>['brain', 'consciousness', 'neuroscience', 'ph...</td>\n",
       "      <td>How do you explain consciousness?</td>\n",
       "      <td>https://www.ted.com/talks/david_chalmers_how_d...</td>\n",
       "      <td>2162764</td>\n",
       "    </tr>\n",
       "    <tr>\n",
       "      <th>...</th>\n",
       "      <td>...</td>\n",
       "      <td>...</td>\n",
       "      <td>...</td>\n",
       "      <td>...</td>\n",
       "      <td>...</td>\n",
       "      <td>...</td>\n",
       "      <td>...</td>\n",
       "      <td>...</td>\n",
       "      <td>...</td>\n",
       "      <td>...</td>\n",
       "      <td>...</td>\n",
       "      <td>...</td>\n",
       "      <td>...</td>\n",
       "      <td>...</td>\n",
       "      <td>...</td>\n",
       "      <td>...</td>\n",
       "      <td>...</td>\n",
       "    </tr>\n",
       "    <tr>\n",
       "      <th>2407</th>\n",
       "      <td>5</td>\n",
       "      <td>Grammy-winning Silk Road Ensemble display thei...</td>\n",
       "      <td>389</td>\n",
       "      <td>TED2016</td>\n",
       "      <td>1455494400</td>\n",
       "      <td>0</td>\n",
       "      <td>Silk Road Ensemble</td>\n",
       "      <td>Silk Road Ensemble: \"Turceasca\"</td>\n",
       "      <td>1</td>\n",
       "      <td>1489759215</td>\n",
       "      <td>[{'id': 1, 'name': 'Beautiful', 'count': 80}, ...</td>\n",
       "      <td>[{'id': 2611, 'hero': 'https://pe.tedcdn.com/i...</td>\n",
       "      <td>Musical explorers</td>\n",
       "      <td>['art', 'live music', 'music', 'performance']</td>\n",
       "      <td>\"Turceasca\"</td>\n",
       "      <td>https://www.ted.com/talks/silk_road_ensemble_t...</td>\n",
       "      <td>640734</td>\n",
       "    </tr>\n",
       "    <tr>\n",
       "      <th>2528</th>\n",
       "      <td>3</td>\n",
       "      <td>Digital archaeologist Chance Coughenour is usi...</td>\n",
       "      <td>717</td>\n",
       "      <td>TEDxHamburg</td>\n",
       "      <td>1465344000</td>\n",
       "      <td>5</td>\n",
       "      <td>Chance Coughenour</td>\n",
       "      <td>Chance Coughenour: How your pictures can help ...</td>\n",
       "      <td>1</td>\n",
       "      <td>1504209631</td>\n",
       "      <td>[{'id': 9, 'name': 'Ingenious', 'count': 16}, ...</td>\n",
       "      <td>[{'id': 2673, 'hero': 'https://pe.tedcdn.com/i...</td>\n",
       "      <td>Digital archaeologist</td>\n",
       "      <td>['TEDx', 'ancient world', 'archaeology', 'cons...</td>\n",
       "      <td>How your pictures can help reclaim lost history</td>\n",
       "      <td>https://www.ted.com/talks/chance_coughenour_ho...</td>\n",
       "      <td>539207</td>\n",
       "    </tr>\n",
       "    <tr>\n",
       "      <th>2542</th>\n",
       "      <td>3</td>\n",
       "      <td>In the century-old statues that occupy Cape To...</td>\n",
       "      <td>795</td>\n",
       "      <td>TEDGlobal 2017</td>\n",
       "      <td>1503792000</td>\n",
       "      <td>1</td>\n",
       "      <td>Sethembile Msezane</td>\n",
       "      <td>Sethembile Msezane: Living sculptures that sta...</td>\n",
       "      <td>1</td>\n",
       "      <td>1505488093</td>\n",
       "      <td>[{'id': 1, 'name': 'Beautiful', 'count': 41}, ...</td>\n",
       "      <td>[{'id': 2873, 'hero': 'https://pe.tedcdn.com/i...</td>\n",
       "      <td>Artist</td>\n",
       "      <td>['Africa', 'activism', 'art', 'community', 'hi...</td>\n",
       "      <td>Living sculptures that stand for history's truths</td>\n",
       "      <td>https://www.ted.com/talks/sethembile_msezane_l...</td>\n",
       "      <td>542088</td>\n",
       "    </tr>\n",
       "    <tr>\n",
       "      <th>2501</th>\n",
       "      <td>3</td>\n",
       "      <td>Meet Françoise Mouly, The New Yorker's art dir...</td>\n",
       "      <td>509</td>\n",
       "      <td>TEDNYC</td>\n",
       "      <td>1488931200</td>\n",
       "      <td>12</td>\n",
       "      <td>Françoise Mouly</td>\n",
       "      <td>Françoise Mouly: The stories behind The New Yo...</td>\n",
       "      <td>1</td>\n",
       "      <td>1501770244</td>\n",
       "      <td>[{'id': 7, 'name': 'Funny', 'count': 10}, {'id...</td>\n",
       "      <td>[{'id': 2479, 'hero': 'https://pe.tedcdn.com/i...</td>\n",
       "      <td>Art editor</td>\n",
       "      <td>['TEDNYC', 'art', 'creativity', 'culture', 'de...</td>\n",
       "      <td>The stories behind The New Yorker's iconic covers</td>\n",
       "      <td>https://www.ted.com/talks/francoise_mouly_the_...</td>\n",
       "      <td>839040</td>\n",
       "    </tr>\n",
       "    <tr>\n",
       "      <th>2534</th>\n",
       "      <td>2</td>\n",
       "      <td>What the astronauts felt when they saw Earth f...</td>\n",
       "      <td>725</td>\n",
       "      <td>TEDxSkoll</td>\n",
       "      <td>1491523200</td>\n",
       "      <td>1</td>\n",
       "      <td>Benjamin Grant</td>\n",
       "      <td>Benjamin Grant: What it feels like to see Eart...</td>\n",
       "      <td>1</td>\n",
       "      <td>1504814438</td>\n",
       "      <td>[{'id': 10, 'name': 'Inspiring', 'count': 46},...</td>\n",
       "      <td>[{'id': 2511, 'hero': 'https://pe.tedcdn.com/i...</td>\n",
       "      <td>Author</td>\n",
       "      <td>['TEDx', 'art', 'climate change', 'environment...</td>\n",
       "      <td>What it feels like to see Earth from space</td>\n",
       "      <td>https://www.ted.com/talks/benjamin_grant_what_...</td>\n",
       "      <td>646174</td>\n",
       "    </tr>\n",
       "  </tbody>\n",
       "</table>\n",
       "<p>2550 rows × 17 columns</p>\n",
       "</div>"
      ],
      "text/plain": [
       "      comments                                        description  duration  \\\n",
       "96        6404  Richard Dawkins urges all atheists to openly s...      1750   \n",
       "0         4553  Sir Ken Robinson makes an entertaining and pro...      1164   \n",
       "644       3356  Questions of good and evil, right and wrong ar...      1386   \n",
       "201       2877  Jill Bolte Taylor got a research opportunity f...      1099   \n",
       "1787      2673  Our consciousness is a fundamental aspect of o...      1117   \n",
       "...        ...                                                ...       ...   \n",
       "2407         5  Grammy-winning Silk Road Ensemble display thei...       389   \n",
       "2528         3  Digital archaeologist Chance Coughenour is usi...       717   \n",
       "2542         3  In the century-old statues that occupy Cape To...       795   \n",
       "2501         3  Meet Françoise Mouly, The New Yorker's art dir...       509   \n",
       "2534         2  What the astronauts felt when they saw Earth f...       725   \n",
       "\n",
       "               event   film_date  languages         main_speaker  \\\n",
       "96           TED2002  1012608000         42      Richard Dawkins   \n",
       "0            TED2006  1140825600         60         Ken Robinson   \n",
       "644          TED2010  1265846400         39           Sam Harris   \n",
       "201          TED2008  1204070400         49    Jill Bolte Taylor   \n",
       "1787         TED2014  1395100800         33       David Chalmers   \n",
       "...              ...         ...        ...                  ...   \n",
       "2407         TED2016  1455494400          0   Silk Road Ensemble   \n",
       "2528     TEDxHamburg  1465344000          5    Chance Coughenour   \n",
       "2542  TEDGlobal 2017  1503792000          1   Sethembile Msezane   \n",
       "2501          TEDNYC  1488931200         12      Françoise Mouly   \n",
       "2534       TEDxSkoll  1491523200          1       Benjamin Grant   \n",
       "\n",
       "                                                   name  num_speaker  \\\n",
       "96                    Richard Dawkins: Militant atheism            1   \n",
       "0             Ken Robinson: Do schools kill creativity?            1   \n",
       "644      Sam Harris: Science can answer moral questions            1   \n",
       "201             Jill Bolte Taylor: My stroke of insight            1   \n",
       "1787  David Chalmers: How do you explain consciousness?            1   \n",
       "...                                                 ...          ...   \n",
       "2407                    Silk Road Ensemble: \"Turceasca\"            1   \n",
       "2528  Chance Coughenour: How your pictures can help ...            1   \n",
       "2542  Sethembile Msezane: Living sculptures that sta...            1   \n",
       "2501  Françoise Mouly: The stories behind The New Yo...            1   \n",
       "2534  Benjamin Grant: What it feels like to see Eart...            1   \n",
       "\n",
       "      published_date                                            ratings  \\\n",
       "96        1176689220  [{'id': 3, 'name': 'Courageous', 'count': 3236...   \n",
       "0         1151367060  [{'id': 7, 'name': 'Funny', 'count': 19645}, {...   \n",
       "644       1269249180  [{'id': 8, 'name': 'Informative', 'count': 923...   \n",
       "201       1205284200  [{'id': 22, 'name': 'Fascinating', 'count': 14...   \n",
       "1787      1405350484  [{'id': 25, 'name': 'OK', 'count': 280}, {'id'...   \n",
       "...              ...                                                ...   \n",
       "2407      1489759215  [{'id': 1, 'name': 'Beautiful', 'count': 80}, ...   \n",
       "2528      1504209631  [{'id': 9, 'name': 'Ingenious', 'count': 16}, ...   \n",
       "2542      1505488093  [{'id': 1, 'name': 'Beautiful', 'count': 41}, ...   \n",
       "2501      1501770244  [{'id': 7, 'name': 'Funny', 'count': 10}, {'id...   \n",
       "2534      1504814438  [{'id': 10, 'name': 'Inspiring', 'count': 46},...   \n",
       "\n",
       "                                          related_talks  \\\n",
       "96    [{'id': 86, 'hero': 'https://pe.tedcdn.com/ima...   \n",
       "0     [{'id': 865, 'hero': 'https://pe.tedcdn.com/im...   \n",
       "644   [{'id': 666, 'hero': 'https://pe.tedcdn.com/im...   \n",
       "201   [{'id': 184, 'hero': 'https://pe.tedcdn.com/im...   \n",
       "1787  [{'id': 1308, 'hero': 'https://pe.tedcdn.com/i...   \n",
       "...                                                 ...   \n",
       "2407  [{'id': 2611, 'hero': 'https://pe.tedcdn.com/i...   \n",
       "2528  [{'id': 2673, 'hero': 'https://pe.tedcdn.com/i...   \n",
       "2542  [{'id': 2873, 'hero': 'https://pe.tedcdn.com/i...   \n",
       "2501  [{'id': 2479, 'hero': 'https://pe.tedcdn.com/i...   \n",
       "2534  [{'id': 2511, 'hero': 'https://pe.tedcdn.com/i...   \n",
       "\n",
       "               speaker_occupation  \\\n",
       "96         Evolutionary biologist   \n",
       "0                 Author/educator   \n",
       "644   Neuroscientist, philosopher   \n",
       "201                Neuroanatomist   \n",
       "1787                  Philosopher   \n",
       "...                           ...   \n",
       "2407            Musical explorers   \n",
       "2528        Digital archaeologist   \n",
       "2542                       Artist   \n",
       "2501                   Art editor   \n",
       "2534                       Author   \n",
       "\n",
       "                                                   tags  \\\n",
       "96    ['God', 'atheism', 'culture', 'religion', 'sci...   \n",
       "0     ['children', 'creativity', 'culture', 'dance',...   \n",
       "644   ['culture', 'evolutionary psychology', 'global...   \n",
       "201   ['biology', 'brain', 'consciousness', 'global ...   \n",
       "1787  ['brain', 'consciousness', 'neuroscience', 'ph...   \n",
       "...                                                 ...   \n",
       "2407      ['art', 'live music', 'music', 'performance']   \n",
       "2528  ['TEDx', 'ancient world', 'archaeology', 'cons...   \n",
       "2542  ['Africa', 'activism', 'art', 'community', 'hi...   \n",
       "2501  ['TEDNYC', 'art', 'creativity', 'culture', 'de...   \n",
       "2534  ['TEDx', 'art', 'climate change', 'environment...   \n",
       "\n",
       "                                                  title  \\\n",
       "96                                     Militant atheism   \n",
       "0                           Do schools kill creativity?   \n",
       "644                  Science can answer moral questions   \n",
       "201                                My stroke of insight   \n",
       "1787                  How do you explain consciousness?   \n",
       "...                                                 ...   \n",
       "2407                                        \"Turceasca\"   \n",
       "2528    How your pictures can help reclaim lost history   \n",
       "2542  Living sculptures that stand for history's truths   \n",
       "2501  The stories behind The New Yorker's iconic covers   \n",
       "2534         What it feels like to see Earth from space   \n",
       "\n",
       "                                                    url     views  \n",
       "96    https://www.ted.com/talks/richard_dawkins_on_m...   4374792  \n",
       "0     https://www.ted.com/talks/ken_robinson_says_sc...  47227110  \n",
       "644   https://www.ted.com/talks/sam_harris_science_c...   3433437  \n",
       "201   https://www.ted.com/talks/jill_bolte_taylor_s_...  21190883  \n",
       "1787  https://www.ted.com/talks/david_chalmers_how_d...   2162764  \n",
       "...                                                 ...       ...  \n",
       "2407  https://www.ted.com/talks/silk_road_ensemble_t...    640734  \n",
       "2528  https://www.ted.com/talks/chance_coughenour_ho...    539207  \n",
       "2542  https://www.ted.com/talks/sethembile_msezane_l...    542088  \n",
       "2501  https://www.ted.com/talks/francoise_mouly_the_...    839040  \n",
       "2534  https://www.ted.com/talks/benjamin_grant_what_...    646174  \n",
       "\n",
       "[2550 rows x 17 columns]"
      ]
     },
     "execution_count": 8,
     "metadata": {},
     "output_type": "execute_result"
    }
   ],
   "source": [
    "exercise1.sort_values(by = \"comments\", ascending = False)"
   ]
  },
  {
   "cell_type": "markdown",
   "metadata": {},
   "source": [
    "#### Question 3.2. Please `correct for the bias` in favor of older talks `by calculating the number of comments per view`."
   ]
  },
  {
   "cell_type": "code",
   "execution_count": 9,
   "metadata": {},
   "outputs": [
    {
     "data": {
      "text/html": [
       "<div>\n",
       "<style scoped>\n",
       "    .dataframe tbody tr th:only-of-type {\n",
       "        vertical-align: middle;\n",
       "    }\n",
       "\n",
       "    .dataframe tbody tr th {\n",
       "        vertical-align: top;\n",
       "    }\n",
       "\n",
       "    .dataframe thead th {\n",
       "        text-align: right;\n",
       "    }\n",
       "</style>\n",
       "<table border=\"1\" class=\"dataframe\">\n",
       "  <thead>\n",
       "    <tr style=\"text-align: right;\">\n",
       "      <th></th>\n",
       "      <th>comments</th>\n",
       "      <th>description</th>\n",
       "      <th>duration</th>\n",
       "      <th>event</th>\n",
       "      <th>film_date</th>\n",
       "      <th>languages</th>\n",
       "      <th>main_speaker</th>\n",
       "      <th>name</th>\n",
       "      <th>num_speaker</th>\n",
       "      <th>published_date</th>\n",
       "      <th>ratings</th>\n",
       "      <th>related_talks</th>\n",
       "      <th>speaker_occupation</th>\n",
       "      <th>tags</th>\n",
       "      <th>title</th>\n",
       "      <th>url</th>\n",
       "      <th>views</th>\n",
       "      <th>comments per view</th>\n",
       "    </tr>\n",
       "  </thead>\n",
       "  <tbody>\n",
       "    <tr>\n",
       "      <th>744</th>\n",
       "      <td>649</td>\n",
       "      <td>Hours before New York lawmakers rejected a key...</td>\n",
       "      <td>453</td>\n",
       "      <td>New York State Senate</td>\n",
       "      <td>1259712000</td>\n",
       "      <td>0</td>\n",
       "      <td>Diane J. Savino</td>\n",
       "      <td>Diane J. Savino: The case for same-sex marriage</td>\n",
       "      <td>1</td>\n",
       "      <td>1282062180</td>\n",
       "      <td>[{'id': 25, 'name': 'OK', 'count': 100}, {'id'...</td>\n",
       "      <td>[{'id': 217, 'hero': 'https://pe.tedcdn.com/im...</td>\n",
       "      <td>Senator</td>\n",
       "      <td>['God', 'LGBT', 'culture', 'government', 'law'...</td>\n",
       "      <td>The case for same-sex marriage</td>\n",
       "      <td>https://www.ted.com/talks/diane_j_savino_the_c...</td>\n",
       "      <td>292395</td>\n",
       "      <td>0.002220</td>\n",
       "    </tr>\n",
       "    <tr>\n",
       "      <th>803</th>\n",
       "      <td>834</td>\n",
       "      <td>David Bismark demos a new system for voting th...</td>\n",
       "      <td>422</td>\n",
       "      <td>TEDGlobal 2010</td>\n",
       "      <td>1279065600</td>\n",
       "      <td>36</td>\n",
       "      <td>David Bismark</td>\n",
       "      <td>David Bismark: E-voting without fraud</td>\n",
       "      <td>1</td>\n",
       "      <td>1288685640</td>\n",
       "      <td>[{'id': 25, 'name': 'OK', 'count': 111}, {'id'...</td>\n",
       "      <td>[{'id': 803, 'hero': 'https://pe.tedcdn.com/im...</td>\n",
       "      <td>Voting system designer</td>\n",
       "      <td>['culture', 'democracy', 'design', 'global iss...</td>\n",
       "      <td>E-voting without fraud</td>\n",
       "      <td>https://www.ted.com/talks/david_bismark_e_voti...</td>\n",
       "      <td>543551</td>\n",
       "      <td>0.001534</td>\n",
       "    </tr>\n",
       "    <tr>\n",
       "      <th>96</th>\n",
       "      <td>6404</td>\n",
       "      <td>Richard Dawkins urges all atheists to openly s...</td>\n",
       "      <td>1750</td>\n",
       "      <td>TED2002</td>\n",
       "      <td>1012608000</td>\n",
       "      <td>42</td>\n",
       "      <td>Richard Dawkins</td>\n",
       "      <td>Richard Dawkins: Militant atheism</td>\n",
       "      <td>1</td>\n",
       "      <td>1176689220</td>\n",
       "      <td>[{'id': 3, 'name': 'Courageous', 'count': 3236...</td>\n",
       "      <td>[{'id': 86, 'hero': 'https://pe.tedcdn.com/ima...</td>\n",
       "      <td>Evolutionary biologist</td>\n",
       "      <td>['God', 'atheism', 'culture', 'religion', 'sci...</td>\n",
       "      <td>Militant atheism</td>\n",
       "      <td>https://www.ted.com/talks/richard_dawkins_on_m...</td>\n",
       "      <td>4374792</td>\n",
       "      <td>0.001464</td>\n",
       "    </tr>\n",
       "    <tr>\n",
       "      <th>694</th>\n",
       "      <td>1502</td>\n",
       "      <td>Filmmaker Sharmeen Obaid-Chinoy takes on a ter...</td>\n",
       "      <td>489</td>\n",
       "      <td>TED2010</td>\n",
       "      <td>1265760000</td>\n",
       "      <td>32</td>\n",
       "      <td>Sharmeen Obaid-Chinoy</td>\n",
       "      <td>Sharmeen Obaid-Chinoy: Inside a school for sui...</td>\n",
       "      <td>1</td>\n",
       "      <td>1274865960</td>\n",
       "      <td>[{'id': 23, 'name': 'Jaw-dropping', 'count': 3...</td>\n",
       "      <td>[{'id': 171, 'hero': 'https://pe.tedcdn.com/im...</td>\n",
       "      <td>Filmmaker</td>\n",
       "      <td>['TED Fellows', 'children', 'culture', 'film',...</td>\n",
       "      <td>Inside a school for suicide bombers</td>\n",
       "      <td>https://www.ted.com/talks/sharmeen_obaid_chino...</td>\n",
       "      <td>1057238</td>\n",
       "      <td>0.001421</td>\n",
       "    </tr>\n",
       "    <tr>\n",
       "      <th>954</th>\n",
       "      <td>2492</td>\n",
       "      <td>Janet Echelman found her true voice as an arti...</td>\n",
       "      <td>566</td>\n",
       "      <td>TED2011</td>\n",
       "      <td>1299110400</td>\n",
       "      <td>35</td>\n",
       "      <td>Janet Echelman</td>\n",
       "      <td>Janet Echelman: Taking imagination seriously</td>\n",
       "      <td>1</td>\n",
       "      <td>1307489760</td>\n",
       "      <td>[{'id': 23, 'name': 'Jaw-dropping', 'count': 3...</td>\n",
       "      <td>[{'id': 453, 'hero': 'https://pe.tedcdn.com/im...</td>\n",
       "      <td>Artist</td>\n",
       "      <td>['art', 'cities', 'culture', 'data', 'design',...</td>\n",
       "      <td>Taking imagination seriously</td>\n",
       "      <td>https://www.ted.com/talks/janet_echelman</td>\n",
       "      <td>1832930</td>\n",
       "      <td>0.001360</td>\n",
       "    </tr>\n",
       "    <tr>\n",
       "      <th>...</th>\n",
       "      <td>...</td>\n",
       "      <td>...</td>\n",
       "      <td>...</td>\n",
       "      <td>...</td>\n",
       "      <td>...</td>\n",
       "      <td>...</td>\n",
       "      <td>...</td>\n",
       "      <td>...</td>\n",
       "      <td>...</td>\n",
       "      <td>...</td>\n",
       "      <td>...</td>\n",
       "      <td>...</td>\n",
       "      <td>...</td>\n",
       "      <td>...</td>\n",
       "      <td>...</td>\n",
       "      <td>...</td>\n",
       "      <td>...</td>\n",
       "      <td>...</td>\n",
       "    </tr>\n",
       "    <tr>\n",
       "      <th>2494</th>\n",
       "      <td>7</td>\n",
       "      <td>Jimmy Lin is developing technologies to catch ...</td>\n",
       "      <td>730</td>\n",
       "      <td>TED2017</td>\n",
       "      <td>1492992000</td>\n",
       "      <td>10</td>\n",
       "      <td>Jimmy Lin</td>\n",
       "      <td>Jimmy Lin: A simple new blood test that can ca...</td>\n",
       "      <td>1</td>\n",
       "      <td>1500994384</td>\n",
       "      <td>[{'id': 1, 'name': 'Beautiful', 'count': 7}, {...</td>\n",
       "      <td>[{'id': 2498, 'hero': 'https://pe.tedcdn.com/i...</td>\n",
       "      <td>Geneticist</td>\n",
       "      <td>['DNA', 'TED Fellows', 'biology', 'cancer', 'd...</td>\n",
       "      <td>A simple new blood test that can catch cancer ...</td>\n",
       "      <td>https://www.ted.com/talks/jimmy_lin_a_simple_n...</td>\n",
       "      <td>1005506</td>\n",
       "      <td>0.000007</td>\n",
       "    </tr>\n",
       "    <tr>\n",
       "      <th>2528</th>\n",
       "      <td>3</td>\n",
       "      <td>Digital archaeologist Chance Coughenour is usi...</td>\n",
       "      <td>717</td>\n",
       "      <td>TEDxHamburg</td>\n",
       "      <td>1465344000</td>\n",
       "      <td>5</td>\n",
       "      <td>Chance Coughenour</td>\n",
       "      <td>Chance Coughenour: How your pictures can help ...</td>\n",
       "      <td>1</td>\n",
       "      <td>1504209631</td>\n",
       "      <td>[{'id': 9, 'name': 'Ingenious', 'count': 16}, ...</td>\n",
       "      <td>[{'id': 2673, 'hero': 'https://pe.tedcdn.com/i...</td>\n",
       "      <td>Digital archaeologist</td>\n",
       "      <td>['TEDx', 'ancient world', 'archaeology', 'cons...</td>\n",
       "      <td>How your pictures can help reclaim lost history</td>\n",
       "      <td>https://www.ted.com/talks/chance_coughenour_ho...</td>\n",
       "      <td>539207</td>\n",
       "      <td>0.000006</td>\n",
       "    </tr>\n",
       "    <tr>\n",
       "      <th>2542</th>\n",
       "      <td>3</td>\n",
       "      <td>In the century-old statues that occupy Cape To...</td>\n",
       "      <td>795</td>\n",
       "      <td>TEDGlobal 2017</td>\n",
       "      <td>1503792000</td>\n",
       "      <td>1</td>\n",
       "      <td>Sethembile Msezane</td>\n",
       "      <td>Sethembile Msezane: Living sculptures that sta...</td>\n",
       "      <td>1</td>\n",
       "      <td>1505488093</td>\n",
       "      <td>[{'id': 1, 'name': 'Beautiful', 'count': 41}, ...</td>\n",
       "      <td>[{'id': 2873, 'hero': 'https://pe.tedcdn.com/i...</td>\n",
       "      <td>Artist</td>\n",
       "      <td>['Africa', 'activism', 'art', 'community', 'hi...</td>\n",
       "      <td>Living sculptures that stand for history's truths</td>\n",
       "      <td>https://www.ted.com/talks/sethembile_msezane_l...</td>\n",
       "      <td>542088</td>\n",
       "      <td>0.000006</td>\n",
       "    </tr>\n",
       "    <tr>\n",
       "      <th>2501</th>\n",
       "      <td>3</td>\n",
       "      <td>Meet Françoise Mouly, The New Yorker's art dir...</td>\n",
       "      <td>509</td>\n",
       "      <td>TEDNYC</td>\n",
       "      <td>1488931200</td>\n",
       "      <td>12</td>\n",
       "      <td>Françoise Mouly</td>\n",
       "      <td>Françoise Mouly: The stories behind The New Yo...</td>\n",
       "      <td>1</td>\n",
       "      <td>1501770244</td>\n",
       "      <td>[{'id': 7, 'name': 'Funny', 'count': 10}, {'id...</td>\n",
       "      <td>[{'id': 2479, 'hero': 'https://pe.tedcdn.com/i...</td>\n",
       "      <td>Art editor</td>\n",
       "      <td>['TEDNYC', 'art', 'creativity', 'culture', 'de...</td>\n",
       "      <td>The stories behind The New Yorker's iconic covers</td>\n",
       "      <td>https://www.ted.com/talks/francoise_mouly_the_...</td>\n",
       "      <td>839040</td>\n",
       "      <td>0.000004</td>\n",
       "    </tr>\n",
       "    <tr>\n",
       "      <th>2534</th>\n",
       "      <td>2</td>\n",
       "      <td>What the astronauts felt when they saw Earth f...</td>\n",
       "      <td>725</td>\n",
       "      <td>TEDxSkoll</td>\n",
       "      <td>1491523200</td>\n",
       "      <td>1</td>\n",
       "      <td>Benjamin Grant</td>\n",
       "      <td>Benjamin Grant: What it feels like to see Eart...</td>\n",
       "      <td>1</td>\n",
       "      <td>1504814438</td>\n",
       "      <td>[{'id': 10, 'name': 'Inspiring', 'count': 46},...</td>\n",
       "      <td>[{'id': 2511, 'hero': 'https://pe.tedcdn.com/i...</td>\n",
       "      <td>Author</td>\n",
       "      <td>['TEDx', 'art', 'climate change', 'environment...</td>\n",
       "      <td>What it feels like to see Earth from space</td>\n",
       "      <td>https://www.ted.com/talks/benjamin_grant_what_...</td>\n",
       "      <td>646174</td>\n",
       "      <td>0.000003</td>\n",
       "    </tr>\n",
       "  </tbody>\n",
       "</table>\n",
       "<p>2550 rows × 18 columns</p>\n",
       "</div>"
      ],
      "text/plain": [
       "      comments                                        description  duration  \\\n",
       "744        649  Hours before New York lawmakers rejected a key...       453   \n",
       "803        834  David Bismark demos a new system for voting th...       422   \n",
       "96        6404  Richard Dawkins urges all atheists to openly s...      1750   \n",
       "694       1502  Filmmaker Sharmeen Obaid-Chinoy takes on a ter...       489   \n",
       "954       2492  Janet Echelman found her true voice as an arti...       566   \n",
       "...        ...                                                ...       ...   \n",
       "2494         7  Jimmy Lin is developing technologies to catch ...       730   \n",
       "2528         3  Digital archaeologist Chance Coughenour is usi...       717   \n",
       "2542         3  In the century-old statues that occupy Cape To...       795   \n",
       "2501         3  Meet Françoise Mouly, The New Yorker's art dir...       509   \n",
       "2534         2  What the astronauts felt when they saw Earth f...       725   \n",
       "\n",
       "                      event   film_date  languages           main_speaker  \\\n",
       "744   New York State Senate  1259712000          0        Diane J. Savino   \n",
       "803          TEDGlobal 2010  1279065600         36          David Bismark   \n",
       "96                  TED2002  1012608000         42        Richard Dawkins   \n",
       "694                 TED2010  1265760000         32  Sharmeen Obaid-Chinoy   \n",
       "954                 TED2011  1299110400         35         Janet Echelman   \n",
       "...                     ...         ...        ...                    ...   \n",
       "2494                TED2017  1492992000         10              Jimmy Lin   \n",
       "2528            TEDxHamburg  1465344000          5      Chance Coughenour   \n",
       "2542         TEDGlobal 2017  1503792000          1     Sethembile Msezane   \n",
       "2501                 TEDNYC  1488931200         12        Françoise Mouly   \n",
       "2534              TEDxSkoll  1491523200          1         Benjamin Grant   \n",
       "\n",
       "                                                   name  num_speaker  \\\n",
       "744     Diane J. Savino: The case for same-sex marriage            1   \n",
       "803               David Bismark: E-voting without fraud            1   \n",
       "96                    Richard Dawkins: Militant atheism            1   \n",
       "694   Sharmeen Obaid-Chinoy: Inside a school for sui...            1   \n",
       "954        Janet Echelman: Taking imagination seriously            1   \n",
       "...                                                 ...          ...   \n",
       "2494  Jimmy Lin: A simple new blood test that can ca...            1   \n",
       "2528  Chance Coughenour: How your pictures can help ...            1   \n",
       "2542  Sethembile Msezane: Living sculptures that sta...            1   \n",
       "2501  Françoise Mouly: The stories behind The New Yo...            1   \n",
       "2534  Benjamin Grant: What it feels like to see Eart...            1   \n",
       "\n",
       "      published_date                                            ratings  \\\n",
       "744       1282062180  [{'id': 25, 'name': 'OK', 'count': 100}, {'id'...   \n",
       "803       1288685640  [{'id': 25, 'name': 'OK', 'count': 111}, {'id'...   \n",
       "96        1176689220  [{'id': 3, 'name': 'Courageous', 'count': 3236...   \n",
       "694       1274865960  [{'id': 23, 'name': 'Jaw-dropping', 'count': 3...   \n",
       "954       1307489760  [{'id': 23, 'name': 'Jaw-dropping', 'count': 3...   \n",
       "...              ...                                                ...   \n",
       "2494      1500994384  [{'id': 1, 'name': 'Beautiful', 'count': 7}, {...   \n",
       "2528      1504209631  [{'id': 9, 'name': 'Ingenious', 'count': 16}, ...   \n",
       "2542      1505488093  [{'id': 1, 'name': 'Beautiful', 'count': 41}, ...   \n",
       "2501      1501770244  [{'id': 7, 'name': 'Funny', 'count': 10}, {'id...   \n",
       "2534      1504814438  [{'id': 10, 'name': 'Inspiring', 'count': 46},...   \n",
       "\n",
       "                                          related_talks  \\\n",
       "744   [{'id': 217, 'hero': 'https://pe.tedcdn.com/im...   \n",
       "803   [{'id': 803, 'hero': 'https://pe.tedcdn.com/im...   \n",
       "96    [{'id': 86, 'hero': 'https://pe.tedcdn.com/ima...   \n",
       "694   [{'id': 171, 'hero': 'https://pe.tedcdn.com/im...   \n",
       "954   [{'id': 453, 'hero': 'https://pe.tedcdn.com/im...   \n",
       "...                                                 ...   \n",
       "2494  [{'id': 2498, 'hero': 'https://pe.tedcdn.com/i...   \n",
       "2528  [{'id': 2673, 'hero': 'https://pe.tedcdn.com/i...   \n",
       "2542  [{'id': 2873, 'hero': 'https://pe.tedcdn.com/i...   \n",
       "2501  [{'id': 2479, 'hero': 'https://pe.tedcdn.com/i...   \n",
       "2534  [{'id': 2511, 'hero': 'https://pe.tedcdn.com/i...   \n",
       "\n",
       "          speaker_occupation  \\\n",
       "744                  Senator   \n",
       "803   Voting system designer   \n",
       "96    Evolutionary biologist   \n",
       "694                Filmmaker   \n",
       "954                   Artist   \n",
       "...                      ...   \n",
       "2494              Geneticist   \n",
       "2528   Digital archaeologist   \n",
       "2542                  Artist   \n",
       "2501              Art editor   \n",
       "2534                  Author   \n",
       "\n",
       "                                                   tags  \\\n",
       "744   ['God', 'LGBT', 'culture', 'government', 'law'...   \n",
       "803   ['culture', 'democracy', 'design', 'global iss...   \n",
       "96    ['God', 'atheism', 'culture', 'religion', 'sci...   \n",
       "694   ['TED Fellows', 'children', 'culture', 'film',...   \n",
       "954   ['art', 'cities', 'culture', 'data', 'design',...   \n",
       "...                                                 ...   \n",
       "2494  ['DNA', 'TED Fellows', 'biology', 'cancer', 'd...   \n",
       "2528  ['TEDx', 'ancient world', 'archaeology', 'cons...   \n",
       "2542  ['Africa', 'activism', 'art', 'community', 'hi...   \n",
       "2501  ['TEDNYC', 'art', 'creativity', 'culture', 'de...   \n",
       "2534  ['TEDx', 'art', 'climate change', 'environment...   \n",
       "\n",
       "                                                  title  \\\n",
       "744                      The case for same-sex marriage   \n",
       "803                              E-voting without fraud   \n",
       "96                                     Militant atheism   \n",
       "694                 Inside a school for suicide bombers   \n",
       "954                        Taking imagination seriously   \n",
       "...                                                 ...   \n",
       "2494  A simple new blood test that can catch cancer ...   \n",
       "2528    How your pictures can help reclaim lost history   \n",
       "2542  Living sculptures that stand for history's truths   \n",
       "2501  The stories behind The New Yorker's iconic covers   \n",
       "2534         What it feels like to see Earth from space   \n",
       "\n",
       "                                                    url    views  \\\n",
       "744   https://www.ted.com/talks/diane_j_savino_the_c...   292395   \n",
       "803   https://www.ted.com/talks/david_bismark_e_voti...   543551   \n",
       "96    https://www.ted.com/talks/richard_dawkins_on_m...  4374792   \n",
       "694   https://www.ted.com/talks/sharmeen_obaid_chino...  1057238   \n",
       "954            https://www.ted.com/talks/janet_echelman  1832930   \n",
       "...                                                 ...      ...   \n",
       "2494  https://www.ted.com/talks/jimmy_lin_a_simple_n...  1005506   \n",
       "2528  https://www.ted.com/talks/chance_coughenour_ho...   539207   \n",
       "2542  https://www.ted.com/talks/sethembile_msezane_l...   542088   \n",
       "2501  https://www.ted.com/talks/francoise_mouly_the_...   839040   \n",
       "2534  https://www.ted.com/talks/benjamin_grant_what_...   646174   \n",
       "\n",
       "      comments per view  \n",
       "744            0.002220  \n",
       "803            0.001534  \n",
       "96             0.001464  \n",
       "694            0.001421  \n",
       "954            0.001360  \n",
       "...                 ...  \n",
       "2494           0.000007  \n",
       "2528           0.000006  \n",
       "2542           0.000006  \n",
       "2501           0.000004  \n",
       "2534           0.000003  \n",
       "\n",
       "[2550 rows x 18 columns]"
      ]
     },
     "execution_count": 9,
     "metadata": {},
     "output_type": "execute_result"
    }
   ],
   "source": [
    "exercise1[\"comments per view\"] = exercise1[\"comments\"] / exercise1[\"views\"]\n",
    "exercise1.sort_values(by = \"comments per view\", ascending = False)"
   ]
  },
  {
   "cell_type": "markdown",
   "metadata": {},
   "source": [
    "> #### You will find that, for every view of the same-sex marriage talk, there are 0.002 comments."
   ]
  },
  {
   "cell_type": "markdown",
   "metadata": {},
   "source": [
    "#### Question 3.3. Please make this more interpretable by `inverting` the calculation."
   ]
  },
  {
   "cell_type": "code",
   "execution_count": 10,
   "metadata": {
    "scrolled": true
   },
   "outputs": [
    {
     "data": {
      "text/html": [
       "<div>\n",
       "<style scoped>\n",
       "    .dataframe tbody tr th:only-of-type {\n",
       "        vertical-align: middle;\n",
       "    }\n",
       "\n",
       "    .dataframe tbody tr th {\n",
       "        vertical-align: top;\n",
       "    }\n",
       "\n",
       "    .dataframe thead th {\n",
       "        text-align: right;\n",
       "    }\n",
       "</style>\n",
       "<table border=\"1\" class=\"dataframe\">\n",
       "  <thead>\n",
       "    <tr style=\"text-align: right;\">\n",
       "      <th></th>\n",
       "      <th>comments</th>\n",
       "      <th>description</th>\n",
       "      <th>duration</th>\n",
       "      <th>event</th>\n",
       "      <th>film_date</th>\n",
       "      <th>languages</th>\n",
       "      <th>main_speaker</th>\n",
       "      <th>name</th>\n",
       "      <th>num_speaker</th>\n",
       "      <th>published_date</th>\n",
       "      <th>ratings</th>\n",
       "      <th>related_talks</th>\n",
       "      <th>speaker_occupation</th>\n",
       "      <th>tags</th>\n",
       "      <th>title</th>\n",
       "      <th>url</th>\n",
       "      <th>views</th>\n",
       "      <th>comments per view</th>\n",
       "      <th>view per comments</th>\n",
       "    </tr>\n",
       "  </thead>\n",
       "  <tbody>\n",
       "    <tr>\n",
       "      <th>744</th>\n",
       "      <td>649</td>\n",
       "      <td>Hours before New York lawmakers rejected a key...</td>\n",
       "      <td>453</td>\n",
       "      <td>New York State Senate</td>\n",
       "      <td>1259712000</td>\n",
       "      <td>0</td>\n",
       "      <td>Diane J. Savino</td>\n",
       "      <td>Diane J. Savino: The case for same-sex marriage</td>\n",
       "      <td>1</td>\n",
       "      <td>1282062180</td>\n",
       "      <td>[{'id': 25, 'name': 'OK', 'count': 100}, {'id'...</td>\n",
       "      <td>[{'id': 217, 'hero': 'https://pe.tedcdn.com/im...</td>\n",
       "      <td>Senator</td>\n",
       "      <td>['God', 'LGBT', 'culture', 'government', 'law'...</td>\n",
       "      <td>The case for same-sex marriage</td>\n",
       "      <td>https://www.ted.com/talks/diane_j_savino_the_c...</td>\n",
       "      <td>292395</td>\n",
       "      <td>0.002220</td>\n",
       "      <td>450.531587</td>\n",
       "    </tr>\n",
       "    <tr>\n",
       "      <th>803</th>\n",
       "      <td>834</td>\n",
       "      <td>David Bismark demos a new system for voting th...</td>\n",
       "      <td>422</td>\n",
       "      <td>TEDGlobal 2010</td>\n",
       "      <td>1279065600</td>\n",
       "      <td>36</td>\n",
       "      <td>David Bismark</td>\n",
       "      <td>David Bismark: E-voting without fraud</td>\n",
       "      <td>1</td>\n",
       "      <td>1288685640</td>\n",
       "      <td>[{'id': 25, 'name': 'OK', 'count': 111}, {'id'...</td>\n",
       "      <td>[{'id': 803, 'hero': 'https://pe.tedcdn.com/im...</td>\n",
       "      <td>Voting system designer</td>\n",
       "      <td>['culture', 'democracy', 'design', 'global iss...</td>\n",
       "      <td>E-voting without fraud</td>\n",
       "      <td>https://www.ted.com/talks/david_bismark_e_voti...</td>\n",
       "      <td>543551</td>\n",
       "      <td>0.001534</td>\n",
       "      <td>651.739808</td>\n",
       "    </tr>\n",
       "    <tr>\n",
       "      <th>96</th>\n",
       "      <td>6404</td>\n",
       "      <td>Richard Dawkins urges all atheists to openly s...</td>\n",
       "      <td>1750</td>\n",
       "      <td>TED2002</td>\n",
       "      <td>1012608000</td>\n",
       "      <td>42</td>\n",
       "      <td>Richard Dawkins</td>\n",
       "      <td>Richard Dawkins: Militant atheism</td>\n",
       "      <td>1</td>\n",
       "      <td>1176689220</td>\n",
       "      <td>[{'id': 3, 'name': 'Courageous', 'count': 3236...</td>\n",
       "      <td>[{'id': 86, 'hero': 'https://pe.tedcdn.com/ima...</td>\n",
       "      <td>Evolutionary biologist</td>\n",
       "      <td>['God', 'atheism', 'culture', 'religion', 'sci...</td>\n",
       "      <td>Militant atheism</td>\n",
       "      <td>https://www.ted.com/talks/richard_dawkins_on_m...</td>\n",
       "      <td>4374792</td>\n",
       "      <td>0.001464</td>\n",
       "      <td>683.134291</td>\n",
       "    </tr>\n",
       "    <tr>\n",
       "      <th>694</th>\n",
       "      <td>1502</td>\n",
       "      <td>Filmmaker Sharmeen Obaid-Chinoy takes on a ter...</td>\n",
       "      <td>489</td>\n",
       "      <td>TED2010</td>\n",
       "      <td>1265760000</td>\n",
       "      <td>32</td>\n",
       "      <td>Sharmeen Obaid-Chinoy</td>\n",
       "      <td>Sharmeen Obaid-Chinoy: Inside a school for sui...</td>\n",
       "      <td>1</td>\n",
       "      <td>1274865960</td>\n",
       "      <td>[{'id': 23, 'name': 'Jaw-dropping', 'count': 3...</td>\n",
       "      <td>[{'id': 171, 'hero': 'https://pe.tedcdn.com/im...</td>\n",
       "      <td>Filmmaker</td>\n",
       "      <td>['TED Fellows', 'children', 'culture', 'film',...</td>\n",
       "      <td>Inside a school for suicide bombers</td>\n",
       "      <td>https://www.ted.com/talks/sharmeen_obaid_chino...</td>\n",
       "      <td>1057238</td>\n",
       "      <td>0.001421</td>\n",
       "      <td>703.886818</td>\n",
       "    </tr>\n",
       "    <tr>\n",
       "      <th>954</th>\n",
       "      <td>2492</td>\n",
       "      <td>Janet Echelman found her true voice as an arti...</td>\n",
       "      <td>566</td>\n",
       "      <td>TED2011</td>\n",
       "      <td>1299110400</td>\n",
       "      <td>35</td>\n",
       "      <td>Janet Echelman</td>\n",
       "      <td>Janet Echelman: Taking imagination seriously</td>\n",
       "      <td>1</td>\n",
       "      <td>1307489760</td>\n",
       "      <td>[{'id': 23, 'name': 'Jaw-dropping', 'count': 3...</td>\n",
       "      <td>[{'id': 453, 'hero': 'https://pe.tedcdn.com/im...</td>\n",
       "      <td>Artist</td>\n",
       "      <td>['art', 'cities', 'culture', 'data', 'design',...</td>\n",
       "      <td>Taking imagination seriously</td>\n",
       "      <td>https://www.ted.com/talks/janet_echelman</td>\n",
       "      <td>1832930</td>\n",
       "      <td>0.001360</td>\n",
       "      <td>735.525682</td>\n",
       "    </tr>\n",
       "    <tr>\n",
       "      <th>...</th>\n",
       "      <td>...</td>\n",
       "      <td>...</td>\n",
       "      <td>...</td>\n",
       "      <td>...</td>\n",
       "      <td>...</td>\n",
       "      <td>...</td>\n",
       "      <td>...</td>\n",
       "      <td>...</td>\n",
       "      <td>...</td>\n",
       "      <td>...</td>\n",
       "      <td>...</td>\n",
       "      <td>...</td>\n",
       "      <td>...</td>\n",
       "      <td>...</td>\n",
       "      <td>...</td>\n",
       "      <td>...</td>\n",
       "      <td>...</td>\n",
       "      <td>...</td>\n",
       "      <td>...</td>\n",
       "    </tr>\n",
       "    <tr>\n",
       "      <th>2494</th>\n",
       "      <td>7</td>\n",
       "      <td>Jimmy Lin is developing technologies to catch ...</td>\n",
       "      <td>730</td>\n",
       "      <td>TED2017</td>\n",
       "      <td>1492992000</td>\n",
       "      <td>10</td>\n",
       "      <td>Jimmy Lin</td>\n",
       "      <td>Jimmy Lin: A simple new blood test that can ca...</td>\n",
       "      <td>1</td>\n",
       "      <td>1500994384</td>\n",
       "      <td>[{'id': 1, 'name': 'Beautiful', 'count': 7}, {...</td>\n",
       "      <td>[{'id': 2498, 'hero': 'https://pe.tedcdn.com/i...</td>\n",
       "      <td>Geneticist</td>\n",
       "      <td>['DNA', 'TED Fellows', 'biology', 'cancer', 'd...</td>\n",
       "      <td>A simple new blood test that can catch cancer ...</td>\n",
       "      <td>https://www.ted.com/talks/jimmy_lin_a_simple_n...</td>\n",
       "      <td>1005506</td>\n",
       "      <td>0.000007</td>\n",
       "      <td>143643.714286</td>\n",
       "    </tr>\n",
       "    <tr>\n",
       "      <th>2528</th>\n",
       "      <td>3</td>\n",
       "      <td>Digital archaeologist Chance Coughenour is usi...</td>\n",
       "      <td>717</td>\n",
       "      <td>TEDxHamburg</td>\n",
       "      <td>1465344000</td>\n",
       "      <td>5</td>\n",
       "      <td>Chance Coughenour</td>\n",
       "      <td>Chance Coughenour: How your pictures can help ...</td>\n",
       "      <td>1</td>\n",
       "      <td>1504209631</td>\n",
       "      <td>[{'id': 9, 'name': 'Ingenious', 'count': 16}, ...</td>\n",
       "      <td>[{'id': 2673, 'hero': 'https://pe.tedcdn.com/i...</td>\n",
       "      <td>Digital archaeologist</td>\n",
       "      <td>['TEDx', 'ancient world', 'archaeology', 'cons...</td>\n",
       "      <td>How your pictures can help reclaim lost history</td>\n",
       "      <td>https://www.ted.com/talks/chance_coughenour_ho...</td>\n",
       "      <td>539207</td>\n",
       "      <td>0.000006</td>\n",
       "      <td>179735.666667</td>\n",
       "    </tr>\n",
       "    <tr>\n",
       "      <th>2542</th>\n",
       "      <td>3</td>\n",
       "      <td>In the century-old statues that occupy Cape To...</td>\n",
       "      <td>795</td>\n",
       "      <td>TEDGlobal 2017</td>\n",
       "      <td>1503792000</td>\n",
       "      <td>1</td>\n",
       "      <td>Sethembile Msezane</td>\n",
       "      <td>Sethembile Msezane: Living sculptures that sta...</td>\n",
       "      <td>1</td>\n",
       "      <td>1505488093</td>\n",
       "      <td>[{'id': 1, 'name': 'Beautiful', 'count': 41}, ...</td>\n",
       "      <td>[{'id': 2873, 'hero': 'https://pe.tedcdn.com/i...</td>\n",
       "      <td>Artist</td>\n",
       "      <td>['Africa', 'activism', 'art', 'community', 'hi...</td>\n",
       "      <td>Living sculptures that stand for history's truths</td>\n",
       "      <td>https://www.ted.com/talks/sethembile_msezane_l...</td>\n",
       "      <td>542088</td>\n",
       "      <td>0.000006</td>\n",
       "      <td>180696.000000</td>\n",
       "    </tr>\n",
       "    <tr>\n",
       "      <th>2501</th>\n",
       "      <td>3</td>\n",
       "      <td>Meet Françoise Mouly, The New Yorker's art dir...</td>\n",
       "      <td>509</td>\n",
       "      <td>TEDNYC</td>\n",
       "      <td>1488931200</td>\n",
       "      <td>12</td>\n",
       "      <td>Françoise Mouly</td>\n",
       "      <td>Françoise Mouly: The stories behind The New Yo...</td>\n",
       "      <td>1</td>\n",
       "      <td>1501770244</td>\n",
       "      <td>[{'id': 7, 'name': 'Funny', 'count': 10}, {'id...</td>\n",
       "      <td>[{'id': 2479, 'hero': 'https://pe.tedcdn.com/i...</td>\n",
       "      <td>Art editor</td>\n",
       "      <td>['TEDNYC', 'art', 'creativity', 'culture', 'de...</td>\n",
       "      <td>The stories behind The New Yorker's iconic covers</td>\n",
       "      <td>https://www.ted.com/talks/francoise_mouly_the_...</td>\n",
       "      <td>839040</td>\n",
       "      <td>0.000004</td>\n",
       "      <td>279680.000000</td>\n",
       "    </tr>\n",
       "    <tr>\n",
       "      <th>2534</th>\n",
       "      <td>2</td>\n",
       "      <td>What the astronauts felt when they saw Earth f...</td>\n",
       "      <td>725</td>\n",
       "      <td>TEDxSkoll</td>\n",
       "      <td>1491523200</td>\n",
       "      <td>1</td>\n",
       "      <td>Benjamin Grant</td>\n",
       "      <td>Benjamin Grant: What it feels like to see Eart...</td>\n",
       "      <td>1</td>\n",
       "      <td>1504814438</td>\n",
       "      <td>[{'id': 10, 'name': 'Inspiring', 'count': 46},...</td>\n",
       "      <td>[{'id': 2511, 'hero': 'https://pe.tedcdn.com/i...</td>\n",
       "      <td>Author</td>\n",
       "      <td>['TEDx', 'art', 'climate change', 'environment...</td>\n",
       "      <td>What it feels like to see Earth from space</td>\n",
       "      <td>https://www.ted.com/talks/benjamin_grant_what_...</td>\n",
       "      <td>646174</td>\n",
       "      <td>0.000003</td>\n",
       "      <td>323087.000000</td>\n",
       "    </tr>\n",
       "  </tbody>\n",
       "</table>\n",
       "<p>2550 rows × 19 columns</p>\n",
       "</div>"
      ],
      "text/plain": [
       "      comments                                        description  duration  \\\n",
       "744        649  Hours before New York lawmakers rejected a key...       453   \n",
       "803        834  David Bismark demos a new system for voting th...       422   \n",
       "96        6404  Richard Dawkins urges all atheists to openly s...      1750   \n",
       "694       1502  Filmmaker Sharmeen Obaid-Chinoy takes on a ter...       489   \n",
       "954       2492  Janet Echelman found her true voice as an arti...       566   \n",
       "...        ...                                                ...       ...   \n",
       "2494         7  Jimmy Lin is developing technologies to catch ...       730   \n",
       "2528         3  Digital archaeologist Chance Coughenour is usi...       717   \n",
       "2542         3  In the century-old statues that occupy Cape To...       795   \n",
       "2501         3  Meet Françoise Mouly, The New Yorker's art dir...       509   \n",
       "2534         2  What the astronauts felt when they saw Earth f...       725   \n",
       "\n",
       "                      event   film_date  languages           main_speaker  \\\n",
       "744   New York State Senate  1259712000          0        Diane J. Savino   \n",
       "803          TEDGlobal 2010  1279065600         36          David Bismark   \n",
       "96                  TED2002  1012608000         42        Richard Dawkins   \n",
       "694                 TED2010  1265760000         32  Sharmeen Obaid-Chinoy   \n",
       "954                 TED2011  1299110400         35         Janet Echelman   \n",
       "...                     ...         ...        ...                    ...   \n",
       "2494                TED2017  1492992000         10              Jimmy Lin   \n",
       "2528            TEDxHamburg  1465344000          5      Chance Coughenour   \n",
       "2542         TEDGlobal 2017  1503792000          1     Sethembile Msezane   \n",
       "2501                 TEDNYC  1488931200         12        Françoise Mouly   \n",
       "2534              TEDxSkoll  1491523200          1         Benjamin Grant   \n",
       "\n",
       "                                                   name  num_speaker  \\\n",
       "744     Diane J. Savino: The case for same-sex marriage            1   \n",
       "803               David Bismark: E-voting without fraud            1   \n",
       "96                    Richard Dawkins: Militant atheism            1   \n",
       "694   Sharmeen Obaid-Chinoy: Inside a school for sui...            1   \n",
       "954        Janet Echelman: Taking imagination seriously            1   \n",
       "...                                                 ...          ...   \n",
       "2494  Jimmy Lin: A simple new blood test that can ca...            1   \n",
       "2528  Chance Coughenour: How your pictures can help ...            1   \n",
       "2542  Sethembile Msezane: Living sculptures that sta...            1   \n",
       "2501  Françoise Mouly: The stories behind The New Yo...            1   \n",
       "2534  Benjamin Grant: What it feels like to see Eart...            1   \n",
       "\n",
       "      published_date                                            ratings  \\\n",
       "744       1282062180  [{'id': 25, 'name': 'OK', 'count': 100}, {'id'...   \n",
       "803       1288685640  [{'id': 25, 'name': 'OK', 'count': 111}, {'id'...   \n",
       "96        1176689220  [{'id': 3, 'name': 'Courageous', 'count': 3236...   \n",
       "694       1274865960  [{'id': 23, 'name': 'Jaw-dropping', 'count': 3...   \n",
       "954       1307489760  [{'id': 23, 'name': 'Jaw-dropping', 'count': 3...   \n",
       "...              ...                                                ...   \n",
       "2494      1500994384  [{'id': 1, 'name': 'Beautiful', 'count': 7}, {...   \n",
       "2528      1504209631  [{'id': 9, 'name': 'Ingenious', 'count': 16}, ...   \n",
       "2542      1505488093  [{'id': 1, 'name': 'Beautiful', 'count': 41}, ...   \n",
       "2501      1501770244  [{'id': 7, 'name': 'Funny', 'count': 10}, {'id...   \n",
       "2534      1504814438  [{'id': 10, 'name': 'Inspiring', 'count': 46},...   \n",
       "\n",
       "                                          related_talks  \\\n",
       "744   [{'id': 217, 'hero': 'https://pe.tedcdn.com/im...   \n",
       "803   [{'id': 803, 'hero': 'https://pe.tedcdn.com/im...   \n",
       "96    [{'id': 86, 'hero': 'https://pe.tedcdn.com/ima...   \n",
       "694   [{'id': 171, 'hero': 'https://pe.tedcdn.com/im...   \n",
       "954   [{'id': 453, 'hero': 'https://pe.tedcdn.com/im...   \n",
       "...                                                 ...   \n",
       "2494  [{'id': 2498, 'hero': 'https://pe.tedcdn.com/i...   \n",
       "2528  [{'id': 2673, 'hero': 'https://pe.tedcdn.com/i...   \n",
       "2542  [{'id': 2873, 'hero': 'https://pe.tedcdn.com/i...   \n",
       "2501  [{'id': 2479, 'hero': 'https://pe.tedcdn.com/i...   \n",
       "2534  [{'id': 2511, 'hero': 'https://pe.tedcdn.com/i...   \n",
       "\n",
       "          speaker_occupation  \\\n",
       "744                  Senator   \n",
       "803   Voting system designer   \n",
       "96    Evolutionary biologist   \n",
       "694                Filmmaker   \n",
       "954                   Artist   \n",
       "...                      ...   \n",
       "2494              Geneticist   \n",
       "2528   Digital archaeologist   \n",
       "2542                  Artist   \n",
       "2501              Art editor   \n",
       "2534                  Author   \n",
       "\n",
       "                                                   tags  \\\n",
       "744   ['God', 'LGBT', 'culture', 'government', 'law'...   \n",
       "803   ['culture', 'democracy', 'design', 'global iss...   \n",
       "96    ['God', 'atheism', 'culture', 'religion', 'sci...   \n",
       "694   ['TED Fellows', 'children', 'culture', 'film',...   \n",
       "954   ['art', 'cities', 'culture', 'data', 'design',...   \n",
       "...                                                 ...   \n",
       "2494  ['DNA', 'TED Fellows', 'biology', 'cancer', 'd...   \n",
       "2528  ['TEDx', 'ancient world', 'archaeology', 'cons...   \n",
       "2542  ['Africa', 'activism', 'art', 'community', 'hi...   \n",
       "2501  ['TEDNYC', 'art', 'creativity', 'culture', 'de...   \n",
       "2534  ['TEDx', 'art', 'climate change', 'environment...   \n",
       "\n",
       "                                                  title  \\\n",
       "744                      The case for same-sex marriage   \n",
       "803                              E-voting without fraud   \n",
       "96                                     Militant atheism   \n",
       "694                 Inside a school for suicide bombers   \n",
       "954                        Taking imagination seriously   \n",
       "...                                                 ...   \n",
       "2494  A simple new blood test that can catch cancer ...   \n",
       "2528    How your pictures can help reclaim lost history   \n",
       "2542  Living sculptures that stand for history's truths   \n",
       "2501  The stories behind The New Yorker's iconic covers   \n",
       "2534         What it feels like to see Earth from space   \n",
       "\n",
       "                                                    url    views  \\\n",
       "744   https://www.ted.com/talks/diane_j_savino_the_c...   292395   \n",
       "803   https://www.ted.com/talks/david_bismark_e_voti...   543551   \n",
       "96    https://www.ted.com/talks/richard_dawkins_on_m...  4374792   \n",
       "694   https://www.ted.com/talks/sharmeen_obaid_chino...  1057238   \n",
       "954            https://www.ted.com/talks/janet_echelman  1832930   \n",
       "...                                                 ...      ...   \n",
       "2494  https://www.ted.com/talks/jimmy_lin_a_simple_n...  1005506   \n",
       "2528  https://www.ted.com/talks/chance_coughenour_ho...   539207   \n",
       "2542  https://www.ted.com/talks/sethembile_msezane_l...   542088   \n",
       "2501  https://www.ted.com/talks/francoise_mouly_the_...   839040   \n",
       "2534  https://www.ted.com/talks/benjamin_grant_what_...   646174   \n",
       "\n",
       "      comments per view  view per comments  \n",
       "744            0.002220         450.531587  \n",
       "803            0.001534         651.739808  \n",
       "96             0.001464         683.134291  \n",
       "694            0.001421         703.886818  \n",
       "954            0.001360         735.525682  \n",
       "...                 ...                ...  \n",
       "2494           0.000007      143643.714286  \n",
       "2528           0.000006      179735.666667  \n",
       "2542           0.000006      180696.000000  \n",
       "2501           0.000004      279680.000000  \n",
       "2534           0.000003      323087.000000  \n",
       "\n",
       "[2550 rows x 19 columns]"
      ]
     },
     "execution_count": 10,
     "metadata": {},
     "output_type": "execute_result"
    }
   ],
   "source": [
    "exercise1[\"view per comments\"] = exercise1[\"views\"] / exercise1[\"comments\"]\n",
    "exercise1.sort_values(by = \"view per comments\")"
   ]
  },
  {
   "cell_type": "markdown",
   "metadata": {},
   "source": [
    "> Please consider the `limitations` and `biases` of your data, making your results understandable (`interpretable`)."
   ]
  },
  {
   "cell_type": "markdown",
   "metadata": {},
   "source": [
    "### <font color = \"blue\"> Let's `visualize` the distribution of comments </font>\n",
    "\n",
    "> #### <font color = \"red\"> See **Chapter 4** of `Python Data Science Handbook` for a quick reference for matplotlib </font>\n",
    "\n",
    "> #### <font color = \"red\"> For in-depth details, use https://matplotlib.org/stable/api/_as_gen/matplotlib.pyplot.html </font>"
   ]
  },
  {
   "cell_type": "markdown",
   "metadata": {},
   "source": [
    "#### Question 3.4. Please create a `Line chart`, but it seems NOT useful here."
   ]
  },
  {
   "cell_type": "code",
   "execution_count": 11,
   "metadata": {},
   "outputs": [
    {
     "data": {
      "image/png": "[encoded data removed]",
      "text/plain": [
       "<Figure size 432x288 with 1 Axes>"
      ]
     },
     "metadata": {
      "needs_background": "light"
     },
     "output_type": "display_data"
    }
   ],
   "source": [
    "comments = exercise1[\"comments\"].sort_values()\n",
    "\n",
    "plt.plot(comments)\n",
    "plt.show()"
   ]
  },
  {
   "cell_type": "markdown",
   "metadata": {},
   "source": [
    "#### Question 3.5. Please create a `Histogram`--it displays the frequency distribution of a single numeric variable."
   ]
  },
  {
   "cell_type": "code",
   "execution_count": 12,
   "metadata": {},
   "outputs": [
    {
     "data": {
      "image/png": "[encoded data removed]",
      "text/plain": [
       "<Figure size 432x288 with 1 Axes>"
      ]
     },
     "metadata": {
      "needs_background": "light"
     },
     "output_type": "display_data"
    }
   ],
   "source": [
    "plt.hist(comments,50, density=True, facecolor='g', alpha=0.75)\n",
    "\n",
    "plt.xlabel('comments')\n",
    "plt.ylabel('Probability')\n",
    "plt.show()"
   ]
  },
  {
   "cell_type": "markdown",
   "metadata": {},
   "source": [
    "#### Question 3.6. Please modify the plot to be more informative by setting a cut-off for inclusion (i.e., more than 1,000 comments)."
   ]
  },
  {
   "cell_type": "code",
   "execution_count": 13,
   "metadata": {},
   "outputs": [
    {
     "data": {
      "text/plain": [
       "2534       2\n",
       "2542       3\n",
       "2528       3\n",
       "2501       3\n",
       "2407       5\n",
       "        ... \n",
       "29       970\n",
       "30       991\n",
       "1798     992\n",
       "1632     992\n",
       "1533    1000\n",
       "Name: comments, Length: 2519, dtype: int64"
      ]
     },
     "execution_count": 13,
     "metadata": {},
     "output_type": "execute_result"
    }
   ],
   "source": [
    "sub_comments = comments[comments <= 1000]\n",
    "sub_comments"
   ]
  },
  {
   "cell_type": "code",
   "execution_count": 14,
   "metadata": {},
   "outputs": [
    {
     "data": {
      "image/png": "[encoded data removed]",
      "text/plain": [
       "<Figure size 432x288 with 1 Axes>"
      ]
     },
     "metadata": {
      "needs_background": "light"
     },
     "output_type": "display_data"
    }
   ],
   "source": [
    "plt.hist(sub_comments,50, density=True, facecolor='g', alpha=0.75)\n",
    "\n",
    "plt.xlabel('comments')\n",
    "plt.ylabel('Probability')\n",
    "plt.show()"
   ]
  },
  {
   "cell_type": "markdown",
   "metadata": {},
   "source": [
    ">  Now, before we move on, let's check how many observations we removed from the plot."
   ]
  },
  {
   "cell_type": "code",
   "execution_count": 15,
   "metadata": {},
   "outputs": [
    {
     "data": {
      "text/plain": [
       "32"
      ]
     },
     "execution_count": 15,
     "metadata": {},
     "output_type": "execute_result"
    }
   ],
   "source": [
    "len(comments) - len(sub_comments) + 1"
   ]
  },
  {
   "cell_type": "code",
   "execution_count": 16,
   "metadata": {},
   "outputs": [
    {
     "data": {
      "text/plain": [
       "(32, 19)"
      ]
     },
     "execution_count": 16,
     "metadata": {},
     "output_type": "execute_result"
    }
   ],
   "source": [
    "exercise1[exercise1[\"comments\"] >= 1000].shape"
   ]
  },
  {
   "cell_type": "markdown",
   "metadata": {},
   "source": [
    "### Question 4.1. Here's a question for an expansion of your vocabulary: please obtain the above using the query method.\n",
    "\n",
    "> #### <font color = \"red\"> Please check the following for more details </font> \n",
    "> - `Python Data Science Handbook`\n",
    "    - *Chapter 3*: Data Manipulation with Pandas\n",
    "        - *Section 12*: High-Performance Pandas: `eval()` and `query()` "
   ]
  },
  {
   "cell_type": "code",
   "execution_count": 17,
   "metadata": {},
   "outputs": [
    {
     "data": {
      "text/plain": [
       "1       265\n",
       "2       124\n",
       "3       200\n",
       "4       593\n",
       "5       672\n",
       "       ... \n",
       "2545     17\n",
       "2546      6\n",
       "2547     10\n",
       "2548     32\n",
       "2549      8\n",
       "Name: comments, Length: 2519, dtype: int64"
      ]
     },
     "execution_count": 17,
     "metadata": {},
     "output_type": "execute_result"
    }
   ],
   "source": [
    "second_sub_comments = exercise1.query(\"comments <= 1000\")[\"comments\"]\n",
    "second_sub_comments"
   ]
  },
  {
   "cell_type": "markdown",
   "metadata": {},
   "source": [
    "#### Question 4.2. Here's a question for yet another expansion of your vocabulary: please write this using the `loc` accessor.\n",
    "\n",
    "> #### <font color = \"red\"> Please check the following for more details on the differences between loc and iloc. \n",
    "    \n",
    "> - `** NOTE: You may ignore ix as it has been deprecated**` </font>\n",
    "\n",
    "> - `Python Data Science Handbook`\n",
    "    - *Chapter 3*: Data Manipulation with Pandas\n",
    "        - *Section 2*: Data Indexing and Selection\n",
    "            - *Subsection 3*: Indexers: loc, iloc, and ix"
   ]
  },
  {
   "cell_type": "code",
   "execution_count": 18,
   "metadata": {},
   "outputs": [
    {
     "data": {
      "text/html": [
       "<div>\n",
       "<style scoped>\n",
       "    .dataframe tbody tr th:only-of-type {\n",
       "        vertical-align: middle;\n",
       "    }\n",
       "\n",
       "    .dataframe tbody tr th {\n",
       "        vertical-align: top;\n",
       "    }\n",
       "\n",
       "    .dataframe thead th {\n",
       "        text-align: right;\n",
       "    }\n",
       "</style>\n",
       "<table border=\"1\" class=\"dataframe\">\n",
       "  <thead>\n",
       "    <tr style=\"text-align: right;\">\n",
       "      <th></th>\n",
       "      <th>comments</th>\n",
       "    </tr>\n",
       "  </thead>\n",
       "  <tbody>\n",
       "    <tr>\n",
       "      <th>1</th>\n",
       "      <td>265</td>\n",
       "    </tr>\n",
       "    <tr>\n",
       "      <th>2</th>\n",
       "      <td>124</td>\n",
       "    </tr>\n",
       "    <tr>\n",
       "      <th>3</th>\n",
       "      <td>200</td>\n",
       "    </tr>\n",
       "    <tr>\n",
       "      <th>4</th>\n",
       "      <td>593</td>\n",
       "    </tr>\n",
       "    <tr>\n",
       "      <th>5</th>\n",
       "      <td>672</td>\n",
       "    </tr>\n",
       "    <tr>\n",
       "      <th>...</th>\n",
       "      <td>...</td>\n",
       "    </tr>\n",
       "    <tr>\n",
       "      <th>2545</th>\n",
       "      <td>17</td>\n",
       "    </tr>\n",
       "    <tr>\n",
       "      <th>2546</th>\n",
       "      <td>6</td>\n",
       "    </tr>\n",
       "    <tr>\n",
       "      <th>2547</th>\n",
       "      <td>10</td>\n",
       "    </tr>\n",
       "    <tr>\n",
       "      <th>2548</th>\n",
       "      <td>32</td>\n",
       "    </tr>\n",
       "    <tr>\n",
       "      <th>2549</th>\n",
       "      <td>8</td>\n",
       "    </tr>\n",
       "  </tbody>\n",
       "</table>\n",
       "<p>2519 rows × 1 columns</p>\n",
       "</div>"
      ],
      "text/plain": [
       "      comments\n",
       "1          265\n",
       "2          124\n",
       "3          200\n",
       "4          593\n",
       "5          672\n",
       "...        ...\n",
       "2545        17\n",
       "2546         6\n",
       "2547        10\n",
       "2548        32\n",
       "2549         8\n",
       "\n",
       "[2519 rows x 1 columns]"
      ]
     },
     "execution_count": 18,
     "metadata": {},
     "output_type": "execute_result"
    }
   ],
   "source": [
    "third_sub_comments = exercise1.loc[exercise1[\"comments\"] <= 1000, [\"comments\"]]\n",
    "third_sub_comments"
   ]
  },
  {
   "cell_type": "markdown",
   "metadata": {},
   "source": [
    "> Let's increase the number of bins (intervals) to see more detail."
   ]
  },
  {
   "cell_type": "code",
   "execution_count": 19,
   "metadata": {},
   "outputs": [
    {
     "data": {
      "image/png": "[encoded data removed]",
      "text/plain": [
       "<Figure size 432x288 with 1 Axes>"
      ]
     },
     "metadata": {
      "needs_background": "light"
     },
     "output_type": "display_data"
    }
   ],
   "source": [
    "plt.hist(third_sub_comments,100, density=True, facecolor='g', alpha=0.75)\n",
    "\n",
    "plt.xlabel('comments')\n",
    "plt.ylabel('Probability')\n",
    "plt.show()"
   ]
  },
  {
   "cell_type": "markdown",
   "metadata": {},
   "source": [
    "#### Question 4.3. Please create a boxplot. Boxplot can also show distributions, but it's far less useful for concentrated distributions because of outliers."
   ]
  },
  {
   "cell_type": "code",
   "execution_count": 20,
   "metadata": {},
   "outputs": [
    {
     "data": {
      "image/png": "[encoded data removed]",
      "text/plain": [
       "<Figure size 432x288 with 1 Axes>"
      ]
     },
     "metadata": {
      "needs_background": "light"
     },
     "output_type": "display_data"
    }
   ],
   "source": [
    "plt.boxplot(third_sub_comments, vert = False)\n",
    "\n",
    "plt.show()"
   ]
  },
  {
   "cell_type": "markdown",
   "metadata": {},
   "source": [
    "![](微信图片_20210831213127.png)"
   ]
  },
  {
   "cell_type": "markdown",
   "metadata": {},
   "source": [
    "### <font color = \"blue\"> Let me reiterate learning pointers in an explicit manner so that you can keep this in mind. </font>\n",
    "\n",
    "1. `Choose your plot type` based on the question you are answering and the data type(s) you are working with\n",
    "2. `Use pandas one-liners` to iterate through plots quickly\n",
    "3. `Try modifying the plot defaults`\n",
    "\n",
    "> ***Yes, creating plots involves your decision-making***"
   ]
  },
  {
   "cell_type": "markdown",
   "metadata": {},
   "source": [
    "#### Question 4.4. Please plot the number of talks that took place each year."
   ]
  },
  {
   "cell_type": "markdown",
   "metadata": {},
   "source": [
    "> Let's calculate the average delay between filming and publishing."
   ]
  },
  {
   "cell_type": "code",
   "execution_count": 21,
   "metadata": {
    "scrolled": true
   },
   "outputs": [
    {
     "data": {
      "text/html": [
       "<div>\n",
       "<style scoped>\n",
       "    .dataframe tbody tr th:only-of-type {\n",
       "        vertical-align: middle;\n",
       "    }\n",
       "\n",
       "    .dataframe tbody tr th {\n",
       "        vertical-align: top;\n",
       "    }\n",
       "\n",
       "    .dataframe thead th {\n",
       "        text-align: right;\n",
       "    }\n",
       "</style>\n",
       "<table border=\"1\" class=\"dataframe\">\n",
       "  <thead>\n",
       "    <tr style=\"text-align: right;\">\n",
       "      <th></th>\n",
       "      <th>comments</th>\n",
       "      <th>description</th>\n",
       "      <th>duration</th>\n",
       "      <th>event</th>\n",
       "      <th>film_date</th>\n",
       "      <th>languages</th>\n",
       "      <th>main_speaker</th>\n",
       "      <th>name</th>\n",
       "      <th>num_speaker</th>\n",
       "      <th>published_date</th>\n",
       "      <th>ratings</th>\n",
       "      <th>related_talks</th>\n",
       "      <th>speaker_occupation</th>\n",
       "      <th>tags</th>\n",
       "      <th>title</th>\n",
       "      <th>url</th>\n",
       "      <th>views</th>\n",
       "      <th>comments per view</th>\n",
       "      <th>view per comments</th>\n",
       "    </tr>\n",
       "  </thead>\n",
       "  <tbody>\n",
       "    <tr>\n",
       "      <th>0</th>\n",
       "      <td>4553</td>\n",
       "      <td>Sir Ken Robinson makes an entertaining and pro...</td>\n",
       "      <td>1164</td>\n",
       "      <td>TED2006</td>\n",
       "      <td>1140825600</td>\n",
       "      <td>60</td>\n",
       "      <td>Ken Robinson</td>\n",
       "      <td>Ken Robinson: Do schools kill creativity?</td>\n",
       "      <td>1</td>\n",
       "      <td>1151367060</td>\n",
       "      <td>[{'id': 7, 'name': 'Funny', 'count': 19645}, {...</td>\n",
       "      <td>[{'id': 865, 'hero': 'https://pe.tedcdn.com/im...</td>\n",
       "      <td>Author/educator</td>\n",
       "      <td>['children', 'creativity', 'culture', 'dance',...</td>\n",
       "      <td>Do schools kill creativity?</td>\n",
       "      <td>https://www.ted.com/talks/ken_robinson_says_sc...</td>\n",
       "      <td>47227110</td>\n",
       "      <td>0.000096</td>\n",
       "      <td>10372.745443</td>\n",
       "    </tr>\n",
       "  </tbody>\n",
       "</table>\n",
       "</div>"
      ],
      "text/plain": [
       "   comments                                        description  duration  \\\n",
       "0      4553  Sir Ken Robinson makes an entertaining and pro...      1164   \n",
       "\n",
       "     event   film_date  languages  main_speaker  \\\n",
       "0  TED2006  1140825600         60  Ken Robinson   \n",
       "\n",
       "                                        name  num_speaker  published_date  \\\n",
       "0  Ken Robinson: Do schools kill creativity?            1      1151367060   \n",
       "\n",
       "                                             ratings  \\\n",
       "0  [{'id': 7, 'name': 'Funny', 'count': 19645}, {...   \n",
       "\n",
       "                                       related_talks speaker_occupation  \\\n",
       "0  [{'id': 865, 'hero': 'https://pe.tedcdn.com/im...    Author/educator   \n",
       "\n",
       "                                                tags  \\\n",
       "0  ['children', 'creativity', 'culture', 'dance',...   \n",
       "\n",
       "                         title  \\\n",
       "0  Do schools kill creativity?   \n",
       "\n",
       "                                                 url     views  \\\n",
       "0  https://www.ted.com/talks/ken_robinson_says_sc...  47227110   \n",
       "\n",
       "   comments per view  view per comments  \n",
       "0           0.000096       10372.745443  "
      ]
     },
     "execution_count": 21,
     "metadata": {},
     "output_type": "execute_result"
    }
   ],
   "source": [
    "import datetime as dt\n",
    "exercise1.head(1)"
   ]
  },
  {
   "cell_type": "code",
   "execution_count": 24,
   "metadata": {},
   "outputs": [],
   "source": [
    "exercise1[\"film_date\"] = pd.to_datetime(exercise1[\"film_date\"], unit = \"s\")"
   ]
  },
  {
   "cell_type": "code",
   "execution_count": 25,
   "metadata": {
    "scrolled": true
   },
   "outputs": [
    {
     "data": {
      "text/html": [
       "<div>\n",
       "<style scoped>\n",
       "    .dataframe tbody tr th:only-of-type {\n",
       "        vertical-align: middle;\n",
       "    }\n",
       "\n",
       "    .dataframe tbody tr th {\n",
       "        vertical-align: top;\n",
       "    }\n",
       "\n",
       "    .dataframe thead th {\n",
       "        text-align: right;\n",
       "    }\n",
       "</style>\n",
       "<table border=\"1\" class=\"dataframe\">\n",
       "  <thead>\n",
       "    <tr style=\"text-align: right;\">\n",
       "      <th></th>\n",
       "      <th>comments</th>\n",
       "      <th>description</th>\n",
       "      <th>duration</th>\n",
       "      <th>event</th>\n",
       "      <th>film_date</th>\n",
       "      <th>languages</th>\n",
       "      <th>main_speaker</th>\n",
       "      <th>name</th>\n",
       "      <th>num_speaker</th>\n",
       "      <th>published_date</th>\n",
       "      <th>ratings</th>\n",
       "      <th>related_talks</th>\n",
       "      <th>speaker_occupation</th>\n",
       "      <th>tags</th>\n",
       "      <th>title</th>\n",
       "      <th>url</th>\n",
       "      <th>views</th>\n",
       "      <th>comments per view</th>\n",
       "      <th>view per comments</th>\n",
       "    </tr>\n",
       "  </thead>\n",
       "  <tbody>\n",
       "    <tr>\n",
       "      <th>2545</th>\n",
       "      <td>17</td>\n",
       "      <td>Between 2008 and 2016, the United States depor...</td>\n",
       "      <td>476</td>\n",
       "      <td>TED2017</td>\n",
       "      <td>2017-06-06</td>\n",
       "      <td>4</td>\n",
       "      <td>Duarte Geraldino</td>\n",
       "      <td>Duarte Geraldino: What we're missing in the de...</td>\n",
       "      <td>1</td>\n",
       "      <td>2017-09-19 20:00:16</td>\n",
       "      <td>[{'id': 3, 'name': 'Courageous', 'count': 24},...</td>\n",
       "      <td>[{'id': 2596, 'hero': 'https://pe.tedcdn.com/i...</td>\n",
       "      <td>Journalist</td>\n",
       "      <td>['TED Residency', 'United States', 'community'...</td>\n",
       "      <td>What we're missing in the debate about immigra...</td>\n",
       "      <td>https://www.ted.com/talks/duarte_geraldino_wha...</td>\n",
       "      <td>450430</td>\n",
       "      <td>0.000038</td>\n",
       "      <td>26495.882353</td>\n",
       "    </tr>\n",
       "    <tr>\n",
       "      <th>2546</th>\n",
       "      <td>6</td>\n",
       "      <td>How can you study Mars without a spaceship? He...</td>\n",
       "      <td>290</td>\n",
       "      <td>TED2017</td>\n",
       "      <td>2017-04-24</td>\n",
       "      <td>3</td>\n",
       "      <td>Armando Azua-Bustos</td>\n",
       "      <td>Armando Azua-Bustos: The most Martian place on...</td>\n",
       "      <td>1</td>\n",
       "      <td>2017-09-20 15:02:17</td>\n",
       "      <td>[{'id': 22, 'name': 'Fascinating', 'count': 32...</td>\n",
       "      <td>[{'id': 2491, 'hero': 'https://pe.tedcdn.com/i...</td>\n",
       "      <td>Astrobiologist</td>\n",
       "      <td>['Mars', 'South America', 'TED Fellows', 'astr...</td>\n",
       "      <td>The most Martian place on Earth</td>\n",
       "      <td>https://www.ted.com/talks/armando_azua_bustos_...</td>\n",
       "      <td>417470</td>\n",
       "      <td>0.000014</td>\n",
       "      <td>69578.333333</td>\n",
       "    </tr>\n",
       "    <tr>\n",
       "      <th>2547</th>\n",
       "      <td>10</td>\n",
       "      <td>Science fiction visions of the future show us ...</td>\n",
       "      <td>651</td>\n",
       "      <td>TED2017</td>\n",
       "      <td>2017-04-24</td>\n",
       "      <td>1</td>\n",
       "      <td>Radhika Nagpal</td>\n",
       "      <td>Radhika Nagpal: What intelligent machines can ...</td>\n",
       "      <td>1</td>\n",
       "      <td>2017-09-21 15:01:35</td>\n",
       "      <td>[{'id': 1, 'name': 'Beautiful', 'count': 14}, ...</td>\n",
       "      <td>[{'id': 2346, 'hero': 'https://pe.tedcdn.com/i...</td>\n",
       "      <td>Robotics engineer</td>\n",
       "      <td>['AI', 'ants', 'fish', 'future', 'innovation',...</td>\n",
       "      <td>What intelligent machines can learn from a sch...</td>\n",
       "      <td>https://www.ted.com/talks/radhika_nagpal_what_...</td>\n",
       "      <td>375647</td>\n",
       "      <td>0.000027</td>\n",
       "      <td>37564.700000</td>\n",
       "    </tr>\n",
       "    <tr>\n",
       "      <th>2548</th>\n",
       "      <td>32</td>\n",
       "      <td>In an unmissable talk about race and politics ...</td>\n",
       "      <td>1100</td>\n",
       "      <td>TEDxMileHigh</td>\n",
       "      <td>2017-07-08</td>\n",
       "      <td>1</td>\n",
       "      <td>Theo E.J. Wilson</td>\n",
       "      <td>Theo E.J. Wilson: A black man goes undercover ...</td>\n",
       "      <td>1</td>\n",
       "      <td>2017-09-21 20:00:42</td>\n",
       "      <td>[{'id': 11, 'name': 'Longwinded', 'count': 3},...</td>\n",
       "      <td>[{'id': 2512, 'hero': 'https://pe.tedcdn.com/i...</td>\n",
       "      <td>Public intellectual</td>\n",
       "      <td>['Internet', 'TEDx', 'United States', 'communi...</td>\n",
       "      <td>A black man goes undercover in the alt-right</td>\n",
       "      <td>https://www.ted.com/talks/theo_e_j_wilson_a_bl...</td>\n",
       "      <td>419309</td>\n",
       "      <td>0.000076</td>\n",
       "      <td>13103.406250</td>\n",
       "    </tr>\n",
       "    <tr>\n",
       "      <th>2549</th>\n",
       "      <td>8</td>\n",
       "      <td>With more than half of the world population li...</td>\n",
       "      <td>519</td>\n",
       "      <td>TED2017</td>\n",
       "      <td>2017-04-24</td>\n",
       "      <td>1</td>\n",
       "      <td>Karoliina Korppoo</td>\n",
       "      <td>Karoliina Korppoo: How a video game might help...</td>\n",
       "      <td>1</td>\n",
       "      <td>2017-09-22 15:00:22</td>\n",
       "      <td>[{'id': 21, 'name': 'Unconvincing', 'count': 2...</td>\n",
       "      <td>[{'id': 2682, 'hero': 'https://pe.tedcdn.com/i...</td>\n",
       "      <td>Game designer</td>\n",
       "      <td>['cities', 'design', 'future', 'infrastructure...</td>\n",
       "      <td>How a video game might help us build better ci...</td>\n",
       "      <td>https://www.ted.com/talks/karoliina_korppoo_ho...</td>\n",
       "      <td>391721</td>\n",
       "      <td>0.000020</td>\n",
       "      <td>48965.125000</td>\n",
       "    </tr>\n",
       "  </tbody>\n",
       "</table>\n",
       "</div>"
      ],
      "text/plain": [
       "      comments                                        description  duration  \\\n",
       "2545        17  Between 2008 and 2016, the United States depor...       476   \n",
       "2546         6  How can you study Mars without a spaceship? He...       290   \n",
       "2547        10  Science fiction visions of the future show us ...       651   \n",
       "2548        32  In an unmissable talk about race and politics ...      1100   \n",
       "2549         8  With more than half of the world population li...       519   \n",
       "\n",
       "             event  film_date  languages         main_speaker  \\\n",
       "2545       TED2017 2017-06-06          4     Duarte Geraldino   \n",
       "2546       TED2017 2017-04-24          3  Armando Azua-Bustos   \n",
       "2547       TED2017 2017-04-24          1       Radhika Nagpal   \n",
       "2548  TEDxMileHigh 2017-07-08          1     Theo E.J. Wilson   \n",
       "2549       TED2017 2017-04-24          1    Karoliina Korppoo   \n",
       "\n",
       "                                                   name  num_speaker  \\\n",
       "2545  Duarte Geraldino: What we're missing in the de...            1   \n",
       "2546  Armando Azua-Bustos: The most Martian place on...            1   \n",
       "2547  Radhika Nagpal: What intelligent machines can ...            1   \n",
       "2548  Theo E.J. Wilson: A black man goes undercover ...            1   \n",
       "2549  Karoliina Korppoo: How a video game might help...            1   \n",
       "\n",
       "          published_date                                            ratings  \\\n",
       "2545 2017-09-19 20:00:16  [{'id': 3, 'name': 'Courageous', 'count': 24},...   \n",
       "2546 2017-09-20 15:02:17  [{'id': 22, 'name': 'Fascinating', 'count': 32...   \n",
       "2547 2017-09-21 15:01:35  [{'id': 1, 'name': 'Beautiful', 'count': 14}, ...   \n",
       "2548 2017-09-21 20:00:42  [{'id': 11, 'name': 'Longwinded', 'count': 3},...   \n",
       "2549 2017-09-22 15:00:22  [{'id': 21, 'name': 'Unconvincing', 'count': 2...   \n",
       "\n",
       "                                          related_talks   speaker_occupation  \\\n",
       "2545  [{'id': 2596, 'hero': 'https://pe.tedcdn.com/i...           Journalist   \n",
       "2546  [{'id': 2491, 'hero': 'https://pe.tedcdn.com/i...       Astrobiologist   \n",
       "2547  [{'id': 2346, 'hero': 'https://pe.tedcdn.com/i...    Robotics engineer   \n",
       "2548  [{'id': 2512, 'hero': 'https://pe.tedcdn.com/i...  Public intellectual   \n",
       "2549  [{'id': 2682, 'hero': 'https://pe.tedcdn.com/i...        Game designer   \n",
       "\n",
       "                                                   tags  \\\n",
       "2545  ['TED Residency', 'United States', 'community'...   \n",
       "2546  ['Mars', 'South America', 'TED Fellows', 'astr...   \n",
       "2547  ['AI', 'ants', 'fish', 'future', 'innovation',...   \n",
       "2548  ['Internet', 'TEDx', 'United States', 'communi...   \n",
       "2549  ['cities', 'design', 'future', 'infrastructure...   \n",
       "\n",
       "                                                  title  \\\n",
       "2545  What we're missing in the debate about immigra...   \n",
       "2546                    The most Martian place on Earth   \n",
       "2547  What intelligent machines can learn from a sch...   \n",
       "2548       A black man goes undercover in the alt-right   \n",
       "2549  How a video game might help us build better ci...   \n",
       "\n",
       "                                                    url   views  \\\n",
       "2545  https://www.ted.com/talks/duarte_geraldino_wha...  450430   \n",
       "2546  https://www.ted.com/talks/armando_azua_bustos_...  417470   \n",
       "2547  https://www.ted.com/talks/radhika_nagpal_what_...  375647   \n",
       "2548  https://www.ted.com/talks/theo_e_j_wilson_a_bl...  419309   \n",
       "2549  https://www.ted.com/talks/karoliina_korppoo_ho...  391721   \n",
       "\n",
       "      comments per view  view per comments  \n",
       "2545           0.000038       26495.882353  \n",
       "2546           0.000014       69578.333333  \n",
       "2547           0.000027       37564.700000  \n",
       "2548           0.000076       13103.406250  \n",
       "2549           0.000020       48965.125000  "
      ]
     },
     "execution_count": 25,
     "metadata": {},
     "output_type": "execute_result"
    }
   ],
   "source": [
    "exercise1[\"published_date\"] = pd.to_datetime(exercise1[\"published_date\"], unit = \"s\")\n",
    "exercise1.tail()"
   ]
  },
  {
   "cell_type": "code",
   "execution_count": 26,
   "metadata": {
    "scrolled": true
   },
   "outputs": [
    {
     "data": {
      "text/plain": [
       "249.45960784313726"
      ]
     },
     "execution_count": 26,
     "metadata": {},
     "output_type": "execute_result"
    }
   ],
   "source": [
    "delay = (exercise1[\"published_date\"]-exercise1[\"film_date\"]).dt.days\n",
    "\n",
    "delay.mean()"
   ]
  },
  {
   "cell_type": "markdown",
   "metadata": {},
   "source": [
    "> Okay. `event` column does not always include the year"
   ]
  },
  {
   "cell_type": "markdown",
   "metadata": {},
   "source": [
    "> Note that `film_date` denotes `Unix timestamp of the filming`. Have a look at it :)"
   ]
  },
  {
   "cell_type": "markdown",
   "metadata": {},
   "source": [
    "> Results don't look right...\n",
    "\n",
    "> What would you do? You may use `to_datetime()`"
   ]
  },
  {
   "cell_type": "markdown",
   "metadata": {},
   "source": [
    "> Still, it does NOT look fine..."
   ]
  },
  {
   "cell_type": "markdown",
   "metadata": {},
   "source": [
    "### <font color = \"red\"> For your information, [pandas documentation for `to_datetime`](https://pandas.pydata.org/pandas-docs/stable/reference/api/pandas.to_datetime.html) </font>"
   ]
  },
  {
   "cell_type": "markdown",
   "metadata": {},
   "source": [
    "> #### <font color = \"blue\"> Please use argument `unit` and set it at `\"s\"` </font>"
   ]
  },
  {
   "cell_type": "code",
   "execution_count": 30,
   "metadata": {},
   "outputs": [],
   "source": [
    "exercise1[\"film_datetime\"] = pd.to_datetime(exercise1[\"film_date\"], unit = \"s\")"
   ]
  },
  {
   "cell_type": "markdown",
   "metadata": {
    "scrolled": false
   },
   "source": [
    "> You might want to check that event name matches film_datetime for a random sample: use, `sample()`"
   ]
  },
  {
   "cell_type": "code",
   "execution_count": 31,
   "metadata": {
    "scrolled": false
   },
   "outputs": [
    {
     "data": {
      "text/html": [
       "<div>\n",
       "<style scoped>\n",
       "    .dataframe tbody tr th:only-of-type {\n",
       "        vertical-align: middle;\n",
       "    }\n",
       "\n",
       "    .dataframe tbody tr th {\n",
       "        vertical-align: top;\n",
       "    }\n",
       "\n",
       "    .dataframe thead th {\n",
       "        text-align: right;\n",
       "    }\n",
       "</style>\n",
       "<table border=\"1\" class=\"dataframe\">\n",
       "  <thead>\n",
       "    <tr style=\"text-align: right;\">\n",
       "      <th></th>\n",
       "      <th>comments</th>\n",
       "      <th>description</th>\n",
       "      <th>duration</th>\n",
       "      <th>event</th>\n",
       "      <th>film_date</th>\n",
       "      <th>languages</th>\n",
       "      <th>main_speaker</th>\n",
       "      <th>name</th>\n",
       "      <th>num_speaker</th>\n",
       "      <th>published_date</th>\n",
       "      <th>ratings</th>\n",
       "      <th>related_talks</th>\n",
       "      <th>speaker_occupation</th>\n",
       "      <th>tags</th>\n",
       "      <th>title</th>\n",
       "      <th>url</th>\n",
       "      <th>views</th>\n",
       "      <th>comments per view</th>\n",
       "      <th>view per comments</th>\n",
       "      <th>film_datetime</th>\n",
       "    </tr>\n",
       "  </thead>\n",
       "  <tbody>\n",
       "    <tr>\n",
       "      <th>2133</th>\n",
       "      <td>38</td>\n",
       "      <td>How much do you know about intellectual disabi...</td>\n",
       "      <td>852</td>\n",
       "      <td>TEDxVancouver</td>\n",
       "      <td>2015-11-14</td>\n",
       "      <td>24</td>\n",
       "      <td>Matthew Williams</td>\n",
       "      <td>Matthew Williams: Special Olympics let me be m...</td>\n",
       "      <td>1</td>\n",
       "      <td>2016-02-05 15:53:55</td>\n",
       "      <td>[{'id': 3, 'name': 'Courageous', 'count': 281}...</td>\n",
       "      <td>[{'id': 769, 'hero': 'https://pe.tedcdn.com/im...</td>\n",
       "      <td>Special Olympics International Sargent Shriver...</td>\n",
       "      <td>['TEDx', 'bullying', 'community', 'disability'...</td>\n",
       "      <td>Special Olympics let me be myself -- a champion</td>\n",
       "      <td>https://www.ted.com/talks/matthew_williams_spe...</td>\n",
       "      <td>1074684</td>\n",
       "      <td>0.000035</td>\n",
       "      <td>28281.157895</td>\n",
       "      <td>2015-11-14</td>\n",
       "    </tr>\n",
       "    <tr>\n",
       "      <th>855</th>\n",
       "      <td>98</td>\n",
       "      <td>Your medical chart: it's hard to access, impos...</td>\n",
       "      <td>993</td>\n",
       "      <td>TEDMED 2010</td>\n",
       "      <td>2010-10-10</td>\n",
       "      <td>27</td>\n",
       "      <td>Thomas Goetz</td>\n",
       "      <td>Thomas Goetz: It's time to redesign medical data</td>\n",
       "      <td>1</td>\n",
       "      <td>2011-01-25 15:58:07</td>\n",
       "      <td>[{'id': 8, 'name': 'Informative', 'count': 392...</td>\n",
       "      <td>[{'id': 966, 'hero': 'https://pe.tedcdn.com/im...</td>\n",
       "      <td>Healthcare communicator</td>\n",
       "      <td>['business', 'design', 'health', 'medicine', '...</td>\n",
       "      <td>It's time to redesign medical data</td>\n",
       "      <td>https://www.ted.com/talks/thomas_goetz_it_s_ti...</td>\n",
       "      <td>497626</td>\n",
       "      <td>0.000197</td>\n",
       "      <td>5077.816327</td>\n",
       "      <td>2010-10-10</td>\n",
       "    </tr>\n",
       "    <tr>\n",
       "      <th>2263</th>\n",
       "      <td>11</td>\n",
       "      <td>With warmth and respect, Gonzalo Vilariño tell...</td>\n",
       "      <td>859</td>\n",
       "      <td>TEDxRiodelaPlata</td>\n",
       "      <td>2015-09-24</td>\n",
       "      <td>18</td>\n",
       "      <td>Gonzalo Vilariño</td>\n",
       "      <td>Gonzalo Vilariño: How Argentina's blind soccer...</td>\n",
       "      <td>1</td>\n",
       "      <td>2016-08-19 14:14:35</td>\n",
       "      <td>[{'id': 1, 'name': 'Beautiful', 'count': 129},...</td>\n",
       "      <td>[{'id': 2186, 'hero': 'https://pe.tedcdn.com/i...</td>\n",
       "      <td>Lawyer, coach</td>\n",
       "      <td>['Blindness', 'TED en Español', 'TEDx', 'colla...</td>\n",
       "      <td>How Argentina's blind soccer team became champ...</td>\n",
       "      <td>https://www.ted.com/talks/gonzalo_vilarino_how...</td>\n",
       "      <td>443773</td>\n",
       "      <td>0.000025</td>\n",
       "      <td>40343.000000</td>\n",
       "      <td>2015-09-24</td>\n",
       "    </tr>\n",
       "    <tr>\n",
       "      <th>2108</th>\n",
       "      <td>44</td>\n",
       "      <td>For sculptor Jason deCaires Taylor, the ocean ...</td>\n",
       "      <td>669</td>\n",
       "      <td>Mission Blue II</td>\n",
       "      <td>2015-10-10</td>\n",
       "      <td>30</td>\n",
       "      <td>Jason deCaires Taylor</td>\n",
       "      <td>Jason deCaires Taylor: An underwater art museu...</td>\n",
       "      <td>1</td>\n",
       "      <td>2015-12-22 16:33:01</td>\n",
       "      <td>[{'id': 1, 'name': 'Beautiful', 'count': 492},...</td>\n",
       "      <td>[{'id': 2160, 'hero': 'https://pe.tedcdn.com/i...</td>\n",
       "      <td>Sculptor</td>\n",
       "      <td>['art', 'creativity', 'design', 'ecology', 'en...</td>\n",
       "      <td>An underwater art museum, teeming with life</td>\n",
       "      <td>https://www.ted.com/talks/jason_decaires_taylo...</td>\n",
       "      <td>1446673</td>\n",
       "      <td>0.000030</td>\n",
       "      <td>32878.931818</td>\n",
       "      <td>2015-10-10</td>\n",
       "    </tr>\n",
       "  </tbody>\n",
       "</table>\n",
       "</div>"
      ],
      "text/plain": [
       "      comments                                        description  duration  \\\n",
       "2133        38  How much do you know about intellectual disabi...       852   \n",
       "855         98  Your medical chart: it's hard to access, impos...       993   \n",
       "2263        11  With warmth and respect, Gonzalo Vilariño tell...       859   \n",
       "2108        44  For sculptor Jason deCaires Taylor, the ocean ...       669   \n",
       "\n",
       "                 event  film_date  languages           main_speaker  \\\n",
       "2133     TEDxVancouver 2015-11-14         24       Matthew Williams   \n",
       "855        TEDMED 2010 2010-10-10         27           Thomas Goetz   \n",
       "2263  TEDxRiodelaPlata 2015-09-24         18       Gonzalo Vilariño   \n",
       "2108   Mission Blue II 2015-10-10         30  Jason deCaires Taylor   \n",
       "\n",
       "                                                   name  num_speaker  \\\n",
       "2133  Matthew Williams: Special Olympics let me be m...            1   \n",
       "855    Thomas Goetz: It's time to redesign medical data            1   \n",
       "2263  Gonzalo Vilariño: How Argentina's blind soccer...            1   \n",
       "2108  Jason deCaires Taylor: An underwater art museu...            1   \n",
       "\n",
       "          published_date                                            ratings  \\\n",
       "2133 2016-02-05 15:53:55  [{'id': 3, 'name': 'Courageous', 'count': 281}...   \n",
       "855  2011-01-25 15:58:07  [{'id': 8, 'name': 'Informative', 'count': 392...   \n",
       "2263 2016-08-19 14:14:35  [{'id': 1, 'name': 'Beautiful', 'count': 129},...   \n",
       "2108 2015-12-22 16:33:01  [{'id': 1, 'name': 'Beautiful', 'count': 492},...   \n",
       "\n",
       "                                          related_talks  \\\n",
       "2133  [{'id': 769, 'hero': 'https://pe.tedcdn.com/im...   \n",
       "855   [{'id': 966, 'hero': 'https://pe.tedcdn.com/im...   \n",
       "2263  [{'id': 2186, 'hero': 'https://pe.tedcdn.com/i...   \n",
       "2108  [{'id': 2160, 'hero': 'https://pe.tedcdn.com/i...   \n",
       "\n",
       "                                     speaker_occupation  \\\n",
       "2133  Special Olympics International Sargent Shriver...   \n",
       "855                             Healthcare communicator   \n",
       "2263                                      Lawyer, coach   \n",
       "2108                                           Sculptor   \n",
       "\n",
       "                                                   tags  \\\n",
       "2133  ['TEDx', 'bullying', 'community', 'disability'...   \n",
       "855   ['business', 'design', 'health', 'medicine', '...   \n",
       "2263  ['Blindness', 'TED en Español', 'TEDx', 'colla...   \n",
       "2108  ['art', 'creativity', 'design', 'ecology', 'en...   \n",
       "\n",
       "                                                  title  \\\n",
       "2133    Special Olympics let me be myself -- a champion   \n",
       "855                  It's time to redesign medical data   \n",
       "2263  How Argentina's blind soccer team became champ...   \n",
       "2108        An underwater art museum, teeming with life   \n",
       "\n",
       "                                                    url    views  \\\n",
       "2133  https://www.ted.com/talks/matthew_williams_spe...  1074684   \n",
       "855   https://www.ted.com/talks/thomas_goetz_it_s_ti...   497626   \n",
       "2263  https://www.ted.com/talks/gonzalo_vilarino_how...   443773   \n",
       "2108  https://www.ted.com/talks/jason_decaires_taylo...  1446673   \n",
       "\n",
       "      comments per view  view per comments film_datetime  \n",
       "2133           0.000035       28281.157895    2015-11-14  \n",
       "855            0.000197        5077.816327    2010-10-10  \n",
       "2263           0.000025       40343.000000    2015-09-24  \n",
       "2108           0.000030       32878.931818    2015-10-10  "
      ]
     },
     "execution_count": 31,
     "metadata": {},
     "output_type": "execute_result"
    }
   ],
   "source": [
    "exercise1.sample(n = 4)"
   ]
  },
  {
   "cell_type": "markdown",
   "metadata": {},
   "source": [
    "> New column uses the datetime data type (this was an automatic conversion)"
   ]
  },
  {
   "cell_type": "markdown",
   "metadata": {},
   "source": [
    "##### `datetime` columns have convenient attributes under the `dt` namespace"
   ]
  },
  {
   "cell_type": "code",
   "execution_count": 32,
   "metadata": {},
   "outputs": [
    {
     "data": {
      "text/plain": [
       "0    2006\n",
       "1    2006\n",
       "2    2006\n",
       "3    2006\n",
       "4    2006\n",
       "Name: film_datetime, dtype: int64"
      ]
     },
     "execution_count": 32,
     "metadata": {},
     "output_type": "execute_result"
    }
   ],
   "source": [
    "exercise1.film_datetime.dt.year.head()"
   ]
  },
  {
   "cell_type": "markdown",
   "metadata": {},
   "source": [
    "> This is similar to string methods under the `str` namespace"
   ]
  },
  {
   "cell_type": "code",
   "execution_count": 33,
   "metadata": {},
   "outputs": [
    {
     "data": {
      "text/plain": [
       "0            ted2006\n",
       "1            ted2006\n",
       "2            ted2006\n",
       "3            ted2006\n",
       "4            ted2006\n",
       "            ...     \n",
       "2545         ted2017\n",
       "2546         ted2017\n",
       "2547         ted2017\n",
       "2548    tedxmilehigh\n",
       "2549         ted2017\n",
       "Name: event, Length: 2550, dtype: object"
      ]
     },
     "execution_count": 33,
     "metadata": {},
     "output_type": "execute_result"
    }
   ],
   "source": [
    "exercise1.event.str.lower()"
   ]
  },
  {
   "cell_type": "markdown",
   "metadata": {},
   "source": [
    "> Let's count the number of talks each year using value_counts()"
   ]
  },
  {
   "cell_type": "code",
   "execution_count": 35,
   "metadata": {},
   "outputs": [
    {
     "data": {
      "text/plain": [
       "2013    270\n",
       "2011    270\n",
       "2010    267\n",
       "2012    267\n",
       "2016    246\n",
       "2015    239\n",
       "2014    237\n",
       "2009    232\n",
       "2007    114\n",
       "2017     98\n",
       "2008     84\n",
       "2005     66\n",
       "2006     50\n",
       "2003     33\n",
       "2004     33\n",
       "2002     27\n",
       "1998      6\n",
       "2001      5\n",
       "1984      1\n",
       "1983      1\n",
       "1991      1\n",
       "1994      1\n",
       "1990      1\n",
       "1972      1\n",
       "Name: film_date, dtype: int64"
      ]
     },
     "execution_count": 35,
     "metadata": {},
     "output_type": "execute_result"
    }
   ],
   "source": [
    "count_talk = exercise1[\"film_date\"].dt.year.value_counts()\n",
    "count_talk"
   ]
  },
  {
   "cell_type": "markdown",
   "metadata": {},
   "source": [
    "##### Let's visualize."
   ]
  },
  {
   "cell_type": "code",
   "execution_count": 36,
   "metadata": {},
   "outputs": [
    {
     "data": {
      "text/plain": [
       "[<matplotlib.lines.Line2D at 0x20ee238bca0>]"
      ]
     },
     "execution_count": 36,
     "metadata": {},
     "output_type": "execute_result"
    },
    {
     "data": {
      "image/png": "[encoded data removed]",
      "text/plain": [
       "<Figure size 432x288 with 1 Axes>"
      ]
     },
     "metadata": {
      "needs_background": "light"
     },
     "output_type": "display_data"
    }
   ],
   "source": [
    "plt.plot(count_talk)"
   ]
  },
  {
   "cell_type": "markdown",
   "metadata": {},
   "source": [
    "> points are plotted and connected in the order you give them to pandas"
   ]
  },
  {
   "cell_type": "markdown",
   "metadata": {},
   "source": [
    "#### Question 4.5. Please sort the index before plotting"
   ]
  },
  {
   "cell_type": "code",
   "execution_count": 37,
   "metadata": {},
   "outputs": [
    {
     "data": {
      "text/plain": [
       "[<matplotlib.lines.Line2D at 0x20ee23d0e80>]"
      ]
     },
     "execution_count": 37,
     "metadata": {},
     "output_type": "execute_result"
    },
    {
     "data": {
      "image/png": "[encoded data removed]",
      "text/plain": [
       "<Figure size 432x288 with 1 Axes>"
      ]
     },
     "metadata": {
      "needs_background": "light"
     },
     "output_type": "display_data"
    }
   ],
   "source": [
    "count_talk = exercise1[\"film_date\"].dt.year.value_counts().sort_index()\n",
    "plt.plot(count_talk)"
   ]
  },
  {
   "cell_type": "markdown",
   "metadata": {},
   "source": [
    "> Check your data to understand more about what this means :)"
   ]
  },
  {
   "cell_type": "code",
   "execution_count": 38,
   "metadata": {
    "scrolled": true
   },
   "outputs": [
    {
     "data": {
      "text/plain": [
       "Timestamp('2017-08-27 00:00:00')"
      ]
     },
     "execution_count": 38,
     "metadata": {},
     "output_type": "execute_result"
    }
   ],
   "source": [
    "exercise1.film_datetime.max()"
   ]
  },
  {
   "cell_type": "markdown",
   "metadata": {
    "scrolled": true
   },
   "source": [
    "> Do note that we only have partial data for 2017"
   ]
  },
  {
   "cell_type": "markdown",
   "metadata": {},
   "source": [
    "Before we move forward, please consider the following:\n",
    "\n",
    "- Read the documentation of your dataset\n",
    "- Use the datetime data type for dates and times\n",
    "- Check your work as you proceed\n",
    "- Exclude data if it might not be relevant to your focal point of analysis"
   ]
  },
  {
   "cell_type": "markdown",
   "metadata": {},
   "source": [
    "### Question 5.1. What were the \"best\" events in TED talks' history to attend? Let's count the number of talks (great if you value variety, but they may not be great talks)"
   ]
  },
  {
   "cell_type": "code",
   "execution_count": 39,
   "metadata": {},
   "outputs": [
    {
     "data": {
      "text/plain": [
       "TED2014                   84\n",
       "TED2009                   83\n",
       "TED2016                   77\n",
       "TED2013                   77\n",
       "TED2015                   75\n",
       "                          ..\n",
       "TEDxVirginiaTech           1\n",
       "TEDSalon London 2009       1\n",
       "TEDxLinnaeusUniversity     1\n",
       "TEDxCannes                 1\n",
       "TEDxPittsburgh             1\n",
       "Name: event, Length: 355, dtype: int64"
      ]
     },
     "execution_count": 39,
     "metadata": {},
     "output_type": "execute_result"
    }
   ],
   "source": [
    "exercise1[\"event\"].value_counts()"
   ]
  },
  {
   "cell_type": "markdown",
   "metadata": {},
   "source": [
    "#### Question 5.2. Let's use `views` as a proxy for `quality of talk`"
   ]
  },
  {
   "cell_type": "code",
   "execution_count": 40,
   "metadata": {},
   "outputs": [
    {
     "data": {
      "text/plain": [
       "0       47227110\n",
       "1        3200520\n",
       "2        1636292\n",
       "3        1697550\n",
       "4       12005869\n",
       "          ...   \n",
       "2545      450430\n",
       "2546      417470\n",
       "2547      375647\n",
       "2548      419309\n",
       "2549      391721\n",
       "Name: views, Length: 2550, dtype: int64"
      ]
     },
     "execution_count": 40,
     "metadata": {},
     "output_type": "execute_result"
    }
   ],
   "source": [
    "exercise1[\"views\"]"
   ]
  },
  {
   "cell_type": "markdown",
   "metadata": {},
   "source": [
    "#### Question 5.3. Let's find the largest values, but we don't know how many talks are being averaged"
   ]
  },
  {
   "cell_type": "code",
   "execution_count": 41,
   "metadata": {},
   "outputs": [
    {
     "data": {
      "text/plain": [
       "event\n",
       "The Do Lectures             112321.0\n",
       "TEDxIslay                   120274.0\n",
       "TEDxWaterloo                138812.0\n",
       "AORN Congress               149818.0\n",
       "TEDxNASA@SiliconValley      155895.0\n",
       "                             ...    \n",
       "TEDxNorrkoping             6569493.0\n",
       "TEDxCreativeCoast          8444981.0\n",
       "TEDxBloomington            9484259.5\n",
       "TEDxHouston               16140250.5\n",
       "TEDxPuget Sound           34309432.0\n",
       "Name: views, Length: 355, dtype: float64"
      ]
     },
     "execution_count": 41,
     "metadata": {},
     "output_type": "execute_result"
    }
   ],
   "source": [
    "exercise1.groupby(\"event\")[\"views\"].mean().sort_values()"
   ]
  },
  {
   "cell_type": "markdown",
   "metadata": {},
   "source": [
    "#### Question 5.4. Let's show the number of talks along with the mean (events with the highest means had only 1 or 2 talks)"
   ]
  },
  {
   "cell_type": "code",
   "execution_count": 42,
   "metadata": {},
   "outputs": [
    {
     "data": {
      "text/html": [
       "<div>\n",
       "<style scoped>\n",
       "    .dataframe tbody tr th:only-of-type {\n",
       "        vertical-align: middle;\n",
       "    }\n",
       "\n",
       "    .dataframe tbody tr th {\n",
       "        vertical-align: top;\n",
       "    }\n",
       "\n",
       "    .dataframe thead th {\n",
       "        text-align: right;\n",
       "    }\n",
       "</style>\n",
       "<table border=\"1\" class=\"dataframe\">\n",
       "  <thead>\n",
       "    <tr style=\"text-align: right;\">\n",
       "      <th></th>\n",
       "      <th>count</th>\n",
       "      <th>mean</th>\n",
       "    </tr>\n",
       "    <tr>\n",
       "      <th>event</th>\n",
       "      <th></th>\n",
       "      <th></th>\n",
       "    </tr>\n",
       "  </thead>\n",
       "  <tbody>\n",
       "    <tr>\n",
       "      <th>The Do Lectures</th>\n",
       "      <td>1</td>\n",
       "      <td>112321.0</td>\n",
       "    </tr>\n",
       "    <tr>\n",
       "      <th>TEDxIslay</th>\n",
       "      <td>1</td>\n",
       "      <td>120274.0</td>\n",
       "    </tr>\n",
       "    <tr>\n",
       "      <th>TEDxWaterloo</th>\n",
       "      <td>1</td>\n",
       "      <td>138812.0</td>\n",
       "    </tr>\n",
       "    <tr>\n",
       "      <th>AORN Congress</th>\n",
       "      <td>1</td>\n",
       "      <td>149818.0</td>\n",
       "    </tr>\n",
       "    <tr>\n",
       "      <th>TEDxNASA@SiliconValley</th>\n",
       "      <td>1</td>\n",
       "      <td>155895.0</td>\n",
       "    </tr>\n",
       "    <tr>\n",
       "      <th>...</th>\n",
       "      <td>...</td>\n",
       "      <td>...</td>\n",
       "    </tr>\n",
       "    <tr>\n",
       "      <th>TEDxNorrkoping</th>\n",
       "      <td>1</td>\n",
       "      <td>6569493.0</td>\n",
       "    </tr>\n",
       "    <tr>\n",
       "      <th>TEDxCreativeCoast</th>\n",
       "      <td>1</td>\n",
       "      <td>8444981.0</td>\n",
       "    </tr>\n",
       "    <tr>\n",
       "      <th>TEDxBloomington</th>\n",
       "      <td>2</td>\n",
       "      <td>9484259.5</td>\n",
       "    </tr>\n",
       "    <tr>\n",
       "      <th>TEDxHouston</th>\n",
       "      <td>2</td>\n",
       "      <td>16140250.5</td>\n",
       "    </tr>\n",
       "    <tr>\n",
       "      <th>TEDxPuget Sound</th>\n",
       "      <td>1</td>\n",
       "      <td>34309432.0</td>\n",
       "    </tr>\n",
       "  </tbody>\n",
       "</table>\n",
       "<p>355 rows × 2 columns</p>\n",
       "</div>"
      ],
      "text/plain": [
       "                        count        mean\n",
       "event                                    \n",
       "The Do Lectures             1    112321.0\n",
       "TEDxIslay                   1    120274.0\n",
       "TEDxWaterloo                1    138812.0\n",
       "AORN Congress               1    149818.0\n",
       "TEDxNASA@SiliconValley      1    155895.0\n",
       "...                       ...         ...\n",
       "TEDxNorrkoping              1   6569493.0\n",
       "TEDxCreativeCoast           1   8444981.0\n",
       "TEDxBloomington             2   9484259.5\n",
       "TEDxHouston                 2  16140250.5\n",
       "TEDxPuget Sound             1  34309432.0\n",
       "\n",
       "[355 rows x 2 columns]"
      ]
     },
     "execution_count": 42,
     "metadata": {},
     "output_type": "execute_result"
    }
   ],
   "source": [
    "exercise1.groupby(\"event\").views.agg([\"count\",\"mean\"]).sort_values(\"mean\")"
   ]
  },
  {
   "cell_type": "markdown",
   "metadata": {},
   "source": [
    "#### Question 5.5. Let's calculate the total views per event"
   ]
  },
  {
   "cell_type": "code",
   "execution_count": 43,
   "metadata": {},
   "outputs": [
    {
     "data": {
      "text/html": [
       "<div>\n",
       "<style scoped>\n",
       "    .dataframe tbody tr th:only-of-type {\n",
       "        vertical-align: middle;\n",
       "    }\n",
       "\n",
       "    .dataframe tbody tr th {\n",
       "        vertical-align: top;\n",
       "    }\n",
       "\n",
       "    .dataframe thead th {\n",
       "        text-align: right;\n",
       "    }\n",
       "</style>\n",
       "<table border=\"1\" class=\"dataframe\">\n",
       "  <thead>\n",
       "    <tr style=\"text-align: right;\">\n",
       "      <th></th>\n",
       "      <th>count</th>\n",
       "      <th>mean</th>\n",
       "      <th>sum</th>\n",
       "    </tr>\n",
       "    <tr>\n",
       "      <th>event</th>\n",
       "      <th></th>\n",
       "      <th></th>\n",
       "      <th></th>\n",
       "    </tr>\n",
       "  </thead>\n",
       "  <tbody>\n",
       "    <tr>\n",
       "      <th>The Do Lectures</th>\n",
       "      <td>1</td>\n",
       "      <td>1.123210e+05</td>\n",
       "      <td>112321</td>\n",
       "    </tr>\n",
       "    <tr>\n",
       "      <th>TEDxIslay</th>\n",
       "      <td>1</td>\n",
       "      <td>1.202740e+05</td>\n",
       "      <td>120274</td>\n",
       "    </tr>\n",
       "    <tr>\n",
       "      <th>TEDxWaterloo</th>\n",
       "      <td>1</td>\n",
       "      <td>1.388120e+05</td>\n",
       "      <td>138812</td>\n",
       "    </tr>\n",
       "    <tr>\n",
       "      <th>AORN Congress</th>\n",
       "      <td>1</td>\n",
       "      <td>1.498180e+05</td>\n",
       "      <td>149818</td>\n",
       "    </tr>\n",
       "    <tr>\n",
       "      <th>TEDxNASA@SiliconValley</th>\n",
       "      <td>1</td>\n",
       "      <td>1.558950e+05</td>\n",
       "      <td>155895</td>\n",
       "    </tr>\n",
       "    <tr>\n",
       "      <th>...</th>\n",
       "      <td>...</td>\n",
       "      <td>...</td>\n",
       "      <td>...</td>\n",
       "    </tr>\n",
       "    <tr>\n",
       "      <th>TED2006</th>\n",
       "      <td>45</td>\n",
       "      <td>3.274345e+06</td>\n",
       "      <td>147345533</td>\n",
       "    </tr>\n",
       "    <tr>\n",
       "      <th>TED2015</th>\n",
       "      <td>75</td>\n",
       "      <td>2.011017e+06</td>\n",
       "      <td>150826305</td>\n",
       "    </tr>\n",
       "    <tr>\n",
       "      <th>TEDGlobal 2013</th>\n",
       "      <td>66</td>\n",
       "      <td>2.584163e+06</td>\n",
       "      <td>170554736</td>\n",
       "    </tr>\n",
       "    <tr>\n",
       "      <th>TED2014</th>\n",
       "      <td>84</td>\n",
       "      <td>2.072874e+06</td>\n",
       "      <td>174121423</td>\n",
       "    </tr>\n",
       "    <tr>\n",
       "      <th>TED2013</th>\n",
       "      <td>77</td>\n",
       "      <td>2.302700e+06</td>\n",
       "      <td>177307937</td>\n",
       "    </tr>\n",
       "  </tbody>\n",
       "</table>\n",
       "<p>355 rows × 3 columns</p>\n",
       "</div>"
      ],
      "text/plain": [
       "                        count          mean        sum\n",
       "event                                                 \n",
       "The Do Lectures             1  1.123210e+05     112321\n",
       "TEDxIslay                   1  1.202740e+05     120274\n",
       "TEDxWaterloo                1  1.388120e+05     138812\n",
       "AORN Congress               1  1.498180e+05     149818\n",
       "TEDxNASA@SiliconValley      1  1.558950e+05     155895\n",
       "...                       ...           ...        ...\n",
       "TED2006                    45  3.274345e+06  147345533\n",
       "TED2015                    75  2.011017e+06  150826305\n",
       "TEDGlobal 2013             66  2.584163e+06  170554736\n",
       "TED2014                    84  2.072874e+06  174121423\n",
       "TED2013                    77  2.302700e+06  177307937\n",
       "\n",
       "[355 rows x 3 columns]"
      ]
     },
     "execution_count": 43,
     "metadata": {},
     "output_type": "execute_result"
    }
   ],
   "source": [
    "exercise1.groupby(\"event\").views.agg([\"count\",\"mean\", \"sum\"]).sort_values(\"sum\")"
   ]
  },
  {
   "cell_type": "markdown",
   "metadata": {},
   "source": [
    "> #### <font color = \"blue\"> As you have seen, please... </font>\n",
    "\n",
    "- Think creatively for how you can use the data you have to answer your question\n",
    "- Watch out for small sample sizes"
   ]
  },
  {
   "cell_type": "markdown",
   "metadata": {},
   "source": [
    "### Now, let's take a look at ratings data"
   ]
  },
  {
   "cell_type": "markdown",
   "metadata": {},
   "source": [
    "> Previously, users could tag talks on the TED website (funny, inspiring, confusing, etc.)"
   ]
  },
  {
   "cell_type": "code",
   "execution_count": 44,
   "metadata": {},
   "outputs": [
    {
     "data": {
      "text/html": [
       "<div>\n",
       "<style scoped>\n",
       "    .dataframe tbody tr th:only-of-type {\n",
       "        vertical-align: middle;\n",
       "    }\n",
       "\n",
       "    .dataframe tbody tr th {\n",
       "        vertical-align: top;\n",
       "    }\n",
       "\n",
       "    .dataframe thead th {\n",
       "        text-align: right;\n",
       "    }\n",
       "</style>\n",
       "<table border=\"1\" class=\"dataframe\">\n",
       "  <thead>\n",
       "    <tr style=\"text-align: right;\">\n",
       "      <th></th>\n",
       "      <th>comments</th>\n",
       "      <th>description</th>\n",
       "      <th>duration</th>\n",
       "      <th>event</th>\n",
       "      <th>film_date</th>\n",
       "      <th>languages</th>\n",
       "      <th>main_speaker</th>\n",
       "      <th>name</th>\n",
       "      <th>num_speaker</th>\n",
       "      <th>published_date</th>\n",
       "      <th>ratings</th>\n",
       "      <th>related_talks</th>\n",
       "      <th>speaker_occupation</th>\n",
       "      <th>tags</th>\n",
       "      <th>title</th>\n",
       "      <th>url</th>\n",
       "      <th>views</th>\n",
       "      <th>comments per view</th>\n",
       "      <th>view per comments</th>\n",
       "      <th>film_datetime</th>\n",
       "    </tr>\n",
       "  </thead>\n",
       "  <tbody>\n",
       "    <tr>\n",
       "      <th>0</th>\n",
       "      <td>4553</td>\n",
       "      <td>Sir Ken Robinson makes an entertaining and pro...</td>\n",
       "      <td>1164</td>\n",
       "      <td>TED2006</td>\n",
       "      <td>2006-02-25</td>\n",
       "      <td>60</td>\n",
       "      <td>Ken Robinson</td>\n",
       "      <td>Ken Robinson: Do schools kill creativity?</td>\n",
       "      <td>1</td>\n",
       "      <td>2006-06-27 00:11:00</td>\n",
       "      <td>[{'id': 7, 'name': 'Funny', 'count': 19645}, {...</td>\n",
       "      <td>[{'id': 865, 'hero': 'https://pe.tedcdn.com/im...</td>\n",
       "      <td>Author/educator</td>\n",
       "      <td>['children', 'creativity', 'culture', 'dance',...</td>\n",
       "      <td>Do schools kill creativity?</td>\n",
       "      <td>https://www.ted.com/talks/ken_robinson_says_sc...</td>\n",
       "      <td>47227110</td>\n",
       "      <td>0.000096</td>\n",
       "      <td>10372.745443</td>\n",
       "      <td>2006-02-25</td>\n",
       "    </tr>\n",
       "  </tbody>\n",
       "</table>\n",
       "</div>"
      ],
      "text/plain": [
       "   comments                                        description  duration  \\\n",
       "0      4553  Sir Ken Robinson makes an entertaining and pro...      1164   \n",
       "\n",
       "     event  film_date  languages  main_speaker  \\\n",
       "0  TED2006 2006-02-25         60  Ken Robinson   \n",
       "\n",
       "                                        name  num_speaker      published_date  \\\n",
       "0  Ken Robinson: Do schools kill creativity?            1 2006-06-27 00:11:00   \n",
       "\n",
       "                                             ratings  \\\n",
       "0  [{'id': 7, 'name': 'Funny', 'count': 19645}, {...   \n",
       "\n",
       "                                       related_talks speaker_occupation  \\\n",
       "0  [{'id': 865, 'hero': 'https://pe.tedcdn.com/im...    Author/educator   \n",
       "\n",
       "                                                tags  \\\n",
       "0  ['children', 'creativity', 'culture', 'dance',...   \n",
       "\n",
       "                         title  \\\n",
       "0  Do schools kill creativity?   \n",
       "\n",
       "                                                 url     views  \\\n",
       "0  https://www.ted.com/talks/ken_robinson_says_sc...  47227110   \n",
       "\n",
       "   comments per view  view per comments film_datetime  \n",
       "0           0.000096       10372.745443    2006-02-25  "
      ]
     },
     "execution_count": 44,
     "metadata": {},
     "output_type": "execute_result"
    }
   ],
   "source": [
    "exercise1.head(1)"
   ]
  },
  {
   "cell_type": "markdown",
   "metadata": {},
   "source": [
    "> Think about `two ways` to examine the ratings data for the first talk"
   ]
  },
  {
   "cell_type": "code",
   "execution_count": 45,
   "metadata": {},
   "outputs": [
    {
     "data": {
      "text/plain": [
       "\"[{'id': 7, 'name': 'Funny', 'count': 19645}, {'id': 1, 'name': 'Beautiful', 'count': 4573}, {'id': 9, 'name': 'Ingenious', 'count': 6073}, {'id': 3, 'name': 'Courageous', 'count': 3253}, {'id': 11, 'name': 'Longwinded', 'count': 387}, {'id': 2, 'name': 'Confusing', 'count': 242}, {'id': 8, 'name': 'Informative', 'count': 7346}, {'id': 22, 'name': 'Fascinating', 'count': 10581}, {'id': 21, 'name': 'Unconvincing', 'count': 300}, {'id': 24, 'name': 'Persuasive', 'count': 10704}, {'id': 23, 'name': 'Jaw-dropping', 'count': 4439}, {'id': 25, 'name': 'OK', 'count': 1174}, {'id': 26, 'name': 'Obnoxious', 'count': 209}, {'id': 10, 'name': 'Inspiring', 'count': 24924}]\""
      ]
     },
     "execution_count": 45,
     "metadata": {},
     "output_type": "execute_result"
    }
   ],
   "source": [
    "exercise1.ratings[0]"
   ]
  },
  {
   "cell_type": "code",
   "execution_count": 46,
   "metadata": {},
   "outputs": [
    {
     "data": {
      "text/plain": [
       "\"[{'id': 7, 'name': 'Funny', 'count': 19645}, {'id': 1, 'name': 'Beautiful', 'count': 4573}, {'id': 9, 'name': 'Ingenious', 'count': 6073}, {'id': 3, 'name': 'Courageous', 'count': 3253}, {'id': 11, 'name': 'Longwinded', 'count': 387}, {'id': 2, 'name': 'Confusing', 'count': 242}, {'id': 8, 'name': 'Informative', 'count': 7346}, {'id': 22, 'name': 'Fascinating', 'count': 10581}, {'id': 21, 'name': 'Unconvincing', 'count': 300}, {'id': 24, 'name': 'Persuasive', 'count': 10704}, {'id': 23, 'name': 'Jaw-dropping', 'count': 4439}, {'id': 25, 'name': 'OK', 'count': 1174}, {'id': 26, 'name': 'Obnoxious', 'count': 209}, {'id': 10, 'name': 'Inspiring', 'count': 24924}]\""
      ]
     },
     "execution_count": 46,
     "metadata": {},
     "output_type": "execute_result"
    }
   ],
   "source": [
    "exercise1.loc[0, \"ratings\"]"
   ]
  },
  {
   "cell_type": "markdown",
   "metadata": {},
   "source": [
    "> Okay, this is a string not a list."
   ]
  },
  {
   "cell_type": "code",
   "execution_count": 48,
   "metadata": {},
   "outputs": [
    {
     "data": {
      "text/plain": [
       "str"
      ]
     },
     "execution_count": 48,
     "metadata": {},
     "output_type": "execute_result"
    }
   ],
   "source": [
    "type(exercise1.ratings[0])"
   ]
  },
  {
   "cell_type": "markdown",
   "metadata": {},
   "source": [
    "### Let's convert this into something useful using Python's `ast` module (`Abstract Syntax Tree`)"
   ]
  },
  {
   "cell_type": "markdown",
   "metadata": {},
   "source": [
    "> `literal_eval()` allows you to evaluate a string containing a Python literal or container\n",
    "\n",
    "> #### <font color = \"red\"> See below for my guidance </font>"
   ]
  },
  {
   "cell_type": "code",
   "execution_count": 49,
   "metadata": {},
   "outputs": [],
   "source": [
    "import ast"
   ]
  },
  {
   "cell_type": "markdown",
   "metadata": {},
   "source": [
    "```python\n",
    "# if you wish to unpack data\n",
    "    YOUR_DF[\"variable\"].apply(ast.literal_eval)\n",
    "\n",
    "# if you wish to access specific talk related data\n",
    "    YOUR_DF[\"variable\"].apply(ast.literal_eval)[0]\n",
    "\n",
    "# if you wish to access specific talk related observations within the data\n",
    "    YOUR_DF[\"variable\"].apply(ast.literal_eval)[0][0]\n",
    "\n",
    "# if you wish to access specific talk related observations with a particular attribute within the data\n",
    "    YOUR_DF[\"variable\"].apply(ast.literal_eval)[0][0][\"key\"]\n",
    "```"
   ]
  },
  {
   "cell_type": "markdown",
   "metadata": {},
   "source": [
    "> If you have a string representation of something, you can retrieve what it actually represents"
   ]
  },
  {
   "cell_type": "code",
   "execution_count": 50,
   "metadata": {},
   "outputs": [
    {
     "data": {
      "text/plain": [
       "[{'id': 7, 'name': 'Funny', 'count': 19645},\n",
       " {'id': 1, 'name': 'Beautiful', 'count': 4573},\n",
       " {'id': 9, 'name': 'Ingenious', 'count': 6073},\n",
       " {'id': 3, 'name': 'Courageous', 'count': 3253},\n",
       " {'id': 11, 'name': 'Longwinded', 'count': 387},\n",
       " {'id': 2, 'name': 'Confusing', 'count': 242},\n",
       " {'id': 8, 'name': 'Informative', 'count': 7346},\n",
       " {'id': 22, 'name': 'Fascinating', 'count': 10581},\n",
       " {'id': 21, 'name': 'Unconvincing', 'count': 300},\n",
       " {'id': 24, 'name': 'Persuasive', 'count': 10704},\n",
       " {'id': 23, 'name': 'Jaw-dropping', 'count': 4439},\n",
       " {'id': 25, 'name': 'OK', 'count': 1174},\n",
       " {'id': 26, 'name': 'Obnoxious', 'count': 209},\n",
       " {'id': 10, 'name': 'Inspiring', 'count': 24924}]"
      ]
     },
     "execution_count": 50,
     "metadata": {},
     "output_type": "execute_result"
    }
   ],
   "source": [
    "ast.literal_eval(exercise1.ratings[0])"
   ]
  },
  {
   "cell_type": "markdown",
   "metadata": {},
   "source": [
    "> Let's unpack the ratings data for the first talk"
   ]
  },
  {
   "cell_type": "code",
   "execution_count": 51,
   "metadata": {},
   "outputs": [
    {
     "data": {
      "text/plain": [
       "list"
      ]
     },
     "execution_count": 51,
     "metadata": {},
     "output_type": "execute_result"
    }
   ],
   "source": [
    "type(ast.literal_eval(exercise1.ratings[0]))"
   ]
  },
  {
   "cell_type": "markdown",
   "metadata": {},
   "source": [
    "> Yes, now we have a list (of dictionaries)"
   ]
  },
  {
   "cell_type": "markdown",
   "metadata": {},
   "source": [
    "### Question 6. Let's define a function to convert an element in the ratings Series from string to list\n",
    "\n",
    "#### <font color = \"blue\"> USE `ast.literal_eval()` </font>"
   ]
  },
  {
   "cell_type": "code",
   "execution_count": 52,
   "metadata": {},
   "outputs": [],
   "source": [
    "def string_to_list(rating_str):\n",
    "    return ast.literal_eval(rating_str)"
   ]
  },
  {
   "cell_type": "markdown",
   "metadata": {},
   "source": [
    "> Let's test our function"
   ]
  },
  {
   "cell_type": "code",
   "execution_count": 53,
   "metadata": {},
   "outputs": [
    {
     "data": {
      "text/plain": [
       "\"[{'id': 7, 'name': 'Funny', 'count': 19645}, {'id': 1, 'name': 'Beautiful', 'count': 4573}, {'id': 9, 'name': 'Ingenious', 'count': 6073}, {'id': 3, 'name': 'Courageous', 'count': 3253}, {'id': 11, 'name': 'Longwinded', 'count': 387}, {'id': 2, 'name': 'Confusing', 'count': 242}, {'id': 8, 'name': 'Informative', 'count': 7346}, {'id': 22, 'name': 'Fascinating', 'count': 10581}, {'id': 21, 'name': 'Unconvincing', 'count': 300}, {'id': 24, 'name': 'Persuasive', 'count': 10704}, {'id': 23, 'name': 'Jaw-dropping', 'count': 4439}, {'id': 25, 'name': 'OK', 'count': 1174}, {'id': 26, 'name': 'Obnoxious', 'count': 209}, {'id': 10, 'name': 'Inspiring', 'count': 24924}]\""
      ]
     },
     "execution_count": 53,
     "metadata": {},
     "output_type": "execute_result"
    }
   ],
   "source": [
    "exercise1[\"ratings\"][0]"
   ]
  },
  {
   "cell_type": "code",
   "execution_count": 54,
   "metadata": {},
   "outputs": [
    {
     "data": {
      "text/plain": [
       "[{'id': 7, 'name': 'Funny', 'count': 19645},\n",
       " {'id': 1, 'name': 'Beautiful', 'count': 4573},\n",
       " {'id': 9, 'name': 'Ingenious', 'count': 6073},\n",
       " {'id': 3, 'name': 'Courageous', 'count': 3253},\n",
       " {'id': 11, 'name': 'Longwinded', 'count': 387},\n",
       " {'id': 2, 'name': 'Confusing', 'count': 242},\n",
       " {'id': 8, 'name': 'Informative', 'count': 7346},\n",
       " {'id': 22, 'name': 'Fascinating', 'count': 10581},\n",
       " {'id': 21, 'name': 'Unconvincing', 'count': 300},\n",
       " {'id': 24, 'name': 'Persuasive', 'count': 10704},\n",
       " {'id': 23, 'name': 'Jaw-dropping', 'count': 4439},\n",
       " {'id': 25, 'name': 'OK', 'count': 1174},\n",
       " {'id': 26, 'name': 'Obnoxious', 'count': 209},\n",
       " {'id': 10, 'name': 'Inspiring', 'count': 24924}]"
      ]
     },
     "execution_count": 54,
     "metadata": {},
     "output_type": "execute_result"
    }
   ],
   "source": [
    "string_to_list(exercise1[\"ratings\"][0]) # 第一组字节转成list"
   ]
  },
  {
   "cell_type": "markdown",
   "metadata": {},
   "source": [
    "> Note that Series `apply` method applies a function to every element in a Series, returning a Series."
   ]
  },
  {
   "cell_type": "code",
   "execution_count": 55,
   "metadata": {},
   "outputs": [
    {
     "data": {
      "text/plain": [
       "[{'id': 7, 'name': 'Funny', 'count': 19645},\n",
       " {'id': 1, 'name': 'Beautiful', 'count': 4573},\n",
       " {'id': 9, 'name': 'Ingenious', 'count': 6073},\n",
       " {'id': 3, 'name': 'Courageous', 'count': 3253},\n",
       " {'id': 11, 'name': 'Longwinded', 'count': 387},\n",
       " {'id': 2, 'name': 'Confusing', 'count': 242},\n",
       " {'id': 8, 'name': 'Informative', 'count': 7346},\n",
       " {'id': 22, 'name': 'Fascinating', 'count': 10581},\n",
       " {'id': 21, 'name': 'Unconvincing', 'count': 300},\n",
       " {'id': 24, 'name': 'Persuasive', 'count': 10704},\n",
       " {'id': 23, 'name': 'Jaw-dropping', 'count': 4439},\n",
       " {'id': 25, 'name': 'OK', 'count': 1174},\n",
       " {'id': 26, 'name': 'Obnoxious', 'count': 209},\n",
       " {'id': 10, 'name': 'Inspiring', 'count': 24924}]"
      ]
     },
     "execution_count": 55,
     "metadata": {},
     "output_type": "execute_result"
    }
   ],
   "source": [
    "exercise1.ratings.apply(string_to_list)[0] # 很多组list选第一组list"
   ]
  },
  {
   "cell_type": "markdown",
   "metadata": {},
   "source": [
    "> #### <font color = \"blue\"> `lambda` is a shorter alternative</blue>\n",
    "\n",
    "> #### <font color = \"red\">Please check the following for more details</font>\n",
    "> - `Coder's Apprentice`\n",
    "    - *Chapter 8*: Functions\n",
    "        - *Section 6*: Anonymous functions"
   ]
  },
  {
   "cell_type": "code",
   "execution_count": 56,
   "metadata": {},
   "outputs": [
    {
     "data": {
      "text/plain": [
       "0       [{'id': 7, 'name': 'Funny', 'count': 19645}, {...\n",
       "1       [{'id': 7, 'name': 'Funny', 'count': 544}, {'i...\n",
       "2       [{'id': 7, 'name': 'Funny', 'count': 964}, {'i...\n",
       "3       [{'id': 3, 'name': 'Courageous', 'count': 760}...\n",
       "4       [{'id': 9, 'name': 'Ingenious', 'count': 3202}...\n",
       "                              ...                        \n",
       "2545    [{'id': 3, 'name': 'Courageous', 'count': 24},...\n",
       "2546    [{'id': 22, 'name': 'Fascinating', 'count': 32...\n",
       "2547    [{'id': 1, 'name': 'Beautiful', 'count': 14}, ...\n",
       "2548    [{'id': 11, 'name': 'Longwinded', 'count': 3},...\n",
       "2549    [{'id': 21, 'name': 'Unconvincing', 'count': 2...\n",
       "Name: ratings_list, Length: 2550, dtype: object"
      ]
     },
     "execution_count": 56,
     "metadata": {},
     "output_type": "execute_result"
    }
   ],
   "source": [
    "exercise1[\"ratings_list\"] = exercise1.ratings.apply(lambda x: ast.literal_eval(x))\n",
    "exercise1[\"ratings_list\"]"
   ]
  },
  {
   "cell_type": "markdown",
   "metadata": {},
   "source": [
    "> An even shorter alternative is to apply the function directly (without lambda)"
   ]
  },
  {
   "cell_type": "code",
   "execution_count": 58,
   "metadata": {},
   "outputs": [
    {
     "data": {
      "text/plain": [
       "list"
      ]
     },
     "execution_count": 58,
     "metadata": {},
     "output_type": "execute_result"
    }
   ],
   "source": [
    "type(exercise1[\"ratings_list\"][0])"
   ]
  },
  {
   "cell_type": "markdown",
   "metadata": {},
   "source": [
    "> Let's check that the new Series looks as expected"
   ]
  },
  {
   "cell_type": "code",
   "execution_count": 59,
   "metadata": {},
   "outputs": [
    {
     "data": {
      "text/plain": [
       "[{'id': 7, 'name': 'Funny', 'count': 19645},\n",
       " {'id': 1, 'name': 'Beautiful', 'count': 4573},\n",
       " {'id': 9, 'name': 'Ingenious', 'count': 6073},\n",
       " {'id': 3, 'name': 'Courageous', 'count': 3253},\n",
       " {'id': 11, 'name': 'Longwinded', 'count': 387},\n",
       " {'id': 2, 'name': 'Confusing', 'count': 242},\n",
       " {'id': 8, 'name': 'Informative', 'count': 7346},\n",
       " {'id': 22, 'name': 'Fascinating', 'count': 10581},\n",
       " {'id': 21, 'name': 'Unconvincing', 'count': 300},\n",
       " {'id': 24, 'name': 'Persuasive', 'count': 10704},\n",
       " {'id': 23, 'name': 'Jaw-dropping', 'count': 4439},\n",
       " {'id': 25, 'name': 'OK', 'count': 1174},\n",
       " {'id': 26, 'name': 'Obnoxious', 'count': 209},\n",
       " {'id': 10, 'name': 'Inspiring', 'count': 24924}]"
      ]
     },
     "execution_count": 59,
     "metadata": {},
     "output_type": "execute_result"
    }
   ],
   "source": [
    "exercise1[\"ratings_list\"][0]"
   ]
  },
  {
   "cell_type": "markdown",
   "metadata": {},
   "source": [
    "> Each element in the Series is a list"
   ]
  },
  {
   "cell_type": "markdown",
   "metadata": {
    "scrolled": true
   },
   "source": [
    "> data type of the new Series is object"
   ]
  },
  {
   "cell_type": "markdown",
   "metadata": {},
   "source": [
    "##### Note that object is not just for strings."
   ]
  },
  {
   "cell_type": "code",
   "execution_count": 60,
   "metadata": {},
   "outputs": [
    {
     "data": {
      "text/plain": [
       "comments                       int64\n",
       "description                   object\n",
       "duration                       int64\n",
       "event                         object\n",
       "film_date             datetime64[ns]\n",
       "languages                      int64\n",
       "main_speaker                  object\n",
       "name                          object\n",
       "num_speaker                    int64\n",
       "published_date        datetime64[ns]\n",
       "ratings                       object\n",
       "related_talks                 object\n",
       "speaker_occupation            object\n",
       "tags                          object\n",
       "title                         object\n",
       "url                           object\n",
       "views                          int64\n",
       "comments per view            float64\n",
       "view per comments            float64\n",
       "film_datetime         datetime64[ns]\n",
       "ratings_list                  object\n",
       "dtype: object"
      ]
     },
     "execution_count": 60,
     "metadata": {},
     "output_type": "execute_result"
    }
   ],
   "source": [
    "exercise1.dtypes"
   ]
  },
  {
   "cell_type": "markdown",
   "metadata": {},
   "source": [
    "#### <font color = \"blue\"> So far so good, remember to: </font>\n",
    "\n",
    "- Pay attention to data types in pandas\n",
    "- Use apply any time it is necessary"
   ]
  },
  {
   "cell_type": "markdown",
   "metadata": {},
   "source": [
    "### Question 7.1. Let's have a look at the total number of ratings received by each talk\n",
    "\n",
    "- for each talk, calculate the percentage of ratings that were negative\n",
    "\n",
    "- for each talk, calculate the average number of ratings it received per day since it was published"
   ]
  },
  {
   "cell_type": "markdown",
   "metadata": {},
   "source": [
    "> Let's start by building a simple function"
   ]
  },
  {
   "cell_type": "markdown",
   "metadata": {},
   "source": [
    "> Here, expected result (for each talk) is sum of count"
   ]
  },
  {
   "cell_type": "code",
   "execution_count": 61,
   "metadata": {},
   "outputs": [],
   "source": [
    "def extract_number_of_ratings(list_of_dicts):\n",
    "    return list_of_dicts[0]"
   ]
  },
  {
   "cell_type": "markdown",
   "metadata": {},
   "source": [
    "#### Question 7.2. Please pass it a list, and it returns the first element in the list, which is a dictionary"
   ]
  },
  {
   "cell_type": "code",
   "execution_count": 62,
   "metadata": {},
   "outputs": [
    {
     "data": {
      "text/plain": [
       "{'id': 7, 'name': 'Funny', 'count': 19645}"
      ]
     },
     "execution_count": 62,
     "metadata": {},
     "output_type": "execute_result"
    }
   ],
   "source": [
    "extract_number_of_ratings(exercise1.ratings_list[0])"
   ]
  },
  {
   "cell_type": "markdown",
   "metadata": {},
   "source": [
    "#### Question 7.3. Let's modify the function to return the vote count."
   ]
  },
  {
   "cell_type": "code",
   "execution_count": 63,
   "metadata": {},
   "outputs": [],
   "source": [
    "## method 1 def function\n",
    "def extract_number_of_ratings(list_of_dicts):\n",
    "    return list_of_dicts[0][\"count\"]"
   ]
  },
  {
   "cell_type": "markdown",
   "metadata": {},
   "source": [
    "#### Quesion 7.4. Let's pass it a list, and it returns a value from the first dictionary in the list"
   ]
  },
  {
   "cell_type": "code",
   "execution_count": 64,
   "metadata": {},
   "outputs": [
    {
     "data": {
      "text/plain": [
       "19645"
      ]
     },
     "execution_count": 64,
     "metadata": {},
     "output_type": "execute_result"
    }
   ],
   "source": [
    "## method 1 def function\n",
    "extract_number_of_ratings(exercise1.ratings_list[0])"
   ]
  },
  {
   "cell_type": "markdown",
   "metadata": {},
   "source": [
    "#### Question 7.5. Let's modify the function to get the sum of count"
   ]
  },
  {
   "cell_type": "code",
   "execution_count": 65,
   "metadata": {},
   "outputs": [],
   "source": [
    "## method 1 def function\n",
    "def extract_number_of_ratings(list_of_dicts):\n",
    "    count = 0\n",
    "    for d in list_of_dicts:\n",
    "        count = count + d[\"count\"]\n",
    "    \n",
    "    return count"
   ]
  },
  {
   "cell_type": "markdown",
   "metadata": {},
   "source": [
    "> Does the result look about right? Please check."
   ]
  },
  {
   "cell_type": "code",
   "execution_count": 66,
   "metadata": {},
   "outputs": [
    {
     "data": {
      "text/plain": [
       "93850"
      ]
     },
     "execution_count": 66,
     "metadata": {},
     "output_type": "execute_result"
    }
   ],
   "source": [
    "## method 1 def function\n",
    "extract_number_of_ratings(exercise1.ratings_list[0])"
   ]
  },
  {
   "cell_type": "markdown",
   "metadata": {},
   "source": [
    "> Let's apply it to every element in the Series"
   ]
  },
  {
   "cell_type": "code",
   "execution_count": 67,
   "metadata": {},
   "outputs": [
    {
     "data": {
      "text/plain": [
       "0       93850\n",
       "1        2936\n",
       "2        2824\n",
       "3        3728\n",
       "4       25620\n",
       "        ...  \n",
       "2545      192\n",
       "2546      151\n",
       "2547      136\n",
       "2548      583\n",
       "2549      142\n",
       "Name: ratings_list, Length: 2550, dtype: int64"
      ]
     },
     "execution_count": 67,
     "metadata": {},
     "output_type": "execute_result"
    }
   ],
   "source": [
    "exercise1.ratings_list.apply(extract_number_of_ratings) # dataframe里每行都 分别 用这个函数"
   ]
  },
  {
   "cell_type": "markdown",
   "metadata": {},
   "source": [
    "> #### <font color = \"blue\"> Alternative here is to use a `generator expression`</font>\n",
    "\n",
    "> #### <font color = \"red\"> Please check the following for more details </font>\n",
    "> - `Think Python`: https://greenteapress.com/thinkpython2/thinkpython2.pdf\n",
    "    - *Chapter 19*: The Goodies\n",
    "        - *Section 3*: Generator expressions"
   ]
  },
  {
   "cell_type": "code",
   "execution_count": 68,
   "metadata": {},
   "outputs": [
    {
     "data": {
      "text/plain": [
       "93850"
      ]
     },
     "execution_count": 68,
     "metadata": {},
     "output_type": "execute_result"
    }
   ],
   "source": [
    "sum(i[\"count\"] for i in exercise1.ratings_list[0])"
   ]
  },
  {
   "cell_type": "markdown",
   "metadata": {},
   "source": [
    "> Try to use `lambda` to apply this method"
   ]
  },
  {
   "cell_type": "code",
   "execution_count": 69,
   "metadata": {},
   "outputs": [
    {
     "data": {
      "text/plain": [
       "0       93850\n",
       "1        2936\n",
       "2        2824\n",
       "3        3728\n",
       "4       25620\n",
       "        ...  \n",
       "2545      192\n",
       "2546      151\n",
       "2547      136\n",
       "2548      583\n",
       "2549      142\n",
       "Name: ratings_list, Length: 2550, dtype: int64"
      ]
     },
     "execution_count": 69,
     "metadata": {},
     "output_type": "execute_result"
    }
   ],
   "source": [
    "exercise1.ratings_list.apply(lambda x: sum(d[\"count\"] for d in x))"
   ]
  },
  {
   "cell_type": "markdown",
   "metadata": {},
   "source": [
    "> Another alternative is to use `pd.DataFrame()`"
   ]
  },
  {
   "cell_type": "code",
   "execution_count": 70,
   "metadata": {},
   "outputs": [
    {
     "data": {
      "text/plain": [
       "93850"
      ]
     },
     "execution_count": 70,
     "metadata": {},
     "output_type": "execute_result"
    }
   ],
   "source": [
    "pd.DataFrame(exercise1.ratings_list[0])[\"count\"].sum()"
   ]
  },
  {
   "cell_type": "markdown",
   "metadata": {},
   "source": [
    "> use `lambda` to apply this method"
   ]
  },
  {
   "cell_type": "code",
   "execution_count": 71,
   "metadata": {},
   "outputs": [
    {
     "data": {
      "text/plain": [
       "0       93850\n",
       "1        2936\n",
       "2        2824\n",
       "3        3728\n",
       "4       25620\n",
       "        ...  \n",
       "2545      192\n",
       "2546      151\n",
       "2547      136\n",
       "2548      583\n",
       "2549      142\n",
       "Name: ratings_list, Length: 2550, dtype: int64"
      ]
     },
     "execution_count": 71,
     "metadata": {},
     "output_type": "execute_result"
    }
   ],
   "source": [
    "exercise1.ratings_list.apply(lambda x: pd.DataFrame(x)[\"count\"].sum())"
   ]
  },
  {
   "cell_type": "markdown",
   "metadata": {},
   "source": [
    "> Things to consider:\n",
    "\n",
    "- Write your code in small chunks\n",
    "\n",
    "- Check your work as you move forward\n",
    "\n",
    "- `lambda` is best for simple functions"
   ]
  },
  {
   "cell_type": "code",
   "execution_count": 78,
   "metadata": {},
   "outputs": [
    {
     "data": {
      "text/html": [
       "<div>\n",
       "<style scoped>\n",
       "    .dataframe tbody tr th:only-of-type {\n",
       "        vertical-align: middle;\n",
       "    }\n",
       "\n",
       "    .dataframe tbody tr th {\n",
       "        vertical-align: top;\n",
       "    }\n",
       "\n",
       "    .dataframe thead th {\n",
       "        text-align: right;\n",
       "    }\n",
       "</style>\n",
       "<table border=\"1\" class=\"dataframe\">\n",
       "  <thead>\n",
       "    <tr style=\"text-align: right;\">\n",
       "      <th></th>\n",
       "      <th>comments</th>\n",
       "      <th>description</th>\n",
       "      <th>duration</th>\n",
       "      <th>event</th>\n",
       "      <th>film_date</th>\n",
       "      <th>languages</th>\n",
       "      <th>main_speaker</th>\n",
       "      <th>name</th>\n",
       "      <th>num_speaker</th>\n",
       "      <th>published_date</th>\n",
       "      <th>...</th>\n",
       "      <th>speaker_occupation</th>\n",
       "      <th>tags</th>\n",
       "      <th>title</th>\n",
       "      <th>url</th>\n",
       "      <th>views</th>\n",
       "      <th>comments per view</th>\n",
       "      <th>view per comments</th>\n",
       "      <th>film_datetime</th>\n",
       "      <th>ratings_list</th>\n",
       "      <th>number_of_ratings</th>\n",
       "    </tr>\n",
       "  </thead>\n",
       "  <tbody>\n",
       "    <tr>\n",
       "      <th>2471</th>\n",
       "      <td>65</td>\n",
       "      <td>A few days before she turned 61, writer Anne L...</td>\n",
       "      <td>955</td>\n",
       "      <td>TED2017</td>\n",
       "      <td>2017-04-24</td>\n",
       "      <td>16</td>\n",
       "      <td>Anne Lamott</td>\n",
       "      <td>Anne Lamott: 12 truths I learned from life and...</td>\n",
       "      <td>1</td>\n",
       "      <td>2017-06-09 15:06:36</td>\n",
       "      <td>...</td>\n",
       "      <td>Novelist, essayist</td>\n",
       "      <td>['Christianity', 'God', 'aging', 'art', 'beaut...</td>\n",
       "      <td>12 truths I learned from life and writing</td>\n",
       "      <td>https://www.ted.com/talks/anne_lamott_12_truth...</td>\n",
       "      <td>1890978</td>\n",
       "      <td>0.000034</td>\n",
       "      <td>29091.969231</td>\n",
       "      <td>2017-04-24</td>\n",
       "      <td>[{'id': 26, 'name': 'Obnoxious', 'count': 27},...</td>\n",
       "      <td>2057</td>\n",
       "    </tr>\n",
       "  </tbody>\n",
       "</table>\n",
       "<p>1 rows × 22 columns</p>\n",
       "</div>"
      ],
      "text/plain": [
       "      comments                                        description  duration  \\\n",
       "2471        65  A few days before she turned 61, writer Anne L...       955   \n",
       "\n",
       "        event  film_date  languages main_speaker  \\\n",
       "2471  TED2017 2017-04-24         16  Anne Lamott   \n",
       "\n",
       "                                                   name  num_speaker  \\\n",
       "2471  Anne Lamott: 12 truths I learned from life and...            1   \n",
       "\n",
       "          published_date  ...  speaker_occupation  \\\n",
       "2471 2017-06-09 15:06:36  ...  Novelist, essayist   \n",
       "\n",
       "                                                   tags  \\\n",
       "2471  ['Christianity', 'God', 'aging', 'art', 'beaut...   \n",
       "\n",
       "                                          title  \\\n",
       "2471  12 truths I learned from life and writing   \n",
       "\n",
       "                                                    url    views  \\\n",
       "2471  https://www.ted.com/talks/anne_lamott_12_truth...  1890978   \n",
       "\n",
       "     comments per view  view per comments  film_datetime  \\\n",
       "2471          0.000034       29091.969231     2017-04-24   \n",
       "\n",
       "                                           ratings_list number_of_ratings  \n",
       "2471  [{'id': 26, 'name': 'Obnoxious', 'count': 27},...              2057  \n",
       "\n",
       "[1 rows x 22 columns]"
      ]
     },
     "execution_count": 78,
     "metadata": {},
     "output_type": "execute_result"
    }
   ],
   "source": [
    "exercise1[\"number_of_ratings\"] = exercise1.ratings_list.apply(extract_number_of_ratings)\n",
    "exercise1.sample(1)"
   ]
  },
  {
   "cell_type": "markdown",
   "metadata": {},
   "source": [
    "### Let's find: \n",
    "#### ***which occupations deliver the funniest TED talks on average?***\n",
    "\n",
    "- for each talk, calculate the most frequent rating\n",
    "- for each talk, clean the occupation data so that there's only one occupation per talk"
   ]
  },
  {
   "cell_type": "markdown",
   "metadata": {},
   "source": [
    "##### You might want to count the number of funny ratings"
   ]
  },
  {
   "cell_type": "code",
   "execution_count": 74,
   "metadata": {},
   "outputs": [
    {
     "data": {
      "text/plain": [
       "0    [{'id': 7, 'name': 'Funny', 'count': 19645}, {...\n",
       "Name: ratings_list, dtype: object"
      ]
     },
     "execution_count": 74,
     "metadata": {},
     "output_type": "execute_result"
    }
   ],
   "source": [
    "exercise1.ratings_list.head(1)"
   ]
  },
  {
   "cell_type": "markdown",
   "metadata": {},
   "source": [
    "> \"Funny\" is not always the first dictionary in the list."
   ]
  },
  {
   "cell_type": "markdown",
   "metadata": {},
   "source": [
    "#### Please check ratings (not ratings_list) to see if \"Funny\" is always a rating type"
   ]
  },
  {
   "cell_type": "code",
   "execution_count": 75,
   "metadata": {},
   "outputs": [
    {
     "data": {
      "text/plain": [
       "True    2550\n",
       "Name: ratings, dtype: int64"
      ]
     },
     "execution_count": 75,
     "metadata": {},
     "output_type": "execute_result"
    }
   ],
   "source": [
    "exercise1.ratings.str.contains(\"Funny\").value_counts()"
   ]
  },
  {
   "cell_type": "markdown",
   "metadata": {},
   "source": [
    "### Question 8. Let's write a custom function that gives us a `dictionary` that lists `talks` containing `funny` rating."
   ]
  },
  {
   "cell_type": "code",
   "execution_count": 76,
   "metadata": {},
   "outputs": [],
   "source": [
    "def extract_funny_ratings(list_of_dicts):\n",
    "    for d in list_of_dicts:\n",
    "        if d[\"name\"] == \"Funny\":\n",
    "            return d[\"count\"]"
   ]
  },
  {
   "cell_type": "markdown",
   "metadata": {},
   "source": [
    "> Then, you might want to examine a record in which \"Funny\" is not the first dictionary"
   ]
  },
  {
   "cell_type": "code",
   "execution_count": 79,
   "metadata": {},
   "outputs": [
    {
     "data": {
      "text/plain": [
       "[{'id': 3, 'name': 'Courageous', 'count': 3236},\n",
       " {'id': 21, 'name': 'Unconvincing', 'count': 539},\n",
       " {'id': 1, 'name': 'Beautiful', 'count': 399},\n",
       " {'id': 2, 'name': 'Confusing', 'count': 86},\n",
       " {'id': 7, 'name': 'Funny', 'count': 1203},\n",
       " {'id': 9, 'name': 'Ingenious', 'count': 663},\n",
       " {'id': 11, 'name': 'Longwinded', 'count': 192},\n",
       " {'id': 8, 'name': 'Informative', 'count': 1113},\n",
       " {'id': 10, 'name': 'Inspiring', 'count': 2935},\n",
       " {'id': 22, 'name': 'Fascinating', 'count': 934},\n",
       " {'id': 24, 'name': 'Persuasive', 'count': 2475},\n",
       " {'id': 23, 'name': 'Jaw-dropping', 'count': 551},\n",
       " {'id': 26, 'name': 'Obnoxious', 'count': 406},\n",
       " {'id': 25, 'name': 'OK', 'count': 172}]"
      ]
     },
     "execution_count": 79,
     "metadata": {},
     "output_type": "execute_result"
    }
   ],
   "source": [
    "exercise1.ratings_list[96]"
   ]
  },
  {
   "cell_type": "markdown",
   "metadata": {},
   "source": [
    "> Let's check that the function works."
   ]
  },
  {
   "cell_type": "code",
   "execution_count": 80,
   "metadata": {},
   "outputs": [
    {
     "data": {
      "text/plain": [
       "1203"
      ]
     },
     "execution_count": 80,
     "metadata": {},
     "output_type": "execute_result"
    }
   ],
   "source": [
    "extract_funny_ratings(exercise1.ratings_list[96])"
   ]
  },
  {
   "cell_type": "markdown",
   "metadata": {},
   "source": [
    "> Let's apply it to every element in the Series."
   ]
  },
  {
   "cell_type": "code",
   "execution_count": 81,
   "metadata": {},
   "outputs": [
    {
     "data": {
      "text/html": [
       "<div>\n",
       "<style scoped>\n",
       "    .dataframe tbody tr th:only-of-type {\n",
       "        vertical-align: middle;\n",
       "    }\n",
       "\n",
       "    .dataframe tbody tr th {\n",
       "        vertical-align: top;\n",
       "    }\n",
       "\n",
       "    .dataframe thead th {\n",
       "        text-align: right;\n",
       "    }\n",
       "</style>\n",
       "<table border=\"1\" class=\"dataframe\">\n",
       "  <thead>\n",
       "    <tr style=\"text-align: right;\">\n",
       "      <th></th>\n",
       "      <th>comments</th>\n",
       "      <th>description</th>\n",
       "      <th>duration</th>\n",
       "      <th>event</th>\n",
       "      <th>film_date</th>\n",
       "      <th>languages</th>\n",
       "      <th>main_speaker</th>\n",
       "      <th>name</th>\n",
       "      <th>num_speaker</th>\n",
       "      <th>published_date</th>\n",
       "      <th>...</th>\n",
       "      <th>speaker_occupation</th>\n",
       "      <th>tags</th>\n",
       "      <th>title</th>\n",
       "      <th>url</th>\n",
       "      <th>views</th>\n",
       "      <th>comments per view</th>\n",
       "      <th>view per comments</th>\n",
       "      <th>film_datetime</th>\n",
       "      <th>ratings_list</th>\n",
       "      <th>number_of_ratings</th>\n",
       "    </tr>\n",
       "  </thead>\n",
       "  <tbody>\n",
       "    <tr>\n",
       "      <th>0</th>\n",
       "      <td>4553</td>\n",
       "      <td>Sir Ken Robinson makes an entertaining and pro...</td>\n",
       "      <td>1164</td>\n",
       "      <td>TED2006</td>\n",
       "      <td>2006-02-25</td>\n",
       "      <td>60</td>\n",
       "      <td>Ken Robinson</td>\n",
       "      <td>Ken Robinson: Do schools kill creativity?</td>\n",
       "      <td>1</td>\n",
       "      <td>2006-06-27 00:11:00</td>\n",
       "      <td>...</td>\n",
       "      <td>Author/educator</td>\n",
       "      <td>['children', 'creativity', 'culture', 'dance',...</td>\n",
       "      <td>Do schools kill creativity?</td>\n",
       "      <td>https://www.ted.com/talks/ken_robinson_says_sc...</td>\n",
       "      <td>47227110</td>\n",
       "      <td>0.000096</td>\n",
       "      <td>10372.745443</td>\n",
       "      <td>2006-02-25</td>\n",
       "      <td>[{'id': 7, 'name': 'Funny', 'count': 19645}, {...</td>\n",
       "      <td>93850</td>\n",
       "    </tr>\n",
       "  </tbody>\n",
       "</table>\n",
       "<p>1 rows × 22 columns</p>\n",
       "</div>"
      ],
      "text/plain": [
       "   comments                                        description  duration  \\\n",
       "0      4553  Sir Ken Robinson makes an entertaining and pro...      1164   \n",
       "\n",
       "     event  film_date  languages  main_speaker  \\\n",
       "0  TED2006 2006-02-25         60  Ken Robinson   \n",
       "\n",
       "                                        name  num_speaker      published_date  \\\n",
       "0  Ken Robinson: Do schools kill creativity?            1 2006-06-27 00:11:00   \n",
       "\n",
       "   ... speaker_occupation                                               tags  \\\n",
       "0  ...    Author/educator  ['children', 'creativity', 'culture', 'dance',...   \n",
       "\n",
       "                         title  \\\n",
       "0  Do schools kill creativity?   \n",
       "\n",
       "                                                 url     views  \\\n",
       "0  https://www.ted.com/talks/ken_robinson_says_sc...  47227110   \n",
       "\n",
       "  comments per view  view per comments  film_datetime  \\\n",
       "0          0.000096       10372.745443     2006-02-25   \n",
       "\n",
       "                                        ratings_list number_of_ratings  \n",
       "0  [{'id': 7, 'name': 'Funny', 'count': 19645}, {...             93850  \n",
       "\n",
       "[1 rows x 22 columns]"
      ]
     },
     "execution_count": 81,
     "metadata": {},
     "output_type": "execute_result"
    }
   ],
   "source": [
    "exercise1.head(1)"
   ]
  },
  {
   "cell_type": "code",
   "execution_count": 82,
   "metadata": {},
   "outputs": [],
   "source": [
    "exercise1[\"funny_ratings\"] = exercise1.ratings_list.apply(extract_funny_ratings)"
   ]
  },
  {
   "cell_type": "markdown",
   "metadata": {},
   "source": [
    "> Do check for `missing values`."
   ]
  },
  {
   "cell_type": "code",
   "execution_count": 83,
   "metadata": {},
   "outputs": [
    {
     "data": {
      "text/plain": [
       "0"
      ]
     },
     "execution_count": 83,
     "metadata": {},
     "output_type": "execute_result"
    }
   ],
   "source": [
    "exercise1.funny_ratings.isna().sum()"
   ]
  },
  {
   "cell_type": "markdown",
   "metadata": {},
   "source": [
    "##### Now, let's calculate the percentage of ratings that are funny"
   ]
  },
  {
   "cell_type": "code",
   "execution_count": 84,
   "metadata": {},
   "outputs": [],
   "source": [
    "exercise1[\"funny_percentage\"] = exercise1.funny_ratings / exercise1.number_of_ratings"
   ]
  },
  {
   "cell_type": "markdown",
   "metadata": {},
   "source": [
    "> Let's do some \"gut check\" here that this calculation makes sense by examining the occupations of the funniest talks"
   ]
  },
  {
   "cell_type": "code",
   "execution_count": 85,
   "metadata": {},
   "outputs": [
    {
     "data": {
      "text/plain": [
       "2549                  Game designer\n",
       "1612                      Biologist\n",
       "612                        Sculptor\n",
       "998                  Penguin expert\n",
       "593                        Engineer\n",
       "                   ...             \n",
       "2114            Comedian and writer\n",
       "173                        Investor\n",
       "747                        Comedian\n",
       "1398                       Comedian\n",
       "685     Actor, comedian, playwright\n",
       "Name: speaker_occupation, Length: 2550, dtype: object"
      ]
     },
     "execution_count": 85,
     "metadata": {},
     "output_type": "execute_result"
    }
   ],
   "source": [
    "exercise1.sort_values(\"funny_percentage\").speaker_occupation"
   ]
  },
  {
   "cell_type": "markdown",
   "metadata": {},
   "source": [
    "> Let's examine the occupations of the least funny talks."
   ]
  },
  {
   "cell_type": "code",
   "execution_count": 90,
   "metadata": {},
   "outputs": [
    {
     "data": {
      "text/plain": [
       "speaker_occupation\n",
       " Chairman of the Cordoba Initiative    0.0\n",
       "Political scientist and journalist     0.0\n",
       "HIV/AIDS fighter                       0.0\n",
       "Author, thinker                        0.0\n",
       "Aid worker                             0.0\n",
       "Name: funny_percentage, dtype: float64"
      ]
     },
     "execution_count": 90,
     "metadata": {},
     "output_type": "execute_result"
    }
   ],
   "source": [
    "exercise1.groupby(\"speaker_occupation\").funny_percentage.mean().sort_values().head()"
   ]
  },
  {
   "cell_type": "markdown",
   "metadata": {},
   "source": [
    "### Question 9. It would be funny (pun inteded here) to analyze the funny rate by occupation :) Let's calculate the mean funny rate for each job."
   ]
  },
  {
   "cell_type": "code",
   "execution_count": 89,
   "metadata": {},
   "outputs": [
    {
     "data": {
      "text/plain": [
       "speaker_occupation\n",
       "Comedian                       0.512457\n",
       "Actor, writer                  0.515152\n",
       "Actor, comedian, playwright    0.558107\n",
       "Jugglers                       0.566828\n",
       "Comedian and writer            0.602085\n",
       "Name: funny_percentage, dtype: float64"
      ]
     },
     "execution_count": 89,
     "metadata": {},
     "output_type": "execute_result"
    }
   ],
   "source": [
    "exercise1.groupby(\"speaker_occupation\").funny_percentage.mean().sort_values().tail()"
   ]
  },
  {
   "cell_type": "markdown",
   "metadata": {},
   "source": [
    "##### Note that most of the occupations have a sample size of 1"
   ]
  },
  {
   "cell_type": "code",
   "execution_count": 91,
   "metadata": {},
   "outputs": [
    {
     "data": {
      "text/plain": [
       "Writer                                                                    45\n",
       "Designer                                                                  34\n",
       "Artist                                                                    34\n",
       "Journalist                                                                33\n",
       "Entrepreneur                                                              31\n",
       "                                                                          ..\n",
       "Principal Investigator and Director of the Open Agriculture Initiative     1\n",
       "Cybercrime fighter                                                         1\n",
       "Designer and storyteller                                                   1\n",
       "Human beatbox                                                              1\n",
       "Farmer and technologist                                                    1\n",
       "Name: speaker_occupation, Length: 1458, dtype: int64"
      ]
     },
     "execution_count": 91,
     "metadata": {},
     "output_type": "execute_result"
    }
   ],
   "source": [
    "exercise1.speaker_occupation.value_counts()"
   ]
  },
  {
   "cell_type": "markdown",
   "metadata": {},
   "source": [
    "### Question 10. Let's start looking at `occupations` that are well-represented in the dataset. Let's count how many times each job appears"
   ]
  },
  {
   "cell_type": "code",
   "execution_count": 92,
   "metadata": {},
   "outputs": [
    {
     "data": {
      "text/plain": [
       "Writer                                                                    45\n",
       "Designer                                                                  34\n",
       "Artist                                                                    34\n",
       "Journalist                                                                33\n",
       "Entrepreneur                                                              31\n",
       "                                                                          ..\n",
       "Principal Investigator and Director of the Open Agriculture Initiative     1\n",
       "Cybercrime fighter                                                         1\n",
       "Designer and storyteller                                                   1\n",
       "Human beatbox                                                              1\n",
       "Farmer and technologist                                                    1\n",
       "Name: speaker_occupation, Length: 1458, dtype: int64"
      ]
     },
     "execution_count": 92,
     "metadata": {},
     "output_type": "execute_result"
    }
   ],
   "source": [
    "counting_jobs = exercise1.speaker_occupation.value_counts()\n",
    "counting_jobs"
   ]
  },
  {
   "cell_type": "markdown",
   "metadata": {},
   "source": [
    "##### `value_counts()` outputs a pandas Series, thus we can use pandas to manipulate the output"
   ]
  },
  {
   "cell_type": "code",
   "execution_count": 93,
   "metadata": {},
   "outputs": [
    {
     "data": {
      "text/plain": [
       "pandas.core.series.Series"
      ]
     },
     "execution_count": 93,
     "metadata": {},
     "output_type": "execute_result"
    }
   ],
   "source": [
    "type(counting_jobs)"
   ]
  },
  {
   "cell_type": "markdown",
   "metadata": {},
   "source": [
    "##### Let's take a look at jobs which appear at least 5 times"
   ]
  },
  {
   "cell_type": "code",
   "execution_count": 94,
   "metadata": {},
   "outputs": [
    {
     "data": {
      "text/plain": [
       "Writer                        45\n",
       "Designer                      34\n",
       "Artist                        34\n",
       "Journalist                    33\n",
       "Entrepreneur                  31\n",
       "                              ..\n",
       "Chemist                        5\n",
       "Paleontologist                 5\n",
       "Environmentalist, futurist     5\n",
       "Producer                       5\n",
       "Game designer                  5\n",
       "Name: speaker_occupation, Length: 68, dtype: int64"
      ]
     },
     "execution_count": 94,
     "metadata": {},
     "output_type": "execute_result"
    }
   ],
   "source": [
    "counting_jobs[counting_jobs>=5]"
   ]
  },
  {
   "cell_type": "markdown",
   "metadata": {},
   "source": [
    "> Let's save the index of this Series"
   ]
  },
  {
   "cell_type": "code",
   "execution_count": 95,
   "metadata": {},
   "outputs": [
    {
     "data": {
      "text/plain": [
       "Index(['Writer', 'Designer', 'Artist', 'Journalist', 'Entrepreneur',\n",
       "       'Architect', 'Inventor', 'Psychologist', 'Photographer', 'Filmmaker',\n",
       "       'Economist', 'Author', 'Educator', 'Neuroscientist', 'Roboticist',\n",
       "       'Philosopher', 'Biologist', 'Physicist', 'Marine biologist', 'Musician',\n",
       "       'Technologist', 'Global health expert; data visionary', 'Activist',\n",
       "       'Graphic designer', 'Behavioral economist', 'Philanthropist',\n",
       "       'Astronomer', 'Singer/songwriter', 'Poet', 'Oceanographer', 'Historian',\n",
       "       'Social psychologist', 'Computer scientist', 'Novelist', 'Futurist',\n",
       "       'Engineer', 'Mathematician', 'Astrophysicist', 'Social entrepreneur',\n",
       "       'Legal activist', 'Reporter', 'Performance poet, multimedia artist',\n",
       "       'Photojournalist', 'Evolutionary biologist', 'Singer-songwriter',\n",
       "       'Writer, activist', 'Techno-illusionist', 'Climate advocate',\n",
       "       'Comedian', 'Researcher', 'Social Media Theorist',\n",
       "       'Investor and advocate for moral leadership', 'Sculptor', 'Chef',\n",
       "       'Data scientist', 'Sound consultant', 'Science writer',\n",
       "       'Musician, activist', 'Violinist', 'Physician', 'Surgeon',\n",
       "       'Tech visionary', 'Cartoonist', 'Chemist', 'Paleontologist',\n",
       "       'Environmentalist, futurist', 'Producer', 'Game designer'],\n",
       "      dtype='object')"
      ]
     },
     "execution_count": 95,
     "metadata": {},
     "output_type": "execute_result"
    }
   ],
   "source": [
    "well_represented_jobs = counting_jobs[counting_jobs>=5].index\n",
    "well_represented_jobs"
   ]
  },
  {
   "cell_type": "markdown",
   "metadata": {},
   "source": [
    "##### Now, re-analyze the funny rate by occupation (for top jobs only)"
   ]
  },
  {
   "cell_type": "markdown",
   "metadata": {},
   "source": [
    "> Let's filter DataFrame to include only those jobs."
   ]
  },
  {
   "cell_type": "code",
   "execution_count": 96,
   "metadata": {},
   "outputs": [
    {
     "data": {
      "text/html": [
       "<div>\n",
       "<style scoped>\n",
       "    .dataframe tbody tr th:only-of-type {\n",
       "        vertical-align: middle;\n",
       "    }\n",
       "\n",
       "    .dataframe tbody tr th {\n",
       "        vertical-align: top;\n",
       "    }\n",
       "\n",
       "    .dataframe thead th {\n",
       "        text-align: right;\n",
       "    }\n",
       "</style>\n",
       "<table border=\"1\" class=\"dataframe\">\n",
       "  <thead>\n",
       "    <tr style=\"text-align: right;\">\n",
       "      <th></th>\n",
       "      <th>comments</th>\n",
       "      <th>description</th>\n",
       "      <th>duration</th>\n",
       "      <th>event</th>\n",
       "      <th>film_date</th>\n",
       "      <th>languages</th>\n",
       "      <th>main_speaker</th>\n",
       "      <th>name</th>\n",
       "      <th>num_speaker</th>\n",
       "      <th>published_date</th>\n",
       "      <th>...</th>\n",
       "      <th>title</th>\n",
       "      <th>url</th>\n",
       "      <th>views</th>\n",
       "      <th>comments per view</th>\n",
       "      <th>view per comments</th>\n",
       "      <th>film_datetime</th>\n",
       "      <th>ratings_list</th>\n",
       "      <th>number_of_ratings</th>\n",
       "      <th>funny_ratings</th>\n",
       "      <th>funny_percentage</th>\n",
       "    </tr>\n",
       "  </thead>\n",
       "  <tbody>\n",
       "    <tr>\n",
       "      <th>1</th>\n",
       "      <td>265</td>\n",
       "      <td>With the same humor and humanity he exuded in ...</td>\n",
       "      <td>977</td>\n",
       "      <td>TED2006</td>\n",
       "      <td>2006-02-25</td>\n",
       "      <td>43</td>\n",
       "      <td>Al Gore</td>\n",
       "      <td>Al Gore: Averting the climate crisis</td>\n",
       "      <td>1</td>\n",
       "      <td>2006-06-27 00:11:00</td>\n",
       "      <td>...</td>\n",
       "      <td>Averting the climate crisis</td>\n",
       "      <td>https://www.ted.com/talks/al_gore_on_averting_...</td>\n",
       "      <td>3200520</td>\n",
       "      <td>0.000083</td>\n",
       "      <td>12077.433962</td>\n",
       "      <td>2006-02-25</td>\n",
       "      <td>[{'id': 7, 'name': 'Funny', 'count': 544}, {'i...</td>\n",
       "      <td>2936</td>\n",
       "      <td>544</td>\n",
       "      <td>0.185286</td>\n",
       "    </tr>\n",
       "    <tr>\n",
       "      <th>4</th>\n",
       "      <td>593</td>\n",
       "      <td>You've never seen data presented like this. Wi...</td>\n",
       "      <td>1190</td>\n",
       "      <td>TED2006</td>\n",
       "      <td>2006-02-22</td>\n",
       "      <td>48</td>\n",
       "      <td>Hans Rosling</td>\n",
       "      <td>Hans Rosling: The best stats you've ever seen</td>\n",
       "      <td>1</td>\n",
       "      <td>2006-06-27 20:38:00</td>\n",
       "      <td>...</td>\n",
       "      <td>The best stats you've ever seen</td>\n",
       "      <td>https://www.ted.com/talks/hans_rosling_shows_t...</td>\n",
       "      <td>12005869</td>\n",
       "      <td>0.000049</td>\n",
       "      <td>20245.984823</td>\n",
       "      <td>2006-02-22</td>\n",
       "      <td>[{'id': 9, 'name': 'Ingenious', 'count': 3202}...</td>\n",
       "      <td>25620</td>\n",
       "      <td>1390</td>\n",
       "      <td>0.054254</td>\n",
       "    </tr>\n",
       "    <tr>\n",
       "      <th>7</th>\n",
       "      <td>46</td>\n",
       "      <td>Architect Joshua Prince-Ramus takes the audien...</td>\n",
       "      <td>1198</td>\n",
       "      <td>TED2006</td>\n",
       "      <td>2006-02-23</td>\n",
       "      <td>19</td>\n",
       "      <td>Joshua Prince-Ramus</td>\n",
       "      <td>Joshua Prince-Ramus: Behind the design of Seat...</td>\n",
       "      <td>1</td>\n",
       "      <td>2006-07-10 00:11:00</td>\n",
       "      <td>...</td>\n",
       "      <td>Behind the design of Seattle's library</td>\n",
       "      <td>https://www.ted.com/talks/joshua_prince_ramus_...</td>\n",
       "      <td>967741</td>\n",
       "      <td>0.000048</td>\n",
       "      <td>21037.847826</td>\n",
       "      <td>2006-02-23</td>\n",
       "      <td>[{'id': 9, 'name': 'Ingenious', 'count': 195},...</td>\n",
       "      <td>1024</td>\n",
       "      <td>9</td>\n",
       "      <td>0.008789</td>\n",
       "    </tr>\n",
       "    <tr>\n",
       "      <th>11</th>\n",
       "      <td>55</td>\n",
       "      <td>Jehane Noujaim unveils her 2006 TED Prize wish...</td>\n",
       "      <td>1538</td>\n",
       "      <td>TED2006</td>\n",
       "      <td>2006-02-26</td>\n",
       "      <td>20</td>\n",
       "      <td>Jehane Noujaim</td>\n",
       "      <td>Jehane Noujaim: My wish: A global day of film</td>\n",
       "      <td>1</td>\n",
       "      <td>2006-07-25 00:11:00</td>\n",
       "      <td>...</td>\n",
       "      <td>My wish: A global day of film</td>\n",
       "      <td>https://www.ted.com/talks/jehane_noujaim_inspi...</td>\n",
       "      <td>387877</td>\n",
       "      <td>0.000142</td>\n",
       "      <td>7052.309091</td>\n",
       "      <td>2006-02-26</td>\n",
       "      <td>[{'id': 1, 'name': 'Beautiful', 'count': 70}, ...</td>\n",
       "      <td>592</td>\n",
       "      <td>5</td>\n",
       "      <td>0.008446</td>\n",
       "    </tr>\n",
       "    <tr>\n",
       "      <th>14</th>\n",
       "      <td>99</td>\n",
       "      <td>Nicholas Negroponte, founder of the MIT Media ...</td>\n",
       "      <td>1057</td>\n",
       "      <td>TED2006</td>\n",
       "      <td>2006-02-23</td>\n",
       "      <td>25</td>\n",
       "      <td>Nicholas Negroponte</td>\n",
       "      <td>Nicholas Negroponte: One Laptop per Child</td>\n",
       "      <td>1</td>\n",
       "      <td>2006-08-01 00:11:00</td>\n",
       "      <td>...</td>\n",
       "      <td>One Laptop per Child</td>\n",
       "      <td>https://www.ted.com/talks/nicholas_negroponte_...</td>\n",
       "      <td>358304</td>\n",
       "      <td>0.000276</td>\n",
       "      <td>3619.232323</td>\n",
       "      <td>2006-02-23</td>\n",
       "      <td>[{'id': 3, 'name': 'Courageous', 'count': 83},...</td>\n",
       "      <td>781</td>\n",
       "      <td>14</td>\n",
       "      <td>0.017926</td>\n",
       "    </tr>\n",
       "    <tr>\n",
       "      <th>...</th>\n",
       "      <td>...</td>\n",
       "      <td>...</td>\n",
       "      <td>...</td>\n",
       "      <td>...</td>\n",
       "      <td>...</td>\n",
       "      <td>...</td>\n",
       "      <td>...</td>\n",
       "      <td>...</td>\n",
       "      <td>...</td>\n",
       "      <td>...</td>\n",
       "      <td>...</td>\n",
       "      <td>...</td>\n",
       "      <td>...</td>\n",
       "      <td>...</td>\n",
       "      <td>...</td>\n",
       "      <td>...</td>\n",
       "      <td>...</td>\n",
       "      <td>...</td>\n",
       "      <td>...</td>\n",
       "      <td>...</td>\n",
       "      <td>...</td>\n",
       "    </tr>\n",
       "    <tr>\n",
       "      <th>2539</th>\n",
       "      <td>10</td>\n",
       "      <td>Forget quinoa. Meet fonio, an ancient \"miracle...</td>\n",
       "      <td>934</td>\n",
       "      <td>TED2017</td>\n",
       "      <td>2017-08-27</td>\n",
       "      <td>2</td>\n",
       "      <td>Pierre Thiam</td>\n",
       "      <td>Pierre Thiam: A forgotten ancient grain that c...</td>\n",
       "      <td>1</td>\n",
       "      <td>2017-09-13 14:45:42</td>\n",
       "      <td>...</td>\n",
       "      <td>A forgotten ancient grain that could help Afri...</td>\n",
       "      <td>https://www.ted.com/talks/pierre_thiam_a_forgo...</td>\n",
       "      <td>527314</td>\n",
       "      <td>0.000019</td>\n",
       "      <td>52731.400000</td>\n",
       "      <td>2017-08-27</td>\n",
       "      <td>[{'id': 10, 'name': 'Inspiring', 'count': 73},...</td>\n",
       "      <td>256</td>\n",
       "      <td>2</td>\n",
       "      <td>0.007812</td>\n",
       "    </tr>\n",
       "    <tr>\n",
       "      <th>2541</th>\n",
       "      <td>12</td>\n",
       "      <td>Physics doesn't just happen in a fancy lab -- ...</td>\n",
       "      <td>957</td>\n",
       "      <td>TEDxManchester</td>\n",
       "      <td>2017-02-19</td>\n",
       "      <td>2</td>\n",
       "      <td>Helen Czerski</td>\n",
       "      <td>Helen Czerski: The fascinating physics of ever...</td>\n",
       "      <td>1</td>\n",
       "      <td>2017-09-14 20:00:02</td>\n",
       "      <td>...</td>\n",
       "      <td>The fascinating physics of everyday life</td>\n",
       "      <td>https://www.ted.com/talks/helen_czerski_fun_ho...</td>\n",
       "      <td>656791</td>\n",
       "      <td>0.000018</td>\n",
       "      <td>54732.583333</td>\n",
       "      <td>2017-02-19</td>\n",
       "      <td>[{'id': 11, 'name': 'Longwinded', 'count': 29}...</td>\n",
       "      <td>378</td>\n",
       "      <td>39</td>\n",
       "      <td>0.103175</td>\n",
       "    </tr>\n",
       "    <tr>\n",
       "      <th>2542</th>\n",
       "      <td>3</td>\n",
       "      <td>In the century-old statues that occupy Cape To...</td>\n",
       "      <td>795</td>\n",
       "      <td>TEDGlobal 2017</td>\n",
       "      <td>2017-08-27</td>\n",
       "      <td>1</td>\n",
       "      <td>Sethembile Msezane</td>\n",
       "      <td>Sethembile Msezane: Living sculptures that sta...</td>\n",
       "      <td>1</td>\n",
       "      <td>2017-09-15 15:08:13</td>\n",
       "      <td>...</td>\n",
       "      <td>Living sculptures that stand for history's truths</td>\n",
       "      <td>https://www.ted.com/talks/sethembile_msezane_l...</td>\n",
       "      <td>542088</td>\n",
       "      <td>0.000006</td>\n",
       "      <td>180696.000000</td>\n",
       "      <td>2017-08-27</td>\n",
       "      <td>[{'id': 1, 'name': 'Beautiful', 'count': 41}, ...</td>\n",
       "      <td>181</td>\n",
       "      <td>6</td>\n",
       "      <td>0.033149</td>\n",
       "    </tr>\n",
       "    <tr>\n",
       "      <th>2545</th>\n",
       "      <td>17</td>\n",
       "      <td>Between 2008 and 2016, the United States depor...</td>\n",
       "      <td>476</td>\n",
       "      <td>TED2017</td>\n",
       "      <td>2017-06-06</td>\n",
       "      <td>4</td>\n",
       "      <td>Duarte Geraldino</td>\n",
       "      <td>Duarte Geraldino: What we're missing in the de...</td>\n",
       "      <td>1</td>\n",
       "      <td>2017-09-19 20:00:16</td>\n",
       "      <td>...</td>\n",
       "      <td>What we're missing in the debate about immigra...</td>\n",
       "      <td>https://www.ted.com/talks/duarte_geraldino_wha...</td>\n",
       "      <td>450430</td>\n",
       "      <td>0.000038</td>\n",
       "      <td>26495.882353</td>\n",
       "      <td>2017-06-06</td>\n",
       "      <td>[{'id': 3, 'name': 'Courageous', 'count': 24},...</td>\n",
       "      <td>192</td>\n",
       "      <td>1</td>\n",
       "      <td>0.005208</td>\n",
       "    </tr>\n",
       "    <tr>\n",
       "      <th>2549</th>\n",
       "      <td>8</td>\n",
       "      <td>With more than half of the world population li...</td>\n",
       "      <td>519</td>\n",
       "      <td>TED2017</td>\n",
       "      <td>2017-04-24</td>\n",
       "      <td>1</td>\n",
       "      <td>Karoliina Korppoo</td>\n",
       "      <td>Karoliina Korppoo: How a video game might help...</td>\n",
       "      <td>1</td>\n",
       "      <td>2017-09-22 15:00:22</td>\n",
       "      <td>...</td>\n",
       "      <td>How a video game might help us build better ci...</td>\n",
       "      <td>https://www.ted.com/talks/karoliina_korppoo_ho...</td>\n",
       "      <td>391721</td>\n",
       "      <td>0.000020</td>\n",
       "      <td>48965.125000</td>\n",
       "      <td>2017-04-24</td>\n",
       "      <td>[{'id': 21, 'name': 'Unconvincing', 'count': 2...</td>\n",
       "      <td>142</td>\n",
       "      <td>0</td>\n",
       "      <td>0.000000</td>\n",
       "    </tr>\n",
       "  </tbody>\n",
       "</table>\n",
       "<p>786 rows × 24 columns</p>\n",
       "</div>"
      ],
      "text/plain": [
       "      comments                                        description  duration  \\\n",
       "1          265  With the same humor and humanity he exuded in ...       977   \n",
       "4          593  You've never seen data presented like this. Wi...      1190   \n",
       "7           46  Architect Joshua Prince-Ramus takes the audien...      1198   \n",
       "11          55  Jehane Noujaim unveils her 2006 TED Prize wish...      1538   \n",
       "14          99  Nicholas Negroponte, founder of the MIT Media ...      1057   \n",
       "...        ...                                                ...       ...   \n",
       "2539        10  Forget quinoa. Meet fonio, an ancient \"miracle...       934   \n",
       "2541        12  Physics doesn't just happen in a fancy lab -- ...       957   \n",
       "2542         3  In the century-old statues that occupy Cape To...       795   \n",
       "2545        17  Between 2008 and 2016, the United States depor...       476   \n",
       "2549         8  With more than half of the world population li...       519   \n",
       "\n",
       "               event  film_date  languages         main_speaker  \\\n",
       "1            TED2006 2006-02-25         43              Al Gore   \n",
       "4            TED2006 2006-02-22         48         Hans Rosling   \n",
       "7            TED2006 2006-02-23         19  Joshua Prince-Ramus   \n",
       "11           TED2006 2006-02-26         20       Jehane Noujaim   \n",
       "14           TED2006 2006-02-23         25  Nicholas Negroponte   \n",
       "...              ...        ...        ...                  ...   \n",
       "2539         TED2017 2017-08-27          2         Pierre Thiam   \n",
       "2541  TEDxManchester 2017-02-19          2        Helen Czerski   \n",
       "2542  TEDGlobal 2017 2017-08-27          1   Sethembile Msezane   \n",
       "2545         TED2017 2017-06-06          4     Duarte Geraldino   \n",
       "2549         TED2017 2017-04-24          1    Karoliina Korppoo   \n",
       "\n",
       "                                                   name  num_speaker  \\\n",
       "1                  Al Gore: Averting the climate crisis            1   \n",
       "4         Hans Rosling: The best stats you've ever seen            1   \n",
       "7     Joshua Prince-Ramus: Behind the design of Seat...            1   \n",
       "11        Jehane Noujaim: My wish: A global day of film            1   \n",
       "14            Nicholas Negroponte: One Laptop per Child            1   \n",
       "...                                                 ...          ...   \n",
       "2539  Pierre Thiam: A forgotten ancient grain that c...            1   \n",
       "2541  Helen Czerski: The fascinating physics of ever...            1   \n",
       "2542  Sethembile Msezane: Living sculptures that sta...            1   \n",
       "2545  Duarte Geraldino: What we're missing in the de...            1   \n",
       "2549  Karoliina Korppoo: How a video game might help...            1   \n",
       "\n",
       "          published_date  ...  \\\n",
       "1    2006-06-27 00:11:00  ...   \n",
       "4    2006-06-27 20:38:00  ...   \n",
       "7    2006-07-10 00:11:00  ...   \n",
       "11   2006-07-25 00:11:00  ...   \n",
       "14   2006-08-01 00:11:00  ...   \n",
       "...                  ...  ...   \n",
       "2539 2017-09-13 14:45:42  ...   \n",
       "2541 2017-09-14 20:00:02  ...   \n",
       "2542 2017-09-15 15:08:13  ...   \n",
       "2545 2017-09-19 20:00:16  ...   \n",
       "2549 2017-09-22 15:00:22  ...   \n",
       "\n",
       "                                                  title  \\\n",
       "1                           Averting the climate crisis   \n",
       "4                       The best stats you've ever seen   \n",
       "7                Behind the design of Seattle's library   \n",
       "11                        My wish: A global day of film   \n",
       "14                                 One Laptop per Child   \n",
       "...                                                 ...   \n",
       "2539  A forgotten ancient grain that could help Afri...   \n",
       "2541           The fascinating physics of everyday life   \n",
       "2542  Living sculptures that stand for history's truths   \n",
       "2545  What we're missing in the debate about immigra...   \n",
       "2549  How a video game might help us build better ci...   \n",
       "\n",
       "                                                    url     views  \\\n",
       "1     https://www.ted.com/talks/al_gore_on_averting_...   3200520   \n",
       "4     https://www.ted.com/talks/hans_rosling_shows_t...  12005869   \n",
       "7     https://www.ted.com/talks/joshua_prince_ramus_...    967741   \n",
       "11    https://www.ted.com/talks/jehane_noujaim_inspi...    387877   \n",
       "14    https://www.ted.com/talks/nicholas_negroponte_...    358304   \n",
       "...                                                 ...       ...   \n",
       "2539  https://www.ted.com/talks/pierre_thiam_a_forgo...    527314   \n",
       "2541  https://www.ted.com/talks/helen_czerski_fun_ho...    656791   \n",
       "2542  https://www.ted.com/talks/sethembile_msezane_l...    542088   \n",
       "2545  https://www.ted.com/talks/duarte_geraldino_wha...    450430   \n",
       "2549  https://www.ted.com/talks/karoliina_korppoo_ho...    391721   \n",
       "\n",
       "     comments per view view per comments film_datetime  \\\n",
       "1             0.000083      12077.433962    2006-02-25   \n",
       "4             0.000049      20245.984823    2006-02-22   \n",
       "7             0.000048      21037.847826    2006-02-23   \n",
       "11            0.000142       7052.309091    2006-02-26   \n",
       "14            0.000276       3619.232323    2006-02-23   \n",
       "...                ...               ...           ...   \n",
       "2539          0.000019      52731.400000    2017-08-27   \n",
       "2541          0.000018      54732.583333    2017-02-19   \n",
       "2542          0.000006     180696.000000    2017-08-27   \n",
       "2545          0.000038      26495.882353    2017-06-06   \n",
       "2549          0.000020      48965.125000    2017-04-24   \n",
       "\n",
       "                                           ratings_list  number_of_ratings  \\\n",
       "1     [{'id': 7, 'name': 'Funny', 'count': 544}, {'i...               2936   \n",
       "4     [{'id': 9, 'name': 'Ingenious', 'count': 3202}...              25620   \n",
       "7     [{'id': 9, 'name': 'Ingenious', 'count': 195},...               1024   \n",
       "11    [{'id': 1, 'name': 'Beautiful', 'count': 70}, ...                592   \n",
       "14    [{'id': 3, 'name': 'Courageous', 'count': 83},...                781   \n",
       "...                                                 ...                ...   \n",
       "2539  [{'id': 10, 'name': 'Inspiring', 'count': 73},...                256   \n",
       "2541  [{'id': 11, 'name': 'Longwinded', 'count': 29}...                378   \n",
       "2542  [{'id': 1, 'name': 'Beautiful', 'count': 41}, ...                181   \n",
       "2545  [{'id': 3, 'name': 'Courageous', 'count': 24},...                192   \n",
       "2549  [{'id': 21, 'name': 'Unconvincing', 'count': 2...                142   \n",
       "\n",
       "      funny_ratings funny_percentage  \n",
       "1               544         0.185286  \n",
       "4              1390         0.054254  \n",
       "7                 9         0.008789  \n",
       "11                5         0.008446  \n",
       "14               14         0.017926  \n",
       "...             ...              ...  \n",
       "2539              2         0.007812  \n",
       "2541             39         0.103175  \n",
       "2542              6         0.033149  \n",
       "2545              1         0.005208  \n",
       "2549              0         0.000000  \n",
       "\n",
       "[786 rows x 24 columns]"
      ]
     },
     "execution_count": 96,
     "metadata": {},
     "output_type": "execute_result"
    }
   ],
   "source": [
    "ted_with_jobs = exercise1[exercise1.speaker_occupation.isin(well_represented_jobs)]\n",
    "ted_with_jobs"
   ]
  },
  {
   "cell_type": "markdown",
   "metadata": {},
   "source": [
    "##### Let's re-do the previous groupby"
   ]
  },
  {
   "cell_type": "code",
   "execution_count": 97,
   "metadata": {},
   "outputs": [
    {
     "data": {
      "text/plain": [
       "speaker_occupation\n",
       " Chairman of the Cordoba Initiative    0.000000\n",
       "Political scientist and journalist     0.000000\n",
       "HIV/AIDS fighter                       0.000000\n",
       "Author, thinker                        0.000000\n",
       "Aid worker                             0.000000\n",
       "                                         ...   \n",
       "Comedian                               0.512457\n",
       "Actor, writer                          0.515152\n",
       "Actor, comedian, playwright            0.558107\n",
       "Jugglers                               0.566828\n",
       "Comedian and writer                    0.602085\n",
       "Name: funny_percentage, Length: 1458, dtype: float64"
      ]
     },
     "execution_count": 97,
     "metadata": {},
     "output_type": "execute_result"
    }
   ],
   "source": [
    "exercise1.groupby(\"speaker_occupation\").funny_percentage.mean().sort_values()"
   ]
  },
  {
   "cell_type": "markdown",
   "metadata": {},
   "source": [
    "> ### <font color = \"blue\"> Please consider the following, when using `pandas`: </font>\n",
    "\n",
    "- Check your assumptions about your data\n",
    "- Check whether your results are reasonable\n",
    "- Take advantage of the fact that pandas operations often output a DataFrame or a Series\n",
    "- Watch out for small sample sizes\n",
    "- Consider the impact of missing data\n",
    "\n",
    "> ### <font color = \"blue\"> As you could find from me as well as from the dataset, `data scientists are relatively funny` :) </font>\n"
   ]
  },
  {
   "cell_type": "markdown",
   "metadata": {},
   "source": [
    "### <font color=\"green\">\"Thank you for putting your efforts into the exercise problem sets :)\"</font>"
   ]
  },
  {
   "cell_type": "code",
   "execution_count": null,
   "metadata": {},
   "outputs": [],
   "source": []
  }
 ],
 "metadata": {
  "kernelspec": {
   "display_name": "Python 3 (ipykernel)",
   "language": "python",
   "name": "python3"
  },
  "language_info": {
   "codemirror_mode": {
    "name": "ipython",
    "version": 3
   },
   "file_extension": ".py",
   "mimetype": "text/x-python",
   "name": "python",
   "nbconvert_exporter": "python",
   "pygments_lexer": "ipython3",
   "version": "3.8.8"
  }
 },
 "nbformat": 4,
 "nbformat_minor": 1
}
